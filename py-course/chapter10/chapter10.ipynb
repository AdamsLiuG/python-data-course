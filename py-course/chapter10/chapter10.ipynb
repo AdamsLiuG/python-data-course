{
 "metadata": {
  "language_info": {
   "codemirror_mode": {
    "name": "ipython",
    "version": 3
   },
   "file_extension": ".py",
   "mimetype": "text/x-python",
   "name": "python",
   "nbconvert_exporter": "python",
   "pygments_lexer": "ipython3",
   "version": "3.8.5-final"
  },
  "orig_nbformat": 2,
  "kernelspec": {
   "name": "python385jvsc74a57bd0e0e617dda35810c457790ee444116e70d5d0a02a3eb9ad88d443e296eb41609e",
   "display_name": "Python 3.8.5 64-bit (conda)"
  }
 },
 "nbformat": 4,
 "nbformat_minor": 2,
 "cells": [
  {
   "cell_type": "code",
   "execution_count": 1,
   "metadata": {},
   "outputs": [],
   "source": [
    "import urllib3\n",
    "# 第一个函数，用来下载网页，返回网页内容\n",
    "# 参数 url 代表所要下载的网页网址。\n",
    "# 整体代码和之前类似\n",
    "def download_content(url):\n",
    "    http = urllib3.PoolManager()\n",
    "    response = http.request(\"GET\", url)\n",
    "    response_data = response.data  \n",
    "    html_content = response_data.decode()\n",
    "\n",
    "    return html_content\n",
    "# 第二个函数，将字符串内容保存到文件中\n",
    "# 第一个参数为所要保存的文件名，第二个参数为要保存的字符串内容的变量\n",
    "def save_to_file(filename, content):\n",
    "    fo = open(filename,\"w\", encoding=\"utf-8\")\n",
    "    fo.write(content)\n",
    "    fo.close()"
   ]
  },
  {
   "cell_type": "code",
   "execution_count": 8,
   "metadata": {},
   "outputs": [],
   "source": [
    "# 将我们找到的电视剧网的网址存储在变量 url 中\n",
    "url = \"http://dianshiju.tv/search.php?page=1&searchtype=5&order=commend&tid=1&area=&year=&letter=&state=&money=&ver=&jq=&yuyan=%E5%9B%BD%E8%AF%AD\"\n",
    "\n",
    "# 将url 对应的网页下载下来，并把内容存储在 html_content 变量中\n",
    "# html_content = download_content(url)\n",
    "\n",
    "# 将 html_content 变量中的内容存储在 htmls 文件夹中，文件名为 tv1.html 代表第一页\n",
    "# save_to_file(\"htmls/tv1.html\", html_content)"
   ]
  },
  {
   "cell_type": "code",
   "execution_count": 13,
   "metadata": {},
   "outputs": [
    {
     "output_type": "stream",
     "name": "stdout",
     "text": [
      "begin download: http://dianshiju.tv/search.php?page=2&searchtype=5&order=commend&tid=1&area=&year=&letter=&state=&money=&ver=&jq=&yuyan=%E5%9B%BD%E8%AF%AD\n",
      "begin download: http://dianshiju.tv/search.php?page=3&searchtype=5&order=commend&tid=1&area=&year=&letter=&state=&money=&ver=&jq=&yuyan=%E5%9B%BD%E8%AF%AD\n",
      "begin download: http://dianshiju.tv/search.php?page=4&searchtype=5&order=commend&tid=1&area=&year=&letter=&state=&money=&ver=&jq=&yuyan=%E5%9B%BD%E8%AF%AD\n",
      "begin download: http://dianshiju.tv/search.php?page=5&searchtype=5&order=commend&tid=1&area=&year=&letter=&state=&money=&ver=&jq=&yuyan=%E5%9B%BD%E8%AF%AD\n",
      "begin download: http://dianshiju.tv/search.php?page=6&searchtype=5&order=commend&tid=1&area=&year=&letter=&state=&money=&ver=&jq=&yuyan=%E5%9B%BD%E8%AF%AD\n",
      "begin download: http://dianshiju.tv/search.php?page=7&searchtype=5&order=commend&tid=1&area=&year=&letter=&state=&money=&ver=&jq=&yuyan=%E5%9B%BD%E8%AF%AD\n",
      "begin download: http://dianshiju.tv/search.php?page=8&searchtype=5&order=commend&tid=1&area=&year=&letter=&state=&money=&ver=&jq=&yuyan=%E5%9B%BD%E8%AF%AD\n",
      "begin download: http://dianshiju.tv/search.php?page=9&searchtype=5&order=commend&tid=1&area=&year=&letter=&state=&money=&ver=&jq=&yuyan=%E5%9B%BD%E8%AF%AD\n",
      "begin download: http://dianshiju.tv/search.php?page=10&searchtype=5&order=commend&tid=1&area=&year=&letter=&state=&money=&ver=&jq=&yuyan=%E5%9B%BD%E8%AF%AD\n",
      "begin download: http://dianshiju.tv/search.php?page=11&searchtype=5&order=commend&tid=1&area=&year=&letter=&state=&money=&ver=&jq=&yuyan=%E5%9B%BD%E8%AF%AD\n",
      "begin download: http://dianshiju.tv/search.php?page=12&searchtype=5&order=commend&tid=1&area=&year=&letter=&state=&money=&ver=&jq=&yuyan=%E5%9B%BD%E8%AF%AD\n",
      "begin download: http://dianshiju.tv/search.php?page=13&searchtype=5&order=commend&tid=1&area=&year=&letter=&state=&money=&ver=&jq=&yuyan=%E5%9B%BD%E8%AF%AD\n",
      "begin download: http://dianshiju.tv/search.php?page=14&searchtype=5&order=commend&tid=1&area=&year=&letter=&state=&money=&ver=&jq=&yuyan=%E5%9B%BD%E8%AF%AD\n",
      "begin download: http://dianshiju.tv/search.php?page=15&searchtype=5&order=commend&tid=1&area=&year=&letter=&state=&money=&ver=&jq=&yuyan=%E5%9B%BD%E8%AF%AD\n",
      "begin download: http://dianshiju.tv/search.php?page=16&searchtype=5&order=commend&tid=1&area=&year=&letter=&state=&money=&ver=&jq=&yuyan=%E5%9B%BD%E8%AF%AD\n"
     ]
    },
    {
     "output_type": "error",
     "ename": "KeyboardInterrupt",
     "evalue": "",
     "traceback": [
      "\u001b[1;31m---------------------------------------------------------------------------\u001b[0m",
      "\u001b[1;31mKeyboardInterrupt\u001b[0m                         Traceback (most recent call last)",
      "\u001b[1;32m<ipython-input-13-f7235ccf8263>\u001b[0m in \u001b[0;36m<module>\u001b[1;34m\u001b[0m\n\u001b[0;32m     23\u001b[0m \u001b[1;33m\u001b[0m\u001b[0m\n\u001b[0;32m     24\u001b[0m     \u001b[1;31m# 暂停一秒钟再继续下一次循环\u001b[0m\u001b[1;33m\u001b[0m\u001b[1;33m\u001b[0m\u001b[1;33m\u001b[0m\u001b[0m\n\u001b[1;32m---> 25\u001b[1;33m     \u001b[0mtime\u001b[0m\u001b[1;33m.\u001b[0m\u001b[0msleep\u001b[0m\u001b[1;33m(\u001b[0m\u001b[1;36m1\u001b[0m\u001b[1;33m)\u001b[0m\u001b[1;33m\u001b[0m\u001b[1;33m\u001b[0m\u001b[0m\n\u001b[0m",
      "\u001b[1;31mKeyboardInterrupt\u001b[0m: "
     ]
    }
   ],
   "source": [
    "import time\n",
    "\n",
    "# 第一页已经下载完毕，循环下载第2页到第100页的内容\n",
    "for i in range(2, 101):\n",
    "    # 每次循环，使用 replace 函数将 url 字符串中 page=1 的部分替换为 page + i，i为循环变量。\n",
    "    # 比如 i=3时，将page=1 替换为page=3,这样来下载第三页的内容\n",
    "    # 将替换后的url 存储在 a_url 变量中\n",
    "    a_url = url.replace(\"page=1\", \"page=\" + str(i))\n",
    "\n",
    "    # 打印出即将下载的URL\n",
    "    print(\"begin download:\", a_url)\n",
    "\n",
    "    # 下载当前页面的 url 的内容\n",
    "    # html_content = download_content(a_url)\n",
    "\n",
    "    # 因为我们通过循环来下载，保存文件名也需要使用 i 来代表现在保存的是第几个网页。\n",
    "    # 比如 i = 3时，下载的是page=3的网页，最后则存储在 htmls/tv3.html \n",
    "    # 将本次循环要保存的文件名存储在 file_name 变量中\n",
    "    file_name = \"htmls/tv\" + str(i) + \".html\"\n",
    "\n",
    "    # 将 html 文件的内容存储在 file_name 对应的文件夹里\n",
    "    # save_to_file(file_name,html_content)\n",
    "\n",
    "    # 暂停一秒钟再继续下一次循环\n",
    "    time.sleep(1)\n"
   ]
  },
  {
   "cell_type": "code",
   "execution_count": 2,
   "metadata": {},
   "outputs": [],
   "source": [
    "from bs4 import BeautifulSoup\n",
    "\n",
    "# 输入参数为要分析的 html 文件名，返回值为对应的 BeautifulSoup 对象\n",
    "def create_doc_from_filename(filename):\n",
    "    fo = open(filename, \"r\", encoding='utf-8')\n",
    "    html_content = fo.read()\n",
    "    fo.close()\n",
    "    doc = BeautifulSoup(html_content)\n",
    "    return doc"
   ]
  },
  {
   "cell_type": "code",
   "execution_count": 25,
   "metadata": {},
   "outputs": [
    {
     "output_type": "stream",
     "name": "stdout",
     "text": [
      "决胜法庭 3.7分 主演于和伟,张佳宁,韩栋,王耀庆,连奕名,胡静,杜源,王艺禅,王全有\n刘老根第三部 4.0分 主演赵本山,范伟,李静,闫学晶,王小宝\n我的僵尸王爷 4.6分 主演内详\n新世界2020 3.4分 主演孙红雷,张鲁一,尹昉,万茜,李纯,胡静,秦汉,赵峥,张瑶,张晔子\n三生三世枕上书 4.4分 主演迪丽热巴,高伟光,陈楚河,郭品超,刘雨欣,刘芮麟,王骁,李东恒,袁雨萱,黄俊捷\n北灵少年志之大主宰 4.0分 主演王源,欧阳娜娜,骆明劼,马月,徐浩,王奕婷\n尖锋之烈焰青春 1.0分 主演宋轶,李佳航,牛骏峰,孙洪涛,万沛鑫,侍宣如,赵圆瑗,吴谨言,钱志,一真\n幸福院之老有所安 3.0分 主演刘佩琦\n鬼吹灯之牧野诡事 1.0分 主演王大陆  金晨  王栎鑫\n秘果 3.6分 主演陈飞宇/欧阳娜娜\n择天记 5.0分 主演鹿晗/娜扎/吴倩/曾舜晞\n欢乐颂2 1.0分 主演刘涛/蒋欣/王子文/杨紫\n关东大先生 4.0分 主演赵本山,范伟,小沈阳,刘流\n寒武纪 2.0分 主演周雨彤,侯明昊,贺军翔,秦汉\n发酵吧，创业菌 2.0分 主演祝向阳,袁伶嫣,骆俊帆,戚蓝尹\n爱的妇产科 1.0分 主演何晟铭,朱丹,孙坚,李依晓\n楚乔传 2.0分 主演赵丽颖/林更新/窦骁/李沁\n夏至未至 2.0分 主演陈学冬 / 郑爽 / 白敬亭 / 夏梓桐 / 柴碧云\n上古情歌 3.0分 主演黄晓明/宋茜/盛一伦/张俪\n擒狼 2.0分 主演蒲巴甲 / 刘萌萌 / 刘波 / 吕卓燃\n深夜食堂2017 2.0分 主演黄磊,赵又廷,张钧甯,海清\n逆袭之星途璀璨 4.3分 主演宋轶 / 普提查·克瑟辛 / 彦希 / 奥兰多·布鲁姆\n刺客列传之龙血玄黄 3.3分 主演查杰 / 朱戬 / 熊梓淇 / 陈雨成\n那一场呼啸而过的青春 3.0分 主演李颖 / 崔航 / 陶为 / 宫晓瑄 / 杜安琪\n林子大了 4.5分 主演郭麒麟/郭德纲/李梦颖/栾云平\n刑警战记 4.0分 主演范雨林 / 郭柯彤 / 马薇 / 贺刚\n大军师司马懿之军师联盟 3.6分 主演吴秀波,刘涛,李晨,于和伟\n我的真芯男友 1.0分 主演朱梓骁  曾梦雪  赵时  曲昱曈\n我的1997 3.0分 主演印小天,陈瑾,巫刚,瑛子,刘之冰,孔琳,徐小明,龚慈恩,高珑珂,肖荣生,张汇仓,谭洋,刘凯,于笑,伍麟凯,陈牧扬,徐伟栋,刘永\n杀不死 5.0分 主演杨羽  邵庄  安宁  王辰昊\n风云天地 2.0分 主演汪明荃,刘恺威,赵雅芝,唐嫣\n复合大师 4.0分 主演贾乃亮  王晓晨  代乐乐  邓超\n警察锅哥第一季 4.0分 主演刘洁涵  冯国强  高峰  刘凯\n警察锅哥第二季 2.0分 主演刘凯  刘洁涵  冯国强  张圣岳\n我的前半生 2.3分 主演靳东  马伊琍  袁泉  雷佳音\n无心法师2 5.0分 主演韩东君,陈瑶,李兰迪,王彦霖\n"
     ]
    }
   ],
   "source": [
    "# 用 tv1.html 的内容创建 BeautifulSoup 对象\n",
    "doc = create_doc_from_filename(\"htmls/tv1.html\")\n",
    "\n",
    "# 查找class=\"myui-vodlist__box\" 的所有 div 标签\n",
    "# 并以列表形式存储在 box_list 中\n",
    "box_list = doc.find_all(\"div\", class_=\"myui-vodlist__box\")\n",
    "\n",
    "# 使用遍历循环遍历 box_list 中的所有标签对象\n",
    "for box in box_list:\n",
    "    # 根据上述分析的思路，分别获取包含标题、评分、和演员信息的标签\n",
    "    # 因为 find_all 总是返回列表，所以需要通过下标 0 来取第一个\n",
    "    title_label = box.find_all(\"h4\")[0]\n",
    "    rating_label = box.find_all(\"span\", class_=\"pic-tag pic-tag-top\")[0]\n",
    "    stars_label = box.find_all(\"p\")[0]\n",
    "\n",
    "    # 分别获取标签内部包含的文本，存储在 title, rating, stars 变量中\n",
    "    # 【修改部分】并使用 strip 去除前后空格\n",
    "    title = title_label.text.strip()\n",
    "    rating = rating_label.text.strip()\n",
    "    stars = stars_label.text.strip()\n",
    "\n",
    "    # 将获取的三个变量打印出来，看看是否正确。\n",
    "    print(title, rating, stars)\n"
   ]
  },
  {
   "cell_type": "code",
   "execution_count": 3,
   "metadata": {},
   "outputs": [
    {
     "output_type": "stream",
     "name": "stdout",
     "text": [
      "[{'title': '醉玲珑', 'rating': '5.0分', 'stars': '主演 刘诗诗  陈伟霆  徐海乔  韩雪'}, {'title': '河神', 'rating': '1.8分', 'stars': '主演李现  张铭恩  王紫璇CiCi  陈芋米'}, {'title': '少林问道', 'rating': '4.0分', 'stars': '主演 周一围  郭京飞  郭晓婷  是安'}, {'title': '鬼吹灯之黄皮子坟', 'rating': '3.0分', 'stars': '主演阮经天  徐璐  郝好  刘潮  尚铁龙'}, {'title': '槑头槑脑第二季', 'rating': '3.0分', 'stars': '主演宋晓峰  霍云龙  程野'}, {'title': '槑头槑脑', 'rating': '2.0分', 'stars': '主演宋晓峰  霍云龙 唐艺兮 程野 唐娜'}, {'title': '学生兵', 'rating': '2.0分', 'stars': '主演张铎  孙艺宁  张光北  孙绍龙'}, {'title': '绝密543', 'rating': '3.6分', 'stars': '主演王聪  陈维涵  顾宇峰  王超'}, {'title': '深海利剑', 'rating': '3.0分', 'stars': '主演王强  高旻睿  刘璐  王阳'}, {'title': '浪花一朵朵', 'rating': '5.0分', 'stars': '主演谭松韵  熊梓淇  黄圣池  张峻宁'}, {'title': '镇魂街[真人版]', 'rating': '2.0分', 'stars': '主演 汪东城 安悦溪 侯明昊'}, {'title': '黑土热血', 'rating': '1.0分', 'stars': '主演于毅,刘威葳,张芷溪,王劲松,曹克难,谭皓,侯煜,袁苑,齐千郡,山鹰,王今心'}, {'title': '建军大业电视剧', 'rating': '4.0分', 'stars': '主演黄海冰,郭广平,周惠林,李飞'}, {'title': '颤抖吧，阿部', 'rating': '5.0分', 'stars': '主演郑业成 安悦溪 王燕阳'}, {'title': '班长大人', 'rating': '1.0分', 'stars': '主演李凯馨  黄俊捷  戴景耀  邓欣  陆妍淇'}, {'title': '鬼吹灯之牧野诡事第二季', 'rating': '3.0分', 'stars': '主演王大陆  金晨  王栎鑫'}, {'title': '天下第一', 'rating': '3.0分', 'stars': '主演李亚鹏,郭晋安,霍建华,张卫健'}, {'title': '刺客列传第一季', 'rating': '3.0分', 'stars': '主演查杰，连晨翔，赵志伟，马振桓，吕鋆峰 ，熊梓淇，易柏辰，黄伟晋，朱戬，彭昱畅，张天启，李熹子，郭鑫'}, {'title': '轩辕剑之汉之云', 'rating': '1.0分', 'stars': '主演张云龙  于朦胧  关晓彤  张佳宁'}, {'title': '通天狄仁杰', 'rating': '2.0分', 'stars': '主演任嘉伦  阚清子  焦俊艳  陈奕'}, {'title': '盲约', 'rating': '4.0分', 'stars': '主演蒋欣  陆毅  李雅男  王汀'}, {'title': '异地恋', 'rating': '5.0分', 'stars': '主演李嘉文,毛方圆,朱俊玮,许媛媛,李宁,黄婧,韩昊霖,薛亦伦,赵培琳,洪士雅,刘承林,毛翔宇'}, {'title': '人间至味是清欢', 'rating': '3.0分', 'stars': '主演佟大为  陈乔恩  王一博  林鹏  朱刚日尧'}, {'title': '秦时丽人明月心', 'rating': '4.1分', 'stars': '主演迪丽热巴 张彬彬 李泰 刘畅'}, {'title': '通感恋人', 'rating': '5.0分', 'stars': '主演黄尧,李任燊,张进翘'}, {'title': '春风十里不如你', 'rating': '2.0分', 'stars': '主演周冬雨、张一山、尤靖茹、陈奕龙、魏健隆、齐溪'}, {'title': '我的老爸是奇葩', 'rating': '5.0分', 'stars': '主演韩童生  陶慧敏  经超  张佳宁'}, {'title': '青春最好时', 'rating': '1.0分', 'stars': '主演 张雪迎  曾舜晞 王博文'}, {'title': '进击吧闪电', 'rating': '3.0分', 'stars': '主演蒋劲夫  陈娅安  冯文娟  胡宇威'}, {'title': '天团见习生', 'rating': '1.0分', 'stars': '主演王嘉萌  王朝阳  陈名豪  张达源'}, {'title': '吾儿可教', 'rating': '2.0分', 'stars': '主演王刚 钱芳 于明加 刘炫锐 东靖川 刘思言'}, {'title': '大王不容易', 'rating': '3.0分', 'stars': '主演张逸杰  白鹿  赵弈钦  汤梦佳'}, {'title': '白夜追凶', 'rating': '2.0分', 'stars': '主演潘粤明  王泷正  梁缘  吕晓霖  尹姝贻'}, {'title': '亲爱的王子大人', 'rating': '5.0分', 'stars': '主演张予曦  谢佳见  赵奕欢  陈子由'}, {'title': '那年花开月正圆', 'rating': '4.1分', 'stars': '主演孙俪  陈晓  何润东  任重'}, {'title': '血染大青山', 'rating': '2.0分', 'stars': '主演谷智鑫 严屹宽 赵韩樱子 袁弘 王伟光 谢闻轩'}]\n"
     ]
    }
   ],
   "source": [
    "# 从参数指定的 html 文件中获取电视剧的相关信息\n",
    "def get_tv_from_html(html_file_name):\n",
    "    doc = create_doc_from_filename(html_file_name)\n",
    "    box_list = doc.find_all(\"div\", class_=\"myui-vodlist__box\")\n",
    "\n",
    "    # 【新增】当前处理的文件的字典列表\n",
    "    tv_list = []\n",
    "    for box in box_list:\n",
    "        title_label = box.find_all(\"h4\")[0]\n",
    "        rating_label = box.find_all(\"span\", class_=\"pic-tag pic-tag-top\")[0]\n",
    "        stars_label = box.find_all(\"p\")[0]\n",
    "\n",
    "        title = title_label.text.strip()\n",
    "        rating = rating_label.text.strip()\n",
    "        stars = stars_label.text.strip()\n",
    "\n",
    "        # 【新增】使用字典来保存，字典的 key 和 csv 的表头保持一致\n",
    "        # 【新增】在任务说明环节，表头为: title, rating, stars\n",
    "        tv_dict = {}\n",
    "        tv_dict[\"title\"] = title\n",
    "        tv_dict[\"rating\"] = rating\n",
    "        tv_dict[\"stars\"] = stars\n",
    "\n",
    "        # 【新增】将电视剧的字典添加到当前文件的字典列表中\n",
    "        tv_list.append(tv_dict)\n",
    "\n",
    "    # 【新增】返回字典列表\n",
    "    return tv_list\n",
    "\n",
    "# 用最新修改的 get_tv_from_html 处理 tv2.html，并将返回的结果存储在 tv_list 变量中\n",
    "tv_list = get_tv_from_html(\"htmls/tv2.html\")\n",
    "\n",
    "# 打印获取到的列表\n",
    "print(tv_list)"
   ]
  },
  {
   "cell_type": "code",
   "execution_count": 4,
   "metadata": {},
   "outputs": [],
   "source": [
    "# 导入 csv 模块\n",
    "import csv\n",
    "\n",
    "# 输入有三个参数：要保存的字典列表，csv 文件名，和表头\n",
    "def write_dict_list_to_csv(dict_list, filename, headers):\n",
    "    fo = open(filename, \"w\", newline='', encoding='utf_8_sig')\n",
    "    writer = csv.DictWriter(fo, headers)\n",
    "    writer.writeheader()\n",
    "    writer.writerows(dict_list)\n",
    "    fo.close()"
   ]
  },
  {
   "cell_type": "code",
   "execution_count": 5,
   "metadata": {},
   "outputs": [],
   "source": [
    "all_tv_dict = []"
   ]
  },
  {
   "cell_type": "code",
   "execution_count": 6,
   "metadata": {},
   "outputs": [
    {
     "output_type": "stream",
     "name": "stdout",
     "text": [
      "3600\n"
     ]
    }
   ],
   "source": [
    "# 因为是处理 tv1- tv100 的文件，所以i 循环从1到101\n",
    "for i in range(1, 101):\n",
    "    # 拼出每一次要处理的文件名\n",
    "    file_name = \"htmls/tv\" + str(i) + \".html\"\n",
    "\n",
    "    # 调用 get_tv_from_html 处理当次循环的文件\n",
    "    # 将这个文件中的电视剧列表存储在 dict_list 变量\n",
    "    dict_list = get_tv_from_html(file_name)\n",
    "\n",
    "    # 将 dict_list 的内容添加到总列表 all_tv_dict 中\n",
    "    # 列表的拼接可以直接使用 + 号\n",
    "    all_tv_dict = all_tv_dict + dict_list\n",
    "\n",
    "# 打印出总列表的长度，看看我们一共抓取到了几部电视剧\n",
    "print(len(all_tv_dict))"
   ]
  },
  {
   "cell_type": "code",
   "execution_count": 7,
   "metadata": {},
   "outputs": [],
   "source": [
    "# 调用之前准备的 write_dict_list_to_csv 函数\n",
    "# 第一个参数为要保存的列表，这里就是我们存储了所有电视剧耳朵总列表 all_tv_dict\n",
    "# 第二个参数为要保存的文件名\n",
    "# 第三个参数为要保存的 csv 文件的表头\n",
    "write_dict_list_to_csv(all_tv_dict, \"tv_rating.csv\", [\"title\", \"rating\", \"stars\"])"
   ]
  },
  {
   "cell_type": "code",
   "execution_count": 16,
   "metadata": {
    "tags": []
   },
   "outputs": [],
   "source": [
    "# 整理读取 CSV 的代码为函数\n",
    "# 输入参数为 CSV 文件名，返回值为读取到的字典列表\n",
    "def get_dict_list_from_csv(filename):\n",
    "    fo = open(filename, \"r\", encoding=\"utf_8_sig\")\n",
    "    reader = csv.DictReader(fo)\n",
    "    dict_list = []\n",
    "    for item in reader:\n",
    "        dict_list.append(item)\n",
    "    return dict_list\n",
    "\n",
    "# 读取 tv_rating.csv 文件，并将返回的字典列表赋值给 tv_list1 变量\n",
    "tv_list1 = get_dict_list_from_csv(\"tv_rating.csv\")\n",
    "\n",
    "# 遍历循环 tv_list1 \n",
    "for item in tv_list1:\n",
    "    # 针对每个字典，将 stars 对应的value 的“主演” 替换为空，也就是删除主演两个字\n",
    "    # 并将结果存回 item 字典\n",
    "    item[\"stars\"] = item[\"stars\"].replace(\"主演\",\"\")\n",
    "\n",
    "# 将修改之后的列表重新写到 tv_rating2.csv 中\n",
    "write_dict_list_to_csv(tv_list1, \"tv_rating2.csv\", [\"title\", \"rating\", \"stars\"])"
   ]
  },
  {
   "cell_type": "code",
   "execution_count": 77,
   "metadata": {},
   "outputs": [
    {
     "output_type": "execute_result",
     "data": {
      "text/plain": [
       "{'encoding': None, 'confidence': 0.0, 'language': None}"
      ]
     },
     "metadata": {},
     "execution_count": 77
    }
   ],
   "source": [
    "import chardet\n",
    "chardet.detect(open('tv_rating.csv','rb').read())"
   ]
  },
  {
   "cell_type": "code",
   "execution_count": 14,
   "metadata": {
    "tags": []
   },
   "outputs": [
    {
     "output_type": "stream",
     "name": "stdout",
     "text": [
      "决胜法庭,3.7分,\"主演于和伟,张佳宁,韩栋,王耀庆,连奕名,胡静,杜源,王艺禅,王全有\"\n"
     ]
    }
   ],
   "source": [
    "with open(\"tv_rating.csv\", \"r\", encoding='utf-8') as fo:\n",
    "    content = fo.read().split(\"\\n\")[1]\n",
    "    print(content)"
   ]
  }
 ]
}
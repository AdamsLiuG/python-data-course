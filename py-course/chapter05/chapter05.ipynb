{
 "metadata": {
  "language_info": {
   "codemirror_mode": {
    "name": "ipython",
    "version": 3
   },
   "file_extension": ".py",
   "mimetype": "text/x-python",
   "name": "python",
   "nbconvert_exporter": "python",
   "pygments_lexer": "ipython3",
   "version": "3.8.5-final"
  },
  "orig_nbformat": 2,
  "kernelspec": {
   "name": "python3",
   "display_name": "Python 3.8.5 64-bit (conda)",
   "metadata": {
    "interpreter": {
     "hash": "c39885171911825c85dd2872b53a1f517ccf6205e737fb46b3c547492811485f"
    }
   }
  }
 },
 "nbformat": 4,
 "nbformat_minor": 2,
 "cells": [
  {
   "cell_type": "code",
   "execution_count": null,
   "metadata": {},
   "outputs": [],
   "source": [
    "class Task:\n",
    "    def __init__(self, text):\n",
    "        self.text =text\n",
    "        self.status = \"未完成\"\n",
    "    \n",
    "    def mark_finished(self):\n",
    "        self.status = \"已完成\""
   ]
  },
  {
   "cell_type": "code",
   "execution_count": null,
   "metadata": {},
   "outputs": [],
   "source": [
    "class TaskList:\n",
    "    def __init__(self):\n",
    "        self.tasks = []\n",
    "\n",
    "    def add_task(self, task):\n",
    "        self.tasks.append(task)\n",
    "    \n",
    "    def remove_task(self, idx):\n",
    "        del self.tasks[idx]\n",
    "    \n",
    "    def get_finished_tasks(self):\n",
    "        result = []\n",
    "        for i in range(0,len(self.tasks)):\n",
    "            if self.tasks[i].status ==\"已完成\":\n",
    "                result.append(self.tasks[i])\n",
    "        return result\n",
    "    \n",
    "    def get_unfinished_tasks(self):\n",
    "        result = []\n",
    "        for i in range(0,len(self.tasks)):\n",
    "            if self.tasks[i].status ==\"未完成\":\n",
    "                result.append(self.tasks[i])\n",
    "        return result\n",
    "    \n"
   ]
  },
  {
   "cell_type": "code",
   "execution_count": null,
   "metadata": {},
   "outputs": [],
   "source": [
    "def print_menu():\n",
    "    print(\"Hello~\\n\")\n",
    "    print(\"请问你希望做什么呢？\")\n",
    "    print(\"1. 添加待办\")\n",
    "    print(\"2. 删除待办\")\n",
    "    print(\"3. 标记待办已完成\")\n",
    "    print(\"4. 退出\")\n",
    "    print(\"5. 修改待办\")\n",
    "\n",
    "\n",
    "def print_tasks(finished, unfinished):\n",
    "    print(\"未完成的待办：\")\n",
    "    for i in range(0,len(unfinished)):\n",
    "        print(i, unfinished[i].text)\n",
    "    print(\"\")\n",
    "    print(\"已完成的待办：\")\n",
    "    for i in range(0,len(finished)):\n",
    "        print(i, finished[i].text)\n",
    "    print(\"\")\n",
    "\n",
    "def print_all_tasks(all_tasks):\n",
    "    for i in range(0,len(all_tasks)):\n",
    "        print(i, all_tasks[i].text)\n"
   ]
  },
  {
   "cell_type": "code",
   "execution_count": null,
   "metadata": {},
   "outputs": [],
   "source": [
    "my_task_list = TaskList()\n"
   ]
  },
  {
   "cell_type": "code",
   "execution_count": null,
   "metadata": {},
   "outputs": [],
   "source": [
    "while True:\n",
    "    clear_output()\n",
    "    \n",
    "    finished_tasks = my_task_list.get_finished_tasks()\n",
    "    unfinished_tasks = my_task_list.get_unfinished_tasks()\n",
    "\n",
    "    print_tasks(finished_tasks, unfinished_tasks)\n",
    "    print_menu()\n",
    "\n",
    "    command = input(\"请输入操作序号\")\n",
    "    \n",
    "    if command == \"1\":\n",
    "        text = input(\"请输入希望添加的待办内容\")\n",
    "        task = Task(text)\n",
    "        my_task_list.add_task(task)\n",
    "    elif command == \"2\":\n",
    "        clear_output()\n",
    "        print_all_tasks(my_task_list.tasks)\n",
    "        idx = input(\"请输入想删除的待办序号\")\n",
    "        idx = int(idx)\n",
    "        my_task_list.remove_task(idx)\n",
    "    elif command == \"3\":\n",
    "        clear_output()\n",
    "        print_all_tasks(my_task_list.tasks)\n",
    "        idx = input(\"请输入希望标记完成的待办序号\")\n",
    "        idx = int(idx)\n",
    "        my_task_list.tasks[idx].mark_finished()\n",
    "    elif command == \"4\":\n",
    "        break\n",
    "    elif command == \"5\":\n",
    "        clear_output()\n",
    "        print_all_tasks(my_task_list.tasks)\n",
    "        idx = input(\"请输入希修改的待办序号\")\n",
    "        idx = int(idx)\n",
    "        new_text = input(\"请输入新的待办内容\")\n",
    "        my_task_list.tasks[idx].text = new_text\n"
   ]
  },
  {
   "cell_type": "code",
   "execution_count": null,
   "metadata": {},
   "outputs": [],
   "source": []
  }
 ]
}
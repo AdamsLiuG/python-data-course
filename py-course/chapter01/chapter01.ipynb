{
 "metadata": {
  "language_info": {
   "codemirror_mode": {
    "name": "ipython",
    "version": 3
   },
   "file_extension": ".py",
   "mimetype": "text/x-python",
   "name": "python",
   "nbconvert_exporter": "python",
   "pygments_lexer": "ipython3",
   "version": "3.8.5-final"
  },
  "orig_nbformat": 2,
  "kernelspec": {
   "name": "python385jvsc74a57bd0c39885171911825c85dd2872b53a1f517ccf6205e737fb46b3c547492811485f",
   "display_name": "Python 3.8.5 64-bit (conda)"
  }
 },
 "nbformat": 4,
 "nbformat_minor": 2,
 "cells": [
  {
   "cell_type": "code",
   "execution_count": 11,
   "metadata": {},
   "outputs": [],
   "source": [
    "a1 = \"Hello Data Science\"\n",
    "a2 = 135"
   ]
  },
  {
   "cell_type": "code",
   "execution_count": 12,
   "metadata": {},
   "outputs": [
    {
     "output_type": "execute_result",
     "data": {
      "text/plain": [
       "'Hello Data Science'"
      ]
     },
     "metadata": {},
     "execution_count": 12
    }
   ],
   "source": [
    "a1"
   ]
  },
  {
   "cell_type": "code",
   "execution_count": 13,
   "metadata": {},
   "outputs": [
    {
     "output_type": "execute_result",
     "data": {
      "text/plain": [
       "135"
      ]
     },
     "metadata": {},
     "execution_count": 13
    }
   ],
   "source": [
    "a2"
   ]
  },
  {
   "cell_type": "code",
   "execution_count": 14,
   "metadata": {},
   "outputs": [
    {
     "output_type": "stream",
     "name": "stdout",
     "text": [
      "235\n"
     ]
    }
   ],
   "source": [
    "a2 = 100\n",
    "a3 = 135\n",
    "print (a2 + a3)"
   ]
  },
  {
   "cell_type": "code",
   "execution_count": 15,
   "metadata": {},
   "outputs": [
    {
     "output_type": "error",
     "ename": "TypeError",
     "evalue": "can only concatenate str (not \"int\") to str",
     "traceback": [
      "\u001b[1;31m---------------------------------------------------------------------------\u001b[0m",
      "\u001b[1;31mTypeError\u001b[0m                                 Traceback (most recent call last)",
      "\u001b[1;32m<ipython-input-15-12c020227edc>\u001b[0m in \u001b[0;36m<module>\u001b[1;34m\u001b[0m\n\u001b[1;32m----> 1\u001b[1;33m \u001b[0mprint\u001b[0m\u001b[1;33m(\u001b[0m\u001b[0ma1\u001b[0m \u001b[1;33m+\u001b[0m \u001b[0ma2\u001b[0m\u001b[1;33m)\u001b[0m\u001b[1;33m\u001b[0m\u001b[1;33m\u001b[0m\u001b[0m\n\u001b[0m",
      "\u001b[1;31mTypeError\u001b[0m: can only concatenate str (not \"int\") to str"
     ]
    }
   ],
   "source": [
    "print(a1 + a2)"
   ]
  },
  {
   "cell_type": "code",
   "execution_count": 7,
   "metadata": {},
   "outputs": [
    {
     "output_type": "stream",
     "name": "stdout",
     "text": [
      "<class 'int'>\n"
     ]
    }
   ],
   "source": [
    "print(type(a2))"
   ]
  },
  {
   "cell_type": "code",
   "execution_count": 1,
   "metadata": {},
   "outputs": [
    {
     "output_type": "stream",
     "name": "stdout",
     "text": [
      "1.25 <class 'float'> 2.5 <class 'float'> 0.8333333333333334 <class 'float'>\n"
     ]
    }
   ],
   "source": [
    "a4 = 10 / 8\n",
    "a5 = a4 * 2\n",
    "a6 = a5 / 3\n",
    "print(a4, type(a4), a5, type(a5), a6, type(a6))"
   ]
  },
  {
   "cell_type": "code",
   "execution_count": 2,
   "metadata": {},
   "outputs": [
    {
     "output_type": "stream",
     "name": "stdout",
     "text": [
      "True <class 'bool'> False <class 'bool'> False <class 'bool'> True <class 'bool'>\n"
     ]
    }
   ],
   "source": [
    "stu_score = 93\n",
    "a7 = stu_score > 90\n",
    "a8 = stu_score < 60\n",
    "a9 = a7 and a8\n",
    "a10 = a7 or a8\n",
    "print(a7, type(a7), a8, type(a8), a9, type(a9), a10, type(a10))"
   ]
  },
  {
   "cell_type": "code",
   "execution_count": 3,
   "metadata": {},
   "outputs": [
    {
     "output_type": "stream",
     "name": "stdout",
     "text": [
      "Hello, Data Science <class 'str'>\nHello, Data Science, I'm coming <class 'str'>\n"
     ]
    }
   ],
   "source": [
    "a1 = \"Hello, Data Science\"\n",
    "a2 = \"I'm coming\"\n",
    "a3 = a1 + \", \" + a2\n",
    "print(a1, type(a1))\n",
    "print(a3, type(a3))"
   ]
  },
  {
   "cell_type": "code",
   "execution_count": null,
   "metadata": {},
   "outputs": [],
   "source": [
    "a1 = \"Hello\\nData Science\"\n",
    "print(a1, type(a1))"
   ]
  },
  {
   "cell_type": "code",
   "execution_count": 9,
   "metadata": {},
   "outputs": [
    {
     "output_type": "stream",
     "name": "stdout",
     "text": [
      "List is:  [1, 2, 3, 10]\nList length:  4\nList tail:  10\nList head:  1\nAfter append:  [1, 2, 3, 10, 'Hello']\nAfter remove:  [1, 3, 10, 'Hello']\n"
     ]
    }
   ],
   "source": [
    "tc_a1 = 10\n",
    "la = [1,2,3,tc_a1]\n",
    "print(\"List is: \", la)\n",
    "print(\"List length: \", len(la))\n",
    "print(\"List tail: \", la[-1])\n",
    "print(\"List head: \", la[0])\n",
    "la.append(\"Hello\")\n",
    "print(\"After append: \", la)\n",
    "la.remove(2)\n",
    "print(\"After remove: \", la)"
   ]
  },
  {
   "cell_type": "code",
   "execution_count": 10,
   "metadata": {},
   "outputs": [
    {
     "output_type": "stream",
     "name": "stdout",
     "text": [
      "11.5 <class 'float'>\n"
     ]
    }
   ],
   "source": [
    "tc_a1 = 10\n",
    "tc_a2 = 1.5\n",
    "tc_a3 = tc_a1 + tc_a2\n",
    "print(tc_a3, type(tc_a3))"
   ]
  },
  {
   "cell_type": "code",
   "execution_count": 11,
   "metadata": {},
   "outputs": [
    {
     "output_type": "stream",
     "name": "stdout",
     "text": [
      "11 <class 'int'>\n"
     ]
    }
   ],
   "source": [
    "tc_a4 = tc_a1 + int(tc_a2)\n",
    "print(tc_a4, type(tc_a4))"
   ]
  },
  {
   "cell_type": "code",
   "execution_count": 12,
   "metadata": {},
   "outputs": [
    {
     "output_type": "execute_result",
     "data": {
      "text/plain": [
       "31.5"
      ]
     },
     "metadata": {},
     "execution_count": 12
    }
   ],
   "source": [
    "tc_a5 = \"21.5\"\n",
    "tc_a6 = tc_a1 + float(tc_a5)\n",
    "tc_a6"
   ]
  },
  {
   "cell_type": "code",
   "execution_count": null,
   "metadata": {},
   "outputs": [],
   "source": []
  }
 ]
}
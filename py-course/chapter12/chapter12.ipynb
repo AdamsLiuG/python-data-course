{
 "metadata": {
  "language_info": {
   "codemirror_mode": {
    "name": "ipython",
    "version": 3
   },
   "file_extension": ".py",
   "mimetype": "text/x-python",
   "name": "python",
   "nbconvert_exporter": "python",
   "pygments_lexer": "ipython3",
   "version": "3.8.5"
  },
  "orig_nbformat": 2,
  "kernelspec": {
   "name": "python385jvsc74a57bd0c39885171911825c85dd2872b53a1f517ccf6205e737fb46b3c547492811485f",
   "display_name": "Python 3.8.5 64-bit (conda)"
  }
 },
 "nbformat": 4,
 "nbformat_minor": 2,
 "cells": [
  {
   "cell_type": "code",
   "execution_count": 31,
   "metadata": {},
   "outputs": [
    {
     "output_type": "execute_result",
     "data": {
      "text/plain": [
       "0    1\n",
       "1    3\n",
       "2    5\n",
       "3    7\n",
       "dtype: int64"
      ]
     },
     "metadata": {},
     "execution_count": 31
    }
   ],
   "source": [
    "import pandas as pd\n",
    "\n",
    "# 通过列表创建 Series\n",
    "ser1 = pd.Series([1,3,5,7])\n",
    "\n",
    "# 通过 notebook 打印 ser1\n",
    "ser1"
   ]
  },
  {
   "cell_type": "code",
   "execution_count": 5,
   "metadata": {},
   "outputs": [
    {
     "output_type": "stream",
     "name": "stdout",
     "text": [
      "values:  [1 3 5 7]\nindex:  RangeIndex(start=0, stop=4, step=1)\n"
     ]
    }
   ],
   "source": [
    "print(\"values: \", ser1.values)\n",
    "print(\"index: \", ser1.index)"
   ]
  },
  {
   "cell_type": "code",
   "execution_count": 7,
   "metadata": {},
   "outputs": [
    {
     "output_type": "execute_result",
     "data": {
      "text/plain": [
       "3"
      ]
     },
     "metadata": {},
     "execution_count": 7
    }
   ],
   "source": [
    "ser1[1]"
   ]
  },
  {
   "cell_type": "code",
   "execution_count": 13,
   "metadata": {},
   "outputs": [
    {
     "output_type": "execute_result",
     "data": {
      "text/plain": [
       "a           1\n",
       "b    [66, 65]\n",
       "c           5\n",
       "d           7\n",
       "dtype: object"
      ]
     },
     "metadata": {},
     "execution_count": 13
    }
   ],
   "source": [
    "# 使用列表创建 Series，并指定其索引为另一个列表\n",
    "ser2 = pd.Series([1,[66,65],5,7], index=[\"a\", \"b\", \"c\", \"d\"])\n",
    "\n",
    "# 使用 notebook 打印 ser2\n",
    "ser2"
   ]
  },
  {
   "cell_type": "code",
   "execution_count": 11,
   "metadata": {},
   "outputs": [
    {
     "output_type": "stream",
     "name": "stdout",
     "text": [
      "7\n"
     ]
    }
   ],
   "source": [
    "print(ser2[\"d\"])"
   ]
  },
  {
   "cell_type": "code",
   "execution_count": 12,
   "metadata": {},
   "outputs": [
    {
     "output_type": "stream",
     "name": "stdout",
     "text": [
      "values: [1 3 5 7]\nindex: Index(['a', 'b', 'c', 'd'], dtype='object')\n"
     ]
    }
   ],
   "source": [
    "print(\"values:\", ser2.values)\n",
    "print(\"index:\", ser2.index)"
   ]
  },
  {
   "cell_type": "code",
   "execution_count": 70,
   "metadata": {},
   "outputs": [
    {
     "output_type": "execute_result",
     "data": {
      "text/plain": [
       "           title rating                                              stars\n",
       "0           决胜法庭   3.7分                 主演于和伟,张佳宁,韩栋,王耀庆,连奕名,胡静,杜源,王艺禅,王全有\n",
       "1         刘老根第三部   4.0分                                主演赵本山,范伟,李静,闫学晶,王小宝\n",
       "2         我的僵尸王爷   4.6分                                               主演内详\n",
       "3        新世界2020   3.4分                 主演孙红雷,张鲁一,尹昉,万茜,李纯,胡静,秦汉,赵峥,张瑶,张晔子\n",
       "4        三生三世枕上书   4.4分          主演迪丽热巴,高伟光,陈楚河,郭品超,刘雨欣,刘芮麟,王骁,李东恒,袁雨萱,黄俊捷\n",
       "...          ...    ...                                                ...\n",
       "3595    二十不惑DVD版   4.0分              主演关晓彤,卜冠今,李庚希,董思怡,金世佳,牛骏峰,王安宇,曹恩齐,徐绍瑛\n",
       "3596       实习女捕快   4.0分             主演杨安琪 樊驿宁 卜冠之 南思恺 王蕴凡 陈嘉敏 刘竹 齐超 唐鑫 郑旭东\n",
       "3597       我的男月嫂   1.0分                                   主演黄炫彰 唐丹 王一嚞 吴佳曦\n",
       "3598  喂，我是你的微糖男友   2.0分                          主演吴大伟,张集骏,柯博伦,辛诗琪,代雨丹,蒋蕊泽\n",
       "3599    穿越火线2020   4.6分  主演鹿晗,吴磊,代露娃,宋妍霏,张萌,邵兵,王锵,刘帅良,朱俊麟,黄德毅,潘美烨,宋家腾,夏...\n",
       "\n",
       "[3600 rows x 3 columns]"
      ],
      "text/html": "<div>\n<style scoped>\n    .dataframe tbody tr th:only-of-type {\n        vertical-align: middle;\n    }\n\n    .dataframe tbody tr th {\n        vertical-align: top;\n    }\n\n    .dataframe thead th {\n        text-align: right;\n    }\n</style>\n<table border=\"1\" class=\"dataframe\">\n  <thead>\n    <tr style=\"text-align: right;\">\n      <th></th>\n      <th>title</th>\n      <th>rating</th>\n      <th>stars</th>\n    </tr>\n  </thead>\n  <tbody>\n    <tr>\n      <th>0</th>\n      <td>决胜法庭</td>\n      <td>3.7分</td>\n      <td>主演于和伟,张佳宁,韩栋,王耀庆,连奕名,胡静,杜源,王艺禅,王全有</td>\n    </tr>\n    <tr>\n      <th>1</th>\n      <td>刘老根第三部</td>\n      <td>4.0分</td>\n      <td>主演赵本山,范伟,李静,闫学晶,王小宝</td>\n    </tr>\n    <tr>\n      <th>2</th>\n      <td>我的僵尸王爷</td>\n      <td>4.6分</td>\n      <td>主演内详</td>\n    </tr>\n    <tr>\n      <th>3</th>\n      <td>新世界2020</td>\n      <td>3.4分</td>\n      <td>主演孙红雷,张鲁一,尹昉,万茜,李纯,胡静,秦汉,赵峥,张瑶,张晔子</td>\n    </tr>\n    <tr>\n      <th>4</th>\n      <td>三生三世枕上书</td>\n      <td>4.4分</td>\n      <td>主演迪丽热巴,高伟光,陈楚河,郭品超,刘雨欣,刘芮麟,王骁,李东恒,袁雨萱,黄俊捷</td>\n    </tr>\n    <tr>\n      <th>...</th>\n      <td>...</td>\n      <td>...</td>\n      <td>...</td>\n    </tr>\n    <tr>\n      <th>3595</th>\n      <td>二十不惑DVD版</td>\n      <td>4.0分</td>\n      <td>主演关晓彤,卜冠今,李庚希,董思怡,金世佳,牛骏峰,王安宇,曹恩齐,徐绍瑛</td>\n    </tr>\n    <tr>\n      <th>3596</th>\n      <td>实习女捕快</td>\n      <td>4.0分</td>\n      <td>主演杨安琪 樊驿宁 卜冠之 南思恺 王蕴凡 陈嘉敏 刘竹 齐超 唐鑫 郑旭东</td>\n    </tr>\n    <tr>\n      <th>3597</th>\n      <td>我的男月嫂</td>\n      <td>1.0分</td>\n      <td>主演黄炫彰 唐丹 王一嚞 吴佳曦</td>\n    </tr>\n    <tr>\n      <th>3598</th>\n      <td>喂，我是你的微糖男友</td>\n      <td>2.0分</td>\n      <td>主演吴大伟,张集骏,柯博伦,辛诗琪,代雨丹,蒋蕊泽</td>\n    </tr>\n    <tr>\n      <th>3599</th>\n      <td>穿越火线2020</td>\n      <td>4.6分</td>\n      <td>主演鹿晗,吴磊,代露娃,宋妍霏,张萌,邵兵,王锵,刘帅良,朱俊麟,黄德毅,潘美烨,宋家腾,夏...</td>\n    </tr>\n  </tbody>\n</table>\n<p>3600 rows × 3 columns</p>\n</div>"
     },
     "metadata": {},
     "execution_count": 70
    }
   ],
   "source": [
    "# 加载电视剧评分数据\n",
    "df_rating = pd.read_csv(\"tv_rating.csv\")\n",
    "\n",
    "# 输出评分的 DataFrame\n",
    "df_rating"
   ]
  },
  {
   "cell_type": "code",
   "execution_count": 9,
   "metadata": {},
   "outputs": [
    {
     "output_type": "stream",
     "name": "stdout",
     "text": [
      "0       3.7分\n1       4.0分\n2       4.6分\n3       3.4分\n4       4.4分\n        ... \n3595    4.0分\n3596    4.0分\n3597    1.0分\n3598    2.0分\n3599    4.6分\nName: rating, Length: 3600, dtype: object\n------------分割一下------------\n<class 'pandas.core.series.Series'>\n"
     ]
    }
   ],
   "source": [
    "# 获取 rating 这一列，存储在ser_rating 变量中\n",
    "ser_rating = df_rating[\"rating\"]\n",
    "\n",
    "# 输出 ser_rating 这个 Series\n",
    "print(ser_rating)\n",
    "\n",
    "# 分割一下，方便查看\n",
    "print(\"------------分割一下------------\")\n",
    "\n",
    "# 查看数据的类型\n",
    "print(type(ser_rating))"
   ]
  },
  {
   "cell_type": "code",
   "execution_count": 8,
   "metadata": {},
   "outputs": [
    {
     "output_type": "stream",
     "name": "stdout",
     "text": [
      "title                  刘老根第三部\nrating                   4.0分\nstars     主演赵本山,范伟,李静,闫学晶,王小宝\nName: 1, dtype: object\n------------分割一下------------\n<class 'pandas.core.series.Series'>\n"
     ]
    }
   ],
   "source": [
    "# DataFrame 通过 loc 函数可以查看行索引对应的值\n",
    "# 取出行索引为 1 的行，存储在 ser_1 变量中\n",
    "ser_1 = df_rating.loc[1]\n",
    "\n",
    "# 打印 ser1 这个 Series\n",
    "print(df_rating.loc[1])\n",
    "\n",
    "# 分割一下，方便查看\n",
    "print(\"------------分割一下------------\")\n",
    "\n",
    "# 查看数据的类型\n",
    "print(type(df_rating.loc[1]))"
   ]
  },
  {
   "cell_type": "code",
   "execution_count": 20,
   "metadata": {},
   "outputs": [
    {
     "output_type": "execute_result",
     "data": {
      "text/plain": [
       "      0    1    2\n",
       "姓名   小明   小亮   小E\n",
       "年龄   22   25   23\n",
       "籍贯   河北   广东   四川\n",
       "部门  IT部  IT部  财务部"
      ],
      "text/html": "<div>\n<style scoped>\n    .dataframe tbody tr th:only-of-type {\n        vertical-align: middle;\n    }\n\n    .dataframe tbody tr th {\n        vertical-align: top;\n    }\n\n    .dataframe thead th {\n        text-align: right;\n    }\n</style>\n<table border=\"1\" class=\"dataframe\">\n  <thead>\n    <tr style=\"text-align: right;\">\n      <th></th>\n      <th>0</th>\n      <th>1</th>\n      <th>2</th>\n    </tr>\n  </thead>\n  <tbody>\n    <tr>\n      <th>姓名</th>\n      <td>小明</td>\n      <td>小亮</td>\n      <td>小E</td>\n    </tr>\n    <tr>\n      <th>年龄</th>\n      <td>22</td>\n      <td>25</td>\n      <td>23</td>\n    </tr>\n    <tr>\n      <th>籍贯</th>\n      <td>河北</td>\n      <td>广东</td>\n      <td>四川</td>\n    </tr>\n    <tr>\n      <th>部门</th>\n      <td>IT部</td>\n      <td>IT部</td>\n      <td>财务部</td>\n    </tr>\n  </tbody>\n</table>\n</div>"
     },
     "metadata": {},
     "execution_count": 20
    }
   ],
   "source": [
    "ser_name = pd.Series([\"小明\", \"小亮\", \"小E\"])\n",
    "ser_age = pd.Series([22,25,23])\n",
    "ser_from = pd.Series([\"河北\", \"广东\", \"四川\"])\n",
    "ser_dep = pd.Series([\"IT部\", \"IT部\", \"财务部\"])\n",
    "\n",
    "df_info = pd.DataFrame([ser_name, ser_age, ser_from, ser_dep], index= [\"姓名\", \"年龄\", \"籍贯\", \"部门\"])\n",
    "df_info"
   ]
  },
  {
   "cell_type": "code",
   "execution_count": 57,
   "metadata": {},
   "outputs": [
    {
     "output_type": "execute_result",
     "data": {
      "text/plain": [
       "   姓名  年龄  籍贯   部门\n",
       "0  小明  22  河北  IT部\n",
       "1  小亮  25  广东  IT部\n",
       "2  小E  23  四川  财务部"
      ],
      "text/html": "<div>\n<style scoped>\n    .dataframe tbody tr th:only-of-type {\n        vertical-align: middle;\n    }\n\n    .dataframe tbody tr th {\n        vertical-align: top;\n    }\n\n    .dataframe thead th {\n        text-align: right;\n    }\n</style>\n<table border=\"1\" class=\"dataframe\">\n  <thead>\n    <tr style=\"text-align: right;\">\n      <th></th>\n      <th>姓名</th>\n      <th>年龄</th>\n      <th>籍贯</th>\n      <th>部门</th>\n    </tr>\n  </thead>\n  <tbody>\n    <tr>\n      <th>0</th>\n      <td>小明</td>\n      <td>22</td>\n      <td>河北</td>\n      <td>IT部</td>\n    </tr>\n    <tr>\n      <th>1</th>\n      <td>小亮</td>\n      <td>25</td>\n      <td>广东</td>\n      <td>IT部</td>\n    </tr>\n    <tr>\n      <th>2</th>\n      <td>小E</td>\n      <td>23</td>\n      <td>四川</td>\n      <td>财务部</td>\n    </tr>\n  </tbody>\n</table>\n</div>"
     },
     "metadata": {},
     "execution_count": 57
    }
   ],
   "source": [
    "# 将列索引保存在 index_arr 变量中\n",
    "index_arr = [\"姓名\", \"年龄\", \"籍贯\", \"部门\"]\n",
    "\n",
    "# 构建小明、小亮、小E的行 Series，并使用我们创建好的 index_arr 作为 Series 的index\n",
    "ser_xiaoming = pd.Series([\"小明\", 22, \"河北\",\"IT部\"], index= index_arr)\n",
    "ser_xiaoliang = pd.Series([\"小亮\", 25, \"广东\",\"IT部\"], index = index_arr)\n",
    "ser_xiaoe = pd.Series([\"小E\", 23, \"四川\",\"财务部\"], index=  index_arr)\n",
    "\n",
    "# 直接将三个 Series 以列表的形式作为 DataFrame 的参数，创建 DataFrame\n",
    "df_info = pd.DataFrame([ser_xiaoming, ser_xiaoliang, ser_xiaoe])\n",
    "\n",
    "# 使用 notebook 打印 DataFrame\n",
    "df_info"
   ]
  },
  {
   "cell_type": "code",
   "execution_count": 58,
   "metadata": {},
   "outputs": [
    {
     "output_type": "execute_result",
     "data": {
      "text/plain": [
       "   姓名  年龄  籍贯   部门\n",
       "0  小明  22  河北  IT部\n",
       "1  小亮  25  广东  IT部\n",
       "2  小E  23  四川  财务部\n",
       "3  小红  28  福建  财务部"
      ],
      "text/html": "<div>\n<style scoped>\n    .dataframe tbody tr th:only-of-type {\n        vertical-align: middle;\n    }\n\n    .dataframe tbody tr th {\n        vertical-align: top;\n    }\n\n    .dataframe thead th {\n        text-align: right;\n    }\n</style>\n<table border=\"1\" class=\"dataframe\">\n  <thead>\n    <tr style=\"text-align: right;\">\n      <th></th>\n      <th>姓名</th>\n      <th>年龄</th>\n      <th>籍贯</th>\n      <th>部门</th>\n    </tr>\n  </thead>\n  <tbody>\n    <tr>\n      <th>0</th>\n      <td>小明</td>\n      <td>22</td>\n      <td>河北</td>\n      <td>IT部</td>\n    </tr>\n    <tr>\n      <th>1</th>\n      <td>小亮</td>\n      <td>25</td>\n      <td>广东</td>\n      <td>IT部</td>\n    </tr>\n    <tr>\n      <th>2</th>\n      <td>小E</td>\n      <td>23</td>\n      <td>四川</td>\n      <td>财务部</td>\n    </tr>\n    <tr>\n      <th>3</th>\n      <td>小红</td>\n      <td>28</td>\n      <td>福建</td>\n      <td>财务部</td>\n    </tr>\n  </tbody>\n</table>\n</div>"
     },
     "metadata": {},
     "execution_count": 58
    }
   ],
   "source": [
    "# 新建一个行 Series，存储在 ser_xiaoh变量中\n",
    "ser_xiaoh = pd.Series([\"小红\", 28, \"福建\", \"财务部\"], index = index_arr)\n",
    "\n",
    "# 调用 append 方法添加到DataFrame 中\n",
    "# 设置 ignore_index 的含义是让 DataFrame 自动生成行索引\n",
    "# 调用 append 之后，会返回一个新的 DataFrame，我们将其保存回 df_info 变量\n",
    "df_info = df_info.append(ser_xiaoh, ignore_index= True)\n",
    "\n",
    "# 查看添加后的DataFrame\n",
    "df_info"
   ]
  },
  {
   "cell_type": "code",
   "execution_count": 59,
   "metadata": {},
   "outputs": [
    {
     "output_type": "execute_result",
     "data": {
      "text/plain": [
       "   姓名  年龄  籍贯   部门 考核结果\n",
       "0  小明  22  河北  IT部   合格\n",
       "1  小亮  25  广东  IT部   合格\n",
       "2  小E  23  四川  财务部   合格\n",
       "3  小红  28  福建  财务部   合格"
      ],
      "text/html": "<div>\n<style scoped>\n    .dataframe tbody tr th:only-of-type {\n        vertical-align: middle;\n    }\n\n    .dataframe tbody tr th {\n        vertical-align: top;\n    }\n\n    .dataframe thead th {\n        text-align: right;\n    }\n</style>\n<table border=\"1\" class=\"dataframe\">\n  <thead>\n    <tr style=\"text-align: right;\">\n      <th></th>\n      <th>姓名</th>\n      <th>年龄</th>\n      <th>籍贯</th>\n      <th>部门</th>\n      <th>考核结果</th>\n    </tr>\n  </thead>\n  <tbody>\n    <tr>\n      <th>0</th>\n      <td>小明</td>\n      <td>22</td>\n      <td>河北</td>\n      <td>IT部</td>\n      <td>合格</td>\n    </tr>\n    <tr>\n      <th>1</th>\n      <td>小亮</td>\n      <td>25</td>\n      <td>广东</td>\n      <td>IT部</td>\n      <td>合格</td>\n    </tr>\n    <tr>\n      <th>2</th>\n      <td>小E</td>\n      <td>23</td>\n      <td>四川</td>\n      <td>财务部</td>\n      <td>合格</td>\n    </tr>\n    <tr>\n      <th>3</th>\n      <td>小红</td>\n      <td>28</td>\n      <td>福建</td>\n      <td>财务部</td>\n      <td>合格</td>\n    </tr>\n  </tbody>\n</table>\n</div>"
     },
     "metadata": {},
     "execution_count": 59
    }
   ],
   "source": [
    "# 直接将新添加的列名当做 DataFrame 的列索引，对其赋新的值\n",
    "df_info[\"考核结果\"] = \"合格\"\n",
    "\n",
    "# 查看\n",
    "df_info"
   ]
  },
  {
   "cell_type": "code",
   "execution_count": 60,
   "metadata": {},
   "outputs": [
    {
     "output_type": "execute_result",
     "data": {
      "text/plain": [
       "   姓名  年龄  籍贯   部门 考核结果\n",
       "0  小明  22  河北  IT部   合格\n",
       "1  小亮  25  广东  IT部   良好\n",
       "2  小E  23  四川  财务部   优秀\n",
       "3  小红  28  福建  财务部   良好"
      ],
      "text/html": "<div>\n<style scoped>\n    .dataframe tbody tr th:only-of-type {\n        vertical-align: middle;\n    }\n\n    .dataframe tbody tr th {\n        vertical-align: top;\n    }\n\n    .dataframe thead th {\n        text-align: right;\n    }\n</style>\n<table border=\"1\" class=\"dataframe\">\n  <thead>\n    <tr style=\"text-align: right;\">\n      <th></th>\n      <th>姓名</th>\n      <th>年龄</th>\n      <th>籍贯</th>\n      <th>部门</th>\n      <th>考核结果</th>\n    </tr>\n  </thead>\n  <tbody>\n    <tr>\n      <th>0</th>\n      <td>小明</td>\n      <td>22</td>\n      <td>河北</td>\n      <td>IT部</td>\n      <td>合格</td>\n    </tr>\n    <tr>\n      <th>1</th>\n      <td>小亮</td>\n      <td>25</td>\n      <td>广东</td>\n      <td>IT部</td>\n      <td>良好</td>\n    </tr>\n    <tr>\n      <th>2</th>\n      <td>小E</td>\n      <td>23</td>\n      <td>四川</td>\n      <td>财务部</td>\n      <td>优秀</td>\n    </tr>\n    <tr>\n      <th>3</th>\n      <td>小红</td>\n      <td>28</td>\n      <td>福建</td>\n      <td>财务部</td>\n      <td>良好</td>\n    </tr>\n  </tbody>\n</table>\n</div>"
     },
     "metadata": {},
     "execution_count": 60
    }
   ],
   "source": [
    "# 将新添加的 Series 赋值给 DataFrame 中新列名对应的列 Series\n",
    "df_info[\"考核结果\"] = pd.Series([\"合格\", \"良好\", \"优秀\", \"良好\"])\n",
    "\n",
    "# 查看\n",
    "df_info"
   ]
  },
  {
   "cell_type": "code",
   "execution_count": 61,
   "metadata": {},
   "outputs": [
    {
     "output_type": "execute_result",
     "data": {
      "text/plain": [
       "   姓名  年龄  籍贯   部门\n",
       "0  小明  22  河北  IT部\n",
       "1  小亮  25  广东  IT部\n",
       "2  小E  23  四川  财务部\n",
       "3  小红  28  福建  财务部"
      ],
      "text/html": "<div>\n<style scoped>\n    .dataframe tbody tr th:only-of-type {\n        vertical-align: middle;\n    }\n\n    .dataframe tbody tr th {\n        vertical-align: top;\n    }\n\n    .dataframe thead th {\n        text-align: right;\n    }\n</style>\n<table border=\"1\" class=\"dataframe\">\n  <thead>\n    <tr style=\"text-align: right;\">\n      <th></th>\n      <th>姓名</th>\n      <th>年龄</th>\n      <th>籍贯</th>\n      <th>部门</th>\n    </tr>\n  </thead>\n  <tbody>\n    <tr>\n      <th>0</th>\n      <td>小明</td>\n      <td>22</td>\n      <td>河北</td>\n      <td>IT部</td>\n    </tr>\n    <tr>\n      <th>1</th>\n      <td>小亮</td>\n      <td>25</td>\n      <td>广东</td>\n      <td>IT部</td>\n    </tr>\n    <tr>\n      <th>2</th>\n      <td>小E</td>\n      <td>23</td>\n      <td>四川</td>\n      <td>财务部</td>\n    </tr>\n    <tr>\n      <th>3</th>\n      <td>小红</td>\n      <td>28</td>\n      <td>福建</td>\n      <td>财务部</td>\n    </tr>\n  </tbody>\n</table>\n</div>"
     },
     "metadata": {},
     "execution_count": 61
    }
   ],
   "source": [
    "# labels 是要删除的列名\n",
    "# axis = 1 代表要删除的是列\n",
    "# inplace = True 代表删除直接在 df_info 中生效。\n",
    "df_info.drop(labels = \"考核结果\", axis=1, inplace= True)\n",
    "\n",
    "# 查看\n",
    "df_info"
   ]
  },
  {
   "cell_type": "code",
   "execution_count": 62,
   "metadata": {},
   "outputs": [
    {
     "output_type": "execute_result",
     "data": {
      "text/plain": [
       "   姓名  年龄  籍贯   部门\n",
       "0  小明  22  河北  IT部\n",
       "1  小亮  25  广东  IT部\n",
       "3  小红  28  福建  财务部"
      ],
      "text/html": "<div>\n<style scoped>\n    .dataframe tbody tr th:only-of-type {\n        vertical-align: middle;\n    }\n\n    .dataframe tbody tr th {\n        vertical-align: top;\n    }\n\n    .dataframe thead th {\n        text-align: right;\n    }\n</style>\n<table border=\"1\" class=\"dataframe\">\n  <thead>\n    <tr style=\"text-align: right;\">\n      <th></th>\n      <th>姓名</th>\n      <th>年龄</th>\n      <th>籍贯</th>\n      <th>部门</th>\n    </tr>\n  </thead>\n  <tbody>\n    <tr>\n      <th>0</th>\n      <td>小明</td>\n      <td>22</td>\n      <td>河北</td>\n      <td>IT部</td>\n    </tr>\n    <tr>\n      <th>1</th>\n      <td>小亮</td>\n      <td>25</td>\n      <td>广东</td>\n      <td>IT部</td>\n    </tr>\n    <tr>\n      <th>3</th>\n      <td>小红</td>\n      <td>28</td>\n      <td>福建</td>\n      <td>财务部</td>\n    </tr>\n  </tbody>\n</table>\n</div>"
     },
     "metadata": {},
     "execution_count": 62
    }
   ],
   "source": [
    "# labels 是要删除行的 index，小E的index是2\n",
    "# axis = 0 代表要删除的是行\n",
    "df_info.drop(labels=2, axis=0, inplace=True)\n",
    "\n",
    "# 查看\n",
    "df_info"
   ]
  },
  {
   "cell_type": "code",
   "execution_count": 66,
   "metadata": {},
   "outputs": [
    {
     "output_type": "execute_result",
     "data": {
      "text/plain": [
       "'广东'"
      ]
     },
     "metadata": {},
     "execution_count": 66
    }
   ],
   "source": [
    "# loc 属性后面跟中括号，中括号里面第一个元素是行索引，第二个元素是列索引\n",
    "# 小亮的行索引是1，我们想查看籍贯，所以列索引就是籍贯\n",
    "df_info.loc[1, \"籍贯\"]"
   ]
  },
  {
   "cell_type": "code",
   "execution_count": 67,
   "metadata": {},
   "outputs": [
    {
     "output_type": "execute_result",
     "data": {
      "text/plain": [
       "   姓名  年龄  籍贯   部门\n",
       "0  小明  22  河北  IT部\n",
       "1  小亮  25  广西  IT部\n",
       "3  小红  28  福建  财务部"
      ],
      "text/html": "<div>\n<style scoped>\n    .dataframe tbody tr th:only-of-type {\n        vertical-align: middle;\n    }\n\n    .dataframe tbody tr th {\n        vertical-align: top;\n    }\n\n    .dataframe thead th {\n        text-align: right;\n    }\n</style>\n<table border=\"1\" class=\"dataframe\">\n  <thead>\n    <tr style=\"text-align: right;\">\n      <th></th>\n      <th>姓名</th>\n      <th>年龄</th>\n      <th>籍贯</th>\n      <th>部门</th>\n    </tr>\n  </thead>\n  <tbody>\n    <tr>\n      <th>0</th>\n      <td>小明</td>\n      <td>22</td>\n      <td>河北</td>\n      <td>IT部</td>\n    </tr>\n    <tr>\n      <th>1</th>\n      <td>小亮</td>\n      <td>25</td>\n      <td>广西</td>\n      <td>IT部</td>\n    </tr>\n    <tr>\n      <th>3</th>\n      <td>小红</td>\n      <td>28</td>\n      <td>福建</td>\n      <td>财务部</td>\n    </tr>\n  </tbody>\n</table>\n</div>"
     },
     "metadata": {},
     "execution_count": 67
    }
   ],
   "source": [
    "# 对行索引为1，列索引为 籍贯 的单元格赋值，赋值 广西\n",
    "df_info.loc[1, \"籍贯\"] = \"广西\"\n",
    "\n",
    "# 查看 DataFrame\n",
    "df_info"
   ]
  },
  {
   "cell_type": "code",
   "execution_count": 69,
   "metadata": {},
   "outputs": [
    {
     "output_type": "execute_result",
     "data": {
      "text/plain": [
       "array([['小明', 22, '河北', 'IT部'],\n",
       "       ['小亮', 25, '广西', 'IT部'],\n",
       "       ['小红', 28, '福建', '财务部']], dtype=object)"
      ]
     },
     "metadata": {},
     "execution_count": 69
    }
   ],
   "source": [
    "df_info.values"
   ]
  },
  {
   "cell_type": "code",
   "execution_count": 75,
   "metadata": {},
   "outputs": [
    {
     "output_type": "execute_result",
     "data": {
      "text/plain": [
       "          title rating                                              stars\n",
       "2918       致命筹码   1.0分  主演任泽巍,刘芳毓,张山,贾娅,霍尔查,李庆祥,储宁珈懿,樊响天闻,金洋,杜熊文,张钰茜,李...\n",
       "402   蜀山战纪之剑侠传奇   1.0分                                  主演赵丽颖,陈伟霆,吴奇隆,叶祖新\n",
       "246     我的父亲我的兵   1.0分                                   主演张一山,刘威,傅淼,山崎敬一\n",
       "2716       烽火燃情   1.0分                                       主演胡海锋,王力可,午马\n",
       "1514     夜行人第二季   1.0分                                       主演张翔,王靓雅,蒋中伟\n",
       "...         ...    ...                                                ...\n",
       "102          胭脂   5.0分                                 主演赵丽颖陆毅袁文康陶昕然李梦男叶峰\n",
       "213         有猫在   5.0分                                          主演王京莉,谢欣桐\n",
       "108        碧海雄心   5.0分                                主演陈思诚  张国强  袁泉  王媛可\n",
       "49       颤抖吧，阿部   5.0分                                      主演郑业成 安悦溪 王燕阳\n",
       "1799         追剿   5.0分                                  主演刘宇桥,郭晓峰,牛宝军,周子茵\n",
       "\n",
       "[3600 rows x 3 columns]"
      ],
      "text/html": "<div>\n<style scoped>\n    .dataframe tbody tr th:only-of-type {\n        vertical-align: middle;\n    }\n\n    .dataframe tbody tr th {\n        vertical-align: top;\n    }\n\n    .dataframe thead th {\n        text-align: right;\n    }\n</style>\n<table border=\"1\" class=\"dataframe\">\n  <thead>\n    <tr style=\"text-align: right;\">\n      <th></th>\n      <th>title</th>\n      <th>rating</th>\n      <th>stars</th>\n    </tr>\n  </thead>\n  <tbody>\n    <tr>\n      <th>2918</th>\n      <td>致命筹码</td>\n      <td>1.0分</td>\n      <td>主演任泽巍,刘芳毓,张山,贾娅,霍尔查,李庆祥,储宁珈懿,樊响天闻,金洋,杜熊文,张钰茜,李...</td>\n    </tr>\n    <tr>\n      <th>402</th>\n      <td>蜀山战纪之剑侠传奇</td>\n      <td>1.0分</td>\n      <td>主演赵丽颖,陈伟霆,吴奇隆,叶祖新</td>\n    </tr>\n    <tr>\n      <th>246</th>\n      <td>我的父亲我的兵</td>\n      <td>1.0分</td>\n      <td>主演张一山,刘威,傅淼,山崎敬一</td>\n    </tr>\n    <tr>\n      <th>2716</th>\n      <td>烽火燃情</td>\n      <td>1.0分</td>\n      <td>主演胡海锋,王力可,午马</td>\n    </tr>\n    <tr>\n      <th>1514</th>\n      <td>夜行人第二季</td>\n      <td>1.0分</td>\n      <td>主演张翔,王靓雅,蒋中伟</td>\n    </tr>\n    <tr>\n      <th>...</th>\n      <td>...</td>\n      <td>...</td>\n      <td>...</td>\n    </tr>\n    <tr>\n      <th>102</th>\n      <td>胭脂</td>\n      <td>5.0分</td>\n      <td>主演赵丽颖陆毅袁文康陶昕然李梦男叶峰</td>\n    </tr>\n    <tr>\n      <th>213</th>\n      <td>有猫在</td>\n      <td>5.0分</td>\n      <td>主演王京莉,谢欣桐</td>\n    </tr>\n    <tr>\n      <th>108</th>\n      <td>碧海雄心</td>\n      <td>5.0分</td>\n      <td>主演陈思诚  张国强  袁泉  王媛可</td>\n    </tr>\n    <tr>\n      <th>49</th>\n      <td>颤抖吧，阿部</td>\n      <td>5.0分</td>\n      <td>主演郑业成 安悦溪 王燕阳</td>\n    </tr>\n    <tr>\n      <th>1799</th>\n      <td>追剿</td>\n      <td>5.0分</td>\n      <td>主演刘宇桥,郭晓峰,牛宝军,周子茵</td>\n    </tr>\n  </tbody>\n</table>\n<p>3600 rows × 3 columns</p>\n</div>"
     },
     "metadata": {},
     "execution_count": 75
    }
   ],
   "source": [
    "# by 参数代表要按 rating 这个列索引来排序\n",
    "# inplace = True 的含义和上面说的一样，代表更新当前的DataFrame，而不是返回一个新的\n",
    "df_rating.sort_values(by = \"rating\", inplace=True)\n",
    "\n",
    "# 查看排序后的 DataFrame\n",
    "df_rating"
   ]
  },
  {
   "cell_type": "code",
   "execution_count": 77,
   "metadata": {},
   "outputs": [
    {
     "output_type": "execute_result",
     "data": {
      "text/plain": [
       "          title rating                                              stars\n",
       "1799         追剿   5.0分                                  主演刘宇桥,郭晓峰,牛宝军,周子茵\n",
       "29          杀不死   5.0分                                  主演杨羽  邵庄  安宁  王辰昊\n",
       "184   龙日一，你死定了2   5.0分                                  主演邱赫南,侯佩杉,魏哲鸣,黄千硕\n",
       "3584      家和万事兴   5.0分                            主演李依晓,海陆,李进荣,张迪,叶项明,刘萌萌\n",
       "1524  拜见宫主大人第二季   5.0分                                    主演关智斌,孙雪宁,李诺,刘骐\n",
       "...         ...    ...                                                ...\n",
       "2714       将门风云   1.0分                      主演丁海峰,田海蓉,郑晓宁,谭洋,唐静,刘跃军,吴越,赵君\n",
       "1514     夜行人第二季   1.0分                                       主演张翔,王靓雅,蒋中伟\n",
       "2716       烽火燃情   1.0分                                       主演胡海锋,王力可,午马\n",
       "246     我的父亲我的兵   1.0分                                   主演张一山,刘威,傅淼,山崎敬一\n",
       "2918       致命筹码   1.0分  主演任泽巍,刘芳毓,张山,贾娅,霍尔查,李庆祥,储宁珈懿,樊响天闻,金洋,杜熊文,张钰茜,李...\n",
       "\n",
       "[3600 rows x 3 columns]"
      ],
      "text/html": "<div>\n<style scoped>\n    .dataframe tbody tr th:only-of-type {\n        vertical-align: middle;\n    }\n\n    .dataframe tbody tr th {\n        vertical-align: top;\n    }\n\n    .dataframe thead th {\n        text-align: right;\n    }\n</style>\n<table border=\"1\" class=\"dataframe\">\n  <thead>\n    <tr style=\"text-align: right;\">\n      <th></th>\n      <th>title</th>\n      <th>rating</th>\n      <th>stars</th>\n    </tr>\n  </thead>\n  <tbody>\n    <tr>\n      <th>1799</th>\n      <td>追剿</td>\n      <td>5.0分</td>\n      <td>主演刘宇桥,郭晓峰,牛宝军,周子茵</td>\n    </tr>\n    <tr>\n      <th>29</th>\n      <td>杀不死</td>\n      <td>5.0分</td>\n      <td>主演杨羽  邵庄  安宁  王辰昊</td>\n    </tr>\n    <tr>\n      <th>184</th>\n      <td>龙日一，你死定了2</td>\n      <td>5.0分</td>\n      <td>主演邱赫南,侯佩杉,魏哲鸣,黄千硕</td>\n    </tr>\n    <tr>\n      <th>3584</th>\n      <td>家和万事兴</td>\n      <td>5.0分</td>\n      <td>主演李依晓,海陆,李进荣,张迪,叶项明,刘萌萌</td>\n    </tr>\n    <tr>\n      <th>1524</th>\n      <td>拜见宫主大人第二季</td>\n      <td>5.0分</td>\n      <td>主演关智斌,孙雪宁,李诺,刘骐</td>\n    </tr>\n    <tr>\n      <th>...</th>\n      <td>...</td>\n      <td>...</td>\n      <td>...</td>\n    </tr>\n    <tr>\n      <th>2714</th>\n      <td>将门风云</td>\n      <td>1.0分</td>\n      <td>主演丁海峰,田海蓉,郑晓宁,谭洋,唐静,刘跃军,吴越,赵君</td>\n    </tr>\n    <tr>\n      <th>1514</th>\n      <td>夜行人第二季</td>\n      <td>1.0分</td>\n      <td>主演张翔,王靓雅,蒋中伟</td>\n    </tr>\n    <tr>\n      <th>2716</th>\n      <td>烽火燃情</td>\n      <td>1.0分</td>\n      <td>主演胡海锋,王力可,午马</td>\n    </tr>\n    <tr>\n      <th>246</th>\n      <td>我的父亲我的兵</td>\n      <td>1.0分</td>\n      <td>主演张一山,刘威,傅淼,山崎敬一</td>\n    </tr>\n    <tr>\n      <th>2918</th>\n      <td>致命筹码</td>\n      <td>1.0分</td>\n      <td>主演任泽巍,刘芳毓,张山,贾娅,霍尔查,李庆祥,储宁珈懿,樊响天闻,金洋,杜熊文,张钰茜,李...</td>\n    </tr>\n  </tbody>\n</table>\n<p>3600 rows × 3 columns</p>\n</div>"
     },
     "metadata": {},
     "execution_count": 77
    }
   ],
   "source": [
    "# 在刚才的基础上，增加 ascending=False，代表按降序排序\n",
    "df_rating.sort_values(by=\"rating\", inplace=True, ascending=False)\n",
    "\n",
    "# 查看\n",
    "df_rating"
   ]
  },
  {
   "cell_type": "code",
   "execution_count": 78,
   "metadata": {},
   "outputs": [
    {
     "output_type": "execute_result",
     "data": {
      "text/plain": [
       "          title rating                                              stars\n",
       "1799         追剿   5.0分                                  主演刘宇桥,郭晓峰,牛宝军,周子茵\n",
       "29          杀不死   5.0分                                  主演杨羽  邵庄  安宁  王辰昊\n",
       "184   龙日一，你死定了2   5.0分                                  主演邱赫南,侯佩杉,魏哲鸣,黄千硕\n",
       "3584      家和万事兴   5.0分                            主演李依晓,海陆,李进荣,张迪,叶项明,刘萌萌\n",
       "1524  拜见宫主大人第二季   5.0分                                    主演关智斌,孙雪宁,李诺,刘骐\n",
       "49       颤抖吧，阿部   5.0分                                      主演郑业成 安悦溪 王燕阳\n",
       "108        碧海雄心   5.0分                                主演陈思诚  张国强  袁泉  王媛可\n",
       "213         有猫在   5.0分                                          主演王京莉,谢欣桐\n",
       "102          胭脂   5.0分                                 主演赵丽颖陆毅袁文康陶昕然李梦男叶峰\n",
       "10          择天记   5.0分                                     主演鹿晗/娜扎/吴倩/曾舜晞\n",
       "35        无心法师2   5.0分                                   主演韩东君,陈瑶,李兰迪,王彦霖\n",
       "3431    三个女人一台戏   5.0分                                            主演三金 丹丹\n",
       "36          醉玲珑   5.0分                               主演 刘诗诗  陈伟霆  徐海乔  韩雪\n",
       "45        浪花一朵朵   5.0分                               主演谭松韵  熊梓淇  黄圣池  张峻宁\n",
       "57          异地恋   5.0分    主演李嘉文,毛方圆,朱俊玮,许媛媛,李宁,黄婧,韩昊霖,薛亦伦,赵培琳,洪士雅,刘承林,毛翔宇\n",
       "302     蜜恋失心第二季   5.0分                                   主演丁怡,罗诠浩,殷叶子,蔡俊涛\n",
       "60         通感恋人   5.0分                                       主演黄尧,李任燊,张进翘\n",
       "62      我的老爸是奇葩   5.0分                                主演韩童生  陶慧敏  经超  张佳宁\n",
       "3587         心术   5.0分  主演海清,吴秀波,张嘉译,韩雨芹,翟天临,王维维,张子枫,姜晓冲,孙仲加,杨紫,于毅,王琳,...\n",
       "69      亲爱的王子大人   5.0分                               主演张予曦  谢佳见  赵奕欢  陈子由"
      ],
      "text/html": "<div>\n<style scoped>\n    .dataframe tbody tr th:only-of-type {\n        vertical-align: middle;\n    }\n\n    .dataframe tbody tr th {\n        vertical-align: top;\n    }\n\n    .dataframe thead th {\n        text-align: right;\n    }\n</style>\n<table border=\"1\" class=\"dataframe\">\n  <thead>\n    <tr style=\"text-align: right;\">\n      <th></th>\n      <th>title</th>\n      <th>rating</th>\n      <th>stars</th>\n    </tr>\n  </thead>\n  <tbody>\n    <tr>\n      <th>1799</th>\n      <td>追剿</td>\n      <td>5.0分</td>\n      <td>主演刘宇桥,郭晓峰,牛宝军,周子茵</td>\n    </tr>\n    <tr>\n      <th>29</th>\n      <td>杀不死</td>\n      <td>5.0分</td>\n      <td>主演杨羽  邵庄  安宁  王辰昊</td>\n    </tr>\n    <tr>\n      <th>184</th>\n      <td>龙日一，你死定了2</td>\n      <td>5.0分</td>\n      <td>主演邱赫南,侯佩杉,魏哲鸣,黄千硕</td>\n    </tr>\n    <tr>\n      <th>3584</th>\n      <td>家和万事兴</td>\n      <td>5.0分</td>\n      <td>主演李依晓,海陆,李进荣,张迪,叶项明,刘萌萌</td>\n    </tr>\n    <tr>\n      <th>1524</th>\n      <td>拜见宫主大人第二季</td>\n      <td>5.0分</td>\n      <td>主演关智斌,孙雪宁,李诺,刘骐</td>\n    </tr>\n    <tr>\n      <th>49</th>\n      <td>颤抖吧，阿部</td>\n      <td>5.0分</td>\n      <td>主演郑业成 安悦溪 王燕阳</td>\n    </tr>\n    <tr>\n      <th>108</th>\n      <td>碧海雄心</td>\n      <td>5.0分</td>\n      <td>主演陈思诚  张国强  袁泉  王媛可</td>\n    </tr>\n    <tr>\n      <th>213</th>\n      <td>有猫在</td>\n      <td>5.0分</td>\n      <td>主演王京莉,谢欣桐</td>\n    </tr>\n    <tr>\n      <th>102</th>\n      <td>胭脂</td>\n      <td>5.0分</td>\n      <td>主演赵丽颖陆毅袁文康陶昕然李梦男叶峰</td>\n    </tr>\n    <tr>\n      <th>10</th>\n      <td>择天记</td>\n      <td>5.0分</td>\n      <td>主演鹿晗/娜扎/吴倩/曾舜晞</td>\n    </tr>\n    <tr>\n      <th>35</th>\n      <td>无心法师2</td>\n      <td>5.0分</td>\n      <td>主演韩东君,陈瑶,李兰迪,王彦霖</td>\n    </tr>\n    <tr>\n      <th>3431</th>\n      <td>三个女人一台戏</td>\n      <td>5.0分</td>\n      <td>主演三金 丹丹</td>\n    </tr>\n    <tr>\n      <th>36</th>\n      <td>醉玲珑</td>\n      <td>5.0分</td>\n      <td>主演 刘诗诗  陈伟霆  徐海乔  韩雪</td>\n    </tr>\n    <tr>\n      <th>45</th>\n      <td>浪花一朵朵</td>\n      <td>5.0分</td>\n      <td>主演谭松韵  熊梓淇  黄圣池  张峻宁</td>\n    </tr>\n    <tr>\n      <th>57</th>\n      <td>异地恋</td>\n      <td>5.0分</td>\n      <td>主演李嘉文,毛方圆,朱俊玮,许媛媛,李宁,黄婧,韩昊霖,薛亦伦,赵培琳,洪士雅,刘承林,毛翔宇</td>\n    </tr>\n    <tr>\n      <th>302</th>\n      <td>蜜恋失心第二季</td>\n      <td>5.0分</td>\n      <td>主演丁怡,罗诠浩,殷叶子,蔡俊涛</td>\n    </tr>\n    <tr>\n      <th>60</th>\n      <td>通感恋人</td>\n      <td>5.0分</td>\n      <td>主演黄尧,李任燊,张进翘</td>\n    </tr>\n    <tr>\n      <th>62</th>\n      <td>我的老爸是奇葩</td>\n      <td>5.0分</td>\n      <td>主演韩童生  陶慧敏  经超  张佳宁</td>\n    </tr>\n    <tr>\n      <th>3587</th>\n      <td>心术</td>\n      <td>5.0分</td>\n      <td>主演海清,吴秀波,张嘉译,韩雨芹,翟天临,王维维,张子枫,姜晓冲,孙仲加,杨紫,于毅,王琳,...</td>\n    </tr>\n    <tr>\n      <th>69</th>\n      <td>亲爱的王子大人</td>\n      <td>5.0分</td>\n      <td>主演张予曦  谢佳见  赵奕欢  陈子由</td>\n    </tr>\n  </tbody>\n</table>\n</div>"
     },
     "metadata": {},
     "execution_count": 78
    }
   ],
   "source": [
    "# head 函数返回 DataFrame 的前 N 条记录，N就是函数参数指定的值\n",
    "# 这里我们指定 20 \n",
    "df_rating.head(20)"
   ]
  },
  {
   "cell_type": "code",
   "execution_count": 79,
   "metadata": {},
   "outputs": [
    {
     "output_type": "execute_result",
     "data": {
      "text/plain": [
       "         title rating                                              stars\n",
       "3546  再生缘之孟丽君传   1.0分       主演李冰冰,黄海冰,贾雨萌,董艺薇,宋思轩,陈龙,高鑫,孙兴,孙宁,石筱群,王灵,马敬涵\n",
       "1674    童话二分之一   1.0分                            主演李俊赫,张钧甯,朱梓骁,武艺,郑爽,刘美含\n",
       "2744      新玉观音   1.0分                           主演饶敏莉,高云翔,安志杰,莫小棋,李强,赵丽颖\n",
       "1504   郭小宝和周老财   1.0分                                    主演范伟,毛孩,张一鸾,顾宇峰\n",
       "1507      掌门女婿   1.0分                                   主演张译,曹炳琨,徐梵溪,曹艳艳\n",
       "1813      国色天香   1.0分   主演叶璇,刘恺威,何晟铭,徐麒雯,高昊,陈晓,潘虹,何赛飞,习雪,吕佳容,王安迪,马雅舒,宗峰岩\n",
       "261      后妈的春天   1.0分                                     主演李彩桦,黑子,贺刚,刘佳\n",
       "2704      阻击罪恶   1.0分                          主演董勇 / 刘孜 / 程煜 / 李琳 / 廖京生\n",
       "1509  我和她的传奇情仇   1.0分                                   主演颜丹晨,李健,史光辉,侯长荣\n",
       "2720  天机十二宫第二季   1.0分                      主演宋文作,胡意旋,张啸昂,马紫薇,邱虹凯,金世康,陈梦希\n",
       "256    大国重器第二季   1.0分                                              主演李立宏\n",
       "267      梦想合伙人   1.0分                                   主演李光洁,高露,袁文康,刘天佐\n",
       "1812        房战   1.0分  主演斯琴高娃,夏凡,刘金山,牛莉,赵柯,孙桂田,刘文凤,司光敏,周磊,孙铁,杨凯,张妍,李小...\n",
       "1511       聊斋二   1.0分                                    主演严屹宽,李黎,韩雪,骆达华\n",
       "1512      长缨在手   1.0分                                        主演许晴,陈小春,邵兵\n",
       "2714      将门风云   1.0分                      主演丁海峰,田海蓉,郑晓宁,谭洋,唐静,刘跃军,吴越,赵君\n",
       "1514    夜行人第二季   1.0分                                       主演张翔,王靓雅,蒋中伟\n",
       "2716      烽火燃情   1.0分                                       主演胡海锋,王力可,午马\n",
       "246    我的父亲我的兵   1.0分                                   主演张一山,刘威,傅淼,山崎敬一\n",
       "2918      致命筹码   1.0分  主演任泽巍,刘芳毓,张山,贾娅,霍尔查,李庆祥,储宁珈懿,樊响天闻,金洋,杜熊文,张钰茜,李..."
      ],
      "text/html": "<div>\n<style scoped>\n    .dataframe tbody tr th:only-of-type {\n        vertical-align: middle;\n    }\n\n    .dataframe tbody tr th {\n        vertical-align: top;\n    }\n\n    .dataframe thead th {\n        text-align: right;\n    }\n</style>\n<table border=\"1\" class=\"dataframe\">\n  <thead>\n    <tr style=\"text-align: right;\">\n      <th></th>\n      <th>title</th>\n      <th>rating</th>\n      <th>stars</th>\n    </tr>\n  </thead>\n  <tbody>\n    <tr>\n      <th>3546</th>\n      <td>再生缘之孟丽君传</td>\n      <td>1.0分</td>\n      <td>主演李冰冰,黄海冰,贾雨萌,董艺薇,宋思轩,陈龙,高鑫,孙兴,孙宁,石筱群,王灵,马敬涵</td>\n    </tr>\n    <tr>\n      <th>1674</th>\n      <td>童话二分之一</td>\n      <td>1.0分</td>\n      <td>主演李俊赫,张钧甯,朱梓骁,武艺,郑爽,刘美含</td>\n    </tr>\n    <tr>\n      <th>2744</th>\n      <td>新玉观音</td>\n      <td>1.0分</td>\n      <td>主演饶敏莉,高云翔,安志杰,莫小棋,李强,赵丽颖</td>\n    </tr>\n    <tr>\n      <th>1504</th>\n      <td>郭小宝和周老财</td>\n      <td>1.0分</td>\n      <td>主演范伟,毛孩,张一鸾,顾宇峰</td>\n    </tr>\n    <tr>\n      <th>1507</th>\n      <td>掌门女婿</td>\n      <td>1.0分</td>\n      <td>主演张译,曹炳琨,徐梵溪,曹艳艳</td>\n    </tr>\n    <tr>\n      <th>1813</th>\n      <td>国色天香</td>\n      <td>1.0分</td>\n      <td>主演叶璇,刘恺威,何晟铭,徐麒雯,高昊,陈晓,潘虹,何赛飞,习雪,吕佳容,王安迪,马雅舒,宗峰岩</td>\n    </tr>\n    <tr>\n      <th>261</th>\n      <td>后妈的春天</td>\n      <td>1.0分</td>\n      <td>主演李彩桦,黑子,贺刚,刘佳</td>\n    </tr>\n    <tr>\n      <th>2704</th>\n      <td>阻击罪恶</td>\n      <td>1.0分</td>\n      <td>主演董勇 / 刘孜 / 程煜 / 李琳 / 廖京生</td>\n    </tr>\n    <tr>\n      <th>1509</th>\n      <td>我和她的传奇情仇</td>\n      <td>1.0分</td>\n      <td>主演颜丹晨,李健,史光辉,侯长荣</td>\n    </tr>\n    <tr>\n      <th>2720</th>\n      <td>天机十二宫第二季</td>\n      <td>1.0分</td>\n      <td>主演宋文作,胡意旋,张啸昂,马紫薇,邱虹凯,金世康,陈梦希</td>\n    </tr>\n    <tr>\n      <th>256</th>\n      <td>大国重器第二季</td>\n      <td>1.0分</td>\n      <td>主演李立宏</td>\n    </tr>\n    <tr>\n      <th>267</th>\n      <td>梦想合伙人</td>\n      <td>1.0分</td>\n      <td>主演李光洁,高露,袁文康,刘天佐</td>\n    </tr>\n    <tr>\n      <th>1812</th>\n      <td>房战</td>\n      <td>1.0分</td>\n      <td>主演斯琴高娃,夏凡,刘金山,牛莉,赵柯,孙桂田,刘文凤,司光敏,周磊,孙铁,杨凯,张妍,李小...</td>\n    </tr>\n    <tr>\n      <th>1511</th>\n      <td>聊斋二</td>\n      <td>1.0分</td>\n      <td>主演严屹宽,李黎,韩雪,骆达华</td>\n    </tr>\n    <tr>\n      <th>1512</th>\n      <td>长缨在手</td>\n      <td>1.0分</td>\n      <td>主演许晴,陈小春,邵兵</td>\n    </tr>\n    <tr>\n      <th>2714</th>\n      <td>将门风云</td>\n      <td>1.0分</td>\n      <td>主演丁海峰,田海蓉,郑晓宁,谭洋,唐静,刘跃军,吴越,赵君</td>\n    </tr>\n    <tr>\n      <th>1514</th>\n      <td>夜行人第二季</td>\n      <td>1.0分</td>\n      <td>主演张翔,王靓雅,蒋中伟</td>\n    </tr>\n    <tr>\n      <th>2716</th>\n      <td>烽火燃情</td>\n      <td>1.0分</td>\n      <td>主演胡海锋,王力可,午马</td>\n    </tr>\n    <tr>\n      <th>246</th>\n      <td>我的父亲我的兵</td>\n      <td>1.0分</td>\n      <td>主演张一山,刘威,傅淼,山崎敬一</td>\n    </tr>\n    <tr>\n      <th>2918</th>\n      <td>致命筹码</td>\n      <td>1.0分</td>\n      <td>主演任泽巍,刘芳毓,张山,贾娅,霍尔查,李庆祥,储宁珈懿,樊响天闻,金洋,杜熊文,张钰茜,李...</td>\n    </tr>\n  </tbody>\n</table>\n</div>"
     },
     "metadata": {},
     "execution_count": 79
    }
   ],
   "source": [
    "# tail 函数，返回DataFrame 的末尾的 N 条记录，N就是函数的参数\n",
    "# 这里的N，我们指定 20\n",
    "df_rating.tail(20)"
   ]
  },
  {
   "cell_type": "code",
   "execution_count": 81,
   "metadata": {},
   "outputs": [
    {
     "output_type": "stream",
     "name": "stdout",
     "text": [
      "行数: 3600\n列数: 3\n"
     ]
    }
   ],
   "source": [
    "# shape 属性，返回一个元祖，第一个是行数，第二个元素是列数\n",
    "shape = df_rating.shape\n",
    "\n",
    "# 打印行数和列数\n",
    "print(\"行数:\", shape[0])\n",
    "print(\"列数:\", shape[1])"
   ]
  },
  {
   "cell_type": "code",
   "execution_count": 83,
   "metadata": {},
   "outputs": [
    {
     "output_type": "execute_result",
     "data": {
      "text/plain": [
       "          title rating                                              stars  \\\n",
       "1799         追剿   5.0分                                  主演刘宇桥,郭晓峰,牛宝军,周子茵   \n",
       "29          杀不死   5.0分                                  主演杨羽  邵庄  安宁  王辰昊   \n",
       "184   龙日一，你死定了2   5.0分                                  主演邱赫南,侯佩杉,魏哲鸣,黄千硕   \n",
       "3584      家和万事兴   5.0分                            主演李依晓,海陆,李进荣,张迪,叶项明,刘萌萌   \n",
       "1524  拜见宫主大人第二季   5.0分                                    主演关智斌,孙雪宁,李诺,刘骐   \n",
       "...         ...    ...                                                ...   \n",
       "2714       将门风云   1.0分                      主演丁海峰,田海蓉,郑晓宁,谭洋,唐静,刘跃军,吴越,赵君   \n",
       "1514     夜行人第二季   1.0分                                       主演张翔,王靓雅,蒋中伟   \n",
       "2716       烽火燃情   1.0分                                       主演胡海锋,王力可,午马   \n",
       "246     我的父亲我的兵   1.0分                                   主演张一山,刘威,傅淼,山崎敬一   \n",
       "2918       致命筹码   1.0分  主演任泽巍,刘芳毓,张山,贾娅,霍尔查,李庆祥,储宁珈懿,樊响天闻,金洋,杜熊文,张钰茜,李...   \n",
       "\n",
       "     level  \n",
       "1799     高  \n",
       "29       高  \n",
       "184      高  \n",
       "3584     高  \n",
       "1524     高  \n",
       "...    ...  \n",
       "2714     低  \n",
       "1514     低  \n",
       "2716     低  \n",
       "246      低  \n",
       "2918     低  \n",
       "\n",
       "[3600 rows x 4 columns]"
      ],
      "text/html": "<div>\n<style scoped>\n    .dataframe tbody tr th:only-of-type {\n        vertical-align: middle;\n    }\n\n    .dataframe tbody tr th {\n        vertical-align: top;\n    }\n\n    .dataframe thead th {\n        text-align: right;\n    }\n</style>\n<table border=\"1\" class=\"dataframe\">\n  <thead>\n    <tr style=\"text-align: right;\">\n      <th></th>\n      <th>title</th>\n      <th>rating</th>\n      <th>stars</th>\n      <th>level</th>\n    </tr>\n  </thead>\n  <tbody>\n    <tr>\n      <th>1799</th>\n      <td>追剿</td>\n      <td>5.0分</td>\n      <td>主演刘宇桥,郭晓峰,牛宝军,周子茵</td>\n      <td>高</td>\n    </tr>\n    <tr>\n      <th>29</th>\n      <td>杀不死</td>\n      <td>5.0分</td>\n      <td>主演杨羽  邵庄  安宁  王辰昊</td>\n      <td>高</td>\n    </tr>\n    <tr>\n      <th>184</th>\n      <td>龙日一，你死定了2</td>\n      <td>5.0分</td>\n      <td>主演邱赫南,侯佩杉,魏哲鸣,黄千硕</td>\n      <td>高</td>\n    </tr>\n    <tr>\n      <th>3584</th>\n      <td>家和万事兴</td>\n      <td>5.0分</td>\n      <td>主演李依晓,海陆,李进荣,张迪,叶项明,刘萌萌</td>\n      <td>高</td>\n    </tr>\n    <tr>\n      <th>1524</th>\n      <td>拜见宫主大人第二季</td>\n      <td>5.0分</td>\n      <td>主演关智斌,孙雪宁,李诺,刘骐</td>\n      <td>高</td>\n    </tr>\n    <tr>\n      <th>...</th>\n      <td>...</td>\n      <td>...</td>\n      <td>...</td>\n      <td>...</td>\n    </tr>\n    <tr>\n      <th>2714</th>\n      <td>将门风云</td>\n      <td>1.0分</td>\n      <td>主演丁海峰,田海蓉,郑晓宁,谭洋,唐静,刘跃军,吴越,赵君</td>\n      <td>低</td>\n    </tr>\n    <tr>\n      <th>1514</th>\n      <td>夜行人第二季</td>\n      <td>1.0分</td>\n      <td>主演张翔,王靓雅,蒋中伟</td>\n      <td>低</td>\n    </tr>\n    <tr>\n      <th>2716</th>\n      <td>烽火燃情</td>\n      <td>1.0分</td>\n      <td>主演胡海锋,王力可,午马</td>\n      <td>低</td>\n    </tr>\n    <tr>\n      <th>246</th>\n      <td>我的父亲我的兵</td>\n      <td>1.0分</td>\n      <td>主演张一山,刘威,傅淼,山崎敬一</td>\n      <td>低</td>\n    </tr>\n    <tr>\n      <th>2918</th>\n      <td>致命筹码</td>\n      <td>1.0分</td>\n      <td>主演任泽巍,刘芳毓,张山,贾娅,霍尔查,李庆祥,储宁珈懿,樊响天闻,金洋,杜熊文,张钰茜,李...</td>\n      <td>低</td>\n    </tr>\n  </tbody>\n</table>\n<p>3600 rows × 4 columns</p>\n</div>"
     },
     "metadata": {},
     "execution_count": 83
    }
   ],
   "source": [
    "# 获取 shape\n",
    "shape = df_rating.shape\n",
    "\n",
    "# 从shape 获取 行数\n",
    "row_count = shape[0]\n",
    "\n",
    "# 用于临时存放每一行 level 的信息\n",
    "levels = []\n",
    "\n",
    "# 用一个循环，来对每一行都进行处理\n",
    "for i in range(0, row_count):\n",
    "    # 获取当前行的评分\n",
    "    rating = df_rating.loc[i, \"rating\"]\n",
    "\n",
    "    # 去除 分 字，方便比较大小\n",
    "    rating = rating.replace(\"分\", \"\")\n",
    "\n",
    "    # 计算评级结果，并添加到 levels 列表\n",
    "    if rating < \"2.0\":\n",
    "        levels.append(\"低\")\n",
    "    elif rating < \"4.0\":\n",
    "        levels.append(\"中\")\n",
    "    else:\n",
    "        levels.append(\"高\")\n",
    "\n",
    "# 将 levels 构造成 Series，并通过列索引 level, 添加到 DataFrame\n",
    "df_rating[\"level\"] = pd.Series(levels)\n",
    "\n",
    "# 查看\n",
    "df_rating\n"
   ]
  },
  {
   "cell_type": "code",
   "execution_count": 84,
   "metadata": {},
   "outputs": [
    {
     "output_type": "execute_result",
     "data": {
      "text/plain": [
       "title                                   决胜法庭\n",
       "rating                                  3.7分\n",
       "stars     主演于和伟,张佳宁,韩栋,王耀庆,连奕名,胡静,杜源,王艺禅,王全有\n",
       "level                                      中\n",
       "Name: 0, dtype: object"
      ]
     },
     "metadata": {},
     "execution_count": 84
    }
   ],
   "source": [
    "df_rating.loc[0,:]"
   ]
  },
  {
   "cell_type": "code",
   "execution_count": null,
   "metadata": {},
   "outputs": [],
   "source": []
  }
 ]
}
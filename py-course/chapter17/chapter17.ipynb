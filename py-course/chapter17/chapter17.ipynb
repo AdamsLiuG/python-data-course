{
 "metadata": {
  "language_info": {
   "codemirror_mode": {
    "name": "ipython",
    "version": 3
   },
   "file_extension": ".py",
   "mimetype": "text/x-python",
   "name": "python",
   "nbconvert_exporter": "python",
   "pygments_lexer": "ipython3",
   "version": "3.8.5"
  },
  "orig_nbformat": 2,
  "kernelspec": {
   "name": "python385jvsc74a57bd0c39885171911825c85dd2872b53a1f517ccf6205e737fb46b3c547492811485f",
   "display_name": "Python 3.8.5 64-bit ('base': conda)"
  }
 },
 "nbformat": 4,
 "nbformat_minor": 2,
 "cells": [
  {
   "cell_type": "code",
   "execution_count": 2,
   "metadata": {},
   "outputs": [],
   "source": [
    "import numpy as np"
   ]
  },
  {
   "cell_type": "code",
   "execution_count": 10,
   "metadata": {},
   "outputs": [
    {
     "output_type": "stream",
     "name": "stdout",
     "text": [
      "一维数组:\n [0 1]\n二维数组:\n [[0 1]\n [2 3]]\n三维数组:\n [[[0 1]\n  [2 3]]\n\n [[4 5]\n  [6 7]]]\n<class 'numpy.ndarray'> <class 'numpy.ndarray'> <class 'numpy.ndarray'>\n"
     ]
    }
   ],
   "source": [
    "# 初始化一个两个元素的一维数组\n",
    "arr1 = np.arange(2)\n",
    "print(\"一维数组:\\n\", arr1)\n",
    "\n",
    "# 初始化一个4个元素的一维数组，并修改为 2x2 的二维数组\n",
    "arr2 = np.arange(4).reshape(2,2)\n",
    "print(\"二维数组:\\n\", arr2)\n",
    "\n",
    "# 初始化一个8个元素的一维数组，并修改为 2x2x2 的三维数组\n",
    "arr3 = np.arange(8).reshape(2,2,2)\n",
    "print(\"三维数组:\\n\", arr3)\n",
    "\n",
    "# 打印出三个数组的类型\n",
    "print(type(arr1), type(arr2), type(arr3))\n",
    "\n"
   ]
  },
  {
   "cell_type": "code",
   "execution_count": 12,
   "metadata": {},
   "outputs": [
    {
     "output_type": "stream",
     "name": "stdout",
     "text": [
      "[1 3 5 7] <class 'numpy.ndarray'>\n"
     ]
    }
   ],
   "source": [
    "a = [1,3,5,7]\n",
    "arr = np.array(a)\n",
    "print(arr, type(arr))"
   ]
  },
  {
   "cell_type": "code",
   "execution_count": 13,
   "metadata": {},
   "outputs": [
    {
     "output_type": "stream",
     "name": "stdout",
     "text": [
      "[0 1 2 3 4 5 6 7 8 9] <class 'numpy.ndarray'>\n"
     ]
    }
   ],
   "source": [
    "arr1 = np.arange(10)\n",
    "print(arr1, type(arr1))\n",
    "\n",
    "arr2 = np.arange()"
   ]
  },
  {
   "cell_type": "code",
   "execution_count": 17,
   "metadata": {},
   "outputs": [
    {
     "output_type": "execute_result",
     "data": {
      "text/plain": [
       "array([[0, 1, 2, 3, 4],\n",
       "       [5, 6, 7, 8, 9]])"
      ]
     },
     "metadata": {},
     "execution_count": 17
    }
   ],
   "source": [
    "# 将 10 个元素的 arr1 调整为两个五个元素的一维数组组成的二维数组\n",
    "arr1.reshape(2,5)"
   ]
  },
  {
   "cell_type": "code",
   "execution_count": 20,
   "metadata": {},
   "outputs": [
    {
     "output_type": "execute_result",
     "data": {
      "text/plain": [
       "array([[[0, 1, 2, 3, 4]],\n",
       "\n",
       "       [[5, 6, 7, 8, 9]]])"
      ]
     },
     "metadata": {},
     "execution_count": 20
    }
   ],
   "source": [
    "arr1.reshape(2,1,5)"
   ]
  },
  {
   "cell_type": "code",
   "execution_count": 23,
   "metadata": {},
   "outputs": [
    {
     "output_type": "execute_result",
     "data": {
      "text/plain": [
       "array([0., 0., 0., 0., 0.])"
      ]
     },
     "metadata": {},
     "execution_count": 23
    }
   ],
   "source": [
    "np.zeros(5)"
   ]
  },
  {
   "cell_type": "code",
   "execution_count": 25,
   "metadata": {},
   "outputs": [
    {
     "output_type": "execute_result",
     "data": {
      "text/plain": [
       "array([[0., 0., 0., 0.],\n",
       "       [0., 0., 0., 0.],\n",
       "       [0., 0., 0., 0.]])"
      ]
     },
     "metadata": {},
     "execution_count": 25
    }
   ],
   "source": [
    "# 形状以列表的形式传入，[3,4] 代表 3x4 的二维数组\n",
    "np.zeros([3,4])"
   ]
  },
  {
   "cell_type": "code",
   "execution_count": 30,
   "metadata": {},
   "outputs": [
    {
     "output_type": "stream",
     "name": "stdout",
     "text": [
      "一维数组：\n [1. 1. 1.]\n二维数组：\n [[1. 1. 1. 1.]\n [1. 1. 1. 1.]\n [1. 1. 1. 1.]]\n"
     ]
    }
   ],
   "source": [
    "print(\"一维数组：\\n\", np.ones(3))\n",
    "print(\"二维数组：\\n\", np.ones([3,4]))"
   ]
  },
  {
   "cell_type": "code",
   "execution_count": 39,
   "metadata": {},
   "outputs": [
    {
     "output_type": "stream",
     "name": "stdout",
     "text": [
      "[0.4041234  0.54505458 0.78659903 0.81566742 0.19598521 0.66532724\n 0.35192288 0.83556087 0.90010909 0.24167259 0.20850511 0.93573772\n 0.51754404 0.98113317 0.9792484  0.74293827 0.64741681 0.29030238\n 0.81008087 0.15342404]\n[1 5 9 7 5 1 7 2 0 1 8 2 8 1 1 3 4 5 3 5]\n"
     ]
    }
   ],
   "source": [
    "# 生成 20 个 0到1之间的随机数\n",
    "print(np.random.rand(20))\n",
    "\n",
    "# 生成 20 个 0 到10 之间的随机数\n",
    "print(np.random.randint(0,10,20))"
   ]
  },
  {
   "cell_type": "code",
   "execution_count": 42,
   "metadata": {},
   "outputs": [
    {
     "output_type": "stream",
     "name": "stdout",
     "text": [
      "2x2 的单位矩阵：\n [[1. 0.]\n [0. 1.]]\n3x3 的单位矩阵：\n [[1. 0. 0.]\n [0. 1. 0.]\n [0. 0. 1.]]\n"
     ]
    }
   ],
   "source": [
    "print(\"2x2 的单位矩阵：\\n\",np.identity(2))\n",
    "print(\"3x3 的单位矩阵：\\n\", np.identity(3))"
   ]
  },
  {
   "cell_type": "code",
   "execution_count": 1,
   "metadata": {},
   "outputs": [],
   "source": [
    "import csv"
   ]
  },
  {
   "cell_type": "code",
   "execution_count": 3,
   "metadata": {},
   "outputs": [
    {
     "output_type": "stream",
     "name": "stdout",
     "text": [
      "维度数： 2\n形状： (3, 4)\n元素数： 12\n"
     ]
    }
   ],
   "source": [
    "arr = np.ones([3,4])\n",
    "\n",
    "print(\"维度数：\", arr.ndim)\n",
    "print(\"形状：\", arr.shape)\n",
    "print(\"元素数：\", arr.size)\n"
   ]
  },
  {
   "cell_type": "code",
   "execution_count": 4,
   "metadata": {},
   "outputs": [],
   "source": [
    "from bs4 import BeautifulSoup"
   ]
  },
  {
   "cell_type": "code",
   "execution_count": 5,
   "metadata": {},
   "outputs": [],
   "source": [
    "import bs4"
   ]
  },
  {
   "cell_type": "code",
   "execution_count": 11,
   "metadata": {},
   "outputs": [
    {
     "output_type": "stream",
     "name": "stdout",
     "text": [
      "arr： [ 0  1  2  3  4  5  6  7  8  9 10 11]\n第二个元素： 1\n第十一个元素： 10\n"
     ]
    }
   ],
   "source": [
    "arr = np.arange(12)\n",
    "print(\"arr：\",arr)\n",
    "print(\"第二个元素：\",arr[1])\n",
    "print(\"第十一个元素：\",arr[10])"
   ]
  },
  {
   "cell_type": "code",
   "execution_count": 16,
   "metadata": {},
   "outputs": [
    {
     "output_type": "stream",
     "name": "stdout",
     "text": [
      "arr0：\n [[ 0  1  2  3]\n [ 4  5  6  7]\n [ 8  9 10 11]]\n第一维第三个，第二维第四个元素： 11\n\n\narr1： [[[ 0  1  2]\n  [ 3  4  5]]\n\n [[ 6  7  8]\n  [ 9 10 11]]]\n第一维第二个，第二维第一个，第三维第三个数： 8\n"
     ]
    }
   ],
   "source": [
    "# 二维数组索引\n",
    "arr0 = np.arange(12).reshape(3,4)\n",
    "print(\"arr0：\\n\", arr0)\n",
    "print(\"第一维第三个，第二维第四个元素：\", arr0[2,3])\n",
    "\n",
    "# 打印空行\n",
    "print(\"\\n\")\n",
    "\n",
    "# 三维数组索引\n",
    "arr1 = np.arange(12).reshape(2,2,3)\n",
    "print(\"arr1：\", arr1)\n",
    "print(\"第一维第二个，第二维第一个，第三维第三个数：\", arr1[1,0,2])"
   ]
  },
  {
   "cell_type": "code",
   "execution_count": 18,
   "metadata": {},
   "outputs": [
    {
     "output_type": "stream",
     "name": "stdout",
     "text": [
      "arr：\n [0 1 2 3 4 5 6 7 8 9]\n从索引2到索引4： [2 3]\n从索引1到索引5： [1 2 3 4]\n"
     ]
    }
   ],
   "source": [
    "arr = np.arange(10)\n",
    "print(\"arr：\\n\", arr)\n",
    "print(\"从索引2到索引4：\",arr[2:4])\n",
    "print(\"从索引1到索引5：\", arr[1:5])\n",
    "\n"
   ]
  },
  {
   "cell_type": "code",
   "execution_count": 21,
   "metadata": {},
   "outputs": [
    {
     "output_type": "stream",
     "name": "stdout",
     "text": [
      "[[0 1 2]\n [3 4 5]\n [6 7 8]]\n"
     ]
    },
    {
     "output_type": "execute_result",
     "data": {
      "text/plain": [
       "array([3, 6])"
      ]
     },
     "metadata": {},
     "execution_count": 21
    }
   ],
   "source": [
    "arr = np.arange(9).reshape(3,3)\n",
    "print(arr)\n",
    "print(arr[1:3,0])"
   ]
  },
  {
   "cell_type": "code",
   "execution_count": 4,
   "metadata": {},
   "outputs": [
    {
     "output_type": "stream",
     "name": "stdout",
     "text": [
      "原始二维数组：\n [[ 0  1  2  3  4  5]\n [ 6  7  8  9 10 11]]\n提供一个索引后，得到一维数组：\n [0 1 2 3 4 5]\n"
     ]
    }
   ],
   "source": [
    "arr = np.arange(12).reshape(2,6)\n",
    "print(\"原始二维数组：\\n\",arr)\n",
    "print(\"提供一个索引后，得到一维数组：\\n\", arr[0])"
   ]
  },
  {
   "cell_type": "code",
   "execution_count": 8,
   "metadata": {},
   "outputs": [
    {
     "output_type": "stream",
     "name": "stdout",
     "text": [
      "原始数组：\n [[ 0  1  2  3]\n [ 4  5  6  7]\n [ 8  9 10 11]]\n数组+2 ：\n [[ 2  3  4  5]\n [ 6  7  8  9]\n [10 11 12 13]]\n数组*3 ：\n [[ 0  3  6  9]\n [12 15 18 21]\n [24 27 30 33]]\n数组/5：\n [[0.  0.2 0.4 0.6]\n [0.8 1.  1.2 1.4]\n [1.6 1.8 2.  2.2]]\n"
     ]
    }
   ],
   "source": [
    "arr = np.arange(12).reshape(3,4)\n",
    "print(\"原始数组：\\n\", arr)\n",
    "\n",
    "print(\"数组+2 ：\\n\", arr+2)\n",
    "\n",
    "print(\"数组*3 ：\\n\", arr*3)\n",
    "\n",
    "print(\"数组/5：\\n\", arr / 5)"
   ]
  },
  {
   "cell_type": "code",
   "execution_count": 21,
   "metadata": {},
   "outputs": [
    {
     "output_type": "stream",
     "name": "stdout",
     "text": [
      "原始数组1：\n [[ 0  1  2  3]\n [ 4  5  6  7]\n [ 8  9 10 11]]\n原始数组2：\n [[ 6  8  8  2]\n [ 4 11 15  1]\n [19 10  5 13]]\n数组相加的结果：\n [[ 6  9 10  5]\n [ 8 16 21  8]\n [27 19 15 24]]\n数组相乘的结果：\n [[  0   8  16   6]\n [ 16  55  90   7]\n [152  90  50 143]]\n"
     ]
    }
   ],
   "source": [
    "arr = np.arange(12).reshape(3,4)\n",
    "arr1 = np.random.randint(1,20, [3,4])\n",
    "print(\"原始数组1：\\n\", arr)\n",
    "print(\"原始数组2：\\n\", arr1)\n",
    "print(\"数组相加的结果：\\n\", arr + arr1)\n",
    "print(\"数组相乘的结果：\\n\", arr * arr1)\n"
   ]
  },
  {
   "cell_type": "code",
   "execution_count": 22,
   "metadata": {},
   "outputs": [
    {
     "output_type": "stream",
     "name": "stdout",
     "text": [
      "原始数组1：\n [[ 0  1  2  3]\n [ 4  5  6  7]\n [ 8  9 10 11]]\n原始数组2：\n [0 1 2 3]\n数组相加的结果：\n [[ 0  2  4  6]\n [ 4  6  8 10]\n [ 8 10 12 14]]\n数组相乘的结果：\n [[ 0  1  4  9]\n [ 0  5 12 21]\n [ 0  9 20 33]]\n"
     ]
    }
   ],
   "source": [
    "arr = np.arange(12).reshape(3,4)\n",
    "arr1 = np.arange(4)\n",
    "print(\"原始数组1：\\n\", arr)\n",
    "print(\"原始数组2：\\n\", arr1)\n",
    "print(\"数组相加的结果：\\n\", arr + arr1)\n",
    "print(\"数组相乘的结果：\\n\", arr * arr1)"
   ]
  },
  {
   "cell_type": "code",
   "execution_count": 24,
   "metadata": {},
   "outputs": [
    {
     "output_type": "stream",
     "name": "stdout",
     "text": [
      "原始数组：\n [[ 0  1  2  3]\n [ 4  5  6  7]\n [ 8  9 10 11]]\n求平方：\n [[  0   1   4   9]\n [ 16  25  36  49]\n [ 64  81 100 121]]\n开根：\n [[0.         1.         1.41421356 1.73205081]\n [2.         2.23606798 2.44948974 2.64575131]\n [2.82842712 3.         3.16227766 3.31662479]]\n正弦函数：\n [[ 0.          0.84147098  0.90929743  0.14112001]\n [-0.7568025  -0.95892427 -0.2794155   0.6569866 ]\n [ 0.98935825  0.41211849 -0.54402111 -0.99999021]]\n"
     ]
    }
   ],
   "source": [
    "arr = np.arange(12).reshape(3,4)\n",
    "print(\"原始数组：\\n\", arr)\n",
    "print(\"求平方：\\n\", np.square(arr))\n",
    "print(\"开根：\\n\", np.sqrt(arr))\n",
    "print(\"正弦函数：\\n\", np.sin(arr))"
   ]
  },
  {
   "cell_type": "code",
   "execution_count": 30,
   "metadata": {},
   "outputs": [
    {
     "output_type": "stream",
     "name": "stdout",
     "text": [
      "数组1： [0 1 2 3]\n数组2： [2 3 4 5]\n不允许误差： False\n允许误差1： False\n允许误差2： True\n"
     ]
    }
   ],
   "source": [
    "arr = np.arange(4)\n",
    "arr1 = np.arange(2,6)\n",
    "print(\"数组1：\", arr)\n",
    "print(\"数组2：\", arr1)\n",
    "\n",
    "print(\"不允许误差：\", np.allclose(arr, arr1))\n",
    "print(\"允许误差1：\", np.allclose(arr, arr1, atol=1))\n",
    "print(\"允许误差2：\", np.allclose(arr, arr1, atol=2))\n"
   ]
  },
  {
   "cell_type": "code",
   "execution_count": 33,
   "metadata": {},
   "outputs": [
    {
     "output_type": "execute_result",
     "data": {
      "text/plain": [
       "array([ 94, 135,  92, 104, 149])"
      ]
     },
     "metadata": {},
     "execution_count": 33
    }
   ],
   "source": [
    "np.random.randint(90,150, 5)"
   ]
  },
  {
   "cell_type": "code",
   "execution_count": 35,
   "metadata": {},
   "outputs": [
    {
     "output_type": "stream",
     "name": "stdout",
     "text": [
      "小A百分制成绩 [66.66666667 81.33333333 82.         62.66666667 98.        ]\n小B百分制成绩 [62.66666667 80.         87.33333333 68.66666667 93.33333333]\n小A和小B水平是否接近： True\n"
     ]
    }
   ],
   "source": [
    "a = [100, 122, 123,  94, 147]\n",
    "b = [ 94, 120,  131, 103, 140]\n",
    "\n",
    "arr_a = np.array(a)\n",
    "arr_b = np.array(b)\n",
    "\n",
    "arr_a = arr_a * 100 / 150\n",
    "arr_b = arr_b * 100 / 150\n",
    "\n",
    "print(\"小A百分制成绩\", arr_a)\n",
    "print(\"小B百分制成绩\", arr_b)\n",
    "\n",
    "print(\"小A和小B水平是否接近：\", np.allclose(arr_a, arr_b, atol=10))"
   ]
  },
  {
   "cell_type": "code",
   "execution_count": null,
   "metadata": {},
   "outputs": [],
   "source": []
  }
 ]
}
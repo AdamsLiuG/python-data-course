{
 "metadata": {
  "language_info": {
   "codemirror_mode": {
    "name": "ipython",
    "version": 3
   },
   "file_extension": ".py",
   "mimetype": "text/x-python",
   "name": "python",
   "nbconvert_exporter": "python",
   "pygments_lexer": "ipython3",
   "version": "3.8.5-final"
  },
  "orig_nbformat": 2,
  "kernelspec": {
   "name": "python385jvsc74a57bd0c39885171911825c85dd2872b53a1f517ccf6205e737fb46b3c547492811485f",
   "display_name": "Python 3.8.5 64-bit (conda)"
  }
 },
 "nbformat": 4,
 "nbformat_minor": 2,
 "cells": [
  {
   "cell_type": "code",
   "execution_count": 2,
   "metadata": {
    "tags": []
   },
   "outputs": [
    {
     "output_type": "stream",
     "name": "stdout",
     "text": [
      "<!DOCTYPE html>\n<html dir=\"ltr\" lang=\"zh\">\n<head>\n<title>\n2021年03月23日 - 煎蛋\n</title>\n<meta name=\"keywords\" content=\"\"/>\n<meta name=\"description\" content=\"\"/>\n<meta http-equiv=\"Content-Type\" content=\"text/html; charset=UTF-8\"/>\n<meta http-equiv=\"X-UA-Compatible\" content=\"IE=edge\">\n<meta name=\"renderer\" content=\"webkit\">\n<meta http-equiv=\"Window-target\" Content=\"_top\">\n<meta name=\"baidu-site-verification\" content=\"9wC0PEtTmEqSNlOk\"/>\n<meta http-equiv=\"mobile-agent\" content=\"format=html5; url=//i.jandan.net/p/date/2021/03/23\">\n<meta name=\"robots\" content=\"index,nofollow\">\n<link rel=\"stylesheet\" href=\"//cdn.jandan.net/static/min/b1ac6f06f95ff8b640a85a2aa41e1ebe0M39H4r2.11111645.css\" type=\"text/css\" media=\"screen\"/>\n<link rel=\"apple-touch-icon\" href=\"//cdn.jandan.net/static/img/appicon.png\">\n<link rel=\"shortcut icon\" href=\"//cdn.jandan.net/static/img/favicon.ico\"/>\n<script>if (window != top)top.location.href = window.location.href;</script>\n<!--[if lt IE 9]>\n    <script src=\"//cdn.jandan.net/static/jquery/1.11.1/jquery.min.js\"></script>\n    <![endif]-->\n<!--[if gte IE 9]><!-->\n    <script src=\"//cdn.jandan.net/static/jquery/2.0.3/jquery.min.js\"></script>\n    <!--<![endif]-->\n<script src=\"//cdn.jandan.net/static/js/velocity-1.5.0.min.js\"></script>\n<script src=\"//cdn.jandan.net/static/js/jquery.lazyload.1.9.5.js\"></script>\n<script>\n\t\tvar $JANDAN = {\n            GO_API: false,\n\t\t\tIS_MOBILE : false,\n\t\t\tCOOKIE_HASH : '01b0531fab6a989460dd1b231010b496',\n\t\t\tSITE_URL : 'http://jandan.net',\n            API_URL : '//jandan.net'\n\t\t};\n        if (/(Android|iPhone|Windows Phone)/i.test(navigator.userAgent)) {\n            window.location = '//i.jandan.net' + window.location.pathname + window.location.hash;\n        }\n    </script>\n<script src=\"//cdn.jandan.net/static/min/27a66b4e3ae5db30f7b855ea882077b5tfF5lqNC.26111644.js\"></script>\n<script>\n        eval(function(p,a,c,k,e,r){e=function(c){return c.toString(a)};if(!''.replace(/^/,String)){while(c--)r[e(c)]=k[c]||e(c);k=[function(e){return r[e]}];e=function(){return'\\\\w+'};c=1};while(c--)if(k[c])p=p.replace(new RegExp('\\\\b'+e(c)+'\\\\b','g'),k[c]);return p}('(g(){1 d=[\"j\",\"a\",\"0\",\"d\",\"a\",\"0\",\".\",\"0\",\"e\",\"f\"];1 3=7 8(d.2(\\'\\')+\\'$\\');4(!3.9(b.c)){1 a=5.6.h;4(a==\\'/\\'){a=\\'\\'}5.6.i=\\'k://\\'+d.2(\\'\\')+\\'/\\'+a}})($l);',22,22,'n|var|join|r|if|window|location|new|RegExp|test||document|domain|||t|function|pathname|href||http|JANDAN'.split('|'),0,{}));\n    </script>\n</head>\n<body>\n<div id=\"wrapper\">\n<div id=\"header\">\n<div class=\"logo\">\n<h1><a href=\"/\" onclick=\"ga('send', 'pageview','/header/logo');\">煎蛋</a></h1>\n</div>\n<div class=\"break\"></div>\n<div class=\"nav\">\n<ul class=\"nav-items\">\n<li class=\"nav-item f\"><a href=\"/\" onfocus=\"blur()\" onclick=\"ga('send', 'pageview','/header/index');\" class=\"nav-link\">首页</a></li>\n<li class=\"nav-item\"><a class=\"nav-link\" href=\"/tao\" onfocus=\"blur()\" onclick=\"ga('send', 'pageview','/header/tao');\">带货</a></li>\n<li class=\"nav-item\"><a class=\"nav-link\" href=\"/qa\" onfocus=\"blur()\" onclick=\"ga('send', 'pageview','/header/qa');\">问答</a></li>\n<li class=\"nav-item\"><a class=\"nav-link\" href=\"/treehole\" onfocus=\"blur()\" onclick=\"ga('send', 'pageview','/header/treehole');\">树洞</a></li>\n<li class=\"nav-item\"><a class=\"nav-link\" href=\"/zoo\" onfocus=\"blur()\" onclick=\"ga('send', 'pageview','/header/zoo');\">动物园</a></li>\n<li class=\"nav-item\"><a class=\"nav-link\" href=\"/girl\" onfocus=\"blur()\" onclick=\"ga('send', 'pageview','/header/girl');\">女装</a></li>\n<li class=\"nav-item\"><a class=\"nav-link\" href=\"/ooxx\" onfocus=\"blur()\" onclick=\"ga('send', 'pageview','/header/ooxx');\">随手拍</a></li>\n<li class=\"nav-item\"><a class=\"nav-link\" href=\"/pic\" onfocus=\"blur()\" onclick=\"ga('send', 'pageview','/header/pic');\">无聊图</a></li>\n<li class=\"nav-item\"><a class=\"nav-link\" href=\"/top\" onfocus=\"blur()\" onclick=\"ga('send', 'pageview','/header/top');\">热榜</a></li>\n<li class=\"nav-item\"><a class=\"nav-link\" href=\"/dzh\" onfocus=\"blur()\" onclick=\"ga('send', 'pageview','/header/dzh');\">大杂烩</a></li>\n<li class=\"nav-item\" style=\"float:right;\"><a class=\"nav-link\" href=\"/pond\" onfocus=\"blur()\" onclick=\"ga('send', 'pageview','/header/pond');\">鱼塘</a></li>\n<li class=\"nav-item\" style=\"float:right;\"><a class=\"nav-link\" href=\"/zhoubian\" onfocus=\"blur()\" onclick=\"ga('send', 'pageview','/header/zhoubian');\">周边</a></li>\n</ul>\n<div class=\"break\"></div>\n</div>\n</div>\n<div id=\"body\">\n<div id=\"content\">\n<h3 class=\"title\">2021年03月23日</h3>\n<div class=\"post f list-post\">\n<div class=\"indexs\">\n<h2><a href=\"http://jandan.net/p/108688\" target=\"_blank\">大吐槽：「我没醉，醉的是世界」</a></h2>\n<div class=\"time_s\"><a href=\"http://jandan.net/p/author/sein\">sein</a> · <strong><a href=\"http://jandan.net/p/tag/%e5%a4%a7%e5%90%90%e6%a7%bd\" rel=\"tag\">大吐槽</a></strong></div>\nZSBD </div>\n</div>\n<div class=\"post f list-post\">\n<div class=\"indexs\">\n<h2><a href=\"http://jandan.net/p/108666\" target=\"_blank\">今年世界总发电量的0.6%被用于挖比特币</a></h2>\n<div class=\"time_s\"><a href=\"http://jandan.net/p/author/majer\">majer</a> · <strong><a href=\"http://jandan.net/p/tag/%e6%af%94%e7%89%b9%e5%b8%81\" rel=\"tag\">比特币</a></strong></div>\n比特币在上上周六创下了61742美元的历史峰值。 </div>\n</div>\n<div class=\"post f list-post\">\n<div class=\"indexs\">\n<h2><a href=\"http://jandan.net/p/108684\" target=\"_blank\">接种疫苗后还是感染新冠？不要为此惊讶</a></h2>\n<div class=\"time_s\"><a href=\"http://jandan.net/p/author/bali\">八里</a> · <strong><a href=\"http://jandan.net/p/tag/%e6%96%b0%e5%86%a0%e7%97%85%e6%af%92\" rel=\"tag\">新冠病毒</a></strong></div>\n这是任何疫苗接种过程中完全可以预期的一部分 </div>\n</div>\n<div class=\"post f list-post\">\n<div class=\"indexs\">\n<h2><a href=\"http://jandan.net/p/108683\" target=\"_blank\">今日带货：蛋友家的血橙</a></h2>\n<div class=\"time_s\"><a href=\"http://jandan.net/p/author/sein\">sein</a> · <strong><a href=\"http://jandan.net/p/tag/%e5%b8%a6%e8%b4%a7\" rel=\"tag\">带货</a></strong></div>\n口感不错 </div>\n</div>\n<div class=\"post f list-post\">\n<div class=\"indexs\">\n<h2><a href=\"http://jandan.net/p/108663\" target=\"_blank\">科学家首次在野外检测到抗多药的超级真菌</a></h2>\n<div class=\"time_s\"><a href=\"http://jandan.net/p/author/majer\">majer</a> · <strong><a href=\"http://jandan.net/p/tag/%e5%8c%bb%e5%ad%a6\" rel=\"tag\">医学</a></strong></div>\n医学微生物科学家现在还不知道可怕的耳念珠菌如何天降到各大洲的医院中 </div>\n</div>\n<script>\n\t$(\"img.lazy\").each(function () {\n\t\t$(this).lazyload({\n\t\t\teffect: \"fadeIn\"\n\t\t});\n\t});\n</script> <div class=\"wp-pagenavi\"><a href=\"/page/2\"> 更多文章 &gt;&gt; </a></div><span id=\"nav_prev\"><a href=\"/page/2\">&#8250;</a></span><span id=\"nav_next\"></span><span id=\"nav_prev\"></span>\n</div>\n<div id=\"sidebar\">\n<form action=\"https://www.so.com/s\" target=\"_blank\" id=\"cse-search-box\">\n<input type=\"text\" autocomplete=\"off\" name=\"q\" id=\"s\" value=\"\" placeholder=\"搜索\"></input>\n<button type=\"submit\" id=\"so360_submit\">Search</button>\n<input type=\"hidden\" name=\"ie\" value=\"utf8\">\n<input type=\"hidden\" name=\"src\" value=\"zz_jandan.net\">\n<input type=\"hidden\" name=\"site\" value=\"jandan.net\">\n<input type=\"hidden\" name=\"rg\" value=\"1\">\n</form>\n<ul>\n<script async src=\"//pagead2.googlesyndication.com/pagead/js/adsbygoogle.js\"></script>\n<ins class=\"adsbygoogle\" style=\"display:inline-block;width:300px;height:250px\" data-ad-client=\"ca-pub-5673546663729848\" data-ad-slot=\"1965170595/jandannet-sidebar-300x250\">\n</ins>\n<script>\n(adsbygoogle=window.adsbygoogle || []).push({});\n</script> </ul>\n<ul style=\"font-weight: lighter;\">\n<h3>公告栏</h3>\n1- 如何下载APP：在iOS或安卓市场里搜<strong>煎蛋</strong>；<br>\n2- 发图方法：iOS版APP已经可以直接传图；桌面端用网页传图可用<a href=\"http://jandan.net/t/4425191\" target=\"_blank\"><strong>浏览器传图扩展</strong></a>；微信小程序<strong>煎了个蛋</strong>已恢复传图功能；<br>\n3- 站内评论及吐槽皆为人工审核，如有违规内容请站内举报或邮件联系 sein@jandan.com。\n</ul>\n<div class=\"hot-list\">\n<ul class=\"hot-tabs\">\n<li id=\"tab-hotposts\" class=\"current\">一周热文</li>\n<li id=\"tab-hotcomments\">一周话题</li>\n<div class=\"break\"></div>\n</ul>\n<div class=\"host-list-split\"></div>\n<div class=\"hot-list-item hot-list-item-current\" id=\"list-hotposts\">\n<ol>\n<script>\n\t\tdocument.write(decodeURIComponent('%3Cli%3E%3Ca%20href%3D%22http%3A%2F%2Fjandan.net%2Fp%2F108747%22%20title%3D%227930%E6%AC%A1%E6%B5%8F%E8%A7%88%22%3E%E5%A4%A9%E7%BE%8E%E5%B9%B4%E6%94%B6%E5%85%A5%E7%99%BE%E4%BA%BF%E7%BE%8E%E5%85%83%EF%BC%8C%E6%88%90%E4%B8%BA%26%238221%3B%E5%85%A8%E7%90%83%E6%9C%80%E5%A4%A7%E7%9A%84%E6%B8%B8%E6%88%8F%E5%BC%80%E5%8F%91%E5%95%86%26%238221%3B%3C%2Fa%3E%3C%2Fli%3E%3Cli%3E%3Ca%20href%3D%22http%3A%2F%2Fjandan.net%2Fp%2F108751%22%20title%3D%227509%E6%AC%A1%E6%B5%8F%E8%A7%88%22%3EYouTuber%E5%AE%9E%E8%B7%B5%E5%87%BA%E7%9C%9F%E7%9F%A5%EF%BC%9A%E4%B8%8D%E5%81%9C%E5%87%BB%E6%89%93%E9%B8%A1%E8%82%89%EF%BC%8C%E5%8F%AF%E4%BB%A5%E6%8A%8A%E5%AE%83%E4%BB%AC%E5%8A%A0%E7%83%AD%E8%87%B3%E7%86%9F%E5%90%97%3C%2Fa%3E%3C%2Fli%3E%3Cli%3E%3Ca%20href%3D%22http%3A%2F%2Fjandan.net%2Fp%2F108741%22%20title%3D%225412%E6%AC%A1%E6%B5%8F%E8%A7%88%22%3E%E6%95%B0%E5%B9%B4%E5%89%8D%E6%8C%AA%E5%A8%81%E6%B5%B7%E5%9F%9F%E9%87%8C%E7%9A%84%E7%A5%9E%E7%A7%98%E6%9E%9C%E5%86%BB%E7%8A%B6%E7%90%83%E4%BD%93%E5%88%B0%E5%BA%95%E6%98%AF%E5%95%A5%3C%2Fa%3E%3C%2Fli%3E%3Cli%3E%3Ca%20href%3D%22http%3A%2F%2Fjandan.net%2Fp%2F108738%22%20title%3D%225228%E6%AC%A1%E6%B5%8F%E8%A7%88%22%3E%E6%95%B0%E5%AD%A6%E8%BF%9B%E5%B1%95%EF%BC%9A%E8%AE%A4%E8%AF%86%E4%B8%80%E4%B8%8B%E6%95%8F%E6%84%9F%E3%80%81%E8%84%86%E5%BC%B1%E7%9A%84%E7%89%B9%E6%AE%8A%E8%B4%A8%E6%95%B0%3C%2Fa%3E%3C%2Fli%3E%3Cli%3E%3Ca%20href%3D%22http%3A%2F%2Fjandan.net%2Fp%2F108743%22%20title%3D%224658%E6%AC%A1%E6%B5%8F%E8%A7%88%22%3ELinkedIn%EF%BC%9A%E7%BB%99%E5%85%A8%E4%BD%93%E5%91%98%E5%B7%A5%E4%B8%80%E5%91%A8%E5%B8%A6%E8%96%AA%E5%81%87%E6%9C%9F%3C%2Fa%3E%3C%2Fli%3E%3Cli%3E%3Ca%20href%3D%22http%3A%2F%2Fjandan.net%2Fp%2F108756%22%20title%3D%224164%E6%AC%A1%E6%B5%8F%E8%A7%88%22%3EONE%20COIN%EF%BC%9A17%E4%B8%96%E7%BA%AA%E7%9A%84%E6%B5%B7%E8%B4%BC%E7%8E%8B%E7%BB%88%E8%80%81%E4%BA%8E%E7%BE%8E%E5%9B%BD%EF%BC%9F%3C%2Fa%3E%3C%2Fli%3E%3Cli%3E%3Ca%20href%3D%22http%3A%2F%2Fjandan.net%2Fp%2F108758%22%20title%3D%223956%E6%AC%A1%E6%B5%8F%E8%A7%88%22%3E%E7%89%A9%E7%90%86%E5%AD%A6%E5%AE%B6%E6%89%BE%E5%88%B0%E4%BA%86%E4%B9%8B%E5%89%8D%E6%97%A0%E5%B7%A5%E8%B4%A8%E5%BC%95%E6%93%8E%E5%AE%9E%E9%AA%8C%E9%87%8C%E6%8E%A8%E5%8A%A8%E5%8A%9B%E7%9A%84%E6%9D%A5%E6%BA%90%3C%2Fa%3E%3C%2Fli%3E%3Cli%3E%3Ca%20href%3D%22http%3A%2F%2Fjandan.net%2Fp%2F108749%22%20title%3D%223720%E6%AC%A1%E6%B5%8F%E8%A7%88%22%3E%E4%BB%8A%E6%97%A5%E5%B8%A6%E8%B4%A7%20210405%3C%2Fa%3E%3C%2Fli%3E%3Cli%3E%3Ca%20href%3D%22http%3A%2F%2Fjandan.net%2Fp%2F108755%22%20title%3D%223655%E6%AC%A1%E6%B5%8F%E8%A7%88%22%3E%E4%BB%8A%E6%97%A5%E5%B8%A6%E8%B4%A7%EF%BC%9A%E4%BA%AC%E4%B8%9C%E5%A5%BD%E4%BB%B7%2B%E5%A4%A9%E7%8C%AB%E7%B2%BE%E9%80%89%3C%2Fa%3E%3C%2Fli%3E%3Cli%3E%3Ca%20href%3D%22http%3A%2F%2Fjandan.net%2Fp%2F108717%22%20title%3D%223629%E6%AC%A1%E6%B5%8F%E8%A7%88%22%3E%E5%B0%8F%E5%AD%A9%E5%96%9D%E5%92%96%E5%95%A1%E7%9C%9F%E4%BC%9A%E5%BD%B1%E5%93%8D%E5%8F%91%E8%82%B2%E9%95%BF%E4%B8%AA%E5%90%97%EF%BC%9F%3C%2Fa%3E%3C%2Fli%3E'));\n\t</script>\n</ol>\n</div>\n<div class=\"hot-list-item\" id=\"list-hotcomments\">\n<ol>\n<script>\n\t\tdocument.write(decodeURIComponent('%3Cli%3E%3Ca%20href%3D%22http%3A%2F%2Fjandan.net%2Fp%2F108763%22%3E%E4%BB%8A%E6%97%A5%E5%B8%A6%E8%B4%A7%EF%BC%9A%E7%BA%A2%E7%8E%AF%E8%87%AA%E5%8A%A8%E9%93%85%E7%AC%94%2B%E5%A4%A9%E7%8C%AB%E7%B2%BE%E9%80%89%3C%2Fa%3E%20%2031%E8%AF%84%E8%AE%BA%3C%2Fli%3E%3Cli%3E%3Ca%20href%3D%22http%3A%2F%2Fjandan.net%2Fp%2F108751%22%3EYouTuber%E5%AE%9E%E8%B7%B5%E5%87%BA%E7%9C%9F%E7%9F%A5%EF%BC%9A%E4%B8%8D%E5%81%9C%E5%87%BB%E6%89%93%E9%B8%A1%E8%82%89%EF%BC%8C%E5%8F%AF%E4%BB%A5%E6%8A%8A%E5%AE%83%E4%BB%AC%E5%8A%A0%E7%83%AD%E8%87%B3%E7%86%9F%E5%90%97%3C%2Fa%3E%20%2029%E8%AF%84%E8%AE%BA%3C%2Fli%3E%3Cli%3E%3Ca%20href%3D%22http%3A%2F%2Fjandan.net%2Fp%2F108742%22%3E%E8%84%91%E5%8A%9B%E5%B0%8F%E4%BD%93%E6%93%8D%EF%BC%9A%E7%AD%B9%E7%A0%81%E5%92%8C%E5%BA%95%E7%89%8C%EF%BC%8C%E5%93%AA%E4%B8%AA%E6%B6%88%E5%A4%B1%E5%BE%97%E6%9B%B4%E5%BF%AB%EF%BC%9F%3C%2Fa%3E%20%2027%E8%AF%84%E8%AE%BA%3C%2Fli%3E%3Cli%3E%3Ca%20href%3D%22http%3A%2F%2Fjandan.net%2Fp%2F108747%22%3E%E5%A4%A9%E7%BE%8E%E5%B9%B4%E6%94%B6%E5%85%A5%E7%99%BE%E4%BA%BF%E7%BE%8E%E5%85%83%EF%BC%8C%E6%88%90%E4%B8%BA%26%238221%3B%E5%85%A8%E7%90%83%E6%9C%80%E5%A4%A7%E7%9A%84%E6%B8%B8%E6%88%8F%E5%BC%80%E5%8F%91%E5%95%86%26%238221%3B%3C%2Fa%3E%20%2026%E8%AF%84%E8%AE%BA%3C%2Fli%3E%3Cli%3E%3Ca%20href%3D%22http%3A%2F%2Fjandan.net%2Fp%2F108756%22%3EONE%20COIN%EF%BC%9A17%E4%B8%96%E7%BA%AA%E7%9A%84%E6%B5%B7%E8%B4%BC%E7%8E%8B%E7%BB%88%E8%80%81%E4%BA%8E%E7%BE%8E%E5%9B%BD%EF%BC%9F%3C%2Fa%3E%20%2024%E8%AF%84%E8%AE%BA%3C%2Fli%3E%3Cli%3E%3Ca%20href%3D%22http%3A%2F%2Fjandan.net%2Fp%2F108758%22%3E%E7%89%A9%E7%90%86%E5%AD%A6%E5%AE%B6%E6%89%BE%E5%88%B0%E4%BA%86%E4%B9%8B%E5%89%8D%E6%97%A0%E5%B7%A5%E8%B4%A8%E5%BC%95%E6%93%8E%E5%AE%9E%E9%AA%8C%E9%87%8C%E6%8E%A8%E5%8A%A8%E5%8A%9B%E7%9A%84%E6%9D%A5%E6%BA%90%3C%2Fa%3E%20%2022%E8%AF%84%E8%AE%BA%3C%2Fli%3E%3Cli%3E%3Ca%20href%3D%22http%3A%2F%2Fjandan.net%2Fp%2F108743%22%3ELinkedIn%EF%BC%9A%E7%BB%99%E5%85%A8%E4%BD%93%E5%91%98%E5%B7%A5%E4%B8%80%E5%91%A8%E5%B8%A6%E8%96%AA%E5%81%87%E6%9C%9F%3C%2Fa%3E%20%2018%E8%AF%84%E8%AE%BA%3C%2Fli%3E%3Cli%3E%3Ca%20href%3D%22http%3A%2F%2Fjandan.net%2Fp%2F108717%22%3E%E5%B0%8F%E5%AD%A9%E5%96%9D%E5%92%96%E5%95%A1%E7%9C%9F%E4%BC%9A%E5%BD%B1%E5%93%8D%E5%8F%91%E8%82%B2%E9%95%BF%E4%B8%AA%E5%90%97%EF%BC%9F%3C%2Fa%3E%20%2017%E8%AF%84%E8%AE%BA%3C%2Fli%3E%3Cli%3E%3Ca%20href%3D%22http%3A%2F%2Fjandan.net%2Fp%2F108736%22%3E%E4%BB%8A%E6%97%A5%E5%90%83%E8%B4%A7%20210402%3C%2Fa%3E%20%2017%E8%AF%84%E8%AE%BA%3C%2Fli%3E%3Cli%3E%3Ca%20href%3D%22http%3A%2F%2Fjandan.net%2Fp%2F108734%22%3E%E5%B0%8F%E5%AD%A6%E5%A0%82%EF%BC%9A%E4%BB%8E%E7%94%9F%E6%97%A5%E6%82%96%E8%AE%BA%E5%88%B0%E2%80%9C%E8%83%BD%E8%8E%B7%E5%BE%97%E8%B5%A0%E7%A5%A8%E2%80%9D%E7%9A%84%E6%9C%80%E4%BD%B3%E4%BD%8D%E7%BD%AE%3C%2Fa%3E%20%2016%E8%AF%84%E8%AE%BA%3C%2Fli%3E'));\n\t</script>\n</ol>\n</div>\n</div>\n<div id=\"box\">\n<div id=\"float\" class=\"box\">\n<ul>\n<script async src=\"https://pagead2.googlesyndication.com/pagead/js/adsbygoogle.js\"></script>\n<ins class=\"adsbygoogle\" style=\"display:block\" data-ad-client=\"ca-pub-4352453996606420\" data-ad-slot=\"7001170194\" data-ad-format=\"auto\" data-full-width-responsive=\"true\"></ins>\n<script>\n     (adsbygoogle = window.adsbygoogle || []).push({});\n</script><span class=\"dot\" data-id=\"233\"></span> </ul>\n<ul>\n<script async src=\"//pagead2.googlesyndication.com/pagead/js/adsbygoogle.js\"></script>\n<ins class=\"adsbygoogle\" style=\"display:inline-block;width:300px;height:250px\" data-ad-client=\"ca-pub-4352453996606420\" data-ad-slot=\"9456096016\"></ins>\n<script>\n(adsbygoogle = window.adsbygoogle || []).push({});\n</script> </ul>\n</div>\n</div>\n<script>\n    (function($) {\n        function add_show_more() {\n            var $this = $(this);\n            var pHeight = 0;\n            $this.find('p').each(function () {\n                pHeight += $(this).height();\n            });\n            if (pHeight > $this.height()) {\n                var show_more = $this.find('.show_more');\n                if (show_more.length == 0) {\n                    $this.append('<div class=\"show_more\"> &DownTeeArrow;  展开</div>')\n                }\n            }\n        }\n\n        $('.hot-tabs li').click(function () {\n            var tab = this.id.split('-')[1];\n            var parent = $(this).parent();\n            parent.find('li').removeClass('current');\n            parent.parent().find('.hot-list-item').removeClass('hot-list-item-current');\n            $(this).addClass('current');\n            var list_tab = $('#list-' + tab);\n            list_tab.addClass('hot-list-item-current');\n            list_tab.find('.acv_comment').each(add_show_more);\n            list_tab.find('.gif-mask').each(function () {\n                var $this = $(this);\n                if ($this.height() > 0) {\n                    return;\n                }\n                $this.parent().css('position', 'relative');\n                var img = $this.prev();\n                var position = img.position();\n                $this.css({\n                    'height': img.height(),\n                    'width': img.width(),\n                    'line-height': img.height() + 'px',\n                    'left': position.left,\n                    'top': position.top\n                });\n            });\n        });\n        $(window).load(function () {\n            $('.acv_comment').click(function () {\n                var $this = $(this);\n                var show_more = $this.find('.show_more');\n                if (show_more.length == 0) {\n                    return;\n                }\n                if (!$this.hasClass('acv_comment_full_size')) {\n                    $this.addClass('acv_comment_full_size');\n                    show_more.html(' &UpTeeArrow; 收起');\n                } else {\n                    $this.removeClass('acv_comment_full_size');\n                    show_more.html(' &DownTeeArrow; 展开');\n                }\n            }).each(add_show_more);\n        });\n    })($);\n</script>\n<div class=\"break\"></div>\n</div>\n</div>\n<a id=\"nav_top\" style=\"cursor:pointer;\" title=\"回到页头\"><span>&#9650;</span></a>\n<div id=\"footer\">\n<a href=\"http://www.beian.miit.gov.cn/\" target=\"_blank\" rel=\"external nofollow\">鄂ICP备11008023号-1</a> · <a href=\"http://www.beian.gov.cn/portal/registerSystemInfo?recordcode=42018502002747\" target=\"_blank\" rel=\"external nofollow\">鄂公网安备42018502002747号</a>\n<br><a href=\"https://www.12377.cn/\">网信办违法和不良信息举报中心</a> · <a href=\"/jubao\">煎蛋举报中心</a>\n<br>举报电话 13125131232 · 举报邮箱 jubao@jandan.com\n</div>\n<script async src=\"https://www.googletagmanager.com/gtag/js?id=UA-462921-3\"></script>\n<script>\n  window.dataLayer = window.dataLayer || [];\n  function gtag(){dataLayer.push(arguments);}\n  gtag('js', new Date());\n\n  gtag('config', 'UA-462921-3');\n</script>\n</div>\n</body>\n</html>\n\n"
     ]
    }
   ],
   "source": [
    "# 导入 urllib3 模块的所有类与对象\n",
    "import urllib3\n",
    "\n",
    "# 将要下载的网址保存在 url 变量中，英文一般用 url 表示网址的意思\n",
    "url = \"http://jandan.net/p/date/2021/03/23\"\n",
    "\n",
    "# 创建一个 PoolManager 对象，命名为 http\n",
    "http = urllib3.PoolManager()\n",
    "\n",
    "# 调用 http 对象的 request 方法，第一个参数传一个字符串 \"GET\"\n",
    "# 第二个参数则是要下载的网址，也就是我们的 url 变量\n",
    "# request 方法会返回一个 HTTPResponse 类的对象，我们命名为 response\n",
    "response = http.request(\"GET\", url)\n",
    "\n",
    "# 获取 response 对象的 data 属性，存储在变量 response_data 中\n",
    "response_data = response.data\n",
    "\n",
    "# 调用 response_data 对象的 decode 方法，获得网页的内容，存储在 html_content \n",
    "# 变量中\n",
    "html_content = response_data.decode()\n",
    "\n",
    "# 打印 html_content\n",
    "print(html_content)"
   ]
  },
  {
   "cell_type": "code",
   "execution_count": 23,
   "metadata": {},
   "outputs": [],
   "source": [
    "fo = open(\"jiandan.html\",\"w\", encoding=\"utf-8\")\n",
    "fo.write(html_content)\n",
    "fo.close()"
   ]
  },
  {
   "cell_type": "code",
   "execution_count": 25,
   "metadata": {
    "tags": []
   },
   "outputs": [],
   "source": [
    "def download_content(url):\r\n",
    "    # 创建一个 PoolManager 对象，命名为 http\r\n",
    "    http = urllib3.PoolManager()\r\n",
    "\r\n",
    "    # 调用 http 对象的 request 方法，第一个参数传一个字符串 \"GET\"\r\n",
    "    # 第二个参数则是要下载的网址，也就是我们的 url 变量\r\n",
    "    # request 方法会返回一个 HTTPResponse 类的对象，我们命名为 response\r\n",
    "    response = http.request(\"GET\", url)\r\n",
    "\r\n",
    "    # 获取 response 对象的 data 属性，存储在变量 response_data 中\r\n",
    "    response_data = response.data\r\n",
    "\r\n",
    "    # 调用 response_data 对象的 decode 方法，获得网页的内容，存储在 html_content \r\n",
    "    # 变量中\r\n",
    "    html_content = response_data.decode()\r\n",
    "\r\n",
    "    return html_content\r\n",
    "\r\n",
    "def save_to_file(filename, content):\r\n",
    "    fo = open(filename,\"w\", encoding=\"utf-8\")\r\n",
    "    fo.write(content)\r\n",
    "    fo.close()\r\n",
    "\r\n",
    "url = \"http://jandan.net/\"\r\n",
    "html_content = download_content(url)\r\n",
    "save_to_file(\"jiandan.html\", html_content)\r\n",
    "\r\n"
   ]
  },
  {
   "cell_type": "code",
   "execution_count": null,
   "metadata": {},
   "outputs": [],
   "source": [
    "url = \"https://movie.douban.com/tv\"\n",
    "html_content = download_content(url)\n",
    "save_to_file(\"douban_tv.html\", html_content)"
   ]
  },
  {
   "cell_type": "code",
   "execution_count": 29,
   "metadata": {},
   "outputs": [],
   "source": [
    "from selenium import webdriver\n",
    "brow = webdriver.Chrome()\n",
    "brow.get(url)\n",
    "html_content = brow.page_source\n",
    "save_to_file(\"douban_tv1.html\", brow.page_source)"
   ]
  },
  {
   "cell_type": "code",
   "execution_count": 30,
   "metadata": {},
   "outputs": [],
   "source": [
    "for i in range(1, 6):\n",
    "    url = \"http://jiandan.net\"\n",
    "    if i > 1:\n",
    "        url = url + \"/page/\" + str(i)\n",
    "    html_content = download_content(url)\n",
    "    save_to_file(\"jiandan_\"+str(i) + \".html\", html_content)"
   ]
  },
  {
   "cell_type": "code",
   "execution_count": 1,
   "metadata": {},
   "outputs": [],
   "source": [
    "import bs4"
   ]
  },
  {
   "cell_type": "code",
   "execution_count": null,
   "metadata": {},
   "outputs": [],
   "source": []
  }
 ]
}
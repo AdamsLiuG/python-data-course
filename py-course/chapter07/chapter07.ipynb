{
 "metadata": {
  "language_info": {
   "codemirror_mode": {
    "name": "ipython",
    "version": 3
   },
   "file_extension": ".py",
   "mimetype": "text/x-python",
   "name": "python",
   "nbconvert_exporter": "python",
   "pygments_lexer": "ipython3",
   "version": "3.8.5-final"
  },
  "orig_nbformat": 2,
  "kernelspec": {
   "name": "python3",
   "display_name": "Python 3.8.5 64-bit (conda)",
   "metadata": {
    "interpreter": {
     "hash": "c39885171911825c85dd2872b53a1f517ccf6205e737fb46b3c547492811485f"
    }
   }
  }
 },
 "nbformat": 4,
 "nbformat_minor": 2,
 "cells": [
  {
   "cell_type": "code",
   "execution_count": 22,
   "metadata": {
    "tags": [
     "outputPrepend"
    ]
   },
   "outputs": [
    {
     "output_type": "stream",
     "name": "stdout",
     "text": [
      "referrer\">[查看原图]</a><br /><img src=\"//wx2.sinaimg.cn/mw600/0089jzyPly1gounica4sfj30o7140dpc.jpg\" referrerPolicy=\"no-referrer\" /></p>\n</div>\n<div class=\"jandan-vote\">\n<a title=\"圈圈/支持\" href=\"javascript:;\" class=\"comment-like like\" data-id=\"4860870\" data-type=\"pos\">OO</a> [<span>20</span>]\n<a title=\"叉叉/反对\" href=\"javascript:;\" class=\"comment-unlike unlike\" data-id=\"4860870\" data-type=\"neg\">XX</a> [<span>1</span>]\n</div>\n</div>\n</div>\n</ul>\n</div>\n<div class=\"hot-list-item\" id=\"list-girl\">\n<ul>\n<div class=\"hotcomment\">\n<div class=\"in\">\n<div class=\"acv_author\">暧昧 @ <a href=\"/top-girl#comment-4861150\">女装</a>\n</div>\n<div class=\"acv_comment\">\n<p><a href=\"//wx4.sinaimg.cn/large/005IYN5hly1gon75horocj320q2ozqv5.jpg\" target=\"_blank\" class=\"view_img_link\" referrerPolicy=\"no-referrer\">[查看原图]</a><br /><img src=\"//wx4.sinaimg.cn/mw600/005IYN5hly1gon75horocj320q2ozqv5.jpg\" referrerPolicy=\"no-referrer\" /></p>\n</div>\n<div class=\"jandan-vote\">\n<a title=\"圈圈/支持\" href=\"javascript:;\" class=\"comment-like like\" data-id=\"4861150\" data-type=\"pos\">OO</a> [<span>160</span>]\n<a title=\"叉叉/反对\" href=\"javascript:;\" class=\"comment-unlike unlike\" data-id=\"4861150\" data-type=\"neg\">XX</a> [<span>6</span>]\n</div>\n<div class=\"acv_author\">绒绒绒 @ <a href=\"/top-girl#comment-4861233\">女装</a>\n</div>\n<div class=\"acv_comment\">\n<p><a href=\"//wx4.sinaimg.cn/large/005Fip1Jly1gouy9nf6etj30hs0m8jt6.jpg\" target=\"_blank\" class=\"view_img_link\" referrerPolicy=\"no-referrer\">[查看原图]</a><br /><img src=\"//wx4.sinaimg.cn/mw600/005Fip1Jly1gouy9nf6etj30hs0m8jt6.jpg\" referrerPolicy=\"no-referrer\" /></p>\n</div>\n<div class=\"jandan-vote\">\n<a title=\"圈圈/支持\" href=\"javascript:;\" class=\"comment-like like\" data-id=\"4861233\" data-type=\"pos\">OO</a> [<span>123</span>]\n<a title=\"叉叉/反对\" href=\"javascript:;\" class=\"comment-unlike unlike\" data-id=\"4861233\" data-type=\"neg\">XX</a> [<span>2</span>]\n</div>\n<div class=\"acv_author\">嗷嗷嗷 @ <a href=\"/top-girl#comment-4861534\">女装</a>\n</div>\n<div class=\"acv_comment\">\n<p><a href=\"//tva4.sinaimg.cn/large/007kPYPnly1gou3w0y0mmj30iq0xajs9.jpg\" target=\"_blank\" class=\"view_img_link\" referrerPolicy=\"no-referrer\">[查看原图]</a><br /><img src=\"//tva4.sinaimg.cn/mw600/007kPYPnly1gou3w0y0mmj30iq0xajs9.jpg\" referrerPolicy=\"no-referrer\" /></p>\n</div>\n<div class=\"jandan-vote\">\n<a title=\"圈圈/支持\" href=\"javascript:;\" class=\"comment-like like\" data-id=\"4861534\" data-type=\"pos\">OO</a> [<span>50</span>]\n<a title=\"叉叉/反对\" href=\"javascript:;\" class=\"comment-unlike unlike\" data-id=\"4861534\" data-type=\"neg\">XX</a> [<span>2</span>]\n</div>\n<div class=\"acv_author\">来个C @ <a href=\"/top-girl#comment-4860888\">女装</a>\n</div>\n<div class=\"acv_comment\">\n<p><a href=\"//wx2.sinaimg.cn/large/0076BSS5ly1gouoa7pirmj30rw17i46v.jpg\" target=\"_blank\" class=\"view_img_link\" referrerPolicy=\"no-referrer\">[查看原图]</a><br /><img src=\"//wx2.sinaimg.cn/mw600/0076BSS5ly1gouoa7pirmj30rw17i46v.jpg\" referrerPolicy=\"no-referrer\" /></p>\n</div>\n<div class=\"jandan-vote\">\n<a title=\"圈圈/支持\" href=\"javascript:;\" class=\"comment-like like\" data-id=\"4860888\" data-type=\"pos\">OO</a> [<span>29</span>]\n<a title=\"叉叉/反对\" href=\"javascript:;\" class=\"comment-unlike unlike\" data-id=\"4860888\" data-type=\"neg\">XX</a> [<span>0</span>]\n</div>\n<div class=\"acv_author\">来个C @ <a href=\"/top-girl#comment-4861109\">女装</a>\n</div>\n<div class=\"acv_comment\">\n<p><a href=\"//wx3.sinaimg.cn/large/0076BSS5ly1goutzefn9ej30jg0ykq3u.jpg\" target=\"_blank\" class=\"view_img_link\" referrerPolicy=\"no-referrer\">[查看原图]</a><br /><img src=\"//wx3.sinaimg.cn/mw600/0076BSS5ly1goutzefn9ej30jg0ykq3u.jpg\" referrerPolicy=\"no-referrer\" /></p>\n</div>\n<div class=\"jandan-vote\">\n<a title=\"圈圈/支持\" href=\"javascript:;\" class=\"comment-like like\" data-id=\"4861109\" data-type=\"pos\">OO</a> [<span>20</span>]\n<a title=\"叉叉/反对\" href=\"javascript:;\" class=\"comment-unlike unlike\" data-id=\"4861109\" data-type=\"neg\">XX</a> [<span>2</span>]\n</div>\n<div class=\"acv_author\">知道 @ <a href=\"/top-girl#comment-4861657\">女装</a>\n</div>\n<div class=\"acv_comment\">\n<p><a href=\"//wx3.sinaimg.cn/large/0089jzyPgy1govb7v8ovdg307s0dux6q.gif\" target=\"_blank\" class=\"view_img_link\" referrerPolicy=\"no-referrer\">[查看原图]</a><br /><img src=\"//wx3.sinaimg.cn/thumb180/0089jzyPgy1govb7v8ovdg307s0dux6q.gif\" org_src=\"//wx3.sinaimg.cn/mw1024/0089jzyPgy1govb7v8ovdg307s0dux6q.gif\" onload=\"add_img_loading_mask(this, load_sina_gif);\" referrerPolicy=\"no-referrer\" /></p>\n</div>\n<div class=\"jandan-vote\">\n<a title=\"圈圈/支持\" href=\"javascript:;\" class=\"comment-like like\" data-id=\"4861657\" data-type=\"pos\">OO</a> [<span>19</span>]\n<a title=\"叉叉/反对\" href=\"javascript:;\" class=\"comment-unlike unlike\" data-id=\"4861657\" data-type=\"neg\">XX</a> [<span>3</span>]\n</div>\n<div class=\"acv_author\">流浪炼金术师 @ <a href=\"/top-girl#comment-4861385\">女装</a>\n</div>\n<div class=\"acv_comment\">\n<p><a href=\"//wx3.sinaimg.cn/large/007nYZs7ly1gcrz0i5knbj30n00hagtz.jpg\" target=\"_blank\" class=\"view_img_link\" referrerPolicy=\"no-referrer\">[查看原图]</a><br /><img src=\"//wx3.sinaimg.cn/mw600/007nYZs7ly1gcrz0i5knbj30n00hagtz.jpg\" referrerPolicy=\"no-referrer\" /></p>\n</div>\n<div class=\"jandan-vote\">\n<a title=\"圈圈/支持\" href=\"javascript:;\" class=\"comment-like like\" data-id=\"4861385\" data-type=\"pos\">OO</a> [<span>16</span>]\n<a title=\"叉叉/反对\" href=\"javascript:;\" class=\"comment-unlike unlike\" data-id=\"4861385\" data-type=\"neg\">XX</a> [<span>1</span>]\n</div>\n<div class=\"acv_author\">来个C @ <a href=\"/top-girl#comment-4861503\">女装</a>\n</div>\n<div class=\"acv_comment\">\n<p><a href=\"//wx4.sinaimg.cn/large/0076BSS5ly1gov7hyqez5j30hs0o6q6r.jpg\" target=\"_blank\" class=\"view_img_link\" referrerPolicy=\"no-referrer\">[查看原图]</a><br /><img src=\"//wx4.sinaimg.cn/mw600/0076BSS5ly1gov7hyqez5j30hs0o6q6r.jpg\" referrerPolicy=\"no-referrer\" /></p>\n</div>\n<div class=\"jandan-vote\">\n<a title=\"圈圈/支持\" href=\"javascript:;\" class=\"comment-like like\" data-id=\"4861503\" data-type=\"pos\">OO</a> [<span>15</span>]\n<a title=\"叉叉/反对\" href=\"javascript:;\" class=\"comment-unlike unlike\" data-id=\"4861503\" data-type=\"neg\">XX</a> [<span>2</span>]\n</div>\n<div class=\"acv_author\">凡尘俗世本无牵 @ <a href=\"/top-girl#comment-4861263\">女装</a>\n</div>\n<div class=\"acv_comment\">\n<p><a href=\"//wx4.sinaimg.cn/large/007jhPP0ly1gokxv514p4j318g271jzq.jpg\" target=\"_blank\" class=\"view_img_link\" referrerPolicy=\"no-referrer\">[查看原图]</a><br /><img src=\"//wx4.sinaimg.cn/mw600/007jhPP0ly1gokxv514p4j318g271jzq.jpg\" referrerPolicy=\"no-referrer\" /></p>\n</div>\n<div class=\"jandan-vote\">\n<a title=\"圈圈/支持\" href=\"javascript:;\" class=\"comment-like like\" data-id=\"4861263\" data-type=\"pos\">OO</a> [<span>14</span>]\n<a title=\"叉叉/反对\" href=\"javascript:;\" class=\"comment-unlike unlike\" data-id=\"4861263\" data-type=\"neg\">XX</a> [<span>1</span>]\n</div>\n<div class=\"acv_author\">来个C @ <a href=\"/top-girl#comment-4861285\">女装</a>\n</div>\n<div class=\"acv_comment\">\n<p><a href=\"//wx1.sinaimg.cn/large/0076BSS5ly1gov0dwyipdj30sg0j0405.jpg\" target=\"_blank\" class=\"view_img_link\" referrerPolicy=\"no-referrer\">[查看原图]</a><br /><img src=\"//wx1.sinaimg.cn/mw600/0076BSS5ly1gov0dwyipdj30sg0j0405.jpg\" referrerPolicy=\"no-referrer\" /></p>\n</div>\n<div class=\"jandan-vote\">\n<a title=\"圈圈/支持\" href=\"javascript:;\" class=\"comment-like like\" data-id=\"4861285\" data-type=\"pos\">OO</a> [<span>14</span>]\n<a title=\"叉叉/反对\" href=\"javascript:;\" class=\"comment-unlike unlike\" data-id=\"4861285\" data-type=\"neg\">XX</a> [<span>3</span>]\n</div>\n</div>\n</div>\n</ul>\n</div>\n<div class=\"hot-list-item\" id=\"list-comment\">\n<ul>\n<div class=\"hotcomment\">\n<div class=\"in\">\n<div class=\"acv_author\">你的疫苗 @ <a href=\"/top-comments#comment-4860410\">树洞</a>\n</div>\n<div class=\"acv_comment\">\n<p>我和我对象共同的朋友（姑娘）最近在我们的建议下放弃了买车的想法，转而订下了她人生中的第一套房子。<br />\n其实我们多少有些替她不值，处了几年的男朋友现在对她不冷不热，拖拖拉拉也不给个准信到底要不要结婚。姑娘29了性格外貌都很好，不知道为什么就非得拴在这么个人渣身上。<br />\n前段时间她男朋友买房，从选址到购房全部流程都没和姑娘商量半句，更别提合买以及加名字的事情了。其实姑娘手上有几十万存款，如果合买也没问题，只是男友既然这样做事她也明白他家是在筹划什么。<br />\n姑娘是那种非常聪慧的女孩，知道这些以后就开始筹划给自己在婚前置办一些财产。一开始是打算买车，后来我们劝她有套房而且有了房贷后虽然会累一点，但是婆家如果真是在筹划婚前买房婚后让姑娘一起还房贷这种事，至少姑娘自己买了房以后能有理由拒绝。而且以后如果真被婆家欺负，至少能有个属于自己的地方能够安身。<br />\n虽说待人接物不能将人心往坏处想，但毕竟防人之心不可无。其实姑娘男友家人如此行事本身没有问题，但是结合男友本身的行为就不得不让人多想几步。既然男友不能给自己安全感，那就自己努力给自己找个安全的角落吧。</p>\n</div>\n<div class=\"jandan-vote\">\n<a title=\"圈圈/支持\" href=\"javascript:;\" class=\"comment-like like\" data-id=\"4860410\" data-type=\"pos\">OO</a> [<span>268</span>]\n<a title=\"叉叉/反对\" href=\"javascript:;\" class=\"comment-unlike unlike\" data-id=\"4860410\" data-type=\"neg\">XX</a> [<span>20</span>]\n</div>\n<div class=\"acv_author\">开饭铃 @ <a href=\"/top-comments#comment-4860042\">树洞</a>\n</div>\n<div class=\"acv_comment\">\n<p>过年吃饭，我爸：菜挺好，儿子手艺不错，可惜人太少，四个人就好了。<br />\n我说：怎么的，你还要纳妾？</p>\n</div>\n<div class=\"jandan-vote\">\n<a title=\"圈圈/支持\" href=\"javascript:;\" class=\"comment-like like\" data-id=\"4860042\" data-type=\"pos\">OO</a> [<span>252</span>]\n<a title=\"叉叉/反对\" href=\"javascript:;\" class=\"comment-unlike unlike\" data-id=\"4860042\" data-type=\"neg\">XX</a> [<span>7</span>]\n</div>\n<div class=\"acv_author\">疼 @ <a href=\"/top-comments#comment-4860360\">树洞</a>\n</div>\n<div class=\"acv_comment\">\n<p>女朋友非要枕着我胳膊睡觉，我把胳膊伸过去正好揉到欧派，今天我问她还枕着胳膊睡吗，她说不了，枕着胳膊睡觉容易奈子疼</p>\n</div>\n<div class=\"jandan-vote\">\n<a title=\"圈圈/支持\" href=\"javascript:;\" class=\"comment-like like\" data-id=\"4860360\" data-type=\"pos\">OO</a> [<span>230</span>]\n<a title=\"叉叉/反对\" href=\"javascript:;\" class=\"comment-unlike unlike\" data-id=\"4860360\" data-type=\"neg\">XX</a> [<span>32</span>]\n</div>\n<div class=\"acv_author\">家里蹲敢死队 @ <a href=\"/top-comments#comment-4860163\">树洞</a>\n</div>\n<div class=\"acv_comment\">\n<p>前两天晚上做了一个梦，梦见买了一个奢侈品包包，大包，托特包那种，售货员小姐跟我说，你摸摸这个包，多细腻！醒来一看，在摸我老公的大肚子…</p>\n</div>\n<div class=\"jandan-vote\">\n<a title=\"圈圈/支持\" href=\"javascript:;\" class=\"comment-like like\" data-id=\"4860163\" data-type=\"pos\">OO</a> [<span>213</span>]\n<a title=\"叉叉/反对\" href=\"javascript:;\" class=\"comment-unlike unlike\" data-id=\"4860163\" data-type=\"neg\">XX</a> [<span>1</span>]\n</div>\n<div class=\"acv_author\">你的疫苗 @ <a href=\"/top-comments#comment-4860438\">树洞</a>\n</div>\n<div class=\"acv_comment\">\n<p>续一下姑娘的故事。<br />\n其实姑娘做到现在这一步不容易。22岁毕业来的这个城市，曾经和我对象还有另外一个姑娘三姐妹挤在一个套二的小出租屋内将近四五年，换过两三个工作但一直没什么起色，甚至一段时间做销售从入职到半年后辞职一天都没有休息。直到大概16年左右进了现在的公司。<br />\n现在公司也不大，总共一百人多一点。老板对姑娘很赏识，姑娘从一个小职员开始一步一步做到现在公司的三把手，工资也从一个月四五千涨到了如今的年薪二十多万，这两年才终于攒出了买房的资金。<br />\n姑娘并不是独生女，所以她爸妈也并不怎么重视她的工作，就是那种很传统的“女孩只要嫁人就行”的思想。因此姑娘从几年前开始向家里提出的买房的请求一直没有得到同意。17年的时候，听她说她甚至哀求她的父母借给她一点钱让她买房，她父母依然不同意。<br />\n直到这两年，她的事业蒸蒸日上，她父母才开始重视起她来，偶尔也会提出买房的事情，不过姑娘反而不想依靠父母的帮助了。去年年底，她觉得自己攒得差不多了，于是在过年回家的时候告诉她父母她打算买辆车，她父母才终于说出支持她买房的话语。只不过姑娘这时也堵着一口气，并没有接受父母的帮助。<br />\n我总觉得姑娘从毕业到现在虽说一路坎坷，但好在得到了应有的回报。至于“言情剧女主”，还是算了吧，她从来就不是那样柔弱的人。至少我是这么觉得的。</p>\n</div>\n<div class=\"jandan-vote\">\n<a title=\"圈圈/支持\" href=\"javascript:;\" class=\"comment-like like\" data-id=\"4860438\" data-type=\"pos\">OO</a> [<span>186</span>]\n<a title=\"叉叉/反对\" href=\"javascript:;\" class=\"comment-unlike unlike\" data-id=\"4860438\" data-type=\"neg\">XX</a> [<span>39</span>]\n</div>\n<div class=\"acv_author\">匿名 @ <a href=\"/top-comments#comment-4861267\">树洞</a>\n</div>\n<div class=\"acv_comment\">\n<p>今年四十一，谈了一个二十六的女朋友，。<br />\n今天确定她不能生孩子。<br />\n我现在心情复杂，一边替她难过，一边又很高兴，可以一直把她当闺女宠了。</p>\n</div>\n<div class=\"jandan-vote\">\n<a title=\"圈圈/支持\" href=\"javascript:;\" class=\"comment-like like\" data-id=\"4861267\" data-type=\"pos\">OO</a> [<span>182</span>]\n<a title=\"叉叉/反对\" href=\"javascript:;\" class=\"comment-unlike unlike\" data-id=\"4861267\" data-type=\"neg\">XX</a> [<span>35</span>]\n</div>\n<div class=\"acv_author\">匿名 @ <a href=\"/top-comments#comment-4860151\">树洞</a>\n</div>\n<div class=\"acv_comment\">\n<p>坐标热干面 退伍后继续读书（弟弟学校），同学年龄都比较小，发现身边能接触到的00后普遍都是同性恋、电子烟<br />\n电子烟就不说了，以前上学都抽烟，同性恋接受的程度越来越高了我能理解，把这个当荣耀、光荣，炫耀，我也是无语，🤢 就跟什么击剑梗一样，作为一个正常人，你想象一下你跟别的男人击剑不恶心吗？<br />\n我作为普通人也不能天天跟女孩子说啪啪啪吧？ 你说NMD击剑 是台面吗？<br />\n就树洞，可以杠，别喷</p>\n</div>\n<div class=\"jandan-vote\">\n<a title=\"圈圈/支持\" href=\"javascript:;\" class=\"comment-like like\" data-id=\"4860151\" data-type=\"pos\">OO</a> [<span>181</span>]\n<a title=\"叉叉/反对\" href=\"javascript:;\" class=\"comment-unlike unlike\" data-id=\"4860151\" data-type=\"neg\">XX</a> [<span>72</span>]\n</div>\n<div class=\"acv_author\">傲慢与偏见 @ <a href=\"/top-comments#comment-4860125\">树洞</a>\n</div>\n<div class=\"acv_comment\">\n<p>我是昨天说老板忽悠我们加班，他认为南方人比北方人爱加班、更努力的那个打工人。后来看了评论，有广东的蛋友说在他们那边非双休也很难找到人。看到这个评论我真的挺高兴。<br />\n我们公司之前一直双休，从去年年初开始老板亲自插手公司事务，看什么都想管，越过几个中层领导直接安排我们这些做事的人，因为他常年在外不知道公司情况，所以这样做的结果就是公司流程乱做一团。去年年初我的直属领导离职了，今年年初另一个领导也离职了，公司规模不大一共才三个领导，现在只剩下一个管销售的。去年年底，他觉得我们这一代人不够努力，硬把双休改成了单休，因为我涨了很多工资，所以没走。但应该有很多同事没涨，于是今年年初很多人提了离职。上周老板应该是顶不住压力了，又改回双休。但就在我们难得的休了一个双休之后，老板又给我们技术部开了个会（我们技术部工资较高），说了上面的那些话，想让我们技术部每周六来加班。加班费肯定是不要想，美其名曰：你们得努力啊……会后同事和我说，本来这周想给他推进的工作，既然只让我们单休，那就慢慢来吧。<br />\n我们这些90后是讲究效率的一代，而不是像老板那些上一代人一样盲目加班。对于绝大多数行业，五天8小时的工作制绝对要比996产出高。无论南北，都是一样。我相信等到我们90后掌握这个社会的时候，那时一定会是一个高效的时代。</p>\n</div>\n<div class=\"jandan-vote\">\n<a title=\"圈圈/支持\" href=\"javascript:;\" class=\"comment-like like\" data-id=\"4860125\" data-type=\"pos\">OO</a> [<span>180</span>]\n<a title=\"叉叉/反对\" href=\"javascript:;\" class=\"comment-unlike unlike\" data-id=\"4860125\" data-type=\"neg\">XX</a> [<span>19</span>]\n</div>\n<div class=\"acv_author\">不笑猫 @ <a href=\"/top-comments#comment-4860580\">树洞</a>\n</div>\n<div class=\"acv_comment\">\n<p>传言听听就算了。<br />\n高三听说文科班一个女生学习压力太大崩溃了，会半夜在公共厕所的便池里洗袜子，会躺床上指着挂衣服的衣架喊那里有人那里有人，会假装打电话给家里说中午不用带饭了。<br />\n当时听说后惊为天人，因为我高三一点压力没有还整天玩，晚自习时间还会去操场散步，非常佩服这种学习能把自己学疯的人。<br />\n这种敬佩之情一直持续到几年后，后来遇到一个文科班的女同学说起这事，才知道就是她们宿舍的，事是真的有，但是起因并不是学习压力大，而是女生喜欢班上一个男生，大家都鼓励她去表白，然而表白失败后女生接受不了现实……</p>\n</div>\n<div class=\"jandan-vote\">\n<a title=\"圈圈/支持\" href=\"javascript:;\" class=\"comment-like like\" data-id=\"4860580\" data-type=\"pos\">OO</a> [<span>179</span>]\n<a title=\"叉叉/反对\" href=\"javascript:;\" class=\"comment-unlike unlike\" data-id=\"4860580\" data-type=\"neg\">XX</a> [<span>7</span>]\n</div>\n<div class=\"acv_author\">脑子彻底瓦特了 @ <a href=\"/top-comments#comment-4859993\">今日带货：蛋友家的血橙</a>\n</div>\n<div class=\"acv_comment\">\n<p>讲真啊，这个价我不如楼下超市买</p>\n</div>\n<div class=\"jandan-vote\">\n<a title=\"圈圈/支持\" href=\"javascript:;\" class=\"comment-like like\" data-id=\"4859993\" data-type=\"pos\">OO</a> [<span>178</span>]\n<a title=\"叉叉/反对\" href=\"javascript:;\" class=\"comment-unlike unlike\" data-id=\"4859993\" data-type=\"neg\">XX</a> [<span>0</span>]\n</div>\n<div class=\"acv_author\">fengxinzi @ <a href=\"/top-comments#comment-4859953\">树洞</a>\n</div>\n<div class=\"acv_comment\">\n<p>看了一会树洞，直到看到了有位同志心脏不好。<br />\n我也是T波异常，熬夜加班久了的结果吧，不知道有没有人像我一样，设计院上班，晚上十二点回家是正常，第二天早上八点半打卡上班。<br />\n最近我一个同学猝死了，感慨人生无常，紧接着一个之前和我一起出过差的另一个设计院的同行也猝死了，上个礼拜又听到了一个设计院的同行猝死了。<br />\n其实网上大家关注的基本是互联网头部企业的行情，真正的基建类设计行业，这种事情也不少，只是基建类很少有人关注。<br />\n我也才三十出头，难道这就已经到了开始送走同龄人的阶段了么？希望有看到的同行们共同注意身体，可能加班无法避免，家里人也要养，但是一定要及时体检，有异常及时就医，常备速效救心丸，切记，切记。</p>\n</div>\n<div class=\"jandan-vote\">\n<a title=\"圈圈/支持\" href=\"javascript:;\" class=\"comment-like like\" data-id=\"4859953\" data-type=\"pos\">OO</a> [<span>174</span>]\n<a title=\"叉叉/反对\" href=\"javascript:;\" class=\"comment-unlike unlike\" data-id=\"4859953\" data-type=\"neg\">XX</a> [<span>3</span>]\n</div>\n<div class=\"acv_author\">++ @ <a href=\"/top-comments#comment-4860506\">树洞</a>\n</div>\n<div class=\"acv_comment\">\n<p>小的的时候不理解：爸妈为什么不能赚大钱当大Boss，毕竟那是一个满地都是机遇的改开年代，直到长大了才发现，父母成家立业，已经是他们最大的能力了<br />\n接受父母的平凡，是一种孩道</p>\n</div>\n<div class=\"jandan-vote\">\n<a title=\"圈圈/支持\" href=\"javascript:;\" class=\"comment-like like\" data-id=\"4860506\" data-type=\"pos\">OO</a> [<span>162</span>]\n<a title=\"叉叉/反对\" href=\"javascript:;\" class=\"comment-unlike unlike\" data-id=\"4860506\" data-type=\"neg\">XX</a> [<span>37</span>]\n</div>\n<div class=\"acv_author\">DZYZJ @ <a href=\"/top-comments#comment-4860016\">今日带货：蛋友家的血橙</a>\n</div>\n<div class=\"acv_comment\">\n<p>下期：<br />\n今日带货，蛋友家的情趣内衣</p>\n</div>\n<div class=\"jandan-vote\">\n<a title=\"圈圈/支持\" href=\"javascript:;\" class=\"comment-like like\" data-id=\"4860016\" data-type=\"pos\">OO</a> [<span>162</span>]\n<a title=\"叉叉/反对\" href=\"javascript:;\" class=\"comment-unlike unlike\" data-id=\"4860016\" data-type=\"neg\">XX</a> [<span>0</span>]\n</div>\n<div class=\"acv_author\">abcd @ <a href=\"/top-comments#comment-4860511\">树洞</a>\n</div>\n<div class=\"acv_comment\">\n<p>从开张到现在，两个月的时间，卤鸭脖的味道从特别正特别多汁，到味道淡硬邦邦。<br />\n我问老板，你这鸭脖喂不对了啊，老板笑嘻嘻的没理我，鸭脖还涨到十五一根。<br />\n我只能祝愿老板早日倒闭啦</p>\n</div>\n<div class=\"jandan-vote\">\n<a title=\"圈圈/支持\" href=\"javascript:;\" class=\"comment-like like\" data-id=\"4860511\" data-type=\"pos\">OO</a> [<span>155</span>]\n<a title=\"叉叉/反对\" href=\"javascript:;\" class=\"comment-unlike unlike\" data-id=\"4860511\" data-type=\"neg\">XX</a> [<span>6</span>]\n</div>\n<div class=\"acv_author\">olong @ <a href=\"/top-comments#comment-4859955\">问答</a>\n</div>\n<div class=\"acv_comment\">\n<p>我昨天在京东看到了片9399的3070，我拍下来了，然后思考了30分钟，取消了订单，感觉挣了1万块。兄弟们我做的对吗？</p>\n</div>\n<div class=\"jandan-vote\">\n<a title=\"圈圈/支持\" href=\"javascript:;\" class=\"comment-like like\" data-id=\"4859955\" data-type=\"pos\">OO</a> [<span>153</span>]\n<a title=\"叉叉/反对\" href=\"javascript:;\" class=\"comment-unlike unlike\" data-id=\"4859955\" data-type=\"neg\">XX</a> [<span>13</span>]\n</div>\n</div>\n</div>\n</ul>\n</div>\n</div>\n<ul>\n<script async src=\"https://pagead2.googlesyndication.com/pagead/js/adsbygoogle.js\"></script>\n<ins class=\"adsbygoogle\" style=\"display:block\" data-ad-client=\"ca-pub-4352453996606420\" data-ad-slot=\"7001170194\" data-ad-format=\"auto\" data-full-width-responsive=\"true\"></ins>\n<script>\n     (adsbygoogle = window.adsbygoogle || []).push({});\n</script><span class=\"dot\" data-id=\"233\"></span> </ul>\n<script>\n    (function($) {\n        function add_show_more() {\n            var $this = $(this);\n            var pHeight = 0;\n            $this.find('p').each(function () {\n                pHeight += $(this).height();\n            });\n            if (pHeight > $this.height()) {\n                var show_more = $this.find('.show_more');\n                if (show_more.length == 0) {\n                    $this.append('<div class=\"show_more\"> &DownTeeArrow;  展开</div>')\n                }\n            }\n        }\n\n        $('.hot-tabs li').click(function () {\n            var tab = this.id.split('-')[1];\n            var parent = $(this).parent();\n            parent.find('li').removeClass('current');\n            parent.parent().find('.hot-list-item').removeClass('hot-list-item-current');\n            $(this).addClass('current');\n            var list_tab = $('#list-' + tab);\n            list_tab.addClass('hot-list-item-current');\n            list_tab.find('.acv_comment').each(add_show_more);\n            list_tab.find('.gif-mask').each(function () {\n                var $this = $(this);\n                if ($this.height() > 0) {\n                    return;\n                }\n                $this.parent().css('position', 'relative');\n                var img = $this.prev();\n                var position = img.position();\n                $this.css({\n                    'height': img.height(),\n                    'width': img.width(),\n                    'line-height': img.height() + 'px',\n                    'left': position.left,\n                    'top': position.top\n                });\n            });\n        });\n        $(window).load(function () {\n            $('.acv_comment').click(function () {\n                var $this = $(this);\n                var show_more = $this.find('.show_more');\n                if (show_more.length == 0) {\n                    return;\n                }\n                if (!$this.hasClass('acv_comment_full_size')) {\n                    $this.addClass('acv_comment_full_size');\n                    show_more.html(' &UpTeeArrow; 收起');\n                } else {\n                    $this.removeClass('acv_comment_full_size');\n                    show_more.html(' &DownTeeArrow; 展开');\n                }\n            }).each(add_show_more);\n        });\n    })($);\n</script>\n<div class=\"break\"></div>\n</div>\n</div>\n<a id=\"nav_top\" style=\"cursor:pointer;\" title=\"回到页头\"><span>&#9650;</span></a>\n<div id=\"footer\">\n<a href=\"http://www.beian.miit.gov.cn/\" target=\"_blank\" rel=\"external nofollow\">鄂ICP备11008023号-1</a> · <a href=\"http://www.beian.gov.cn/portal/registerSystemInfo?recordcode=42018502002747\" target=\"_blank\" rel=\"external nofollow\">鄂公网安备42018502002747号</a>\n<br><a href=\"https://www.12377.cn/\">网信办违法和不良信息举报中心</a> · <a href=\"/jubao\">煎蛋举报中心</a>\n<br>举报电话 13125131232 · 举报邮箱 jubao@jandan.com\n</div>\n<script async src=\"https://www.googletagmanager.com/gtag/js?id=UA-462921-3\"></script>\n<script>\n  window.dataLayer = window.dataLayer || [];\n  function gtag(){dataLayer.push(arguments);}\n  gtag('js', new Date());\n\n  gtag('config', 'UA-462921-3');\n</script>\n</div>\n</body>\n</html>\n\n"
     ]
    }
   ],
   "source": [
    "# 导入 urllib3 模块的所有类与对象\n",
    "import urllib3\n",
    "\n",
    "# 将要下载的网址保存在 url 变量中，英文一般用 url 表示网址的意思\n",
    "url = \"http://jandan.net/\"\n",
    "\n",
    "# 创建一个 PoolManager 对象，命名为 http\n",
    "http = urllib3.PoolManager()\n",
    "\n",
    "# 调用 http 对象的 request 方法，第一个参数传一个字符串 \"GET\"\n",
    "# 第二个参数则是要下载的网址，也就是我们的 url 变量\n",
    "# request 方法会返回一个 HTTPResponse 类的对象，我们命名为 response\n",
    "response = http.request(\"GET\", url)\n",
    "\n",
    "# 获取 response 对象的 data 属性，存储在变量 response_data 中\n",
    "response_data = response.data\n",
    "\n",
    "# 调用 response_data 对象的 decode 方法，获得网页的内容，存储在 html_content \n",
    "# 变量中\n",
    "html_content = response_data.decode()\n",
    "\n",
    "# 打印 html_content\n",
    "print(html_content)"
   ]
  },
  {
   "cell_type": "code",
   "execution_count": 23,
   "metadata": {},
   "outputs": [],
   "source": [
    "fo = open(\"jiandan.html\",\"w\", encoding=\"utf-8\")\n",
    "fo.write(html_content)\n",
    "fo.close()"
   ]
  },
  {
   "cell_type": "code",
   "execution_count": 25,
   "metadata": {
    "tags": []
   },
   "outputs": [],
   "source": [
    "def download_content(url):\r\n",
    "    # 创建一个 PoolManager 对象，命名为 http\r\n",
    "    http = urllib3.PoolManager()\r\n",
    "\r\n",
    "    # 调用 http 对象的 request 方法，第一个参数传一个字符串 \"GET\"\r\n",
    "    # 第二个参数则是要下载的网址，也就是我们的 url 变量\r\n",
    "    # request 方法会返回一个 HTTPResponse 类的对象，我们命名为 response\r\n",
    "    response = http.request(\"GET\", url)\r\n",
    "\r\n",
    "    # 获取 response 对象的 data 属性，存储在变量 response_data 中\r\n",
    "    response_data = response.data\r\n",
    "\r\n",
    "    # 调用 response_data 对象的 decode 方法，获得网页的内容，存储在 html_content \r\n",
    "    # 变量中\r\n",
    "    html_content = response_data.decode()\r\n",
    "\r\n",
    "    return html_content\r\n",
    "\r\n",
    "def save_to_file(filename, content):\r\n",
    "    fo = open(filename,\"w\", encoding=\"utf-8\")\r\n",
    "    fo.write(content)\r\n",
    "    fo.close()\r\n",
    "\r\n",
    "url = \"http://jandan.net/\"\r\n",
    "html_content = download_content(url)\r\n",
    "save_to_file(\"jiandan.html\", html_content)\r\n",
    "\r\n"
   ]
  },
  {
   "cell_type": "code",
   "execution_count": null,
   "metadata": {},
   "outputs": [],
   "source": [
    "url = \"https://movie.douban.com/tv\"\n",
    "html_content = download_content(url)\n",
    "save_to_file(\"douban_tv.html\", html_content)"
   ]
  },
  {
   "cell_type": "code",
   "execution_count": 29,
   "metadata": {},
   "outputs": [],
   "source": [
    "from selenium import webdriver\n",
    "brow = webdriver.Chrome()\n",
    "brow.get(url)\n",
    "html_content = brow.page_source\n",
    "save_to_file(\"douban_tv1.html\", brow.page_source)"
   ]
  },
  {
   "cell_type": "code",
   "execution_count": 30,
   "metadata": {},
   "outputs": [],
   "source": [
    "for i in range(1, 6):\n",
    "    url = \"http://jiandan.net\"\n",
    "    if i > 1:\n",
    "        url = url + \"/page/\" + str(i)\n",
    "    html_content = download_content(url)\n",
    "    save_to_file(\"jiandan_\"+str(i) + \".html\", html_content)"
   ]
  },
  {
   "cell_type": "code",
   "execution_count": 1,
   "metadata": {},
   "outputs": [],
   "source": [
    "import bs4"
   ]
  },
  {
   "cell_type": "code",
   "execution_count": null,
   "metadata": {},
   "outputs": [],
   "source": []
  }
 ]
}
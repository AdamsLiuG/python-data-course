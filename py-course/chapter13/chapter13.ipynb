{
 "metadata": {
  "language_info": {
   "codemirror_mode": {
    "name": "ipython",
    "version": 3
   },
   "file_extension": ".py",
   "mimetype": "text/x-python",
   "name": "python",
   "nbconvert_exporter": "python",
   "pygments_lexer": "ipython3",
   "version": "3.8.5"
  },
  "orig_nbformat": 2,
  "kernelspec": {
   "name": "python385jvsc74a57bd0c39885171911825c85dd2872b53a1f517ccf6205e737fb46b3c547492811485f",
   "display_name": "Python 3.8.5 64-bit ('appri': virtualenv)"
  }
 },
 "nbformat": 4,
 "nbformat_minor": 2,
 "cells": [
  {
   "cell_type": "code",
   "execution_count": 32,
   "metadata": {},
   "outputs": [
    {
     "output_type": "execute_result",
     "data": {
      "text/plain": [
       "   姓名  年龄  籍贯   部门\n",
       "0  小明  22  河北  IT部\n",
       "1  小亮  25  广东  IT部\n",
       "2  小E  23  四川  财务部"
      ],
      "text/html": "<div>\n<style scoped>\n    .dataframe tbody tr th:only-of-type {\n        vertical-align: middle;\n    }\n\n    .dataframe tbody tr th {\n        vertical-align: top;\n    }\n\n    .dataframe thead th {\n        text-align: right;\n    }\n</style>\n<table border=\"1\" class=\"dataframe\">\n  <thead>\n    <tr style=\"text-align: right;\">\n      <th></th>\n      <th>姓名</th>\n      <th>年龄</th>\n      <th>籍贯</th>\n      <th>部门</th>\n    </tr>\n  </thead>\n  <tbody>\n    <tr>\n      <th>0</th>\n      <td>小明</td>\n      <td>22</td>\n      <td>河北</td>\n      <td>IT部</td>\n    </tr>\n    <tr>\n      <th>1</th>\n      <td>小亮</td>\n      <td>25</td>\n      <td>广东</td>\n      <td>IT部</td>\n    </tr>\n    <tr>\n      <th>2</th>\n      <td>小E</td>\n      <td>23</td>\n      <td>四川</td>\n      <td>财务部</td>\n    </tr>\n  </tbody>\n</table>\n</div>"
     },
     "metadata": {},
     "execution_count": 32
    }
   ],
   "source": [
    "import pandas as pd\n",
    "\n",
    "# 将列索引保存在 index_arr 变量中\n",
    "index_arr = [\"姓名\", \"年龄\", \"籍贯\", \"部门\"]\n",
    "\n",
    "# 构建小明、小亮、小E的行 Series，并使用我们创建好的 index_arr 作为 Series 的index\n",
    "ser_xiaoming = pd.Series([\"小明\", 22, \"河北\",\"IT部\"], index= index_arr)\n",
    "ser_xiaoliang = pd.Series([\"小亮\", 25, \"广东\",\"IT部\"], index = index_arr)\n",
    "ser_xiaoe = pd.Series([\"小E\", 23, \"四川\",\"财务部\"], index=  index_arr)\n",
    "\n",
    "# 直接将三个 Series 以列表的形式作为 DataFrame 的参数，创建 DataFrame\n",
    "df_info = pd.DataFrame([ser_xiaoming, ser_xiaoliang, ser_xiaoe])\n",
    "\n",
    "# 使用 notebook 打印 DataFrame\n",
    "df_info"
   ]
  },
  {
   "cell_type": "code",
   "execution_count": 7,
   "metadata": {},
   "outputs": [
    {
     "output_type": "stream",
     "name": "stdout",
     "text": [
      "<class 'pandas.core.series.Series'>\n0    小明\n1    小亮\n2    小E\nName: 姓名, dtype: object\n"
     ]
    }
   ],
   "source": [
    "# 对 DataFrame 使用 [] ，返回列名= 传入的索引值的 Series\n",
    "ser_name = df_info[\"姓名\"]\n",
    "\n",
    "# 打印 ser_name 变量的类型\n",
    "print(type(ser_name))\n",
    "\n",
    "# 打印 ser_name 的内容\n",
    "print(ser_name)"
   ]
  },
  {
   "cell_type": "code",
   "execution_count": 8,
   "metadata": {},
   "outputs": [
    {
     "output_type": "stream",
     "name": "stdout",
     "text": [
      "小亮\n"
     ]
    }
   ],
   "source": [
    "# 对上一步获取的 Series 对象：ser_name 使用 [] 索引器\n",
    "# 传入索引 1 \n",
    "result = ser_name[1]\n",
    "\n",
    "# 打印拿到的结果\n",
    "print(result)"
   ]
  },
  {
   "cell_type": "code",
   "execution_count": 15,
   "metadata": {},
   "outputs": [
    {
     "output_type": "stream",
     "name": "stdout",
     "text": [
      "<class 'pandas.core.frame.DataFrame'>\n   姓名  年龄\n0  小明  22\n1  小亮  25\n2  小E  23\n"
     ]
    }
   ],
   "source": [
    "# 传入一个索引列表，包含两个索引项：“姓名”，“年龄”\n",
    "sub_df_info = df_info[[\"姓名\", \"年龄\"]]\n",
    "\n",
    "# 打印获取到的 sub_df_info 的类型\n",
    "print(type(sub_df_info))\n",
    "\n",
    "# 打印获取到的 sub_df_info 的数据\n",
    "print(sub_df_info)"
   ]
  },
  {
   "cell_type": "code",
   "execution_count": 16,
   "metadata": {},
   "outputs": [
    {
     "output_type": "stream",
     "name": "stdout",
     "text": [
      "<class 'pandas.core.series.Series'>\n0    小明\n2    小E\nName: 姓名, dtype: object\n"
     ]
    }
   ],
   "source": [
    "# 传入索引列表 [0, 2] 给 Series，并将结果保存在变量 sub_ser_name 中\n",
    "sub_ser_name = ser_name[[0,2]]\n",
    "\n",
    "# 打印出 sub_ser_name 的类型\n",
    "print(type(sub_ser_name))\n",
    "\n",
    "# 打印出 sub_ser_name 中的内容\n",
    "print(sub_ser_name)"
   ]
  },
  {
   "cell_type": "code",
   "execution_count": 22,
   "metadata": {},
   "outputs": [
    {
     "output_type": "execute_result",
     "data": {
      "text/plain": [
       "0    小明\n",
       "Name: 姓名, dtype: object"
      ]
     },
     "metadata": {},
     "execution_count": 22
    }
   ],
   "source": [
    "ser_name[::3]"
   ]
  },
  {
   "cell_type": "code",
   "execution_count": 33,
   "metadata": {},
   "outputs": [
    {
     "output_type": "execute_result",
     "data": {
      "text/plain": [
       "   姓名  年龄  籍贯   部门\n",
       "0  小明  22  河北  IT部\n",
       "1  小亮  25  广东  IT部\n",
       "2  小E  23  四川  财务部\n",
       "3  小李  22  云南  设计部\n",
       "4  小王  20  福建  设计部"
      ],
      "text/html": "<div>\n<style scoped>\n    .dataframe tbody tr th:only-of-type {\n        vertical-align: middle;\n    }\n\n    .dataframe tbody tr th {\n        vertical-align: top;\n    }\n\n    .dataframe thead th {\n        text-align: right;\n    }\n</style>\n<table border=\"1\" class=\"dataframe\">\n  <thead>\n    <tr style=\"text-align: right;\">\n      <th></th>\n      <th>姓名</th>\n      <th>年龄</th>\n      <th>籍贯</th>\n      <th>部门</th>\n    </tr>\n  </thead>\n  <tbody>\n    <tr>\n      <th>0</th>\n      <td>小明</td>\n      <td>22</td>\n      <td>河北</td>\n      <td>IT部</td>\n    </tr>\n    <tr>\n      <th>1</th>\n      <td>小亮</td>\n      <td>25</td>\n      <td>广东</td>\n      <td>IT部</td>\n    </tr>\n    <tr>\n      <th>2</th>\n      <td>小E</td>\n      <td>23</td>\n      <td>四川</td>\n      <td>财务部</td>\n    </tr>\n    <tr>\n      <th>3</th>\n      <td>小李</td>\n      <td>22</td>\n      <td>云南</td>\n      <td>设计部</td>\n    </tr>\n    <tr>\n      <th>4</th>\n      <td>小王</td>\n      <td>20</td>\n      <td>福建</td>\n      <td>设计部</td>\n    </tr>\n  </tbody>\n</table>\n</div>"
     },
     "metadata": {},
     "execution_count": 33
    }
   ],
   "source": [
    "# 创建小王和小李的 Series\n",
    "ser_xiaoli = pd.Series([\"小李\", 22, \"云南\",\"设计部\"], index=  index_arr)\n",
    "ser_xiaowang = pd.Series([\"小王\", 20, \"福建\",\"设计部\"], index=  index_arr)\n",
    "\n",
    "# 将 Series 添加到 DataFrame 中\n",
    "df_info = df_info.append(ser_xiaoli, ignore_index= True)\n",
    "df_info = df_info.append(ser_xiaowang, ignore_index= True)\n",
    "\n",
    "# 查看添加之后的 DataFrame\n",
    "df_info"
   ]
  },
  {
   "cell_type": "code",
   "execution_count": 41,
   "metadata": {},
   "outputs": [
    {
     "output_type": "execute_result",
     "data": {
      "text/plain": [
       "   姓名  年龄  籍贯   部门\n",
       "2  小E  23  四川  财务部\n",
       "3  小李  22  云南  设计部"
      ],
      "text/html": "<div>\n<style scoped>\n    .dataframe tbody tr th:only-of-type {\n        vertical-align: middle;\n    }\n\n    .dataframe tbody tr th {\n        vertical-align: top;\n    }\n\n    .dataframe thead th {\n        text-align: right;\n    }\n</style>\n<table border=\"1\" class=\"dataframe\">\n  <thead>\n    <tr style=\"text-align: right;\">\n      <th></th>\n      <th>姓名</th>\n      <th>年龄</th>\n      <th>籍贯</th>\n      <th>部门</th>\n    </tr>\n  </thead>\n  <tbody>\n    <tr>\n      <th>2</th>\n      <td>小E</td>\n      <td>23</td>\n      <td>四川</td>\n      <td>财务部</td>\n    </tr>\n    <tr>\n      <th>3</th>\n      <td>小李</td>\n      <td>22</td>\n      <td>云南</td>\n      <td>设计部</td>\n    </tr>\n  </tbody>\n</table>\n</div>"
     },
     "metadata": {},
     "execution_count": 41
    }
   ],
   "source": [
    "# 取第 2 到 4 条，不包含4， 也就是第 2、第 3 条记录\n",
    "df_info[2:4]"
   ]
  },
  {
   "cell_type": "code",
   "execution_count": 42,
   "metadata": {},
   "outputs": [
    {
     "output_type": "execute_result",
     "data": {
      "text/plain": [
       "   姓名  年龄  籍贯   部门\n",
       "0  小明  22  河北  IT部\n",
       "1  小亮  25  广东  IT部"
      ],
      "text/html": "<div>\n<style scoped>\n    .dataframe tbody tr th:only-of-type {\n        vertical-align: middle;\n    }\n\n    .dataframe tbody tr th {\n        vertical-align: top;\n    }\n\n    .dataframe thead th {\n        text-align: right;\n    }\n</style>\n<table border=\"1\" class=\"dataframe\">\n  <thead>\n    <tr style=\"text-align: right;\">\n      <th></th>\n      <th>姓名</th>\n      <th>年龄</th>\n      <th>籍贯</th>\n      <th>部门</th>\n    </tr>\n  </thead>\n  <tbody>\n    <tr>\n      <th>0</th>\n      <td>小明</td>\n      <td>22</td>\n      <td>河北</td>\n      <td>IT部</td>\n    </tr>\n    <tr>\n      <th>1</th>\n      <td>小亮</td>\n      <td>25</td>\n      <td>广东</td>\n      <td>IT部</td>\n    </tr>\n  </tbody>\n</table>\n</div>"
     },
     "metadata": {},
     "execution_count": 42
    }
   ],
   "source": [
    "# 取前 2条记录\n",
    "df_info[:2]"
   ]
  },
  {
   "cell_type": "code",
   "execution_count": 44,
   "metadata": {},
   "outputs": [
    {
     "output_type": "execute_result",
     "data": {
      "text/plain": [
       "   姓名  年龄  籍贯   部门\n",
       "0  小明  22  河北  IT部\n",
       "2  小E  23  四川  财务部\n",
       "4  小王  20  福建  设计部"
      ],
      "text/html": "<div>\n<style scoped>\n    .dataframe tbody tr th:only-of-type {\n        vertical-align: middle;\n    }\n\n    .dataframe tbody tr th {\n        vertical-align: top;\n    }\n\n    .dataframe thead th {\n        text-align: right;\n    }\n</style>\n<table border=\"1\" class=\"dataframe\">\n  <thead>\n    <tr style=\"text-align: right;\">\n      <th></th>\n      <th>姓名</th>\n      <th>年龄</th>\n      <th>籍贯</th>\n      <th>部门</th>\n    </tr>\n  </thead>\n  <tbody>\n    <tr>\n      <th>0</th>\n      <td>小明</td>\n      <td>22</td>\n      <td>河北</td>\n      <td>IT部</td>\n    </tr>\n    <tr>\n      <th>2</th>\n      <td>小E</td>\n      <td>23</td>\n      <td>四川</td>\n      <td>财务部</td>\n    </tr>\n    <tr>\n      <th>4</th>\n      <td>小王</td>\n      <td>20</td>\n      <td>福建</td>\n      <td>设计部</td>\n    </tr>\n  </tbody>\n</table>\n</div>"
     },
     "metadata": {},
     "execution_count": 44
    }
   ],
   "source": [
    "# 每取一次跳过 2 个\n",
    "df_info[::2]"
   ]
  },
  {
   "cell_type": "code",
   "execution_count": 45,
   "metadata": {},
   "outputs": [
    {
     "output_type": "execute_result",
     "data": {
      "text/plain": [
       "   姓名  年龄  籍贯   部门\n",
       "0  小明  22  河北  IT部\n",
       "1  小亮  25  广东  IT部\n",
       "2  小E  23  四川  财务部\n",
       "3  小李  22  云南  设计部\n",
       "4  小王  20  福建  设计部"
      ],
      "text/html": "<div>\n<style scoped>\n    .dataframe tbody tr th:only-of-type {\n        vertical-align: middle;\n    }\n\n    .dataframe tbody tr th {\n        vertical-align: top;\n    }\n\n    .dataframe thead th {\n        text-align: right;\n    }\n</style>\n<table border=\"1\" class=\"dataframe\">\n  <thead>\n    <tr style=\"text-align: right;\">\n      <th></th>\n      <th>姓名</th>\n      <th>年龄</th>\n      <th>籍贯</th>\n      <th>部门</th>\n    </tr>\n  </thead>\n  <tbody>\n    <tr>\n      <th>0</th>\n      <td>小明</td>\n      <td>22</td>\n      <td>河北</td>\n      <td>IT部</td>\n    </tr>\n    <tr>\n      <th>1</th>\n      <td>小亮</td>\n      <td>25</td>\n      <td>广东</td>\n      <td>IT部</td>\n    </tr>\n    <tr>\n      <th>2</th>\n      <td>小E</td>\n      <td>23</td>\n      <td>四川</td>\n      <td>财务部</td>\n    </tr>\n    <tr>\n      <th>3</th>\n      <td>小李</td>\n      <td>22</td>\n      <td>云南</td>\n      <td>设计部</td>\n    </tr>\n    <tr>\n      <th>4</th>\n      <td>小王</td>\n      <td>20</td>\n      <td>福建</td>\n      <td>设计部</td>\n    </tr>\n  </tbody>\n</table>\n</div>"
     },
     "metadata": {},
     "execution_count": 45
    }
   ],
   "source": [
    "# 每取一次跳过1个\n",
    "df_info[::1]"
   ]
  },
  {
   "cell_type": "code",
   "execution_count": 46,
   "metadata": {},
   "outputs": [
    {
     "output_type": "execute_result",
     "data": {
      "text/plain": [
       "   姓名  年龄  籍贯   部门\n",
       "4  小王  20  福建  设计部\n",
       "3  小李  22  云南  设计部\n",
       "2  小E  23  四川  财务部\n",
       "1  小亮  25  广东  IT部\n",
       "0  小明  22  河北  IT部"
      ],
      "text/html": "<div>\n<style scoped>\n    .dataframe tbody tr th:only-of-type {\n        vertical-align: middle;\n    }\n\n    .dataframe tbody tr th {\n        vertical-align: top;\n    }\n\n    .dataframe thead th {\n        text-align: right;\n    }\n</style>\n<table border=\"1\" class=\"dataframe\">\n  <thead>\n    <tr style=\"text-align: right;\">\n      <th></th>\n      <th>姓名</th>\n      <th>年龄</th>\n      <th>籍贯</th>\n      <th>部门</th>\n    </tr>\n  </thead>\n  <tbody>\n    <tr>\n      <th>4</th>\n      <td>小王</td>\n      <td>20</td>\n      <td>福建</td>\n      <td>设计部</td>\n    </tr>\n    <tr>\n      <th>3</th>\n      <td>小李</td>\n      <td>22</td>\n      <td>云南</td>\n      <td>设计部</td>\n    </tr>\n    <tr>\n      <th>2</th>\n      <td>小E</td>\n      <td>23</td>\n      <td>四川</td>\n      <td>财务部</td>\n    </tr>\n    <tr>\n      <th>1</th>\n      <td>小亮</td>\n      <td>25</td>\n      <td>广东</td>\n      <td>IT部</td>\n    </tr>\n    <tr>\n      <th>0</th>\n      <td>小明</td>\n      <td>22</td>\n      <td>河北</td>\n      <td>IT部</td>\n    </tr>\n  </tbody>\n</table>\n</div>"
     },
     "metadata": {},
     "execution_count": 46
    }
   ],
   "source": [
    "# 从后往前取，每取一次跳过1个\n",
    "df_info[::-1]"
   ]
  },
  {
   "cell_type": "code",
   "execution_count": 47,
   "metadata": {},
   "outputs": [
    {
     "output_type": "error",
     "ename": "KeyError",
     "evalue": "1",
     "traceback": [
      "\u001b[1;31m---------------------------------------------------------------------------\u001b[0m",
      "\u001b[1;31mKeyError\u001b[0m                                  Traceback (most recent call last)",
      "\u001b[1;32m~\\anaconda3\\lib\\site-packages\\pandas\\core\\indexes\\base.py\u001b[0m in \u001b[0;36mget_loc\u001b[1;34m(self, key, method, tolerance)\u001b[0m\n\u001b[0;32m   2894\u001b[0m             \u001b[1;32mtry\u001b[0m\u001b[1;33m:\u001b[0m\u001b[1;33m\u001b[0m\u001b[1;33m\u001b[0m\u001b[0m\n\u001b[1;32m-> 2895\u001b[1;33m                 \u001b[1;32mreturn\u001b[0m \u001b[0mself\u001b[0m\u001b[1;33m.\u001b[0m\u001b[0m_engine\u001b[0m\u001b[1;33m.\u001b[0m\u001b[0mget_loc\u001b[0m\u001b[1;33m(\u001b[0m\u001b[0mcasted_key\u001b[0m\u001b[1;33m)\u001b[0m\u001b[1;33m\u001b[0m\u001b[1;33m\u001b[0m\u001b[0m\n\u001b[0m\u001b[0;32m   2896\u001b[0m             \u001b[1;32mexcept\u001b[0m \u001b[0mKeyError\u001b[0m \u001b[1;32mas\u001b[0m \u001b[0merr\u001b[0m\u001b[1;33m:\u001b[0m\u001b[1;33m\u001b[0m\u001b[1;33m\u001b[0m\u001b[0m\n",
      "\u001b[1;32mpandas\\_libs\\index.pyx\u001b[0m in \u001b[0;36mpandas._libs.index.IndexEngine.get_loc\u001b[1;34m()\u001b[0m\n",
      "\u001b[1;32mpandas\\_libs\\index.pyx\u001b[0m in \u001b[0;36mpandas._libs.index.IndexEngine.get_loc\u001b[1;34m()\u001b[0m\n",
      "\u001b[1;32mpandas\\_libs\\hashtable_class_helper.pxi\u001b[0m in \u001b[0;36mpandas._libs.hashtable.PyObjectHashTable.get_item\u001b[1;34m()\u001b[0m\n",
      "\u001b[1;32mpandas\\_libs\\hashtable_class_helper.pxi\u001b[0m in \u001b[0;36mpandas._libs.hashtable.PyObjectHashTable.get_item\u001b[1;34m()\u001b[0m\n",
      "\u001b[1;31mKeyError\u001b[0m: 1",
      "\nThe above exception was the direct cause of the following exception:\n",
      "\u001b[1;31mKeyError\u001b[0m                                  Traceback (most recent call last)",
      "\u001b[1;32m<ipython-input-47-01b36129b9c9>\u001b[0m in \u001b[0;36m<module>\u001b[1;34m\u001b[0m\n\u001b[1;32m----> 1\u001b[1;33m \u001b[0mser_xl\u001b[0m \u001b[1;33m=\u001b[0m \u001b[0mdf_info\u001b[0m\u001b[1;33m[\u001b[0m\u001b[1;36m1\u001b[0m\u001b[1;33m]\u001b[0m\u001b[1;33m\u001b[0m\u001b[1;33m\u001b[0m\u001b[0m\n\u001b[0m\u001b[0;32m      2\u001b[0m \u001b[0mser_xl\u001b[0m\u001b[1;33m\u001b[0m\u001b[1;33m\u001b[0m\u001b[0m\n",
      "\u001b[1;32m~\\anaconda3\\lib\\site-packages\\pandas\\core\\frame.py\u001b[0m in \u001b[0;36m__getitem__\u001b[1;34m(self, key)\u001b[0m\n\u001b[0;32m   2900\u001b[0m             \u001b[1;32mif\u001b[0m \u001b[0mself\u001b[0m\u001b[1;33m.\u001b[0m\u001b[0mcolumns\u001b[0m\u001b[1;33m.\u001b[0m\u001b[0mnlevels\u001b[0m \u001b[1;33m>\u001b[0m \u001b[1;36m1\u001b[0m\u001b[1;33m:\u001b[0m\u001b[1;33m\u001b[0m\u001b[1;33m\u001b[0m\u001b[0m\n\u001b[0;32m   2901\u001b[0m                 \u001b[1;32mreturn\u001b[0m \u001b[0mself\u001b[0m\u001b[1;33m.\u001b[0m\u001b[0m_getitem_multilevel\u001b[0m\u001b[1;33m(\u001b[0m\u001b[0mkey\u001b[0m\u001b[1;33m)\u001b[0m\u001b[1;33m\u001b[0m\u001b[1;33m\u001b[0m\u001b[0m\n\u001b[1;32m-> 2902\u001b[1;33m             \u001b[0mindexer\u001b[0m \u001b[1;33m=\u001b[0m \u001b[0mself\u001b[0m\u001b[1;33m.\u001b[0m\u001b[0mcolumns\u001b[0m\u001b[1;33m.\u001b[0m\u001b[0mget_loc\u001b[0m\u001b[1;33m(\u001b[0m\u001b[0mkey\u001b[0m\u001b[1;33m)\u001b[0m\u001b[1;33m\u001b[0m\u001b[1;33m\u001b[0m\u001b[0m\n\u001b[0m\u001b[0;32m   2903\u001b[0m             \u001b[1;32mif\u001b[0m \u001b[0mis_integer\u001b[0m\u001b[1;33m(\u001b[0m\u001b[0mindexer\u001b[0m\u001b[1;33m)\u001b[0m\u001b[1;33m:\u001b[0m\u001b[1;33m\u001b[0m\u001b[1;33m\u001b[0m\u001b[0m\n\u001b[0;32m   2904\u001b[0m                 \u001b[0mindexer\u001b[0m \u001b[1;33m=\u001b[0m \u001b[1;33m[\u001b[0m\u001b[0mindexer\u001b[0m\u001b[1;33m]\u001b[0m\u001b[1;33m\u001b[0m\u001b[1;33m\u001b[0m\u001b[0m\n",
      "\u001b[1;32m~\\anaconda3\\lib\\site-packages\\pandas\\core\\indexes\\base.py\u001b[0m in \u001b[0;36mget_loc\u001b[1;34m(self, key, method, tolerance)\u001b[0m\n\u001b[0;32m   2895\u001b[0m                 \u001b[1;32mreturn\u001b[0m \u001b[0mself\u001b[0m\u001b[1;33m.\u001b[0m\u001b[0m_engine\u001b[0m\u001b[1;33m.\u001b[0m\u001b[0mget_loc\u001b[0m\u001b[1;33m(\u001b[0m\u001b[0mcasted_key\u001b[0m\u001b[1;33m)\u001b[0m\u001b[1;33m\u001b[0m\u001b[1;33m\u001b[0m\u001b[0m\n\u001b[0;32m   2896\u001b[0m             \u001b[1;32mexcept\u001b[0m \u001b[0mKeyError\u001b[0m \u001b[1;32mas\u001b[0m \u001b[0merr\u001b[0m\u001b[1;33m:\u001b[0m\u001b[1;33m\u001b[0m\u001b[1;33m\u001b[0m\u001b[0m\n\u001b[1;32m-> 2897\u001b[1;33m                 \u001b[1;32mraise\u001b[0m \u001b[0mKeyError\u001b[0m\u001b[1;33m(\u001b[0m\u001b[0mkey\u001b[0m\u001b[1;33m)\u001b[0m \u001b[1;32mfrom\u001b[0m \u001b[0merr\u001b[0m\u001b[1;33m\u001b[0m\u001b[1;33m\u001b[0m\u001b[0m\n\u001b[0m\u001b[0;32m   2898\u001b[0m \u001b[1;33m\u001b[0m\u001b[0m\n\u001b[0;32m   2899\u001b[0m         \u001b[1;32mif\u001b[0m \u001b[0mtolerance\u001b[0m \u001b[1;32mis\u001b[0m \u001b[1;32mnot\u001b[0m \u001b[1;32mNone\u001b[0m\u001b[1;33m:\u001b[0m\u001b[1;33m\u001b[0m\u001b[1;33m\u001b[0m\u001b[0m\n",
      "\u001b[1;31mKeyError\u001b[0m: 1"
     ]
    }
   ],
   "source": [
    "ser_xl = df_info[1]\n",
    "ser_xl"
   ]
  },
  {
   "cell_type": "code",
   "execution_count": 48,
   "metadata": {},
   "outputs": [
    {
     "output_type": "execute_result",
     "data": {
      "text/plain": [
       "   姓名  年龄  籍贯   部门\n",
       "0  小明  22  河北  IT部\n",
       "1  小亮  25  广东  IT部\n",
       "2  小E  23  四川  财务部\n",
       "3  小李  22  云南  设计部\n",
       "4  小王  20  福建  设计部"
      ],
      "text/html": "<div>\n<style scoped>\n    .dataframe tbody tr th:only-of-type {\n        vertical-align: middle;\n    }\n\n    .dataframe tbody tr th {\n        vertical-align: top;\n    }\n\n    .dataframe thead th {\n        text-align: right;\n    }\n</style>\n<table border=\"1\" class=\"dataframe\">\n  <thead>\n    <tr style=\"text-align: right;\">\n      <th></th>\n      <th>姓名</th>\n      <th>年龄</th>\n      <th>籍贯</th>\n      <th>部门</th>\n    </tr>\n  </thead>\n  <tbody>\n    <tr>\n      <th>0</th>\n      <td>小明</td>\n      <td>22</td>\n      <td>河北</td>\n      <td>IT部</td>\n    </tr>\n    <tr>\n      <th>1</th>\n      <td>小亮</td>\n      <td>25</td>\n      <td>广东</td>\n      <td>IT部</td>\n    </tr>\n    <tr>\n      <th>2</th>\n      <td>小E</td>\n      <td>23</td>\n      <td>四川</td>\n      <td>财务部</td>\n    </tr>\n    <tr>\n      <th>3</th>\n      <td>小李</td>\n      <td>22</td>\n      <td>云南</td>\n      <td>设计部</td>\n    </tr>\n    <tr>\n      <th>4</th>\n      <td>小王</td>\n      <td>20</td>\n      <td>福建</td>\n      <td>设计部</td>\n    </tr>\n  </tbody>\n</table>\n</div>"
     },
     "metadata": {},
     "execution_count": 48
    }
   ],
   "source": [
    "# 查看数据表\n",
    "df_info"
   ]
  },
  {
   "cell_type": "code",
   "execution_count": 50,
   "metadata": {},
   "outputs": [
    {
     "output_type": "stream",
     "name": "stdout",
     "text": [
      "小亮的部门：IT部\n"
     ]
    }
   ],
   "source": [
    "# 获得部门的列 Series\n",
    "dep_series = df_info[\"部门\"]\n",
    "\n",
    "# 打印部门 Series 中，索引为 1 的值\n",
    "print(\"小亮的部门：\" + dep_series[1])"
   ]
  },
  {
   "cell_type": "code",
   "execution_count": 51,
   "metadata": {},
   "outputs": [
    {
     "output_type": "execute_result",
     "data": {
      "text/plain": [
       "<pandas.core.indexing._LocIndexer at 0x2c4b3ba86d0>"
      ]
     },
     "metadata": {},
     "execution_count": 51
    }
   ],
   "source": [
    "df_info.loc"
   ]
  },
  {
   "cell_type": "code",
   "execution_count": 53,
   "metadata": {},
   "outputs": [
    {
     "output_type": "stream",
     "name": "stdout",
     "text": [
      "小亮的部门：IT部\n"
     ]
    }
   ],
   "source": [
    "# 小亮的行索引是1，查询部门，则列索引是 '部门'\n",
    "print(\"小亮的部门：\" + df_info.loc[1, \"部门\"])"
   ]
  },
  {
   "cell_type": "code",
   "execution_count": 54,
   "metadata": {},
   "outputs": [
    {
     "output_type": "execute_result",
     "data": {
      "text/plain": [
       "   姓名  年龄\n",
       "4  小王  20\n",
       "3  小李  22\n",
       "2  小E  23\n",
       "1  小亮  25\n",
       "0  小明  22"
      ],
      "text/html": "<div>\n<style scoped>\n    .dataframe tbody tr th:only-of-type {\n        vertical-align: middle;\n    }\n\n    .dataframe tbody tr th {\n        vertical-align: top;\n    }\n\n    .dataframe thead th {\n        text-align: right;\n    }\n</style>\n<table border=\"1\" class=\"dataframe\">\n  <thead>\n    <tr style=\"text-align: right;\">\n      <th></th>\n      <th>姓名</th>\n      <th>年龄</th>\n    </tr>\n  </thead>\n  <tbody>\n    <tr>\n      <th>4</th>\n      <td>小王</td>\n      <td>20</td>\n    </tr>\n    <tr>\n      <th>3</th>\n      <td>小李</td>\n      <td>22</td>\n    </tr>\n    <tr>\n      <th>2</th>\n      <td>小E</td>\n      <td>23</td>\n    </tr>\n    <tr>\n      <th>1</th>\n      <td>小亮</td>\n      <td>25</td>\n    </tr>\n    <tr>\n      <th>0</th>\n      <td>小明</td>\n      <td>22</td>\n    </tr>\n  </tbody>\n</table>\n</div>"
     },
     "metadata": {},
     "execution_count": 54
    }
   ],
   "source": [
    "# 使用 loc，行索引处使用 ::-1 来指定从后往前选取，列索引部分传入列名列表来实现取两列\n",
    "df_info.loc[::-1, [\"姓名\", \"年龄\"]]"
   ]
  },
  {
   "cell_type": "code",
   "execution_count": 57,
   "metadata": {},
   "outputs": [
    {
     "output_type": "stream",
     "name": "stdout",
     "text": [
      "小亮的部门：IT部\n"
     ]
    }
   ],
   "source": [
    "# 从数据表中可以看到，小亮的部门这个数据在第一行，第三列。所以可以将 1 3 传入 iloc 即可\n",
    "print(\"小亮的部门：\" + df_info.iloc[1, 3])"
   ]
  },
  {
   "cell_type": "code",
   "execution_count": 59,
   "metadata": {},
   "outputs": [
    {
     "output_type": "execute_result",
     "data": {
      "text/plain": [
       "   姓名  年龄  籍贯   部门\n",
       "1  小亮  25  广东  IT部\n",
       "2  小E  23  四川  财务部"
      ],
      "text/html": "<div>\n<style scoped>\n    .dataframe tbody tr th:only-of-type {\n        vertical-align: middle;\n    }\n\n    .dataframe tbody tr th {\n        vertical-align: top;\n    }\n\n    .dataframe thead th {\n        text-align: right;\n    }\n</style>\n<table border=\"1\" class=\"dataframe\">\n  <thead>\n    <tr style=\"text-align: right;\">\n      <th></th>\n      <th>姓名</th>\n      <th>年龄</th>\n      <th>籍贯</th>\n      <th>部门</th>\n    </tr>\n  </thead>\n  <tbody>\n    <tr>\n      <th>1</th>\n      <td>小亮</td>\n      <td>25</td>\n      <td>广东</td>\n      <td>IT部</td>\n    </tr>\n    <tr>\n      <th>2</th>\n      <td>小E</td>\n      <td>23</td>\n      <td>四川</td>\n      <td>财务部</td>\n    </tr>\n  </tbody>\n</table>\n</div>"
     },
     "metadata": {},
     "execution_count": 59
    }
   ],
   "source": [
    "# 条件表达式：df_info[\"年龄\"] >= 23， 然后因为我们希望获得所有列，所以列索引直接写 :\n",
    "df_info.loc[df_info[\"年龄\"] >= 23, :]"
   ]
  },
  {
   "cell_type": "code",
   "execution_count": 67,
   "metadata": {},
   "outputs": [
    {
     "output_type": "stream",
     "name": "stdout",
     "text": [
      "小亮的部门：IT部\n"
     ]
    }
   ],
   "source": [
    "\n",
    "print(\"小亮的部门：\" + df_info.loc[df_info[\"姓名\"] == \"小亮\", \"部门\"].iloc[0])"
   ]
  },
  {
   "cell_type": "code",
   "execution_count": 80,
   "metadata": {},
   "outputs": [
    {
     "output_type": "execute_result",
     "data": {
      "text/plain": [
       "   姓名  年龄  籍贯   部门\n",
       "0  小明  22  河北  IT部"
      ],
      "text/html": "<div>\n<style scoped>\n    .dataframe tbody tr th:only-of-type {\n        vertical-align: middle;\n    }\n\n    .dataframe tbody tr th {\n        vertical-align: top;\n    }\n\n    .dataframe thead th {\n        text-align: right;\n    }\n</style>\n<table border=\"1\" class=\"dataframe\">\n  <thead>\n    <tr style=\"text-align: right;\">\n      <th></th>\n      <th>姓名</th>\n      <th>年龄</th>\n      <th>籍贯</th>\n      <th>部门</th>\n    </tr>\n  </thead>\n  <tbody>\n    <tr>\n      <th>0</th>\n      <td>小明</td>\n      <td>22</td>\n      <td>河北</td>\n      <td>IT部</td>\n    </tr>\n  </tbody>\n</table>\n</div>"
     },
     "metadata": {},
     "execution_count": 80
    }
   ],
   "source": [
    "# loc 条件表达式的逻辑与操作。每个子条件都需要用括号括起来\n",
    "df_info.loc[(df_info[\"部门\"] == \"IT部\") & (df_info[\"年龄\"] <25), :]"
   ]
  },
  {
   "cell_type": "code",
   "execution_count": 81,
   "metadata": {},
   "outputs": [
    {
     "output_type": "execute_result",
     "data": {
      "text/plain": [
       "   姓名  年龄  籍贯   部门\n",
       "2  小E  23  四川  财务部\n",
       "3  小李  22  云南  设计部\n",
       "4  小王  20  福建  设计部"
      ],
      "text/html": "<div>\n<style scoped>\n    .dataframe tbody tr th:only-of-type {\n        vertical-align: middle;\n    }\n\n    .dataframe tbody tr th {\n        vertical-align: top;\n    }\n\n    .dataframe thead th {\n        text-align: right;\n    }\n</style>\n<table border=\"1\" class=\"dataframe\">\n  <thead>\n    <tr style=\"text-align: right;\">\n      <th></th>\n      <th>姓名</th>\n      <th>年龄</th>\n      <th>籍贯</th>\n      <th>部门</th>\n    </tr>\n  </thead>\n  <tbody>\n    <tr>\n      <th>2</th>\n      <td>小E</td>\n      <td>23</td>\n      <td>四川</td>\n      <td>财务部</td>\n    </tr>\n    <tr>\n      <th>3</th>\n      <td>小李</td>\n      <td>22</td>\n      <td>云南</td>\n      <td>设计部</td>\n    </tr>\n    <tr>\n      <th>4</th>\n      <td>小王</td>\n      <td>20</td>\n      <td>福建</td>\n      <td>设计部</td>\n    </tr>\n  </tbody>\n</table>\n</div>"
     },
     "metadata": {},
     "execution_count": 81
    }
   ],
   "source": [
    "df_info.loc[(df_info[\"部门\"] == \"财务部\") | (df_info[\"部门\"] == \"设计部\"), :]"
   ]
  },
  {
   "cell_type": "code",
   "execution_count": 69,
   "metadata": {},
   "outputs": [
    {
     "output_type": "execute_result",
     "data": {
      "text/plain": [
       "   姓名  年龄  籍贯   部门\n",
       "0  小明  22  河北  IT部\n",
       "1  小亮  25  广东  IT部\n",
       "2  小E  23  四川  财务部\n",
       "3  小李  22  云南  设计部\n",
       "4  小王  20  福建  设计部"
      ],
      "text/html": "<div>\n<style scoped>\n    .dataframe tbody tr th:only-of-type {\n        vertical-align: middle;\n    }\n\n    .dataframe tbody tr th {\n        vertical-align: top;\n    }\n\n    .dataframe thead th {\n        text-align: right;\n    }\n</style>\n<table border=\"1\" class=\"dataframe\">\n  <thead>\n    <tr style=\"text-align: right;\">\n      <th></th>\n      <th>姓名</th>\n      <th>年龄</th>\n      <th>籍贯</th>\n      <th>部门</th>\n    </tr>\n  </thead>\n  <tbody>\n    <tr>\n      <th>0</th>\n      <td>小明</td>\n      <td>22</td>\n      <td>河北</td>\n      <td>IT部</td>\n    </tr>\n    <tr>\n      <th>1</th>\n      <td>小亮</td>\n      <td>25</td>\n      <td>广东</td>\n      <td>IT部</td>\n    </tr>\n    <tr>\n      <th>2</th>\n      <td>小E</td>\n      <td>23</td>\n      <td>四川</td>\n      <td>财务部</td>\n    </tr>\n    <tr>\n      <th>3</th>\n      <td>小李</td>\n      <td>22</td>\n      <td>云南</td>\n      <td>设计部</td>\n    </tr>\n    <tr>\n      <th>4</th>\n      <td>小王</td>\n      <td>20</td>\n      <td>福建</td>\n      <td>设计部</td>\n    </tr>\n  </tbody>\n</table>\n</div>"
     },
     "metadata": {},
     "execution_count": 69
    }
   ],
   "source": [
    "df_info"
   ]
  },
  {
   "cell_type": "code",
   "execution_count": 71,
   "metadata": {},
   "outputs": [
    {
     "output_type": "execute_result",
     "data": {
      "text/plain": [
       "   姓名  年龄  籍贯   部门\n",
       "0   1   1   1    1\n",
       "1  小亮  25  广东  IT部\n",
       "2  小E  23  四川  财务部\n",
       "3   1   1   1    1\n",
       "4   1   1   1    1"
      ],
      "text/html": "<div>\n<style scoped>\n    .dataframe tbody tr th:only-of-type {\n        vertical-align: middle;\n    }\n\n    .dataframe tbody tr th {\n        vertical-align: top;\n    }\n\n    .dataframe thead th {\n        text-align: right;\n    }\n</style>\n<table border=\"1\" class=\"dataframe\">\n  <thead>\n    <tr style=\"text-align: right;\">\n      <th></th>\n      <th>姓名</th>\n      <th>年龄</th>\n      <th>籍贯</th>\n      <th>部门</th>\n    </tr>\n  </thead>\n  <tbody>\n    <tr>\n      <th>0</th>\n      <td>1</td>\n      <td>1</td>\n      <td>1</td>\n      <td>1</td>\n    </tr>\n    <tr>\n      <th>1</th>\n      <td>小亮</td>\n      <td>25</td>\n      <td>广东</td>\n      <td>IT部</td>\n    </tr>\n    <tr>\n      <th>2</th>\n      <td>小E</td>\n      <td>23</td>\n      <td>四川</td>\n      <td>财务部</td>\n    </tr>\n    <tr>\n      <th>3</th>\n      <td>1</td>\n      <td>1</td>\n      <td>1</td>\n      <td>1</td>\n    </tr>\n    <tr>\n      <th>4</th>\n      <td>1</td>\n      <td>1</td>\n      <td>1</td>\n      <td>1</td>\n    </tr>\n  </tbody>\n</table>\n</div>"
     },
     "metadata": {},
     "execution_count": 71
    }
   ],
   "source": [
    "df_info.where(df_info[\"年龄\"] >= 23, 1)"
   ]
  },
  {
   "cell_type": "code",
   "execution_count": 75,
   "metadata": {},
   "outputs": [
    {
     "output_type": "execute_result",
     "data": {
      "text/plain": [
       "   姓名  年龄  籍贯   部门\n",
       "0  小明  22  河北  IT部\n",
       "1  小亮  25  广东  IT部\n",
       "2  小E  23  四川  财务部\n",
       "3  小李  22  云南  设计部\n",
       "4  小王  20  福建  设计部"
      ],
      "text/html": "<div>\n<style scoped>\n    .dataframe tbody tr th:only-of-type {\n        vertical-align: middle;\n    }\n\n    .dataframe tbody tr th {\n        vertical-align: top;\n    }\n\n    .dataframe thead th {\n        text-align: right;\n    }\n</style>\n<table border=\"1\" class=\"dataframe\">\n  <thead>\n    <tr style=\"text-align: right;\">\n      <th></th>\n      <th>姓名</th>\n      <th>年龄</th>\n      <th>籍贯</th>\n      <th>部门</th>\n    </tr>\n  </thead>\n  <tbody>\n    <tr>\n      <th>0</th>\n      <td>小明</td>\n      <td>22</td>\n      <td>河北</td>\n      <td>IT部</td>\n    </tr>\n    <tr>\n      <th>1</th>\n      <td>小亮</td>\n      <td>25</td>\n      <td>广东</td>\n      <td>IT部</td>\n    </tr>\n    <tr>\n      <th>2</th>\n      <td>小E</td>\n      <td>23</td>\n      <td>四川</td>\n      <td>财务部</td>\n    </tr>\n    <tr>\n      <th>3</th>\n      <td>小李</td>\n      <td>22</td>\n      <td>云南</td>\n      <td>设计部</td>\n    </tr>\n    <tr>\n      <th>4</th>\n      <td>小王</td>\n      <td>20</td>\n      <td>福建</td>\n      <td>设计部</td>\n    </tr>\n  </tbody>\n</table>\n</div>"
     },
     "metadata": {},
     "execution_count": 75
    }
   ],
   "source": [
    "df_info"
   ]
  },
  {
   "cell_type": "code",
   "execution_count": 74,
   "metadata": {},
   "outputs": [
    {
     "output_type": "execute_result",
     "data": {
      "text/plain": [
       "   姓名  年龄  籍贯   部门\n",
       "1  小亮  25  广东  IT部"
      ],
      "text/html": "<div>\n<style scoped>\n    .dataframe tbody tr th:only-of-type {\n        vertical-align: middle;\n    }\n\n    .dataframe tbody tr th {\n        vertical-align: top;\n    }\n\n    .dataframe thead th {\n        text-align: right;\n    }\n</style>\n<table border=\"1\" class=\"dataframe\">\n  <thead>\n    <tr style=\"text-align: right;\">\n      <th></th>\n      <th>姓名</th>\n      <th>年龄</th>\n      <th>籍贯</th>\n      <th>部门</th>\n    </tr>\n  </thead>\n  <tbody>\n    <tr>\n      <th>1</th>\n      <td>小亮</td>\n      <td>25</td>\n      <td>广东</td>\n      <td>IT部</td>\n    </tr>\n  </tbody>\n</table>\n</div>"
     },
     "metadata": {},
     "execution_count": 74
    }
   ],
   "source": [
    "df_info.query(\"年龄 >= 23 and 籍贯 == '广东'\")"
   ]
  },
  {
   "cell_type": "code",
   "execution_count": 90,
   "metadata": {},
   "outputs": [
    {
     "output_type": "execute_result",
     "data": {
      "text/plain": [
       "   姓名  籍贯\n",
       "0  小明  河北\n",
       "2  小E  四川"
      ],
      "text/html": "<div>\n<style scoped>\n    .dataframe tbody tr th:only-of-type {\n        vertical-align: middle;\n    }\n\n    .dataframe tbody tr th {\n        vertical-align: top;\n    }\n\n    .dataframe thead th {\n        text-align: right;\n    }\n</style>\n<table border=\"1\" class=\"dataframe\">\n  <thead>\n    <tr style=\"text-align: right;\">\n      <th></th>\n      <th>姓名</th>\n      <th>籍贯</th>\n    </tr>\n  </thead>\n  <tbody>\n    <tr>\n      <th>0</th>\n      <td>小明</td>\n      <td>河北</td>\n    </tr>\n    <tr>\n      <th>2</th>\n      <td>小E</td>\n      <td>四川</td>\n    </tr>\n  </tbody>\n</table>\n</div>"
     },
     "metadata": {},
     "execution_count": 90
    }
   ],
   "source": [
    "df_info.loc[(df_info[\"年龄\"] >= 22) & (df_info[\"年龄\"] <= 23) & (df_info[\"部门\"] != \"设计部\"), [\"姓名\", \"籍贯\"]]"
   ]
  },
  {
   "cell_type": "code",
   "execution_count": null,
   "metadata": {},
   "outputs": [],
   "source": []
  }
 ]
}
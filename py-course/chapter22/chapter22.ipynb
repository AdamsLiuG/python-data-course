{
 "metadata": {
  "language_info": {
   "codemirror_mode": {
    "name": "ipython",
    "version": 3
   },
   "file_extension": ".py",
   "mimetype": "text/x-python",
   "name": "python",
   "nbconvert_exporter": "python",
   "pygments_lexer": "ipython3",
   "version": "3.8.5"
  },
  "orig_nbformat": 2,
  "kernelspec": {
   "name": "python3",
   "display_name": "Python 3.8.5 64-bit ('base': conda)"
  },
  "interpreter": {
   "hash": "c39885171911825c85dd2872b53a1f517ccf6205e737fb46b3c547492811485f"
  }
 },
 "nbformat": 4,
 "nbformat_minor": 2,
 "cells": [
  {
   "cell_type": "code",
   "execution_count": null,
   "metadata": {},
   "outputs": [],
   "source": [
    "import matplotlib.pyplot as plt\n",
    "import numpy as np\n",
    "import math"
   ]
  },
  {
   "cell_type": "code",
   "execution_count": null,
   "metadata": {},
   "outputs": [],
   "source": [
    "# 准备数据源\n",
    "x_ranges = np.arange(0, 20, 0.2)\n",
    "\n",
    "# 准备画布和轴\n",
    "figure1 = plt.figure(figsize=(10, 5)) # 改动点\n",
    "\n",
    "ax1 = figure1.add_subplot(1,1,1)\n",
    "plt.title(\"y = sin(x)\")\n",
    "plt.xlabel(\"X\")\n",
    "plt.xlim([0, 20])\n",
    "\n",
    "plt.ylabel(\"Y\")\n",
    "plt.ylim([-2.5, 2.5])\n",
    "\n",
    "# 用 x_ranges，和对应的 sin 值画线\n",
    "plt.plot(x_ranges,np.sin(x_ranges) )\n",
    "plt.show()"
   ]
  },
  {
   "cell_type": "code",
   "execution_count": null,
   "metadata": {},
   "outputs": [],
   "source": [
    "print(\"步长为1：\", np.arange(0,20))\n",
    "print(\"步长为0.2：\", np.arange(0, 20, 0.2))"
   ]
  },
  {
   "cell_type": "code",
   "execution_count": null,
   "metadata": {},
   "outputs": [],
   "source": [
    "figure2 = plt.figure(figsize=(10, 5)) # 改动点\n",
    "\n",
    "ax1 = figure2.add_subplot(1,1,1)\n",
    "plt.title(\"Test Line\")\n",
    "plt.xlabel(\"X\")\n",
    "plt.xlim([0, 20])\n",
    "\n",
    "plt.ylabel(\"Y\")\n",
    "plt.ylim([0, 10])\n",
    "\n",
    "plt.plot([2, 10, 5,2],[2, 2, 5,2], \"o--r\")\n",
    "plt.show()"
   ]
  },
  {
   "cell_type": "code",
   "execution_count": null,
   "metadata": {},
   "outputs": [],
   "source": [
    "figure2 = plt.figure(figsize=(10, 5)) # 改动点\n",
    "\n",
    "ax1 = figure1.add_subplot(1,1,1)\n",
    "plt.title(\"Test Line\")\n",
    "plt.xlabel(\"X\")\n",
    "plt.xlim([0, 20])\n",
    "\n",
    "plt.ylabel(\"Y\")\n",
    "plt.ylim([0, 10])\n",
    "\n",
    "# 用 x_ranges，和对应的 sin 值画线\n",
    "plt.plot([2, 10, 5,2],[2, 2, 5,2], \"H-.g\", markersize=10, c=\"green\")\n",
    "plt.show()"
   ]
  },
  {
   "cell_type": "code",
   "execution_count": null,
   "metadata": {},
   "outputs": [],
   "source": [
    "import pandas as pd"
   ]
  },
  {
   "cell_type": "code",
   "execution_count": null,
   "metadata": {},
   "outputs": [],
   "source": [
    "df_income = pd.read_excel(\"income.xlsx\")\n",
    "df_income"
   ]
  },
  {
   "cell_type": "code",
   "execution_count": null,
   "metadata": {},
   "outputs": [],
   "source": [
    "df_income = df_income.dropna()"
   ]
  },
  {
   "cell_type": "code",
   "execution_count": null,
   "metadata": {},
   "outputs": [],
   "source": [
    "ser_city = df_income.loc[3].drop(columns=[\"指标\"])\n",
    "ser_city = ser_city[1:]"
   ]
  },
  {
   "cell_type": "code",
   "execution_count": null,
   "metadata": {},
   "outputs": [],
   "source": [
    "ser_village = df_income.loc[6].drop(columns=[\"指标\"])\n",
    "ser_village = ser_village[1:]"
   ]
  },
  {
   "cell_type": "code",
   "execution_count": null,
   "metadata": {},
   "outputs": [],
   "source": [
    "ser_city = ser_city.iloc[::-1]\n",
    "ser_village = ser_village[::-1]"
   ]
  },
  {
   "cell_type": "code",
   "execution_count": null,
   "metadata": {},
   "outputs": [],
   "source": [
    "ser_city"
   ]
  },
  {
   "cell_type": "code",
   "execution_count": null,
   "metadata": {},
   "outputs": [],
   "source": [
    "figure3 = plt.figure(figsize=(8, 7)) # 改动点\n",
    "\n",
    "ax1 = figure3.add_subplot(1,1,1)\n",
    "plt.title(\"居民收入对比\")\n",
    "plt.xlabel(\"年份\")\n",
    "# plt.xlim(ser_city.index)\n",
    "plt.xticks(range(0,7), ser_city.index,rotation = 45)\n",
    "\n",
    "plt.ylabel(\"收入\")\n",
    "plt.ylim([10000,50000])\n",
    "\n",
    "# 用 x_ranges，和对应的 sin 值画线\n",
    "plt.scatter(range(0,7),ser_city.values)\n",
    "plt.scatter(range(0,7),ser_village.values)\n",
    "\n",
    "plt.rcParams[\"font.sans-serif\"] = \"SimHei\"\n",
    "\n",
    "plt.show()"
   ]
  },
  {
   "cell_type": "code",
   "execution_count": null,
   "metadata": {},
   "outputs": [],
   "source": [
    "# 准备数据源\n",
    "x_ranges = np.arange(0, 20, 0.2)\n",
    "\n",
    "# 准备画布和轴\n",
    "figure1 = plt.figure(figsize=(10, 5)) # 改动点\n",
    "\n",
    "ax1 = figure1.add_subplot(1,1,1)\n",
    "plt.title(\"y = sin(x)\")\n",
    "plt.xlabel(\"X\")\n",
    "plt.xlim([0, 20])\n",
    "\n",
    "plt.ylabel(\"Y\")\n",
    "plt.ylim([-2.5, 2.5])\n",
    "\n",
    "# 用 x_ranges，和对应的 sin 值画线\n",
    "plt.scatter(x_ranges,np.sin(x_ranges), marker=\"*\")\n",
    "plt.show()"
   ]
  },
  {
   "cell_type": "code",
   "execution_count": null,
   "metadata": {},
   "outputs": [],
   "source": [
    "import pandas as pd \n",
    "df_goods = pd.read_csv(\"data.csv\")\n",
    "df_goods"
   ]
  },
  {
   "cell_type": "code",
   "execution_count": null,
   "metadata": {},
   "outputs": [],
   "source": [
    "df_goods.InvoiceDate = pd.to_datetime(df_goods.InvoiceDate)"
   ]
  },
  {
   "cell_type": "code",
   "execution_count": null,
   "metadata": {},
   "outputs": [],
   "source": [
    "plt.figure(figsize = [18,6])\n",
    "plt.scatter(df_goods.InvoiceDate, df_goods.Quantity)"
   ]
  },
  {
   "cell_type": "code",
   "execution_count": null,
   "metadata": {},
   "outputs": [],
   "source": [
    "df_goods = df_goods.loc[(df_goods.Quantity > 0) & (df_goods.Quantity < 800)]\n",
    "df_goods"
   ]
  },
  {
   "cell_type": "code",
   "execution_count": null,
   "metadata": {},
   "outputs": [],
   "source": [
    "df_goods = df_goods.loc[(df_goods.UnitPrice > 0) & (df_goods.UnitPrice < 1000)]\n",
    "\n",
    "plt.figure(figsize = [18,6])\n",
    "plt.scatter(df_goods.InvoiceDate, df_goods.UnitPrice)"
   ]
  },
  {
   "cell_type": "code",
   "execution_count": null,
   "metadata": {},
   "outputs": [],
   "source": [
    "df_goods = df_goods.loc[(df_goods.UnitPrice > 0) & (df_goods.UnitPrice < 50)]\n",
    "df_goods\n"
   ]
  },
  {
   "cell_type": "code",
   "execution_count": null,
   "metadata": {},
   "outputs": [],
   "source": []
  },
  {
   "cell_type": "code",
   "execution_count": null,
   "metadata": {},
   "outputs": [],
   "source": [
    "plt.figure(figsize = [18,6])\n",
    "plt.scatter(df_goods.UnitPrice, df_goods.Quantity)"
   ]
  },
  {
   "cell_type": "code",
   "execution_count": null,
   "metadata": {},
   "outputs": [],
   "source": [
    "figure3 = plt.figure(figsize=(5, 5)) \n",
    "\n",
    "ax1 = figure3.add_subplot(1,1,1)\n",
    "plt.title(\"Test Line\")\n",
    "plt.xlabel(\"X\")\n",
    "plt.xlim([0, 400])\n",
    "\n",
    "plt.ylabel(\"Y\")\n",
    "plt.ylim([0, 400])\n",
    "\n",
    "plt.plot([50, 200, 200,50, 50],[200, 200, 50,50,200], \"8-.c\")\n",
    "plt.show()"
   ]
  },
  {
   "cell_type": "code",
   "execution_count": null,
   "metadata": {},
   "outputs": [],
   "source": []
  }
 ]
}
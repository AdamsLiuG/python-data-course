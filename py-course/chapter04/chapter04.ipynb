{
 "metadata": {
  "language_info": {
   "codemirror_mode": {
    "name": "ipython",
    "version": 3
   },
   "file_extension": ".py",
   "mimetype": "text/x-python",
   "name": "python",
   "nbconvert_exporter": "python",
   "pygments_lexer": "ipython3",
   "version": "3.8.5-final"
  },
  "orig_nbformat": 2,
  "kernelspec": {
   "name": "python3",
   "display_name": "Python 3.8.5 64-bit (conda)",
   "metadata": {
    "interpreter": {
     "hash": "c39885171911825c85dd2872b53a1f517ccf6205e737fb46b3c547492811485f"
    }
   }
  }
 },
 "nbformat": 4,
 "nbformat_minor": 2,
 "cells": [
  {
   "cell_type": "code",
   "execution_count": null,
   "metadata": {},
   "outputs": [],
   "source": [
    "a = 3\n",
    "print(type(a))"
   ]
  },
  {
   "cell_type": "code",
   "execution_count": 1,
   "metadata": {},
   "outputs": [
    {
     "output_type": "stream",
     "name": "stdout",
     "text": [
      "25\nHello, 我是小明\n我今年 25 岁\n另外, 我是男生\n"
     ]
    }
   ],
   "source": [
    "class Person:\n",
    "    def __init__(self, name, age, gender):\n",
    "        self.name = name\n",
    "        self.age = age\n",
    "        self.gender = gender\n",
    "    \n",
    "    def introduce(self):\n",
    "        print(\"Hello, 我是\" + self.name)\n",
    "        print(\"我今年 \" + str(self.age) + \" 岁\")\n",
    "        print(\"另外, 我是\" + self.gender)\n",
    "    \n",
    "    def get_age(self):\n",
    "        return self.age\n",
    "\n",
    "xm = Person(\"小明\", 25, \"男生\")\n",
    "\n",
    "print(xm.get_age())\n",
    "xm.introduce()"
   ]
  },
  {
   "cell_type": "code",
   "execution_count": 12,
   "metadata": {},
   "outputs": [],
   "source": [
    "class Department:\n",
    "    def __init__(self,dep_name, boss_name):\n",
    "        self.dep_name = dep_name\n",
    "        self.boss_name = boss_name\n",
    "        self.stuff_list = []\n",
    "\n",
    "    def add_stuff(self, name):\n",
    "        self.stuff_list.append(name)\n",
    "    \n",
    "\n",
    "    def remove_stuff(self, name):\n",
    "        self.stuff_list.remove(name)\n",
    "    \n",
    "    # 新增代码\n",
    "    def print_dep_info(self):\n",
    "        print(\"部门：\",self.dep_name)\n",
    "        print(\"主管：\",self.boss_name)\n",
    "        print(\"员工：\",self.stuff_list)\n"
   ]
  },
  {
   "cell_type": "code",
   "execution_count": 13,
   "metadata": {},
   "outputs": [],
   "source": [
    "it_dep = Department(\"it部\", \"小明\")\n",
    "finance_dep = Department(\"财务部\", \"红姐\")"
   ]
  },
  {
   "cell_type": "code",
   "execution_count": 14,
   "metadata": {},
   "outputs": [],
   "source": [
    "it_dep.add_stuff(\"小亮\")\n",
    "it_dep.add_stuff(\"小七\")\n",
    "\n",
    "finance_dep.add_stuff(\"小E\")\n",
    "finance_dep.add_stuff(\"小洁\")"
   ]
  },
  {
   "cell_type": "code",
   "execution_count": 15,
   "metadata": {},
   "outputs": [
    {
     "output_type": "stream",
     "name": "stdout",
     "text": [
      "部门： it部\n主管： 小明\n员工： ['小亮', '小七']\n部门： 财务部\n主管： 红姐\n员工： ['小E', '小洁']\n"
     ]
    }
   ],
   "source": [
    "it_dep.print_dep_info()\n",
    "finance_dep.print_dep_info()"
   ]
  },
  {
   "cell_type": "code",
   "execution_count": 16,
   "metadata": {},
   "outputs": [],
   "source": [
    "it_dep.remove_stuff(\"小七\")"
   ]
  },
  {
   "cell_type": "code",
   "execution_count": 17,
   "metadata": {},
   "outputs": [
    {
     "output_type": "stream",
     "name": "stdout",
     "text": [
      "部门： it部\n主管： 小明\n员工： ['小亮']\n"
     ]
    }
   ],
   "source": [
    "it_dep.print_dep_info()"
   ]
  },
  {
   "cell_type": "code",
   "execution_count": 19,
   "metadata": {},
   "outputs": [
    {
     "output_type": "stream",
     "name": "stdout",
     "text": [
      "Third number is  23\nAfter append:  [90, 1, 23, 15, -1]\nAfter delete second number:  [90, 23, 15, -1]\nAfter delete 15： [90, 23, -1]\nAfter sort [-1, 23, 90]\nAfter reverse sort [90, 23, -1]\nLength:  3\n"
     ]
    }
   ],
   "source": [
    "# 创建列表\n",
    "a = [90,1,23, 15]\n",
    "\n",
    "# 访问某个元素(下表从 0 开始)\n",
    "print(\"Third number is \",a[2])\n",
    "\n",
    "# 使用 append 方法添加元素\n",
    "a.append(-1)\n",
    "print(\"After append: \", a)\n",
    "\n",
    "# 删除某个位置的元素\n",
    "del a[1]\n",
    "print(\"After delete second number: \", a)\n",
    "\n",
    "# 删除具体某个元素\n",
    "a.remove(15)\n",
    "print(\"After delete 15：\", a)\n",
    "\n",
    "# 排序,默认从小到大\n",
    "a.sort()\n",
    "print(\"After sort\", a)\n",
    "\n",
    "# 逆排序，从大到小\n",
    "a.sort(reverse = True)\n",
    "print(\"After reverse sort\", a)\n",
    "\n",
    "# 求长度\n",
    "print(\"Length: \", len(a))"
   ]
  },
  {
   "cell_type": "code",
   "execution_count": 21,
   "metadata": {},
   "outputs": [
    {
     "output_type": "stream",
     "name": "stdout",
     "text": [
      "我的里程： 14000\n我的油耗： 11\n我的马力： 200\n不及格\n\n我的里程： 2000\n我的油耗： 5\n我的马力： 175\n良好\n"
     ]
    }
   ],
   "source": [
    "class Car:\n",
    "    def __init__(self, miles, fuel, horsepower):\n",
    "        self.total_miles = miles\n",
    "        self.fuel = fuel\n",
    "        self.horsepower = horsepower\n",
    "        pass\n",
    "\n",
    "    def introduce(self):\n",
    "        print(\"我的里程：\", self.total_miles)\n",
    "        print(\"我的油耗：\", self.fuel)\n",
    "        print(\"我的马力：\", self.horsepower)\n",
    "\n",
    "    def print_eco_info(self):\n",
    "        if self.fuel > 10 :\n",
    "            print(\"不及格\")\n",
    "        elif self.fuel > 6:\n",
    "            print(\"及格\")\n",
    "        else:\n",
    "            print(\"良好\")\n",
    "\n",
    "car1 = Car(14000, 11, 200)\n",
    "car2 = Car(2000,5, 175)\n",
    "\n",
    "car1.introduce()\n",
    "car1.print_eco_info()\n",
    "print(\"\")\n",
    "car2.introduce()\n",
    "car2.print_eco_info()"
   ]
  },
  {
   "cell_type": "code",
   "execution_count": null,
   "metadata": {},
   "outputs": [],
   "source": []
  }
 ]
}
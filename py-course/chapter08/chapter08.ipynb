{
 "metadata": {
  "language_info": {
   "codemirror_mode": {
    "name": "ipython",
    "version": 3
   },
   "file_extension": ".py",
   "mimetype": "text/x-python",
   "name": "python",
   "nbconvert_exporter": "python",
   "pygments_lexer": "ipython3",
   "version": "3.8.5-final"
  },
  "orig_nbformat": 2,
  "kernelspec": {
   "name": "python3",
   "display_name": "Python 3.8.5 64-bit (conda)",
   "metadata": {
    "interpreter": {
     "hash": "c39885171911825c85dd2872b53a1f517ccf6205e737fb46b3c547492811485f"
    }
   }
  }
 },
 "nbformat": 4,
 "nbformat_minor": 2,
 "cells": [
  {
   "cell_type": "code",
   "execution_count": null,
   "metadata": {},
   "outputs": [],
   "source": [
    "from bs4 import BeautifulSoup\n",
    "\n"
   ]
  },
  {
   "cell_type": "code",
   "execution_count": null,
   "metadata": {
    "tags": [
     "outputPrepend"
    ]
   },
   "outputs": [],
   "source": [
    "# 打开 jiandan.html，第二个参数 r，代表 read\n",
    "# open 函数返回一个文件对象，保存在变量 fo 中\n",
    "fo = open(\"jiandan.html\",\"r\",encoding=\"utf-8\")\n",
    "\n",
    "# 调用文件对象的 read 函数，该函数将文件的内容读取到 Python 中\n",
    "# read 函数的返回值就会文件内容，我们保存在 html_content 中\n",
    "html_content = fo.read()\n",
    "\n",
    "# 关闭文件对象\n",
    "fo.close()\n",
    "\n",
    "# 打印 html_content 变量，看内容是否被正确加载\n",
    "print(html_content)\n"
   ]
  },
  {
   "cell_type": "code",
   "execution_count": 43,
   "metadata": {
    "tags": []
   },
   "outputs": [
    {
     "output_type": "stream",
     "name": "stdout",
     "text": [
      "<title>\n煎蛋 - 地球上没有新鲜事\n</title>\n"
     ]
    }
   ],
   "source": [
    "# 从 bs4 模块中导入 BeautifulSoup 类\n",
    "from bs4 import BeautifulSoup\n",
    "\n",
    "# 创建一个 BeautifulSoup 的对象，并将刚才我们存储网页内容的变量作为参数\n",
    "doc = BeautifulSoup(html_content)\n",
    "\n",
    "# 打印 doc 对象的 title 属性。\n",
    "print(doc.title)"
   ]
  },
  {
   "cell_type": "code",
   "execution_count": 46,
   "metadata": {},
   "outputs": [
    {
     "output_type": "stream",
     "name": "stdout",
     "text": [
      "\n煎蛋 - 地球上没有新鲜事\n\n"
     ]
    }
   ],
   "source": [
    "title_label = doc.title\n",
    "print(title_label.get_text())"
   ]
  },
  {
   "cell_type": "code",
   "execution_count": 47,
   "metadata": {},
   "outputs": [
    {
     "output_type": "stream",
     "name": "stdout",
     "text": [
      "[<div class=\"logo\">\n<h1><a href=\"/\" onclick=\"ga('send', 'pageview','/header/logo');\">煎蛋</a></h1>\n</div>]\n"
     ]
    }
   ],
   "source": [
    "# find_all 是 BeautifulSoup 对象的常用方法，用于查找特定的标签\n",
    "# 接受三个参数，第一个是要查找的标签名，第二个则是要匹配的属性名\n",
    "# 比如这里，我们查找的是 class=logo 标签，则直接按如下写法即可。\n",
    "# 因为 class 是 Python 的关键字，所以这里需要使用 class_ 以示区分\n",
    "# 最终，find_all 函数返回所有满足条件的标签列表\n",
    "logo_label = doc.find_all(\"div\", class_=\"logo\")\n",
    "\n",
    "print(logo_label)"
   ]
  },
  {
   "cell_type": "code",
   "execution_count": 56,
   "metadata": {},
   "outputs": [
    {
     "output_type": "stream",
     "name": "stdout",
     "text": [
      "['logo']\n"
     ]
    }
   ],
   "source": [
    "# 取 logo_label 列表的第一个标签对象\n",
    "label = logo_label[0]\n",
    "\n",
    "# 打印这个对象的 class 属性\n",
    "print(label.attrs[\"class\"])"
   ]
  },
  {
   "cell_type": "code",
   "execution_count": 48,
   "metadata": {},
   "outputs": [
    {
     "output_type": "stream",
     "name": "stdout",
     "text": [
      "24\n"
     ]
    }
   ],
   "source": [
    "# 查找 class 为 indexs 的所有 div 标签，存储在 index_labels 中\n",
    "index_labels = doc.find_all(\"div\", class_=\"indexs\")\n",
    "\n",
    "# 打印符合条件的 div 标签的数量\n",
    "print(len(index_labels))"
   ]
  },
  {
   "cell_type": "code",
   "execution_count": 49,
   "metadata": {},
   "outputs": [
    {
     "output_type": "stream",
     "name": "stdout",
     "text": [
      "<div class=\"indexs\">\n<span class=\"comment-link\" title=\"1小时 ago\">8</span>\n<h2><a href=\"http://jandan.net/p/108693\" target=\"_blank\">引发普通感冒的鼻病毒会将新冠病毒排挤出细胞！</a></h2>\n<div class=\"time_s\"><a href=\"http://jandan.net/p/author/majer\">majer</a> · <strong><a href=\"http://jandan.net/p/tag/%e6%96%b0%e5%86%a0%e7%97%85%e6%af%92\" rel=\"tag\">新冠病毒</a></strong></div>\n换而言之，如果你感冒了，在那段期间就不会被新冠病毒感染 </div>\n"
     ]
    }
   ],
   "source": [
    "first_object = index_labels[0]\n",
    "print(first_object)\n",
    "\n"
   ]
  },
  {
   "cell_type": "code",
   "execution_count": 50,
   "metadata": {},
   "outputs": [
    {
     "output_type": "stream",
     "name": "stdout",
     "text": [
      "引发普通感冒的鼻病毒会将新冠病毒排挤出细胞！\n"
     ]
    }
   ],
   "source": [
    "# 从刚才的 first_object 标签对象中过滤出所有 target=_blank 的 a 标签\n",
    "a_labels = first_object.find_all(\"a\",target=\"_blank\")\n",
    "\n",
    "# 取第一个标签对象\n",
    "my_label = a_labels[0]\n",
    "\n",
    "# 打印该标签对象内的文字内容\n",
    "print(my_label.get_text())"
   ]
  },
  {
   "cell_type": "code",
   "execution_count": 51,
   "metadata": {},
   "outputs": [
    {
     "output_type": "stream",
     "name": "stdout",
     "text": [
      "引发普通感冒的鼻病毒会将新冠病毒排挤出细胞！\n无厘头研究：植入虚假的记忆再抹去它们\n什么是仇恨犯罪？\n突发：LHCb发现了违背标准模型的现象\n今日带货 20210324\n舌战裸猿：IBM搞出了可以打辩论赛的AI\n大吐槽：「我没醉，醉的是世界」\n今年世界总发电量的0.6%被用于挖比特币\n接种疫苗后还是感染新冠？不要为此惊讶\n今日带货：蛋友家的血橙\n科学家首次在野外检测到抗多药的超级真菌\n未在iPhone12盒中搭配充电器，苹果被巴西消协罚200万美元\n工程师将解决城市陷坑的问题\n今日带货：粉面专场\n科学家在碟子里培育出了泪腺，并让它哭泣\n疯狂实验进行时：把志愿者禁闭在黑暗的空间里40天\n今日带货 20210321\n我们已向外星人发送了哪些消息？\n脑力小体操：石头+剪刀 VS 石头+布\n发霉啦：今天，我终于向母亲摊牌了\n普渡大学的经济学家计算出世界各地幸福的价格\n人类首次观察到木星上极光黎明风暴的成形过程\n为女儿出头，母亲编辑假裸照败坏高中啦啦队队员的名誉\n今日带货：淘宝京东蛋友推荐\n"
     ]
    }
   ],
   "source": [
    "# 从第一次 find_all 获取的标签对象中抽取标题\n",
    "def get_title(label_object):\n",
    "    # 从刚才的参数传入的标签对象中过滤出所有 target=_blank 的 a 标签\n",
    "    a_labels = label_object.find_all(\"a\",target=\"_blank\")\n",
    "\n",
    "    # 取第一个标签对象\n",
    "    my_label = a_labels[0]\n",
    "\n",
    "    # 将标签的文字内容作为返回值返回\n",
    "    return my_label.get_text()\n",
    "\n",
    "# 用循环针对每个 index_labels 列表中的标签对象\n",
    "# 都将其作为参数传入 get_title 函数\n",
    "# 并打印返回值\n",
    "for i in range(0,len(index_labels)):\n",
    "    title = get_title(index_labels[i])\n",
    "    print(title)"
   ]
  },
  {
   "cell_type": "code",
   "execution_count": 55,
   "metadata": {
    "tags": []
   },
   "outputs": [
    {
     "output_type": "stream",
     "name": "stdout",
     "text": [
      "1小时 ago\n4小时 ago\n8小时 ago\n12小时 ago\n14小时 ago\n23小时 ago\n1天 ago\n1天 ago\n1天 ago\n2天 ago\n2天 ago\n2天 ago\n2天 ago\n3天 ago\n3天 ago\n3天 ago\n4天 ago\n4天 ago\n4天 ago\n5天 ago\n5天 ago\n5天 ago\n5天 ago\n6天 ago\n"
     ]
    }
   ],
   "source": [
    "comments = doc.find_all(\"span\",class_=\"comment-link\")\n",
    "for i in range(0,len(comments)):\n",
    "    comment = comments[i]\n",
    "    print(comment.attrs[\"title\"])"
   ]
  },
  {
   "cell_type": "code",
   "execution_count": null,
   "metadata": {},
   "outputs": [],
   "source": []
  },
  {
   "cell_type": "code",
   "execution_count": null,
   "metadata": {},
   "outputs": [],
   "source": []
  }
 ]
}
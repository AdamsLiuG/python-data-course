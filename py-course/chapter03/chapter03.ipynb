{
 "metadata": {
  "language_info": {
   "codemirror_mode": {
    "name": "ipython",
    "version": 3
   },
   "file_extension": ".py",
   "mimetype": "text/x-python",
   "name": "python",
   "nbconvert_exporter": "python",
   "pygments_lexer": "ipython3",
   "version": "3.8.5-final"
  },
  "orig_nbformat": 2,
  "kernelspec": {
   "name": "python385jvsc74a57bd0c39885171911825c85dd2872b53a1f517ccf6205e737fb46b3c547492811485f",
   "display_name": "Python 3.8.5 64-bit (conda)"
  }
 },
 "nbformat": 4,
 "nbformat_minor": 2,
 "cells": [
  {
   "cell_type": "code",
   "execution_count": 1,
   "metadata": {},
   "outputs": [
    {
     "output_type": "stream",
     "name": "stdout",
     "text": [
      "及格\n"
     ]
    }
   ],
   "source": [
    "a = 75\n",
    "if a > 80:\n",
    "    print(\"优秀\")\n",
    "elif a > 60:\n",
    "    print(\"及格\")\n",
    "else:\n",
    "    print(\"不及格\")"
   ]
  },
  {
   "cell_type": "code",
   "execution_count": 2,
   "metadata": {},
   "outputs": [
    {
     "output_type": "stream",
     "name": "stdout",
     "text": [
      "及格\n优秀\n及格\n"
     ]
    }
   ],
   "source": [
    "a = 75\n",
    "b = 90\n",
    "c = 66\n",
    "\n",
    "if a > 80:\n",
    "    print(\"优秀\")\n",
    "elif a > 60:\n",
    "    print(\"及格\")\n",
    "else:\n",
    "    print(\"不及格\")\n",
    "\n",
    "if b > 80:\n",
    "    print(\"优秀\")\n",
    "elif b > 60:\n",
    "    print(\"及格\")\n",
    "else:\n",
    "    print(\"不及格\")\n",
    "\n",
    "if c > 80:\n",
    "    print(\"优秀\")\n",
    "elif c > 60:\n",
    "    print(\"及格\")\n",
    "else:\n",
    "    print(\"不及格\")"
   ]
  },
  {
   "cell_type": "code",
   "execution_count": 3,
   "metadata": {},
   "outputs": [
    {
     "output_type": "stream",
     "name": "stdout",
     "text": [
      "  A\n AAA\nAAAAA\n"
     ]
    }
   ],
   "source": [
    "print(\"  A\")\n",
    "print(\" AAA\")\n",
    "print(\"AAAAA\")"
   ]
  },
  {
   "cell_type": "code",
   "execution_count": 4,
   "metadata": {},
   "outputs": [],
   "source": [
    "def print_triangle():\n",
    "    print(\"  A\")\n",
    "    print(\" AAA\")\n",
    "    print(\"AAAAA\")"
   ]
  },
  {
   "cell_type": "code",
   "execution_count": 5,
   "metadata": {},
   "outputs": [
    {
     "output_type": "stream",
     "name": "stdout",
     "text": [
      "  A\n AAA\nAAAAA\n"
     ]
    }
   ],
   "source": [
    "print_triangle()\n"
   ]
  },
  {
   "cell_type": "code",
   "execution_count": 6,
   "metadata": {},
   "outputs": [
    {
     "output_type": "stream",
     "name": "stdout",
     "text": [
      "  A\n AAA\nAAAAA\n  A\n AAA\nAAAAA\n  A\n AAA\nAAAAA\n"
     ]
    }
   ],
   "source": [
    "print_triangle()\n",
    "print_triangle()\n",
    "print_triangle()\n"
   ]
  },
  {
   "cell_type": "code",
   "execution_count": 7,
   "metadata": {},
   "outputs": [],
   "source": [
    "def print_level():\n",
    "    if a > 80:\n",
    "        print(\"优秀\")\n",
    "    elif a > 60:\n",
    "        print(\"及格\")\n",
    "    else:\n",
    "        print(\"不及格\")"
   ]
  },
  {
   "cell_type": "code",
   "execution_count": 8,
   "metadata": {},
   "outputs": [
    {
     "output_type": "stream",
     "name": "stdout",
     "text": [
      "6\n"
     ]
    }
   ],
   "source": [
    "def print_out(a):\n",
    "    print(a + 3)\n",
    "   \n",
    "print_out(3)"
   ]
  },
  {
   "cell_type": "code",
   "execution_count": 9,
   "metadata": {},
   "outputs": [],
   "source": [
    "def print_level(score):\n",
    "    if score > 80:\n",
    "        print(\"优秀\")\n",
    "    elif score > 60:\n",
    "        print(\"及格\")\n",
    "    else:\n",
    "        print(\"不及格\")"
   ]
  },
  {
   "cell_type": "code",
   "execution_count": 10,
   "metadata": {},
   "outputs": [
    {
     "output_type": "stream",
     "name": "stdout",
     "text": [
      "及格\n优秀\n及格\n"
     ]
    }
   ],
   "source": [
    "a = 75\n",
    "b = 90\n",
    "c = 66\n",
    "\n",
    "print_level(a)\n",
    "print_level(b)\n",
    "print_level(c)"
   ]
  },
  {
   "cell_type": "code",
   "execution_count": 11,
   "metadata": {},
   "outputs": [],
   "source": [
    "def print_info(name, age, title):\n",
    "    print(\"姓名：\" + name)\n",
    "    print(\"年龄：\" + str(age))\n",
    "    print(\"编制：\" + title)"
   ]
  },
  {
   "cell_type": "code",
   "execution_count": 12,
   "metadata": {},
   "outputs": [
    {
     "output_type": "stream",
     "name": "stdout",
     "text": [
      "姓名：小明\n年龄：30\n编制：正式员工\n姓名：小红\n年龄：21\n编制：实习生\n"
     ]
    }
   ],
   "source": [
    "print_info(\"小明\",30, \"正式员工\")\n",
    "print_info(\"小红\",21, \"实习生\")"
   ]
  },
  {
   "cell_type": "code",
   "execution_count": 13,
   "metadata": {},
   "outputs": [
    {
     "output_type": "stream",
     "name": "stdout",
     "text": [
      "85.0\n"
     ]
    }
   ],
   "source": [
    "def three_average(score1, score2, score3):\n",
    "    result = (score1 + score2 + score2) / 3\n",
    "    return result\n",
    "\n",
    "final_score = three_average(a, b, c)\n",
    "print(final_score)"
   ]
  },
  {
   "cell_type": "code",
   "execution_count": 14,
   "metadata": {},
   "outputs": [],
   "source": [
    "def get_level(score):\n",
    "    if score > 80:\n",
    "        return \"优秀\"\n",
    "    elif score > 60:\n",
    "        return \"及格\"\n",
    "    else:\n",
    "        return \"不及格\""
   ]
  },
  {
   "cell_type": "code",
   "execution_count": 15,
   "metadata": {},
   "outputs": [
    {
     "output_type": "stream",
     "name": "stdout",
     "text": [
      "不及格 及格 优秀\n"
     ]
    }
   ],
   "source": [
    "a = get_level(50)\n",
    "b = get_level(65)\n",
    "c = get_level(90)\n",
    "\n",
    "print(a,b,c)"
   ]
  },
  {
   "cell_type": "code",
   "execution_count": 16,
   "metadata": {},
   "outputs": [
    {
     "output_type": "stream",
     "name": "stdout",
     "text": [
      "1225\n"
     ]
    }
   ],
   "source": [
    "def accumulate(n):\n",
    "    result = 0\n",
    "    for i in range(0,n+1):\n",
    "        result = result + i\n",
    "    return result\n",
    "\n",
    "# 1.b\n",
    "a = accumulate(49)\n",
    "print(a)"
   ]
  },
  {
   "cell_type": "code",
   "execution_count": null,
   "metadata": {},
   "outputs": [],
   "source": []
  }
 ]
}
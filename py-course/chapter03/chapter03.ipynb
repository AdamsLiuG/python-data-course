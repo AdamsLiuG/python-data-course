{
 "metadata": {
  "language_info": {
   "codemirror_mode": {
    "name": "ipython",
    "version": 3
   },
   "file_extension": ".py",
   "mimetype": "text/x-python",
   "name": "python",
   "nbconvert_exporter": "python",
   "pygments_lexer": "ipython3",
   "version": "3.8.5-final"
  },
  "orig_nbformat": 2,
  "kernelspec": {
   "name": "python3",
   "display_name": "Python 3",
   "language": "python"
  }
 },
 "nbformat": 4,
 "nbformat_minor": 2,
 "cells": [
  {
   "source": [
    "### 简单的 if-else "
   ],
   "cell_type": "markdown",
   "metadata": {}
  },
  {
   "cell_type": "code",
   "execution_count": 3,
   "metadata": {},
   "outputs": [
    {
     "output_type": "stream",
     "name": "stdout",
     "text": [
      "优秀\n"
     ]
    }
   ],
   "source": [
    "stu_a = 98\n",
    "if stu_a > 90:\n",
    "    print(\"优秀\")\n",
    "else:\n",
    "    print(\"普通\")"
   ]
  },
  {
   "cell_type": "code",
   "execution_count": 4,
   "metadata": {},
   "outputs": [
    {
     "output_type": "stream",
     "name": "stdout",
     "text": [
      "True\nFalse\nTrue\nFalse\n"
     ]
    }
   ],
   "source": [
    "condition_1 = True\n",
    "condition_2 = True\n",
    "condition_3 = False\n",
    "print(condition_1 and condition_2)\n",
    "print(condition_2 and condition_3)\n",
    "print(condition_2 or condition_3)\n",
    "print(condition_3 or condition_3)"
   ]
  },
  {
   "cell_type": "code",
   "execution_count": 5,
   "metadata": {},
   "outputs": [
    {
     "output_type": "stream",
     "name": "stdout",
     "text": [
      "优秀\n优秀\n"
     ]
    }
   ],
   "source": [
    "# 数学成绩\n",
    "stu_a_math = 91\n",
    "# 语文成绩\n",
    "stu_a_chinese = 79\n",
    "# 考勤分数\n",
    "stu_a_attendence = 100\n",
    "\n",
    "# 组合条件一\n",
    "if stu_a_math > 90 and stu_a_attendence == 100:\n",
    "    print(\"优秀\")\n",
    "else:\n",
    "    print(\"普通\")\n",
    "\n",
    "# 组合条件二\n",
    "if stu_a_math > 90 or stu_a_chinese > 90:\n",
    "    print(\"优秀\")\n",
    "else:\n",
    "    print(\"普通\")"
   ]
  },
  {
   "cell_type": "code",
   "execution_count": 8,
   "metadata": {},
   "outputs": [
    {
     "output_type": "stream",
     "name": "stdout",
     "text": [
      "差\n"
     ]
    }
   ],
   "source": [
    "stu_b_math = 41\n",
    "if stu_b_math > 90:\n",
    "    print(\"优\")\n",
    "elif stu_b_math > 80:\n",
    "    print(\"良\")\n",
    "elif stu_b_math > 60:\n",
    "    print(\"中\")\n",
    "else:\n",
    "    print(\"差\")"
   ]
  },
  {
   "cell_type": "code",
   "execution_count": null,
   "metadata": {},
   "outputs": [],
   "source": []
  }
 ]
}
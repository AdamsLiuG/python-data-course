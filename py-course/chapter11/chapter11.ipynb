{
 "metadata": {
  "language_info": {
   "codemirror_mode": {
    "name": "ipython",
    "version": 3
   },
   "file_extension": ".py",
   "mimetype": "text/x-python",
   "name": "python",
   "nbconvert_exporter": "python",
   "pygments_lexer": "ipython3",
   "version": "3.8.5-final"
  },
  "orig_nbformat": 2,
  "kernelspec": {
   "name": "python385jvsc74a57bd0c39885171911825c85dd2872b53a1f517ccf6205e737fb46b3c547492811485f",
   "display_name": "Python 3.8.5 64-bit (conda)"
  }
 },
 "nbformat": 4,
 "nbformat_minor": 2,
 "cells": [
  {
   "cell_type": "code",
   "execution_count": 1,
   "metadata": {},
   "outputs": [],
   "source": [
    "import pandas as pd"
   ]
  },
  {
   "cell_type": "code",
   "execution_count": 8,
   "metadata": {},
   "outputs": [
    {
     "output_type": "stream",
     "name": "stdout",
     "text": [
      "df_rating:\n           title rating                                              stars\n0           决胜法庭   3.7分                 主演于和伟,张佳宁,韩栋,王耀庆,连奕名,胡静,杜源,王艺禅,王全有\n1         刘老根第三部   4.0分                                主演赵本山,范伟,李静,闫学晶,王小宝\n2         我的僵尸王爷   4.6分                                               主演内详\n3        新世界2020   3.4分                 主演孙红雷,张鲁一,尹昉,万茜,李纯,胡静,秦汉,赵峥,张瑶,张晔子\n4        三生三世枕上书   4.4分          主演迪丽热巴,高伟光,陈楚河,郭品超,刘雨欣,刘芮麟,王骁,李东恒,袁雨萱,黄俊捷\n...          ...    ...                                                ...\n3595    二十不惑DVD版   4.0分              主演关晓彤,卜冠今,李庚希,董思怡,金世佳,牛骏峰,王安宇,曹恩齐,徐绍瑛\n3596       实习女捕快   4.0分             主演杨安琪 樊驿宁 卜冠之 南思恺 王蕴凡 陈嘉敏 刘竹 齐超 唐鑫 郑旭东\n3597       我的男月嫂   1.0分                                   主演黄炫彰 唐丹 王一嚞 吴佳曦\n3598  喂，我是你的微糖男友   2.0分                          主演吴大伟,张集骏,柯博伦,辛诗琪,代雨丹,蒋蕊泽\n3599    穿越火线2020   4.6分  主演鹿晗,吴磊,代露娃,宋妍霏,张萌,邵兵,王锵,刘帅良,朱俊麟,黄德毅,潘美烨,宋家腾,夏...\n\n[3600 rows x 3 columns]\ndf_rating type:\n<class 'pandas.core.frame.DataFrame'>\n"
     ]
    }
   ],
   "source": [
    "# 使用 pandas 模块的 read_csv 函数，读取 csn 文件。并将结果存在 df_rating 变量中\n",
    "df_rating = pd.read_csv(\"tv_rating.csv\")\n",
    "\n",
    "# 打印 df_rating 变量\n",
    "print(\"df_rating:\")\n",
    "print(df_rating)\n",
    "\n",
    "# 打印 df_rating 变量的类型\n",
    "print(\"df_rating type:\")\n",
    "print(type(df_rating))"
   ]
  },
  {
   "cell_type": "code",
   "execution_count": 6,
   "metadata": {},
   "outputs": [
    {
     "output_type": "execute_result",
     "data": {
      "text/plain": [
       "           title rating                                              stars\n",
       "0           决胜法庭   3.7分                 主演于和伟,张佳宁,韩栋,王耀庆,连奕名,胡静,杜源,王艺禅,王全有\n",
       "1         刘老根第三部   4.0分                                主演赵本山,范伟,李静,闫学晶,王小宝\n",
       "2         我的僵尸王爷   4.6分                                               主演内详\n",
       "3        新世界2020   3.4分                 主演孙红雷,张鲁一,尹昉,万茜,李纯,胡静,秦汉,赵峥,张瑶,张晔子\n",
       "4        三生三世枕上书   4.4分          主演迪丽热巴,高伟光,陈楚河,郭品超,刘雨欣,刘芮麟,王骁,李东恒,袁雨萱,黄俊捷\n",
       "...          ...    ...                                                ...\n",
       "3595    二十不惑DVD版   4.0分              主演关晓彤,卜冠今,李庚希,董思怡,金世佳,牛骏峰,王安宇,曹恩齐,徐绍瑛\n",
       "3596       实习女捕快   4.0分             主演杨安琪 樊驿宁 卜冠之 南思恺 王蕴凡 陈嘉敏 刘竹 齐超 唐鑫 郑旭东\n",
       "3597       我的男月嫂   1.0分                                   主演黄炫彰 唐丹 王一嚞 吴佳曦\n",
       "3598  喂，我是你的微糖男友   2.0分                          主演吴大伟,张集骏,柯博伦,辛诗琪,代雨丹,蒋蕊泽\n",
       "3599    穿越火线2020   4.6分  主演鹿晗,吴磊,代露娃,宋妍霏,张萌,邵兵,王锵,刘帅良,朱俊麟,黄德毅,潘美烨,宋家腾,夏...\n",
       "\n",
       "[3600 rows x 3 columns]"
      ],
      "text/html": "<div>\n<style scoped>\n    .dataframe tbody tr th:only-of-type {\n        vertical-align: middle;\n    }\n\n    .dataframe tbody tr th {\n        vertical-align: top;\n    }\n\n    .dataframe thead th {\n        text-align: right;\n    }\n</style>\n<table border=\"1\" class=\"dataframe\">\n  <thead>\n    <tr style=\"text-align: right;\">\n      <th></th>\n      <th>title</th>\n      <th>rating</th>\n      <th>stars</th>\n    </tr>\n  </thead>\n  <tbody>\n    <tr>\n      <th>0</th>\n      <td>决胜法庭</td>\n      <td>3.7分</td>\n      <td>主演于和伟,张佳宁,韩栋,王耀庆,连奕名,胡静,杜源,王艺禅,王全有</td>\n    </tr>\n    <tr>\n      <th>1</th>\n      <td>刘老根第三部</td>\n      <td>4.0分</td>\n      <td>主演赵本山,范伟,李静,闫学晶,王小宝</td>\n    </tr>\n    <tr>\n      <th>2</th>\n      <td>我的僵尸王爷</td>\n      <td>4.6分</td>\n      <td>主演内详</td>\n    </tr>\n    <tr>\n      <th>3</th>\n      <td>新世界2020</td>\n      <td>3.4分</td>\n      <td>主演孙红雷,张鲁一,尹昉,万茜,李纯,胡静,秦汉,赵峥,张瑶,张晔子</td>\n    </tr>\n    <tr>\n      <th>4</th>\n      <td>三生三世枕上书</td>\n      <td>4.4分</td>\n      <td>主演迪丽热巴,高伟光,陈楚河,郭品超,刘雨欣,刘芮麟,王骁,李东恒,袁雨萱,黄俊捷</td>\n    </tr>\n    <tr>\n      <th>...</th>\n      <td>...</td>\n      <td>...</td>\n      <td>...</td>\n    </tr>\n    <tr>\n      <th>3595</th>\n      <td>二十不惑DVD版</td>\n      <td>4.0分</td>\n      <td>主演关晓彤,卜冠今,李庚希,董思怡,金世佳,牛骏峰,王安宇,曹恩齐,徐绍瑛</td>\n    </tr>\n    <tr>\n      <th>3596</th>\n      <td>实习女捕快</td>\n      <td>4.0分</td>\n      <td>主演杨安琪 樊驿宁 卜冠之 南思恺 王蕴凡 陈嘉敏 刘竹 齐超 唐鑫 郑旭东</td>\n    </tr>\n    <tr>\n      <th>3597</th>\n      <td>我的男月嫂</td>\n      <td>1.0分</td>\n      <td>主演黄炫彰 唐丹 王一嚞 吴佳曦</td>\n    </tr>\n    <tr>\n      <th>3598</th>\n      <td>喂，我是你的微糖男友</td>\n      <td>2.0分</td>\n      <td>主演吴大伟,张集骏,柯博伦,辛诗琪,代雨丹,蒋蕊泽</td>\n    </tr>\n    <tr>\n      <th>3599</th>\n      <td>穿越火线2020</td>\n      <td>4.6分</td>\n      <td>主演鹿晗,吴磊,代露娃,宋妍霏,张萌,邵兵,王锵,刘帅良,朱俊麟,黄德毅,潘美烨,宋家腾,夏...</td>\n    </tr>\n  </tbody>\n</table>\n<p>3600 rows × 3 columns</p>\n</div>"
     },
     "metadata": {},
     "execution_count": 6
    }
   ],
   "source": [
    "df_rating"
   ]
  },
  {
   "cell_type": "code",
   "execution_count": 31,
   "metadata": {},
   "outputs": [
    {
     "output_type": "execute_result",
     "data": {
      "text/plain": [
       "   姓名  年龄  籍贯   部门\n",
       "0  小明  22  河北  IT部\n",
       "1  小亮  25  广东  IT部\n",
       "2  小E  23  四川  财务部"
      ],
      "text/html": "<div>\n<style scoped>\n    .dataframe tbody tr th:only-of-type {\n        vertical-align: middle;\n    }\n\n    .dataframe tbody tr th {\n        vertical-align: top;\n    }\n\n    .dataframe thead th {\n        text-align: right;\n    }\n</style>\n<table border=\"1\" class=\"dataframe\">\n  <thead>\n    <tr style=\"text-align: right;\">\n      <th></th>\n      <th>姓名</th>\n      <th>年龄</th>\n      <th>籍贯</th>\n      <th>部门</th>\n    </tr>\n  </thead>\n  <tbody>\n    <tr>\n      <th>0</th>\n      <td>小明</td>\n      <td>22</td>\n      <td>河北</td>\n      <td>IT部</td>\n    </tr>\n    <tr>\n      <th>1</th>\n      <td>小亮</td>\n      <td>25</td>\n      <td>广东</td>\n      <td>IT部</td>\n    </tr>\n    <tr>\n      <th>2</th>\n      <td>小E</td>\n      <td>23</td>\n      <td>四川</td>\n      <td>财务部</td>\n    </tr>\n  </tbody>\n</table>\n</div>"
     },
     "metadata": {},
     "execution_count": 31
    }
   ],
   "source": [
    "# 使用 read_excel 函数，读取 info.xlsx 的内容并存储在 df_info 变量中\n",
    "df_info = pd.read_excel(\"info.xlsx\")\n",
    "\n",
    "# 不用 print，直接将 df_info 放在最后一行，让notebook用表格形式打印\n",
    "df_info"
   ]
  },
  {
   "cell_type": "code",
   "execution_count": 32,
   "metadata": {},
   "outputs": [
    {
     "output_type": "execute_result",
     "data": {
      "text/plain": [
       "   姓名 绩效考核 上期考核结果\n",
       "0  小明   优秀     优秀\n",
       "1  小亮   良好     优秀\n",
       "2  小E   良好     优秀"
      ],
      "text/html": "<div>\n<style scoped>\n    .dataframe tbody tr th:only-of-type {\n        vertical-align: middle;\n    }\n\n    .dataframe tbody tr th {\n        vertical-align: top;\n    }\n\n    .dataframe thead th {\n        text-align: right;\n    }\n</style>\n<table border=\"1\" class=\"dataframe\">\n  <thead>\n    <tr style=\"text-align: right;\">\n      <th></th>\n      <th>姓名</th>\n      <th>绩效考核</th>\n      <th>上期考核结果</th>\n    </tr>\n  </thead>\n  <tbody>\n    <tr>\n      <th>0</th>\n      <td>小明</td>\n      <td>优秀</td>\n      <td>优秀</td>\n    </tr>\n    <tr>\n      <th>1</th>\n      <td>小亮</td>\n      <td>良好</td>\n      <td>优秀</td>\n    </tr>\n    <tr>\n      <th>2</th>\n      <td>小E</td>\n      <td>良好</td>\n      <td>优秀</td>\n    </tr>\n  </tbody>\n</table>\n</div>"
     },
     "metadata": {},
     "execution_count": 32
    }
   ],
   "source": [
    "# 使用 read_excel 函数读取 info.xlsx 文件里的 “绩效” 这个表格\n",
    "# 并将结果存在 df_perf 变量中\n",
    "df_perf = pd.read_excel(\"info.xlsx\", sheet_name=\"绩效\")\n",
    "\n",
    "# 让notebook 打印 df_perf 变量\n",
    "df_perf"
   ]
  },
  {
   "cell_type": "code",
   "execution_count": 33,
   "metadata": {},
   "outputs": [
    {
     "output_type": "execute_result",
     "data": {
      "text/plain": [
       "   姓名 绩效考核\n",
       "0  小明   优秀\n",
       "1  小亮   良好\n",
       "2  小E   良好"
      ],
      "text/html": "<div>\n<style scoped>\n    .dataframe tbody tr th:only-of-type {\n        vertical-align: middle;\n    }\n\n    .dataframe tbody tr th {\n        vertical-align: top;\n    }\n\n    .dataframe thead th {\n        text-align: right;\n    }\n</style>\n<table border=\"1\" class=\"dataframe\">\n  <thead>\n    <tr style=\"text-align: right;\">\n      <th></th>\n      <th>姓名</th>\n      <th>绩效考核</th>\n    </tr>\n  </thead>\n  <tbody>\n    <tr>\n      <th>0</th>\n      <td>小明</td>\n      <td>优秀</td>\n    </tr>\n    <tr>\n      <th>1</th>\n      <td>小亮</td>\n      <td>良好</td>\n    </tr>\n    <tr>\n      <th>2</th>\n      <td>小E</td>\n      <td>良好</td>\n    </tr>\n  </tbody>\n</table>\n</div>"
     },
     "metadata": {},
     "execution_count": 33
    }
   ],
   "source": [
    "# 使用 read_excel 函数读取 info.xlsx 中的 绩效 表格\n",
    "# 并只读取 A B两行，并将结果存到 df_perf1 变量中\n",
    "df_perf1 = pd.read_excel(\"info.xlsx\", sheet_name=\"绩效\", usecols=\"A,B\")\n",
    "\n",
    "# 让 notebook 打印 df_perf1 变量\n",
    "df_perf1"
   ]
  },
  {
   "cell_type": "code",
   "execution_count": 27,
   "metadata": {},
   "outputs": [
    {
     "output_type": "stream",
     "name": "stdout",
     "text": [
      "['基本信息', '绩效']\n"
     ]
    }
   ],
   "source": [
    "with pd.ExcelFile(\"info.xlsx\") as xls:\n",
    "    print(xls.sheet_names)"
   ]
  },
  {
   "cell_type": "code",
   "execution_count": 46,
   "metadata": {},
   "outputs": [],
   "source": [
    "import urllib3\n",
    "def download_content(url):\n",
    "    # 创建一个 PoolManager 对象，命名为 http\n",
    "    http = urllib3.PoolManager()\n",
    "\n",
    "    # 调用 http 对象的 request 方法，第一个参数传一个字符串 \"GET\"\n",
    "    # 第二个参数则是要下载的网址，也就是我们的 url 变量\n",
    "    # request 方法会返回一个 HTTPResponse 类的对象，我们命名为 response\n",
    "    response = http.request(\"GET\", url)\n",
    "\n",
    "    # 获取 response 对象的 data 属性，存储在变量 response_data 中\n",
    "    response_data = response.data\n",
    "\n",
    "    # 调用 response_data 对象的 decode 方法，获得网页的内容，存储在 html_content \n",
    "    # 变量中\n",
    "    html_content = response_data.decode()\n",
    "    return html_content\n",
    "\n",
    "html_content = download_content(\"http://fx.cmbchina.com/Hq/\")"
   ]
  },
  {
   "cell_type": "code",
   "execution_count": 47,
   "metadata": {
    "tags": []
   },
   "outputs": [],
   "source": []
  },
  {
   "cell_type": "code",
   "execution_count": 54,
   "metadata": {},
   "outputs": [
    {
     "output_type": "stream",
     "name": "stdout",
     "text": [
      "2\n"
     ]
    }
   ],
   "source": [
    "# 调用 read_html 函数，传入网页的内容，并将结果存储在 cmb_table_list 中\n",
    "# read_html 函数返回的是一个 DataFrame 的list\n",
    "cmb_table_list = pd.read_html(html_content)\n",
    "\n",
    "# 打印 list 的长度，看看抽取出了几个表格\n",
    "print(len(cmb_table_list))"
   ]
  },
  {
   "cell_type": "code",
   "execution_count": 55,
   "metadata": {},
   "outputs": [
    {
     "output_type": "execute_result",
     "data": {
      "text/plain": [
       "                  0                 1\n",
       "0               NaN               NaN\n",
       "1  当前日期：2021年04月16日  当前日期：2021年04月16日"
      ],
      "text/html": "<div>\n<style scoped>\n    .dataframe tbody tr th:only-of-type {\n        vertical-align: middle;\n    }\n\n    .dataframe tbody tr th {\n        vertical-align: top;\n    }\n\n    .dataframe thead th {\n        text-align: right;\n    }\n</style>\n<table border=\"1\" class=\"dataframe\">\n  <thead>\n    <tr style=\"text-align: right;\">\n      <th></th>\n      <th>0</th>\n      <th>1</th>\n    </tr>\n  </thead>\n  <tbody>\n    <tr>\n      <th>0</th>\n      <td>NaN</td>\n      <td>NaN</td>\n    </tr>\n    <tr>\n      <th>1</th>\n      <td>当前日期：2021年04月16日</td>\n      <td>当前日期：2021年04月16日</td>\n    </tr>\n  </tbody>\n</table>\n</div>"
     },
     "metadata": {},
     "execution_count": 55
    }
   ],
   "source": [
    "# 直接写变量，利用 notebook 的特性打印表格\n",
    "cmb_table_list[0]"
   ]
  },
  {
   "cell_type": "code",
   "execution_count": 56,
   "metadata": {},
   "outputs": [
    {
     "output_type": "execute_result",
     "data": {
      "text/plain": [
       "        0      1    2       3       4       5       6         7       8\n",
       "0     交易币  交易币单位  基本币   现汇卖出价   现钞卖出价   现汇买入价   现钞买入价        时间   汇率走势图\n",
       "1      港币    100  人民币   84.04   84.04   83.70   83.12  22:24:38  查看历史>>\n",
       "2    新西兰元    100  人民币  468.22  468.22  464.48  449.79  22:24:38  查看历史>>\n",
       "3   澳大利亚元    100  人民币  506.76  506.76  502.72  486.82  22:24:38  查看历史>>\n",
       "4      美元    100  人民币  653.50  653.50  650.57  645.35  22:24:38  查看历史>>\n",
       "5      欧元    100  人民币  784.72  784.72  778.46  753.84  22:24:38  查看历史>>\n",
       "6    加拿大元    100  人民币  523.20  523.20  519.04  502.62  22:24:38  查看历史>>\n",
       "7      英镑    100  人民币  904.22  904.22  897.02  868.65  22:24:38  查看历史>>\n",
       "8      日元    100  人民币  6.0166  6.0166  5.9686  5.7799  22:24:38  查看历史>>\n",
       "9    新加坡元    100  人民币  490.87  490.87  486.95  471.55  22:24:38  查看历史>>\n",
       "10   瑞士法郎    100  人民币  712.40  712.40  706.72  684.37  22:24:38  查看历史>>"
      ],
      "text/html": "<div>\n<style scoped>\n    .dataframe tbody tr th:only-of-type {\n        vertical-align: middle;\n    }\n\n    .dataframe tbody tr th {\n        vertical-align: top;\n    }\n\n    .dataframe thead th {\n        text-align: right;\n    }\n</style>\n<table border=\"1\" class=\"dataframe\">\n  <thead>\n    <tr style=\"text-align: right;\">\n      <th></th>\n      <th>0</th>\n      <th>1</th>\n      <th>2</th>\n      <th>3</th>\n      <th>4</th>\n      <th>5</th>\n      <th>6</th>\n      <th>7</th>\n      <th>8</th>\n    </tr>\n  </thead>\n  <tbody>\n    <tr>\n      <th>0</th>\n      <td>交易币</td>\n      <td>交易币单位</td>\n      <td>基本币</td>\n      <td>现汇卖出价</td>\n      <td>现钞卖出价</td>\n      <td>现汇买入价</td>\n      <td>现钞买入价</td>\n      <td>时间</td>\n      <td>汇率走势图</td>\n    </tr>\n    <tr>\n      <th>1</th>\n      <td>港币</td>\n      <td>100</td>\n      <td>人民币</td>\n      <td>84.04</td>\n      <td>84.04</td>\n      <td>83.70</td>\n      <td>83.12</td>\n      <td>22:24:38</td>\n      <td>查看历史&gt;&gt;</td>\n    </tr>\n    <tr>\n      <th>2</th>\n      <td>新西兰元</td>\n      <td>100</td>\n      <td>人民币</td>\n      <td>468.22</td>\n      <td>468.22</td>\n      <td>464.48</td>\n      <td>449.79</td>\n      <td>22:24:38</td>\n      <td>查看历史&gt;&gt;</td>\n    </tr>\n    <tr>\n      <th>3</th>\n      <td>澳大利亚元</td>\n      <td>100</td>\n      <td>人民币</td>\n      <td>506.76</td>\n      <td>506.76</td>\n      <td>502.72</td>\n      <td>486.82</td>\n      <td>22:24:38</td>\n      <td>查看历史&gt;&gt;</td>\n    </tr>\n    <tr>\n      <th>4</th>\n      <td>美元</td>\n      <td>100</td>\n      <td>人民币</td>\n      <td>653.50</td>\n      <td>653.50</td>\n      <td>650.57</td>\n      <td>645.35</td>\n      <td>22:24:38</td>\n      <td>查看历史&gt;&gt;</td>\n    </tr>\n    <tr>\n      <th>5</th>\n      <td>欧元</td>\n      <td>100</td>\n      <td>人民币</td>\n      <td>784.72</td>\n      <td>784.72</td>\n      <td>778.46</td>\n      <td>753.84</td>\n      <td>22:24:38</td>\n      <td>查看历史&gt;&gt;</td>\n    </tr>\n    <tr>\n      <th>6</th>\n      <td>加拿大元</td>\n      <td>100</td>\n      <td>人民币</td>\n      <td>523.20</td>\n      <td>523.20</td>\n      <td>519.04</td>\n      <td>502.62</td>\n      <td>22:24:38</td>\n      <td>查看历史&gt;&gt;</td>\n    </tr>\n    <tr>\n      <th>7</th>\n      <td>英镑</td>\n      <td>100</td>\n      <td>人民币</td>\n      <td>904.22</td>\n      <td>904.22</td>\n      <td>897.02</td>\n      <td>868.65</td>\n      <td>22:24:38</td>\n      <td>查看历史&gt;&gt;</td>\n    </tr>\n    <tr>\n      <th>8</th>\n      <td>日元</td>\n      <td>100</td>\n      <td>人民币</td>\n      <td>6.0166</td>\n      <td>6.0166</td>\n      <td>5.9686</td>\n      <td>5.7799</td>\n      <td>22:24:38</td>\n      <td>查看历史&gt;&gt;</td>\n    </tr>\n    <tr>\n      <th>9</th>\n      <td>新加坡元</td>\n      <td>100</td>\n      <td>人民币</td>\n      <td>490.87</td>\n      <td>490.87</td>\n      <td>486.95</td>\n      <td>471.55</td>\n      <td>22:24:38</td>\n      <td>查看历史&gt;&gt;</td>\n    </tr>\n    <tr>\n      <th>10</th>\n      <td>瑞士法郎</td>\n      <td>100</td>\n      <td>人民币</td>\n      <td>712.40</td>\n      <td>712.40</td>\n      <td>706.72</td>\n      <td>684.37</td>\n      <td>22:24:38</td>\n      <td>查看历史&gt;&gt;</td>\n    </tr>\n  </tbody>\n</table>\n</div>"
     },
     "metadata": {},
     "execution_count": 56
    }
   ],
   "source": [
    "cmb_table_list[1]"
   ]
  },
  {
   "cell_type": "code",
   "execution_count": 1,
   "metadata": {
    "tags": []
   },
   "outputs": [
    {
     "output_type": "error",
     "ename": "ModuleNotFoundError",
     "evalue": "No module named 'selenium'",
     "traceback": [
      "\u001b[1;31m---------------------------------------------------------------------------\u001b[0m",
      "\u001b[1;31mModuleNotFoundError\u001b[0m                       Traceback (most recent call last)",
      "\u001b[1;32m<ipython-input-1-477ba795a9f4>\u001b[0m in \u001b[0;36m<module>\u001b[1;34m\u001b[0m\n\u001b[0;32m      2\u001b[0m \u001b[1;31m# eco_content = download_content(\"http://www.pbc.gov.cn/eportal/fileDir/defaultCurSite/resource/cms/2021/01/2021011818262828764.htm\")\u001b[0m\u001b[1;33m\u001b[0m\u001b[1;33m\u001b[0m\u001b[1;33m\u001b[0m\u001b[0m\n\u001b[0;32m      3\u001b[0m \u001b[1;33m\u001b[0m\u001b[0m\n\u001b[1;32m----> 4\u001b[1;33m \u001b[1;32mfrom\u001b[0m \u001b[0mselenium\u001b[0m \u001b[1;32mimport\u001b[0m \u001b[0mwebdriver\u001b[0m\u001b[1;33m\u001b[0m\u001b[1;33m\u001b[0m\u001b[0m\n\u001b[0m\u001b[0;32m      5\u001b[0m \u001b[0mbrow\u001b[0m \u001b[1;33m=\u001b[0m \u001b[0mwebdriver\u001b[0m\u001b[1;33m.\u001b[0m\u001b[0mChrome\u001b[0m\u001b[1;33m(\u001b[0m\u001b[1;33m)\u001b[0m\u001b[1;33m\u001b[0m\u001b[1;33m\u001b[0m\u001b[0m\n\u001b[0;32m      6\u001b[0m \u001b[0mbrow\u001b[0m\u001b[1;33m.\u001b[0m\u001b[0mget\u001b[0m\u001b[1;33m(\u001b[0m\u001b[0murl\u001b[0m\u001b[1;33m)\u001b[0m\u001b[1;33m\u001b[0m\u001b[1;33m\u001b[0m\u001b[0m\n",
      "\u001b[1;31mModuleNotFoundError\u001b[0m: No module named 'selenium'"
     ]
    }
   ],
   "source": [
    "url= \"http://www.pbc.gov.cn/eportal/fileDir/defaultCurSite/resource/cms/2021/01/2021011818262828764.htm\"\n",
    "# eco_content = download_content(\"http://www.pbc.gov.cn/eportal/fileDir/defaultCurSite/resource/cms/2021/01/2021011818262828764.htm\")\n",
    "\n",
    "from selenium import webdriver\n",
    "brow = webdriver.Chrome()\n",
    "brow.get(url)\n",
    "eco_content = brow.page_source\n",
    "\n",
    "print(eco_content)\n",
    "df_list = pd.read_html(eco_content)\n",
    "print(len(df_list))"
   ]
  },
  {
   "cell_type": "code",
   "execution_count": 2,
   "metadata": {},
   "outputs": [
    {
     "output_type": "error",
     "ename": "ModuleNotFoundError",
     "evalue": "No module named 'selenium'",
     "traceback": [
      "\u001b[1;31m---------------------------------------------------------------------------\u001b[0m",
      "\u001b[1;31mModuleNotFoundError\u001b[0m                       Traceback (most recent call last)",
      "\u001b[1;32m<ipython-input-2-abb2a9e03f2a>\u001b[0m in \u001b[0;36m<module>\u001b[1;34m\u001b[0m\n\u001b[1;32m----> 1\u001b[1;33m \u001b[1;32mimport\u001b[0m \u001b[0mselenium\u001b[0m\u001b[1;33m\u001b[0m\u001b[1;33m\u001b[0m\u001b[0m\n\u001b[0m",
      "\u001b[1;31mModuleNotFoundError\u001b[0m: No module named 'selenium'"
     ]
    }
   ],
   "source": [
    "import sele"
   ]
  },
  {
   "cell_type": "code",
   "execution_count": null,
   "metadata": {},
   "outputs": [],
   "source": []
  }
 ]
}
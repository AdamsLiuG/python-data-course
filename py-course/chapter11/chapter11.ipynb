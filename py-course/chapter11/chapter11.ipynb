{
 "metadata": {
  "language_info": {
   "codemirror_mode": {
    "name": "ipython",
    "version": 3
   },
   "file_extension": ".py",
   "mimetype": "text/x-python",
   "name": "python",
   "nbconvert_exporter": "python",
   "pygments_lexer": "ipython3",
   "version": "3.8.5-final"
  },
  "orig_nbformat": 2,
  "kernelspec": {
   "name": "python385jvsc74a57bd0c39885171911825c85dd2872b53a1f517ccf6205e737fb46b3c547492811485f",
   "display_name": "Python 3.8.5 64-bit (conda)"
  }
 },
 "nbformat": 4,
 "nbformat_minor": 2,
 "cells": [
  {
   "cell_type": "code",
   "execution_count": 1,
   "metadata": {},
   "outputs": [],
   "source": [
    "import pandas as pd"
   ]
  },
  {
   "cell_type": "code",
   "execution_count": 2,
   "metadata": {},
   "outputs": [
    {
     "output_type": "stream",
     "name": "stdout",
     "text": [
      "df_rating:\n           title rating                                              stars\n0           决胜法庭   3.7分                 主演于和伟,张佳宁,韩栋,王耀庆,连奕名,胡静,杜源,王艺禅,王全有\n1         刘老根第三部   4.0分                                主演赵本山,范伟,李静,闫学晶,王小宝\n2         我的僵尸王爷   4.6分                                               主演内详\n3        新世界2020   3.4分                 主演孙红雷,张鲁一,尹昉,万茜,李纯,胡静,秦汉,赵峥,张瑶,张晔子\n4        三生三世枕上书   4.4分          主演迪丽热巴,高伟光,陈楚河,郭品超,刘雨欣,刘芮麟,王骁,李东恒,袁雨萱,黄俊捷\n...          ...    ...                                                ...\n3595    二十不惑DVD版   4.0分              主演关晓彤,卜冠今,李庚希,董思怡,金世佳,牛骏峰,王安宇,曹恩齐,徐绍瑛\n3596       实习女捕快   4.0分             主演杨安琪 樊驿宁 卜冠之 南思恺 王蕴凡 陈嘉敏 刘竹 齐超 唐鑫 郑旭东\n3597       我的男月嫂   1.0分                                   主演黄炫彰 唐丹 王一嚞 吴佳曦\n3598  喂，我是你的微糖男友   2.0分                          主演吴大伟,张集骏,柯博伦,辛诗琪,代雨丹,蒋蕊泽\n3599    穿越火线2020   4.6分  主演鹿晗,吴磊,代露娃,宋妍霏,张萌,邵兵,王锵,刘帅良,朱俊麟,黄德毅,潘美烨,宋家腾,夏...\n\n[3600 rows x 3 columns]\ndf_rating type:\n<class 'pandas.core.frame.DataFrame'>\n"
     ]
    }
   ],
   "source": [
    "# 使用 pandas 模块的 read_csv 函数，读取 csn 文件。并将结果存在 df_rating 变量中\n",
    "df_rating = pd.read_csv(\"tv_rating.csv\")\n",
    "\n",
    "# 打印 df_rating 变量\n",
    "print(\"df_rating:\")\n",
    "print(df_rating)\n",
    "\n",
    "# 打印 df_rating 变量的类型\n",
    "print(\"df_rating type:\")\n",
    "print(type(df_rating))"
   ]
  },
  {
   "cell_type": "code",
   "execution_count": 9,
   "metadata": {},
   "outputs": [
    {
     "output_type": "execute_result",
     "data": {
      "text/plain": [
       "pandas.core.series.Series"
      ]
     },
     "metadata": {},
     "execution_count": 9
    }
   ],
   "source": [
    "type(df_rating[\"title\"])"
   ]
  },
  {
   "cell_type": "code",
   "execution_count": 31,
   "metadata": {},
   "outputs": [
    {
     "output_type": "execute_result",
     "data": {
      "text/plain": [
       "   姓名  年龄  籍贯   部门\n",
       "0  小明  22  河北  IT部\n",
       "1  小亮  25  广东  IT部\n",
       "2  小E  23  四川  财务部"
      ],
      "text/html": "<div>\n<style scoped>\n    .dataframe tbody tr th:only-of-type {\n        vertical-align: middle;\n    }\n\n    .dataframe tbody tr th {\n        vertical-align: top;\n    }\n\n    .dataframe thead th {\n        text-align: right;\n    }\n</style>\n<table border=\"1\" class=\"dataframe\">\n  <thead>\n    <tr style=\"text-align: right;\">\n      <th></th>\n      <th>姓名</th>\n      <th>年龄</th>\n      <th>籍贯</th>\n      <th>部门</th>\n    </tr>\n  </thead>\n  <tbody>\n    <tr>\n      <th>0</th>\n      <td>小明</td>\n      <td>22</td>\n      <td>河北</td>\n      <td>IT部</td>\n    </tr>\n    <tr>\n      <th>1</th>\n      <td>小亮</td>\n      <td>25</td>\n      <td>广东</td>\n      <td>IT部</td>\n    </tr>\n    <tr>\n      <th>2</th>\n      <td>小E</td>\n      <td>23</td>\n      <td>四川</td>\n      <td>财务部</td>\n    </tr>\n  </tbody>\n</table>\n</div>"
     },
     "metadata": {},
     "execution_count": 31
    }
   ],
   "source": [
    "# 使用 read_excel 函数，读取 info.xlsx 的内容并存储在 df_info 变量中\n",
    "df_info = pd.read_excel(\"info.xlsx\")\n",
    "\n",
    "# 不用 print，直接将 df_info 放在最后一行，让notebook用表格形式打印\n",
    "df_info"
   ]
  },
  {
   "cell_type": "code",
   "execution_count": 32,
   "metadata": {},
   "outputs": [
    {
     "output_type": "execute_result",
     "data": {
      "text/plain": [
       "   姓名 绩效考核 上期考核结果\n",
       "0  小明   优秀     优秀\n",
       "1  小亮   良好     优秀\n",
       "2  小E   良好     优秀"
      ],
      "text/html": "<div>\n<style scoped>\n    .dataframe tbody tr th:only-of-type {\n        vertical-align: middle;\n    }\n\n    .dataframe tbody tr th {\n        vertical-align: top;\n    }\n\n    .dataframe thead th {\n        text-align: right;\n    }\n</style>\n<table border=\"1\" class=\"dataframe\">\n  <thead>\n    <tr style=\"text-align: right;\">\n      <th></th>\n      <th>姓名</th>\n      <th>绩效考核</th>\n      <th>上期考核结果</th>\n    </tr>\n  </thead>\n  <tbody>\n    <tr>\n      <th>0</th>\n      <td>小明</td>\n      <td>优秀</td>\n      <td>优秀</td>\n    </tr>\n    <tr>\n      <th>1</th>\n      <td>小亮</td>\n      <td>良好</td>\n      <td>优秀</td>\n    </tr>\n    <tr>\n      <th>2</th>\n      <td>小E</td>\n      <td>良好</td>\n      <td>优秀</td>\n    </tr>\n  </tbody>\n</table>\n</div>"
     },
     "metadata": {},
     "execution_count": 32
    }
   ],
   "source": [
    "# 使用 read_excel 函数读取 info.xlsx 文件里的 “绩效” 这个表格\n",
    "# 并将结果存在 df_perf 变量中\n",
    "df_perf = pd.read_excel(\"info.xlsx\", sheet_name=\"绩效\")\n",
    "\n",
    "# 让notebook 打印 df_perf 变量\n",
    "df_perf"
   ]
  },
  {
   "cell_type": "code",
   "execution_count": 33,
   "metadata": {},
   "outputs": [
    {
     "output_type": "execute_result",
     "data": {
      "text/plain": [
       "   姓名 绩效考核\n",
       "0  小明   优秀\n",
       "1  小亮   良好\n",
       "2  小E   良好"
      ],
      "text/html": "<div>\n<style scoped>\n    .dataframe tbody tr th:only-of-type {\n        vertical-align: middle;\n    }\n\n    .dataframe tbody tr th {\n        vertical-align: top;\n    }\n\n    .dataframe thead th {\n        text-align: right;\n    }\n</style>\n<table border=\"1\" class=\"dataframe\">\n  <thead>\n    <tr style=\"text-align: right;\">\n      <th></th>\n      <th>姓名</th>\n      <th>绩效考核</th>\n    </tr>\n  </thead>\n  <tbody>\n    <tr>\n      <th>0</th>\n      <td>小明</td>\n      <td>优秀</td>\n    </tr>\n    <tr>\n      <th>1</th>\n      <td>小亮</td>\n      <td>良好</td>\n    </tr>\n    <tr>\n      <th>2</th>\n      <td>小E</td>\n      <td>良好</td>\n    </tr>\n  </tbody>\n</table>\n</div>"
     },
     "metadata": {},
     "execution_count": 33
    }
   ],
   "source": [
    "# 使用 read_excel 函数读取 info.xlsx 中的 绩效 表格\n",
    "# 并只读取 A B两行，并将结果存到 df_perf1 变量中\n",
    "df_perf1 = pd.read_excel(\"info.xlsx\", sheet_name=\"绩效\", usecols=\"A,B\")\n",
    "\n",
    "# 让 notebook 打印 df_perf1 变量\n",
    "df_perf1"
   ]
  },
  {
   "cell_type": "code",
   "execution_count": 27,
   "metadata": {},
   "outputs": [
    {
     "output_type": "stream",
     "name": "stdout",
     "text": [
      "['基本信息', '绩效']\n"
     ]
    }
   ],
   "source": [
    "with pd.ExcelFile(\"info.xlsx\") as xls:\n",
    "    print(xls.sheet_names)"
   ]
  },
  {
   "cell_type": "code",
   "execution_count": 46,
   "metadata": {},
   "outputs": [],
   "source": [
    "import urllib3\n",
    "def download_content(url):\n",
    "    # 创建一个 PoolManager 对象，命名为 http\n",
    "    http = urllib3.PoolManager()\n",
    "\n",
    "    # 调用 http 对象的 request 方法，第一个参数传一个字符串 \"GET\"\n",
    "    # 第二个参数则是要下载的网址，也就是我们的 url 变量\n",
    "    # request 方法会返回一个 HTTPResponse 类的对象，我们命名为 response\n",
    "    response = http.request(\"GET\", url)\n",
    "\n",
    "    # 获取 response 对象的 data 属性，存储在变量 response_data 中\n",
    "    response_data = response.data\n",
    "\n",
    "    # 调用 response_data 对象的 decode 方法，获得网页的内容，存储在 html_content \n",
    "    # 变量中\n",
    "    html_content = response_data.decode()\n",
    "    return html_content\n",
    "\n",
    "html_content = download_content(\"http://fx.cmbchina.com/Hq/\")"
   ]
  },
  {
   "cell_type": "code",
   "execution_count": 47,
   "metadata": {
    "tags": []
   },
   "outputs": [],
   "source": []
  },
  {
   "cell_type": "code",
   "execution_count": 54,
   "metadata": {},
   "outputs": [
    {
     "output_type": "stream",
     "name": "stdout",
     "text": [
      "2\n"
     ]
    }
   ],
   "source": [
    "# 调用 read_html 函数，传入网页的内容，并将结果存储在 cmb_table_list 中\n",
    "# read_html 函数返回的是一个 DataFrame 的list\n",
    "cmb_table_list = pd.read_html(html_content)\n",
    "\n",
    "# 打印 list 的长度，看看抽取出了几个表格\n",
    "print(len(cmb_table_list))"
   ]
  },
  {
   "cell_type": "code",
   "execution_count": 55,
   "metadata": {},
   "outputs": [
    {
     "output_type": "execute_result",
     "data": {
      "text/plain": [
       "                  0                 1\n",
       "0               NaN               NaN\n",
       "1  当前日期：2021年04月16日  当前日期：2021年04月16日"
      ],
      "text/html": "<div>\n<style scoped>\n    .dataframe tbody tr th:only-of-type {\n        vertical-align: middle;\n    }\n\n    .dataframe tbody tr th {\n        vertical-align: top;\n    }\n\n    .dataframe thead th {\n        text-align: right;\n    }\n</style>\n<table border=\"1\" class=\"dataframe\">\n  <thead>\n    <tr style=\"text-align: right;\">\n      <th></th>\n      <th>0</th>\n      <th>1</th>\n    </tr>\n  </thead>\n  <tbody>\n    <tr>\n      <th>0</th>\n      <td>NaN</td>\n      <td>NaN</td>\n    </tr>\n    <tr>\n      <th>1</th>\n      <td>当前日期：2021年04月16日</td>\n      <td>当前日期：2021年04月16日</td>\n    </tr>\n  </tbody>\n</table>\n</div>"
     },
     "metadata": {},
     "execution_count": 55
    }
   ],
   "source": [
    "# 直接写变量，利用 notebook 的特性打印表格\n",
    "cmb_table_list[0]"
   ]
  },
  {
   "cell_type": "code",
   "execution_count": 56,
   "metadata": {},
   "outputs": [
    {
     "output_type": "execute_result",
     "data": {
      "text/plain": [
       "        0      1    2       3       4       5       6         7       8\n",
       "0     交易币  交易币单位  基本币   现汇卖出价   现钞卖出价   现汇买入价   现钞买入价        时间   汇率走势图\n",
       "1      港币    100  人民币   84.04   84.04   83.70   83.12  22:24:38  查看历史>>\n",
       "2    新西兰元    100  人民币  468.22  468.22  464.48  449.79  22:24:38  查看历史>>\n",
       "3   澳大利亚元    100  人民币  506.76  506.76  502.72  486.82  22:24:38  查看历史>>\n",
       "4      美元    100  人民币  653.50  653.50  650.57  645.35  22:24:38  查看历史>>\n",
       "5      欧元    100  人民币  784.72  784.72  778.46  753.84  22:24:38  查看历史>>\n",
       "6    加拿大元    100  人民币  523.20  523.20  519.04  502.62  22:24:38  查看历史>>\n",
       "7      英镑    100  人民币  904.22  904.22  897.02  868.65  22:24:38  查看历史>>\n",
       "8      日元    100  人民币  6.0166  6.0166  5.9686  5.7799  22:24:38  查看历史>>\n",
       "9    新加坡元    100  人民币  490.87  490.87  486.95  471.55  22:24:38  查看历史>>\n",
       "10   瑞士法郎    100  人民币  712.40  712.40  706.72  684.37  22:24:38  查看历史>>"
      ],
      "text/html": "<div>\n<style scoped>\n    .dataframe tbody tr th:only-of-type {\n        vertical-align: middle;\n    }\n\n    .dataframe tbody tr th {\n        vertical-align: top;\n    }\n\n    .dataframe thead th {\n        text-align: right;\n    }\n</style>\n<table border=\"1\" class=\"dataframe\">\n  <thead>\n    <tr style=\"text-align: right;\">\n      <th></th>\n      <th>0</th>\n      <th>1</th>\n      <th>2</th>\n      <th>3</th>\n      <th>4</th>\n      <th>5</th>\n      <th>6</th>\n      <th>7</th>\n      <th>8</th>\n    </tr>\n  </thead>\n  <tbody>\n    <tr>\n      <th>0</th>\n      <td>交易币</td>\n      <td>交易币单位</td>\n      <td>基本币</td>\n      <td>现汇卖出价</td>\n      <td>现钞卖出价</td>\n      <td>现汇买入价</td>\n      <td>现钞买入价</td>\n      <td>时间</td>\n      <td>汇率走势图</td>\n    </tr>\n    <tr>\n      <th>1</th>\n      <td>港币</td>\n      <td>100</td>\n      <td>人民币</td>\n      <td>84.04</td>\n      <td>84.04</td>\n      <td>83.70</td>\n      <td>83.12</td>\n      <td>22:24:38</td>\n      <td>查看历史&gt;&gt;</td>\n    </tr>\n    <tr>\n      <th>2</th>\n      <td>新西兰元</td>\n      <td>100</td>\n      <td>人民币</td>\n      <td>468.22</td>\n      <td>468.22</td>\n      <td>464.48</td>\n      <td>449.79</td>\n      <td>22:24:38</td>\n      <td>查看历史&gt;&gt;</td>\n    </tr>\n    <tr>\n      <th>3</th>\n      <td>澳大利亚元</td>\n      <td>100</td>\n      <td>人民币</td>\n      <td>506.76</td>\n      <td>506.76</td>\n      <td>502.72</td>\n      <td>486.82</td>\n      <td>22:24:38</td>\n      <td>查看历史&gt;&gt;</td>\n    </tr>\n    <tr>\n      <th>4</th>\n      <td>美元</td>\n      <td>100</td>\n      <td>人民币</td>\n      <td>653.50</td>\n      <td>653.50</td>\n      <td>650.57</td>\n      <td>645.35</td>\n      <td>22:24:38</td>\n      <td>查看历史&gt;&gt;</td>\n    </tr>\n    <tr>\n      <th>5</th>\n      <td>欧元</td>\n      <td>100</td>\n      <td>人民币</td>\n      <td>784.72</td>\n      <td>784.72</td>\n      <td>778.46</td>\n      <td>753.84</td>\n      <td>22:24:38</td>\n      <td>查看历史&gt;&gt;</td>\n    </tr>\n    <tr>\n      <th>6</th>\n      <td>加拿大元</td>\n      <td>100</td>\n      <td>人民币</td>\n      <td>523.20</td>\n      <td>523.20</td>\n      <td>519.04</td>\n      <td>502.62</td>\n      <td>22:24:38</td>\n      <td>查看历史&gt;&gt;</td>\n    </tr>\n    <tr>\n      <th>7</th>\n      <td>英镑</td>\n      <td>100</td>\n      <td>人民币</td>\n      <td>904.22</td>\n      <td>904.22</td>\n      <td>897.02</td>\n      <td>868.65</td>\n      <td>22:24:38</td>\n      <td>查看历史&gt;&gt;</td>\n    </tr>\n    <tr>\n      <th>8</th>\n      <td>日元</td>\n      <td>100</td>\n      <td>人民币</td>\n      <td>6.0166</td>\n      <td>6.0166</td>\n      <td>5.9686</td>\n      <td>5.7799</td>\n      <td>22:24:38</td>\n      <td>查看历史&gt;&gt;</td>\n    </tr>\n    <tr>\n      <th>9</th>\n      <td>新加坡元</td>\n      <td>100</td>\n      <td>人民币</td>\n      <td>490.87</td>\n      <td>490.87</td>\n      <td>486.95</td>\n      <td>471.55</td>\n      <td>22:24:38</td>\n      <td>查看历史&gt;&gt;</td>\n    </tr>\n    <tr>\n      <th>10</th>\n      <td>瑞士法郎</td>\n      <td>100</td>\n      <td>人民币</td>\n      <td>712.40</td>\n      <td>712.40</td>\n      <td>706.72</td>\n      <td>684.37</td>\n      <td>22:24:38</td>\n      <td>查看历史&gt;&gt;</td>\n    </tr>\n  </tbody>\n</table>\n</div>"
     },
     "metadata": {},
     "execution_count": 56
    }
   ],
   "source": [
    "cmb_table_list[1]"
   ]
  },
  {
   "cell_type": "code",
   "execution_count": 5,
   "metadata": {
    "tags": []
   },
   "outputs": [
    {
     "output_type": "stream",
     "name": "stdout",
     "text": [
      "1\n"
     ]
    }
   ],
   "source": [
    "url= \"http://www.pbc.gov.cn/eportal/fileDir/defaultCurSite/resource/cms/2021/01/2021011818262828764.htm\"\n",
    "\n",
    "\n",
    "from selenium import webdriver\n",
    "brow = webdriver.Chrome()\n",
    "brow.get(url)\n",
    "eco_content = brow.page_source\n",
    "\n",
    "# print(eco_content)\n",
    "df_list = pd.read_html(eco_content)\n",
    "print(len(df_list))"
   ]
  },
  {
   "cell_type": "code",
   "execution_count": 1,
   "metadata": {},
   "outputs": [],
   "source": [
    "import pandas"
   ]
  },
  {
   "cell_type": "code",
   "execution_count": 6,
   "metadata": {},
   "outputs": [
    {
     "output_type": "execute_result",
     "data": {
      "text/plain": [
       "                                                  0  \\\n",
       "0                                           股票市场统计表   \n",
       "1                       Statistics of  Stock Market   \n",
       "2                                               NaN   \n",
       "3                                               NaN   \n",
       "4                                               NaN   \n",
       "5                                               NaN   \n",
       "6                                           2020.01   \n",
       "7                                           2020.02   \n",
       "8                                           2020.03   \n",
       "9                                           2020.04   \n",
       "10                                          2020.05   \n",
       "11                                          2020.06   \n",
       "12                                          2020.07   \n",
       "13                                          2020.08   \n",
       "14                                          2020.09   \n",
       "15                                          2020.10   \n",
       "16                                          2020.11   \n",
       "17                                          2020.12   \n",
       "18                                          2020年累计   \n",
       "19                                数据来源：中国证券监督管理委员会。   \n",
       "20  Source:China  Securities Regulatory Commission.   \n",
       "21                                              NaN   \n",
       "22                                              NaN   \n",
       "\n",
       "                                                  1  \\\n",
       "0                                           股票市场统计表   \n",
       "1                       Statistics of  Stock Market   \n",
       "2                                               NaN   \n",
       "3                                         股票筹资额（亿元）   \n",
       "4                                         股票筹资额（亿元）   \n",
       "5              Equity  Financing (100 Million Yuan)   \n",
       "6                                               704   \n",
       "7                                               447   \n",
       "8                                               252   \n",
       "9                                               596   \n",
       "10                                              433   \n",
       "11                                              907   \n",
       "12                                             1684   \n",
       "13                                             1850   \n",
       "14                                             1353   \n",
       "15                                             1060   \n",
       "16                                             1076   \n",
       "17                                             1206   \n",
       "18                                            11567   \n",
       "19                                数据来源：中国证券监督管理委员会。   \n",
       "20  Source:China  Securities Regulatory Commission.   \n",
       "21                                              NaN   \n",
       "22                                              NaN   \n",
       "\n",
       "                                                  2  \\\n",
       "0                                           股票市场统计表   \n",
       "1                       Statistics of  Stock Market   \n",
       "2                                               NaN   \n",
       "3                                          成交量（百万股）   \n",
       "4                                          成交量（百万股）   \n",
       "5          Volume of  Trading  (One Million Shares)   \n",
       "6                                            983634   \n",
       "7                                           1677782   \n",
       "8                                           1732748   \n",
       "9                                           1218812   \n",
       "10                                           943057   \n",
       "11                                          1197017   \n",
       "12                                          2324706   \n",
       "13                                          1709486   \n",
       "14                                          1373787   \n",
       "15                                           842521   \n",
       "16                                          1307912   \n",
       "17                                          1433724   \n",
       "18                                         16745186   \n",
       "19                                              NaN   \n",
       "20  Source:China  Securities Regulatory Commission.   \n",
       "21                                              NaN   \n",
       "22                                              NaN   \n",
       "\n",
       "                                           3  \\\n",
       "0                                    股票市场统计表   \n",
       "1                Statistics of  Stock Market   \n",
       "2                                        NaN   \n",
       "3                                   成交金额（亿元）   \n",
       "4                                   成交金额（亿元）   \n",
       "5   Turnover  of Trading  (100 Million Yuan)   \n",
       "6                                     112290   \n",
       "7                                     196723   \n",
       "8                                     191003   \n",
       "9                                     131838   \n",
       "10                                    112487   \n",
       "11                                    145230   \n",
       "12                                    301963   \n",
       "13                                    222966   \n",
       "14                                    169872   \n",
       "15                                    119702   \n",
       "16                                    175769   \n",
       "17                                    188411   \n",
       "18                                   2068253   \n",
       "19                                       NaN   \n",
       "20                                       NaN   \n",
       "21                                       NaN   \n",
       "22                                       NaN   \n",
       "\n",
       "                                                    4  \\\n",
       "0                                             股票市场统计表   \n",
       "1                         Statistics of  Stock Market   \n",
       "2                                                 NaN   \n",
       "3                                           期末总股本（亿股）   \n",
       "4                                           期末总股本（亿股）   \n",
       "5   Volume  Issued at End of Period (100 Million S...   \n",
       "6                                               62347   \n",
       "7                                               62451   \n",
       "8                                               62625   \n",
       "9                                               62930   \n",
       "10                                              63236   \n",
       "11                                              63852   \n",
       "12                                              64132   \n",
       "13                                              64296   \n",
       "14                                              64598   \n",
       "15                                              64856   \n",
       "16                                              65010   \n",
       "17                                              65456   \n",
       "18                                                NaN   \n",
       "19                                                NaN   \n",
       "20                                                NaN   \n",
       "21                                                NaN   \n",
       "22                                                NaN   \n",
       "\n",
       "                                                    5  \\\n",
       "0                                             股票市场统计表   \n",
       "1                         Statistics of  Stock Market   \n",
       "2                                                 NaN   \n",
       "3                                          期末市价总值（亿元）   \n",
       "4                                          期末市价总值（亿元）   \n",
       "5   Total  Market Capitalization at End of Period ...   \n",
       "6                                              597180   \n",
       "7                                              596640   \n",
       "8                                              562854   \n",
       "9                                              593994   \n",
       "10                                             600110   \n",
       "11                                             648774   \n",
       "12                                             738175   \n",
       "13                                             759475   \n",
       "14                                             721687   \n",
       "15                                             735808   \n",
       "16                                             769523   \n",
       "17                                             797238   \n",
       "18                                                NaN   \n",
       "19                                                NaN   \n",
       "20                                                NaN   \n",
       "21                                                NaN   \n",
       "22                                                NaN   \n",
       "\n",
       "                                              6  \\\n",
       "0                                       股票市场统计表   \n",
       "1                   Statistics of  Stock Market   \n",
       "2                                           NaN   \n",
       "3                                    期末上市公司数（家）   \n",
       "4                                    期末上市公司数（家）   \n",
       "5   Number of  listed company  at End of Period   \n",
       "6                                          3792   \n",
       "7                                          3813   \n",
       "8                                          3826   \n",
       "9                                          3850   \n",
       "10                                         3868   \n",
       "11                                         3893   \n",
       "12                                         3938   \n",
       "13                                         3990   \n",
       "14                                         4056   \n",
       "15                                         4082   \n",
       "16                                         4101   \n",
       "17                                         4154   \n",
       "18                                          NaN   \n",
       "19                                          NaN   \n",
       "20                                          NaN   \n",
       "21                                          NaN   \n",
       "22                                          NaN   \n",
       "\n",
       "                                           7  \\\n",
       "0                                    股票市场统计表   \n",
       "1                Statistics of  Stock Market   \n",
       "2                                        NaN   \n",
       "3                              期末收盘指数(Index)   \n",
       "4                                     上证综合指数   \n",
       "5   Shanghai  Stock Exchange Composite Index   \n",
       "6                                       2977   \n",
       "7                                       2880   \n",
       "8                                       2750   \n",
       "9                                       2860   \n",
       "10                                      2852   \n",
       "11                                      2985   \n",
       "12                                      3310   \n",
       "13                                      3396   \n",
       "14                                      3218   \n",
       "15                                      3225   \n",
       "16                                      3392   \n",
       "17                                      3473   \n",
       "18                                       NaN   \n",
       "19                                       NaN   \n",
       "20                                       NaN   \n",
       "21                                       NaN   \n",
       "22                                       NaN   \n",
       "\n",
       "                                          8   9  \n",
       "0                                   股票市场统计表 NaN  \n",
       "1               Statistics of  Stock Market NaN  \n",
       "2                                       NaN NaN  \n",
       "3                             期末收盘指数(Index) NaN  \n",
       "4                                    深证成份指数 NaN  \n",
       "5   Shenzhen  Stock Exchange Componet Index NaN  \n",
       "6                                     10682 NaN  \n",
       "7                                     10981 NaN  \n",
       "8                                      9962 NaN  \n",
       "9                                     10722 NaN  \n",
       "10                                    10746 NaN  \n",
       "11                                    11992 NaN  \n",
       "12                                    13638 NaN  \n",
       "13                                    13758 NaN  \n",
       "14                                    12907 NaN  \n",
       "15                                    13237 NaN  \n",
       "16                                    13670 NaN  \n",
       "17                                    14471 NaN  \n",
       "18                                      NaN NaN  \n",
       "19                                      NaN NaN  \n",
       "20                                      NaN NaN  \n",
       "21                                      NaN NaN  \n",
       "22                                      NaN NaN  "
      ],
      "text/html": "<div>\n<style scoped>\n    .dataframe tbody tr th:only-of-type {\n        vertical-align: middle;\n    }\n\n    .dataframe tbody tr th {\n        vertical-align: top;\n    }\n\n    .dataframe thead th {\n        text-align: right;\n    }\n</style>\n<table border=\"1\" class=\"dataframe\">\n  <thead>\n    <tr style=\"text-align: right;\">\n      <th></th>\n      <th>0</th>\n      <th>1</th>\n      <th>2</th>\n      <th>3</th>\n      <th>4</th>\n      <th>5</th>\n      <th>6</th>\n      <th>7</th>\n      <th>8</th>\n      <th>9</th>\n    </tr>\n  </thead>\n  <tbody>\n    <tr>\n      <th>0</th>\n      <td>股票市场统计表</td>\n      <td>股票市场统计表</td>\n      <td>股票市场统计表</td>\n      <td>股票市场统计表</td>\n      <td>股票市场统计表</td>\n      <td>股票市场统计表</td>\n      <td>股票市场统计表</td>\n      <td>股票市场统计表</td>\n      <td>股票市场统计表</td>\n      <td>NaN</td>\n    </tr>\n    <tr>\n      <th>1</th>\n      <td>Statistics of  Stock Market</td>\n      <td>Statistics of  Stock Market</td>\n      <td>Statistics of  Stock Market</td>\n      <td>Statistics of  Stock Market</td>\n      <td>Statistics of  Stock Market</td>\n      <td>Statistics of  Stock Market</td>\n      <td>Statistics of  Stock Market</td>\n      <td>Statistics of  Stock Market</td>\n      <td>Statistics of  Stock Market</td>\n      <td>NaN</td>\n    </tr>\n    <tr>\n      <th>2</th>\n      <td>NaN</td>\n      <td>NaN</td>\n      <td>NaN</td>\n      <td>NaN</td>\n      <td>NaN</td>\n      <td>NaN</td>\n      <td>NaN</td>\n      <td>NaN</td>\n      <td>NaN</td>\n      <td>NaN</td>\n    </tr>\n    <tr>\n      <th>3</th>\n      <td>NaN</td>\n      <td>股票筹资额（亿元）</td>\n      <td>成交量（百万股）</td>\n      <td>成交金额（亿元）</td>\n      <td>期末总股本（亿股）</td>\n      <td>期末市价总值（亿元）</td>\n      <td>期末上市公司数（家）</td>\n      <td>期末收盘指数(Index)</td>\n      <td>期末收盘指数(Index)</td>\n      <td>NaN</td>\n    </tr>\n    <tr>\n      <th>4</th>\n      <td>NaN</td>\n      <td>股票筹资额（亿元）</td>\n      <td>成交量（百万股）</td>\n      <td>成交金额（亿元）</td>\n      <td>期末总股本（亿股）</td>\n      <td>期末市价总值（亿元）</td>\n      <td>期末上市公司数（家）</td>\n      <td>上证综合指数</td>\n      <td>深证成份指数</td>\n      <td>NaN</td>\n    </tr>\n    <tr>\n      <th>5</th>\n      <td>NaN</td>\n      <td>Equity  Financing (100 Million Yuan)</td>\n      <td>Volume of  Trading  (One Million Shares)</td>\n      <td>Turnover  of Trading  (100 Million Yuan)</td>\n      <td>Volume  Issued at End of Period (100 Million S...</td>\n      <td>Total  Market Capitalization at End of Period ...</td>\n      <td>Number of  listed company  at End of Period</td>\n      <td>Shanghai  Stock Exchange Composite Index</td>\n      <td>Shenzhen  Stock Exchange Componet Index</td>\n      <td>NaN</td>\n    </tr>\n    <tr>\n      <th>6</th>\n      <td>2020.01</td>\n      <td>704</td>\n      <td>983634</td>\n      <td>112290</td>\n      <td>62347</td>\n      <td>597180</td>\n      <td>3792</td>\n      <td>2977</td>\n      <td>10682</td>\n      <td>NaN</td>\n    </tr>\n    <tr>\n      <th>7</th>\n      <td>2020.02</td>\n      <td>447</td>\n      <td>1677782</td>\n      <td>196723</td>\n      <td>62451</td>\n      <td>596640</td>\n      <td>3813</td>\n      <td>2880</td>\n      <td>10981</td>\n      <td>NaN</td>\n    </tr>\n    <tr>\n      <th>8</th>\n      <td>2020.03</td>\n      <td>252</td>\n      <td>1732748</td>\n      <td>191003</td>\n      <td>62625</td>\n      <td>562854</td>\n      <td>3826</td>\n      <td>2750</td>\n      <td>9962</td>\n      <td>NaN</td>\n    </tr>\n    <tr>\n      <th>9</th>\n      <td>2020.04</td>\n      <td>596</td>\n      <td>1218812</td>\n      <td>131838</td>\n      <td>62930</td>\n      <td>593994</td>\n      <td>3850</td>\n      <td>2860</td>\n      <td>10722</td>\n      <td>NaN</td>\n    </tr>\n    <tr>\n      <th>10</th>\n      <td>2020.05</td>\n      <td>433</td>\n      <td>943057</td>\n      <td>112487</td>\n      <td>63236</td>\n      <td>600110</td>\n      <td>3868</td>\n      <td>2852</td>\n      <td>10746</td>\n      <td>NaN</td>\n    </tr>\n    <tr>\n      <th>11</th>\n      <td>2020.06</td>\n      <td>907</td>\n      <td>1197017</td>\n      <td>145230</td>\n      <td>63852</td>\n      <td>648774</td>\n      <td>3893</td>\n      <td>2985</td>\n      <td>11992</td>\n      <td>NaN</td>\n    </tr>\n    <tr>\n      <th>12</th>\n      <td>2020.07</td>\n      <td>1684</td>\n      <td>2324706</td>\n      <td>301963</td>\n      <td>64132</td>\n      <td>738175</td>\n      <td>3938</td>\n      <td>3310</td>\n      <td>13638</td>\n      <td>NaN</td>\n    </tr>\n    <tr>\n      <th>13</th>\n      <td>2020.08</td>\n      <td>1850</td>\n      <td>1709486</td>\n      <td>222966</td>\n      <td>64296</td>\n      <td>759475</td>\n      <td>3990</td>\n      <td>3396</td>\n      <td>13758</td>\n      <td>NaN</td>\n    </tr>\n    <tr>\n      <th>14</th>\n      <td>2020.09</td>\n      <td>1353</td>\n      <td>1373787</td>\n      <td>169872</td>\n      <td>64598</td>\n      <td>721687</td>\n      <td>4056</td>\n      <td>3218</td>\n      <td>12907</td>\n      <td>NaN</td>\n    </tr>\n    <tr>\n      <th>15</th>\n      <td>2020.10</td>\n      <td>1060</td>\n      <td>842521</td>\n      <td>119702</td>\n      <td>64856</td>\n      <td>735808</td>\n      <td>4082</td>\n      <td>3225</td>\n      <td>13237</td>\n      <td>NaN</td>\n    </tr>\n    <tr>\n      <th>16</th>\n      <td>2020.11</td>\n      <td>1076</td>\n      <td>1307912</td>\n      <td>175769</td>\n      <td>65010</td>\n      <td>769523</td>\n      <td>4101</td>\n      <td>3392</td>\n      <td>13670</td>\n      <td>NaN</td>\n    </tr>\n    <tr>\n      <th>17</th>\n      <td>2020.12</td>\n      <td>1206</td>\n      <td>1433724</td>\n      <td>188411</td>\n      <td>65456</td>\n      <td>797238</td>\n      <td>4154</td>\n      <td>3473</td>\n      <td>14471</td>\n      <td>NaN</td>\n    </tr>\n    <tr>\n      <th>18</th>\n      <td>2020年累计</td>\n      <td>11567</td>\n      <td>16745186</td>\n      <td>2068253</td>\n      <td>NaN</td>\n      <td>NaN</td>\n      <td>NaN</td>\n      <td>NaN</td>\n      <td>NaN</td>\n      <td>NaN</td>\n    </tr>\n    <tr>\n      <th>19</th>\n      <td>数据来源：中国证券监督管理委员会。</td>\n      <td>数据来源：中国证券监督管理委员会。</td>\n      <td>NaN</td>\n      <td>NaN</td>\n      <td>NaN</td>\n      <td>NaN</td>\n      <td>NaN</td>\n      <td>NaN</td>\n      <td>NaN</td>\n      <td>NaN</td>\n    </tr>\n    <tr>\n      <th>20</th>\n      <td>Source:China  Securities Regulatory Commission.</td>\n      <td>Source:China  Securities Regulatory Commission.</td>\n      <td>Source:China  Securities Regulatory Commission.</td>\n      <td>NaN</td>\n      <td>NaN</td>\n      <td>NaN</td>\n      <td>NaN</td>\n      <td>NaN</td>\n      <td>NaN</td>\n      <td>NaN</td>\n    </tr>\n    <tr>\n      <th>21</th>\n      <td>NaN</td>\n      <td>NaN</td>\n      <td>NaN</td>\n      <td>NaN</td>\n      <td>NaN</td>\n      <td>NaN</td>\n      <td>NaN</td>\n      <td>NaN</td>\n      <td>NaN</td>\n      <td>NaN</td>\n    </tr>\n    <tr>\n      <th>22</th>\n      <td>NaN</td>\n      <td>NaN</td>\n      <td>NaN</td>\n      <td>NaN</td>\n      <td>NaN</td>\n      <td>NaN</td>\n      <td>NaN</td>\n      <td>NaN</td>\n      <td>NaN</td>\n      <td>NaN</td>\n    </tr>\n  </tbody>\n</table>\n</div>"
     },
     "metadata": {},
     "execution_count": 6
    }
   ],
   "source": [
    "df_list[0]"
   ]
  },
  {
   "cell_type": "code",
   "execution_count": null,
   "metadata": {},
   "outputs": [],
   "source": []
  }
 ]
}
{
 "metadata": {
  "language_info": {
   "codemirror_mode": {
    "name": "ipython",
    "version": 3
   },
   "file_extension": ".py",
   "mimetype": "text/x-python",
   "name": "python",
   "nbconvert_exporter": "python",
   "pygments_lexer": "ipython3",
   "version": "3.8.5"
  },
  "orig_nbformat": 2,
  "kernelspec": {
   "name": "python385jvsc74a57bd0c39885171911825c85dd2872b53a1f517ccf6205e737fb46b3c547492811485f",
   "display_name": "Python 3.8.5 64-bit ('base': conda)"
  }
 },
 "nbformat": 4,
 "nbformat_minor": 2,
 "cells": [
  {
   "cell_type": "code",
   "execution_count": 4,
   "metadata": {},
   "outputs": [],
   "source": [
    "import pandas as pd\n",
    "import numpy as np"
   ]
  },
  {
   "cell_type": "code",
   "execution_count": 7,
   "metadata": {},
   "outputs": [],
   "source": [
    "scores = [[20.26, 71.58, 27.06, 97.51],\n",
    "       [40.61, 72.32, 56.54,  5.45],\n",
    "       [72.44, 68.89,  6.65, 75.54]],"
   ]
  },
  {
   "cell_type": "code",
   "execution_count": 8,
   "metadata": {},
   "outputs": [
    {
     "output_type": "error",
     "ename": "ValueError",
     "evalue": "4 columns passed, passed data had 3 columns",
     "traceback": [
      "\u001b[1;31m---------------------------------------------------------------------------\u001b[0m",
      "\u001b[1;31mAssertionError\u001b[0m                            Traceback (most recent call last)",
      "\u001b[1;32m~\\anaconda3\\lib\\site-packages\\pandas\\core\\internals\\construction.py\u001b[0m in \u001b[0;36m_list_to_arrays\u001b[1;34m(data, columns, coerce_float, dtype)\u001b[0m\n\u001b[0;32m    567\u001b[0m     \u001b[1;32mtry\u001b[0m\u001b[1;33m:\u001b[0m\u001b[1;33m\u001b[0m\u001b[1;33m\u001b[0m\u001b[0m\n\u001b[1;32m--> 568\u001b[1;33m         \u001b[0mcolumns\u001b[0m \u001b[1;33m=\u001b[0m \u001b[0m_validate_or_indexify_columns\u001b[0m\u001b[1;33m(\u001b[0m\u001b[0mcontent\u001b[0m\u001b[1;33m,\u001b[0m \u001b[0mcolumns\u001b[0m\u001b[1;33m)\u001b[0m\u001b[1;33m\u001b[0m\u001b[1;33m\u001b[0m\u001b[0m\n\u001b[0m\u001b[0;32m    569\u001b[0m         \u001b[0mresult\u001b[0m \u001b[1;33m=\u001b[0m \u001b[0m_convert_object_array\u001b[0m\u001b[1;33m(\u001b[0m\u001b[0mcontent\u001b[0m\u001b[1;33m,\u001b[0m \u001b[0mdtype\u001b[0m\u001b[1;33m=\u001b[0m\u001b[0mdtype\u001b[0m\u001b[1;33m,\u001b[0m \u001b[0mcoerce_float\u001b[0m\u001b[1;33m=\u001b[0m\u001b[0mcoerce_float\u001b[0m\u001b[1;33m)\u001b[0m\u001b[1;33m\u001b[0m\u001b[1;33m\u001b[0m\u001b[0m\n",
      "\u001b[1;32m~\\anaconda3\\lib\\site-packages\\pandas\\core\\internals\\construction.py\u001b[0m in \u001b[0;36m_validate_or_indexify_columns\u001b[1;34m(content, columns)\u001b[0m\n\u001b[0;32m    691\u001b[0m             \u001b[1;31m# caller's responsibility to check for this...\u001b[0m\u001b[1;33m\u001b[0m\u001b[1;33m\u001b[0m\u001b[1;33m\u001b[0m\u001b[0m\n\u001b[1;32m--> 692\u001b[1;33m             raise AssertionError(\n\u001b[0m\u001b[0;32m    693\u001b[0m                 \u001b[1;34mf\"{len(columns)} columns passed, passed data had \"\u001b[0m\u001b[1;33m\u001b[0m\u001b[1;33m\u001b[0m\u001b[0m\n",
      "\u001b[1;31mAssertionError\u001b[0m: 4 columns passed, passed data had 3 columns",
      "\nThe above exception was the direct cause of the following exception:\n",
      "\u001b[1;31mValueError\u001b[0m                                Traceback (most recent call last)",
      "\u001b[1;32m<ipython-input-8-79d3077eb352>\u001b[0m in \u001b[0;36m<module>\u001b[1;34m\u001b[0m\n\u001b[0;32m      7\u001b[0m \u001b[1;31m# index 参数代表行索引\u001b[0m\u001b[1;33m\u001b[0m\u001b[1;33m\u001b[0m\u001b[1;33m\u001b[0m\u001b[0m\n\u001b[0;32m      8\u001b[0m \u001b[1;31m# columns 参数代表列索引\u001b[0m\u001b[1;33m\u001b[0m\u001b[1;33m\u001b[0m\u001b[1;33m\u001b[0m\u001b[0m\n\u001b[1;32m----> 9\u001b[1;33m df_scores = pd.DataFrame(scores,\n\u001b[0m\u001b[0;32m     10\u001b[0m             \u001b[0mindex\u001b[0m \u001b[1;33m=\u001b[0m \u001b[1;33m[\u001b[0m\u001b[1;34m\"小亮\"\u001b[0m\u001b[1;33m,\u001b[0m \u001b[1;34m\"小明\"\u001b[0m\u001b[1;33m,\u001b[0m \u001b[1;34m\"小E\"\u001b[0m\u001b[1;33m]\u001b[0m\u001b[1;33m,\u001b[0m\u001b[1;33m\u001b[0m\u001b[1;33m\u001b[0m\u001b[0m\n\u001b[0;32m     11\u001b[0m             columns= index_arr)\n",
      "\u001b[1;32m~\\anaconda3\\lib\\site-packages\\pandas\\core\\frame.py\u001b[0m in \u001b[0;36m__init__\u001b[1;34m(self, data, index, columns, dtype, copy)\u001b[0m\n\u001b[0;32m    568\u001b[0m                     \u001b[1;32mif\u001b[0m \u001b[0mis_named_tuple\u001b[0m\u001b[1;33m(\u001b[0m\u001b[0mdata\u001b[0m\u001b[1;33m[\u001b[0m\u001b[1;36m0\u001b[0m\u001b[1;33m]\u001b[0m\u001b[1;33m)\u001b[0m \u001b[1;32mand\u001b[0m \u001b[0mcolumns\u001b[0m \u001b[1;32mis\u001b[0m \u001b[1;32mNone\u001b[0m\u001b[1;33m:\u001b[0m\u001b[1;33m\u001b[0m\u001b[1;33m\u001b[0m\u001b[0m\n\u001b[0;32m    569\u001b[0m                         \u001b[0mcolumns\u001b[0m \u001b[1;33m=\u001b[0m \u001b[0mdata\u001b[0m\u001b[1;33m[\u001b[0m\u001b[1;36m0\u001b[0m\u001b[1;33m]\u001b[0m\u001b[1;33m.\u001b[0m\u001b[0m_fields\u001b[0m\u001b[1;33m\u001b[0m\u001b[1;33m\u001b[0m\u001b[0m\n\u001b[1;32m--> 570\u001b[1;33m                     \u001b[0marrays\u001b[0m\u001b[1;33m,\u001b[0m \u001b[0mcolumns\u001b[0m \u001b[1;33m=\u001b[0m \u001b[0mto_arrays\u001b[0m\u001b[1;33m(\u001b[0m\u001b[0mdata\u001b[0m\u001b[1;33m,\u001b[0m \u001b[0mcolumns\u001b[0m\u001b[1;33m,\u001b[0m \u001b[0mdtype\u001b[0m\u001b[1;33m=\u001b[0m\u001b[0mdtype\u001b[0m\u001b[1;33m)\u001b[0m\u001b[1;33m\u001b[0m\u001b[1;33m\u001b[0m\u001b[0m\n\u001b[0m\u001b[0;32m    571\u001b[0m                     \u001b[0mcolumns\u001b[0m \u001b[1;33m=\u001b[0m \u001b[0mensure_index\u001b[0m\u001b[1;33m(\u001b[0m\u001b[0mcolumns\u001b[0m\u001b[1;33m)\u001b[0m\u001b[1;33m\u001b[0m\u001b[1;33m\u001b[0m\u001b[0m\n\u001b[0;32m    572\u001b[0m \u001b[1;33m\u001b[0m\u001b[0m\n",
      "\u001b[1;32m~\\anaconda3\\lib\\site-packages\\pandas\\core\\internals\\construction.py\u001b[0m in \u001b[0;36mto_arrays\u001b[1;34m(data, columns, coerce_float, dtype)\u001b[0m\n\u001b[0;32m    526\u001b[0m         \u001b[1;32mreturn\u001b[0m \u001b[1;33m[\u001b[0m\u001b[1;33m]\u001b[0m\u001b[1;33m,\u001b[0m \u001b[1;33m[\u001b[0m\u001b[1;33m]\u001b[0m  \u001b[1;31m# columns if columns is not None else []\u001b[0m\u001b[1;33m\u001b[0m\u001b[1;33m\u001b[0m\u001b[0m\n\u001b[0;32m    527\u001b[0m     \u001b[1;32mif\u001b[0m \u001b[0misinstance\u001b[0m\u001b[1;33m(\u001b[0m\u001b[0mdata\u001b[0m\u001b[1;33m[\u001b[0m\u001b[1;36m0\u001b[0m\u001b[1;33m]\u001b[0m\u001b[1;33m,\u001b[0m \u001b[1;33m(\u001b[0m\u001b[0mlist\u001b[0m\u001b[1;33m,\u001b[0m \u001b[0mtuple\u001b[0m\u001b[1;33m)\u001b[0m\u001b[1;33m)\u001b[0m\u001b[1;33m:\u001b[0m\u001b[1;33m\u001b[0m\u001b[1;33m\u001b[0m\u001b[0m\n\u001b[1;32m--> 528\u001b[1;33m         \u001b[1;32mreturn\u001b[0m \u001b[0m_list_to_arrays\u001b[0m\u001b[1;33m(\u001b[0m\u001b[0mdata\u001b[0m\u001b[1;33m,\u001b[0m \u001b[0mcolumns\u001b[0m\u001b[1;33m,\u001b[0m \u001b[0mcoerce_float\u001b[0m\u001b[1;33m=\u001b[0m\u001b[0mcoerce_float\u001b[0m\u001b[1;33m,\u001b[0m \u001b[0mdtype\u001b[0m\u001b[1;33m=\u001b[0m\u001b[0mdtype\u001b[0m\u001b[1;33m)\u001b[0m\u001b[1;33m\u001b[0m\u001b[1;33m\u001b[0m\u001b[0m\n\u001b[0m\u001b[0;32m    529\u001b[0m     \u001b[1;32melif\u001b[0m \u001b[0misinstance\u001b[0m\u001b[1;33m(\u001b[0m\u001b[0mdata\u001b[0m\u001b[1;33m[\u001b[0m\u001b[1;36m0\u001b[0m\u001b[1;33m]\u001b[0m\u001b[1;33m,\u001b[0m \u001b[0mabc\u001b[0m\u001b[1;33m.\u001b[0m\u001b[0mMapping\u001b[0m\u001b[1;33m)\u001b[0m\u001b[1;33m:\u001b[0m\u001b[1;33m\u001b[0m\u001b[1;33m\u001b[0m\u001b[0m\n\u001b[0;32m    530\u001b[0m         return _list_of_dict_to_arrays(\n",
      "\u001b[1;32m~\\anaconda3\\lib\\site-packages\\pandas\\core\\internals\\construction.py\u001b[0m in \u001b[0;36m_list_to_arrays\u001b[1;34m(data, columns, coerce_float, dtype)\u001b[0m\n\u001b[0;32m    569\u001b[0m         \u001b[0mresult\u001b[0m \u001b[1;33m=\u001b[0m \u001b[0m_convert_object_array\u001b[0m\u001b[1;33m(\u001b[0m\u001b[0mcontent\u001b[0m\u001b[1;33m,\u001b[0m \u001b[0mdtype\u001b[0m\u001b[1;33m=\u001b[0m\u001b[0mdtype\u001b[0m\u001b[1;33m,\u001b[0m \u001b[0mcoerce_float\u001b[0m\u001b[1;33m=\u001b[0m\u001b[0mcoerce_float\u001b[0m\u001b[1;33m)\u001b[0m\u001b[1;33m\u001b[0m\u001b[1;33m\u001b[0m\u001b[0m\n\u001b[0;32m    570\u001b[0m     \u001b[1;32mexcept\u001b[0m \u001b[0mAssertionError\u001b[0m \u001b[1;32mas\u001b[0m \u001b[0me\u001b[0m\u001b[1;33m:\u001b[0m\u001b[1;33m\u001b[0m\u001b[1;33m\u001b[0m\u001b[0m\n\u001b[1;32m--> 571\u001b[1;33m         \u001b[1;32mraise\u001b[0m \u001b[0mValueError\u001b[0m\u001b[1;33m(\u001b[0m\u001b[0me\u001b[0m\u001b[1;33m)\u001b[0m \u001b[1;32mfrom\u001b[0m \u001b[0me\u001b[0m\u001b[1;33m\u001b[0m\u001b[1;33m\u001b[0m\u001b[0m\n\u001b[0m\u001b[0;32m    572\u001b[0m     \u001b[1;32mreturn\u001b[0m \u001b[0mresult\u001b[0m\u001b[1;33m,\u001b[0m \u001b[0mcolumns\u001b[0m\u001b[1;33m\u001b[0m\u001b[1;33m\u001b[0m\u001b[0m\n\u001b[0;32m    573\u001b[0m \u001b[1;33m\u001b[0m\u001b[0m\n",
      "\u001b[1;31mValueError\u001b[0m: 4 columns passed, passed data had 3 columns"
     ]
    }
   ],
   "source": [
    "import pandas as pd\n",
    "\n",
    "# DataFrame 的列名\n",
    "index_arr = [\"听力\", \"阅读\", \"写作\", \"口试\"]\n",
    "\n",
    "# 从 scores 列表中创建 DataFrame\n",
    "# index 参数代表行索引\n",
    "# columns 参数代表列索引\n",
    "df_scores = pd.DataFrame(scores,\n",
    "            index = [\"小亮\", \"小明\", \"小E\"],\n",
    "            columns= index_arr)\n",
    "\n",
    "# 打印 DataFrame\n",
    "df_scores"
   ]
  },
  {
   "cell_type": "code",
   "execution_count": 115,
   "metadata": {},
   "outputs": [
    {
     "output_type": "execute_result",
     "data": {
      "text/plain": [
       "       听力     阅读     写作     口试\n",
       "小亮  20.26  71.58  27.06  97.51\n",
       "小明  40.61  72.32  56.54   5.45\n",
       "小E  72.44  68.89   6.65  75.54\n",
       "小李  30.04    NaN    NaN    NaN"
      ],
      "text/html": "<div>\n<style scoped>\n    .dataframe tbody tr th:only-of-type {\n        vertical-align: middle;\n    }\n\n    .dataframe tbody tr th {\n        vertical-align: top;\n    }\n\n    .dataframe thead th {\n        text-align: right;\n    }\n</style>\n<table border=\"1\" class=\"dataframe\">\n  <thead>\n    <tr style=\"text-align: right;\">\n      <th></th>\n      <th>听力</th>\n      <th>阅读</th>\n      <th>写作</th>\n      <th>口试</th>\n    </tr>\n  </thead>\n  <tbody>\n    <tr>\n      <th>小亮</th>\n      <td>20.26</td>\n      <td>71.58</td>\n      <td>27.06</td>\n      <td>97.51</td>\n    </tr>\n    <tr>\n      <th>小明</th>\n      <td>40.61</td>\n      <td>72.32</td>\n      <td>56.54</td>\n      <td>5.45</td>\n    </tr>\n    <tr>\n      <th>小E</th>\n      <td>72.44</td>\n      <td>68.89</td>\n      <td>6.65</td>\n      <td>75.54</td>\n    </tr>\n    <tr>\n      <th>小李</th>\n      <td>30.04</td>\n      <td>NaN</td>\n      <td>NaN</td>\n      <td>NaN</td>\n    </tr>\n  </tbody>\n</table>\n</div>"
     },
     "metadata": {},
     "execution_count": 115
    }
   ],
   "source": [
    "# 生成小李的 Series，没有的成绩用 None 取代\n",
    "ser_xiaol = pd.Series([30.04,None,None,None], index=index_arr,name=\"小李\")\n",
    "\n",
    "# 将小李的 Series 添加到 df_scores 中\n",
    "df_scores = df_scores.append(ser_xiaol)\n",
    "\n",
    "# 查看 df_scores\n",
    "df_scores\n"
   ]
  },
  {
   "cell_type": "code",
   "execution_count": 116,
   "metadata": {},
   "outputs": [
    {
     "output_type": "execute_result",
     "data": {
      "text/plain": [
       "       听力     阅读     写作     口试\n",
       "小亮  20.26  71.58  27.06  97.51\n",
       "小明  40.61  72.32  56.54   5.45\n",
       "小E  72.44  68.89   6.65  75.54\n",
       "小李  30.04    NaN    NaN    NaN\n",
       "小王    NaN  91.00  72.34    NaN"
      ],
      "text/html": "<div>\n<style scoped>\n    .dataframe tbody tr th:only-of-type {\n        vertical-align: middle;\n    }\n\n    .dataframe tbody tr th {\n        vertical-align: top;\n    }\n\n    .dataframe thead th {\n        text-align: right;\n    }\n</style>\n<table border=\"1\" class=\"dataframe\">\n  <thead>\n    <tr style=\"text-align: right;\">\n      <th></th>\n      <th>听力</th>\n      <th>阅读</th>\n      <th>写作</th>\n      <th>口试</th>\n    </tr>\n  </thead>\n  <tbody>\n    <tr>\n      <th>小亮</th>\n      <td>20.26</td>\n      <td>71.58</td>\n      <td>27.06</td>\n      <td>97.51</td>\n    </tr>\n    <tr>\n      <th>小明</th>\n      <td>40.61</td>\n      <td>72.32</td>\n      <td>56.54</td>\n      <td>5.45</td>\n    </tr>\n    <tr>\n      <th>小E</th>\n      <td>72.44</td>\n      <td>68.89</td>\n      <td>6.65</td>\n      <td>75.54</td>\n    </tr>\n    <tr>\n      <th>小李</th>\n      <td>30.04</td>\n      <td>NaN</td>\n      <td>NaN</td>\n      <td>NaN</td>\n    </tr>\n    <tr>\n      <th>小王</th>\n      <td>NaN</td>\n      <td>91.00</td>\n      <td>72.34</td>\n      <td>NaN</td>\n    </tr>\n  </tbody>\n</table>\n</div>"
     },
     "metadata": {},
     "execution_count": 116
    }
   ],
   "source": [
    "# 生成小王的 Series，没有的成绩用 None 取代\n",
    "ser_xiaowang = pd.Series([None, 91.00, 72.34, None], index = index_arr, name=\"小王\")\n",
    "\n",
    "# 将小王的 Series 添加到 df_scores 中\n",
    "df_scores = df_scores.append(ser_xiaowang)\n",
    "\n",
    "# 查看 df_scores\n",
    "df_scores"
   ]
  },
  {
   "cell_type": "code",
   "execution_count": 7,
   "metadata": {},
   "outputs": [
    {
     "output_type": "execute_result",
     "data": {
      "text/plain": [
       "       听力     阅读     写作     口试\n",
       "小亮  False  False  False  False\n",
       "小明  False  False  False  False\n",
       "小E  False  False  False  False\n",
       "小李  False   True   True   True\n",
       "小王   True  False  False   True"
      ],
      "text/html": "<div>\n<style scoped>\n    .dataframe tbody tr th:only-of-type {\n        vertical-align: middle;\n    }\n\n    .dataframe tbody tr th {\n        vertical-align: top;\n    }\n\n    .dataframe thead th {\n        text-align: right;\n    }\n</style>\n<table border=\"1\" class=\"dataframe\">\n  <thead>\n    <tr style=\"text-align: right;\">\n      <th></th>\n      <th>听力</th>\n      <th>阅读</th>\n      <th>写作</th>\n      <th>口试</th>\n    </tr>\n  </thead>\n  <tbody>\n    <tr>\n      <th>小亮</th>\n      <td>False</td>\n      <td>False</td>\n      <td>False</td>\n      <td>False</td>\n    </tr>\n    <tr>\n      <th>小明</th>\n      <td>False</td>\n      <td>False</td>\n      <td>False</td>\n      <td>False</td>\n    </tr>\n    <tr>\n      <th>小E</th>\n      <td>False</td>\n      <td>False</td>\n      <td>False</td>\n      <td>False</td>\n    </tr>\n    <tr>\n      <th>小李</th>\n      <td>False</td>\n      <td>True</td>\n      <td>True</td>\n      <td>True</td>\n    </tr>\n    <tr>\n      <th>小王</th>\n      <td>True</td>\n      <td>False</td>\n      <td>False</td>\n      <td>True</td>\n    </tr>\n  </tbody>\n</table>\n</div>"
     },
     "metadata": {},
     "execution_count": 7
    }
   ],
   "source": [
    "# 调用 isna 函数，并查看结果\n",
    "df_scores.isna()"
   ]
  },
  {
   "cell_type": "code",
   "execution_count": 8,
   "metadata": {},
   "outputs": [
    {
     "output_type": "execute_result",
     "data": {
      "text/plain": [
       "听力    1\n",
       "阅读    1\n",
       "写作    1\n",
       "口试    2\n",
       "dtype: int64"
      ]
     },
     "metadata": {},
     "execution_count": 8
    }
   ],
   "source": [
    "# 按列聚合缺失值并查看\n",
    "df_scores.isna().sum()"
   ]
  },
  {
   "cell_type": "code",
   "execution_count": 9,
   "metadata": {},
   "outputs": [
    {
     "output_type": "execute_result",
     "data": {
      "text/plain": [
       "小亮    0\n",
       "小明    0\n",
       "小E    0\n",
       "小李    3\n",
       "小王    2\n",
       "dtype: int64"
      ]
     },
     "metadata": {},
     "execution_count": 9
    }
   ],
   "source": [
    "# 按行聚合缺失值并查看\n",
    "df_scores.isna().sum(1)"
   ]
  },
  {
   "cell_type": "code",
   "execution_count": 13,
   "metadata": {},
   "outputs": [
    {
     "output_type": "execute_result",
     "data": {
      "text/plain": [
       "听力    True\n",
       "阅读    True\n",
       "写作    True\n",
       "口试    True\n",
       "dtype: bool"
      ]
     },
     "metadata": {},
     "execution_count": 13
    }
   ],
   "source": [
    "df_scores.isna().any()\n"
   ]
  },
  {
   "cell_type": "code",
   "execution_count": 12,
   "metadata": {},
   "outputs": [
    {
     "output_type": "execute_result",
     "data": {
      "text/plain": [
       "       听力     阅读     写作     口试\n",
       "小亮  20.26  71.58  27.06  97.51\n",
       "小明  40.61  72.32  56.54   5.45\n",
       "小E  72.44  68.89   6.65  75.54\n",
       "小李  30.04    NaN    NaN    NaN\n",
       "小王    NaN  91.00  72.34    NaN"
      ],
      "text/html": "<div>\n<style scoped>\n    .dataframe tbody tr th:only-of-type {\n        vertical-align: middle;\n    }\n\n    .dataframe tbody tr th {\n        vertical-align: top;\n    }\n\n    .dataframe thead th {\n        text-align: right;\n    }\n</style>\n<table border=\"1\" class=\"dataframe\">\n  <thead>\n    <tr style=\"text-align: right;\">\n      <th></th>\n      <th>听力</th>\n      <th>阅读</th>\n      <th>写作</th>\n      <th>口试</th>\n    </tr>\n  </thead>\n  <tbody>\n    <tr>\n      <th>小亮</th>\n      <td>20.26</td>\n      <td>71.58</td>\n      <td>27.06</td>\n      <td>97.51</td>\n    </tr>\n    <tr>\n      <th>小明</th>\n      <td>40.61</td>\n      <td>72.32</td>\n      <td>56.54</td>\n      <td>5.45</td>\n    </tr>\n    <tr>\n      <th>小E</th>\n      <td>72.44</td>\n      <td>68.89</td>\n      <td>6.65</td>\n      <td>75.54</td>\n    </tr>\n    <tr>\n      <th>小李</th>\n      <td>30.04</td>\n      <td>NaN</td>\n      <td>NaN</td>\n      <td>NaN</td>\n    </tr>\n    <tr>\n      <th>小王</th>\n      <td>NaN</td>\n      <td>91.00</td>\n      <td>72.34</td>\n      <td>NaN</td>\n    </tr>\n  </tbody>\n</table>\n</div>"
     },
     "metadata": {},
     "execution_count": 12
    }
   ],
   "source": [
    "# 行索引部分，取所有的行\r\n",
    "# 列索引部分，取所有包含缺失值的列\r\n",
    "# any 函数类似 sum 函数，但any 函数做的是布尔聚合，当列有一个或以上的 True 时，结果就是 True， 否则为 False\r\n",
    "df_scores.loc[:, df_scores.isna().any()]"
   ]
  },
  {
   "cell_type": "code",
   "execution_count": 10,
   "metadata": {},
   "outputs": [
    {
     "output_type": "execute_result",
     "data": {
      "text/plain": [
       "       听力    阅读     写作  口试\n",
       "小李  30.04   NaN    NaN NaN\n",
       "小王    NaN  91.0  72.34 NaN"
      ],
      "text/html": "<div>\n<style scoped>\n    .dataframe tbody tr th:only-of-type {\n        vertical-align: middle;\n    }\n\n    .dataframe tbody tr th {\n        vertical-align: top;\n    }\n\n    .dataframe thead th {\n        text-align: right;\n    }\n</style>\n<table border=\"1\" class=\"dataframe\">\n  <thead>\n    <tr style=\"text-align: right;\">\n      <th></th>\n      <th>听力</th>\n      <th>阅读</th>\n      <th>写作</th>\n      <th>口试</th>\n    </tr>\n  </thead>\n  <tbody>\n    <tr>\n      <th>小李</th>\n      <td>30.04</td>\n      <td>NaN</td>\n      <td>NaN</td>\n      <td>NaN</td>\n    </tr>\n    <tr>\n      <th>小王</th>\n      <td>NaN</td>\n      <td>91.0</td>\n      <td>72.34</td>\n      <td>NaN</td>\n    </tr>\n  </tbody>\n</table>\n</div>"
     },
     "metadata": {},
     "execution_count": 10
    }
   ],
   "source": [
    "# 行索引部分，通过 any(1) 来聚合行维度的结果\n",
    "# 列索引部分，取所有的列\n",
    "df_scores.loc[df_scores.isna().any(1),:]"
   ]
  },
  {
   "cell_type": "code",
   "execution_count": 14,
   "metadata": {},
   "outputs": [
    {
     "output_type": "execute_result",
     "data": {
      "text/plain": [
       "5"
      ]
     },
     "metadata": {},
     "execution_count": 14
    }
   ],
   "source": [
    "df_scores.isna().sum().sum()"
   ]
  },
  {
   "cell_type": "code",
   "execution_count": 15,
   "metadata": {},
   "outputs": [
    {
     "output_type": "execute_result",
     "data": {
      "text/plain": [
       "       听力     阅读     写作     口试\n",
       "小亮  20.26  71.58  27.06  97.51\n",
       "小明  40.61  72.32  56.54   5.45\n",
       "小E  72.44  68.89   6.65  75.54"
      ],
      "text/html": "<div>\n<style scoped>\n    .dataframe tbody tr th:only-of-type {\n        vertical-align: middle;\n    }\n\n    .dataframe tbody tr th {\n        vertical-align: top;\n    }\n\n    .dataframe thead th {\n        text-align: right;\n    }\n</style>\n<table border=\"1\" class=\"dataframe\">\n  <thead>\n    <tr style=\"text-align: right;\">\n      <th></th>\n      <th>听力</th>\n      <th>阅读</th>\n      <th>写作</th>\n      <th>口试</th>\n    </tr>\n  </thead>\n  <tbody>\n    <tr>\n      <th>小亮</th>\n      <td>20.26</td>\n      <td>71.58</td>\n      <td>27.06</td>\n      <td>97.51</td>\n    </tr>\n    <tr>\n      <th>小明</th>\n      <td>40.61</td>\n      <td>72.32</td>\n      <td>56.54</td>\n      <td>5.45</td>\n    </tr>\n    <tr>\n      <th>小E</th>\n      <td>72.44</td>\n      <td>68.89</td>\n      <td>6.65</td>\n      <td>75.54</td>\n    </tr>\n  </tbody>\n</table>\n</div>"
     },
     "metadata": {},
     "execution_count": 15
    }
   ],
   "source": [
    "df_scores.dropna()"
   ]
  },
  {
   "cell_type": "code",
   "execution_count": 16,
   "metadata": {},
   "outputs": [
    {
     "output_type": "execute_result",
     "data": {
      "text/plain": [
       "Empty DataFrame\n",
       "Columns: []\n",
       "Index: [小亮, 小明, 小E, 小李, 小王]"
      ],
      "text/html": "<div>\n<style scoped>\n    .dataframe tbody tr th:only-of-type {\n        vertical-align: middle;\n    }\n\n    .dataframe tbody tr th {\n        vertical-align: top;\n    }\n\n    .dataframe thead th {\n        text-align: right;\n    }\n</style>\n<table border=\"1\" class=\"dataframe\">\n  <thead>\n    <tr style=\"text-align: right;\">\n      <th></th>\n    </tr>\n  </thead>\n  <tbody>\n    <tr>\n      <th>小亮</th>\n    </tr>\n    <tr>\n      <th>小明</th>\n    </tr>\n    <tr>\n      <th>小E</th>\n    </tr>\n    <tr>\n      <th>小李</th>\n    </tr>\n    <tr>\n      <th>小王</th>\n    </tr>\n  </tbody>\n</table>\n</div>"
     },
     "metadata": {},
     "execution_count": 16
    }
   ],
   "source": [
    "df_scores.dropna(1)"
   ]
  },
  {
   "cell_type": "code",
   "execution_count": 21,
   "metadata": {},
   "outputs": [
    {
     "output_type": "execute_result",
     "data": {
      "text/plain": [
       "       听力     阅读     写作     口试\n",
       "小亮  20.26  71.58  27.06  97.51\n",
       "小明  40.61  72.32  56.54   5.45\n",
       "小E  72.44  68.89   6.65  75.54\n",
       "小李  30.04    NaN    NaN    NaN\n",
       "小王    NaN  91.00  72.34    NaN"
      ],
      "text/html": "<div>\n<style scoped>\n    .dataframe tbody tr th:only-of-type {\n        vertical-align: middle;\n    }\n\n    .dataframe tbody tr th {\n        vertical-align: top;\n    }\n\n    .dataframe thead th {\n        text-align: right;\n    }\n</style>\n<table border=\"1\" class=\"dataframe\">\n  <thead>\n    <tr style=\"text-align: right;\">\n      <th></th>\n      <th>听力</th>\n      <th>阅读</th>\n      <th>写作</th>\n      <th>口试</th>\n    </tr>\n  </thead>\n  <tbody>\n    <tr>\n      <th>小亮</th>\n      <td>20.26</td>\n      <td>71.58</td>\n      <td>27.06</td>\n      <td>97.51</td>\n    </tr>\n    <tr>\n      <th>小明</th>\n      <td>40.61</td>\n      <td>72.32</td>\n      <td>56.54</td>\n      <td>5.45</td>\n    </tr>\n    <tr>\n      <th>小E</th>\n      <td>72.44</td>\n      <td>68.89</td>\n      <td>6.65</td>\n      <td>75.54</td>\n    </tr>\n    <tr>\n      <th>小李</th>\n      <td>30.04</td>\n      <td>NaN</td>\n      <td>NaN</td>\n      <td>NaN</td>\n    </tr>\n    <tr>\n      <th>小王</th>\n      <td>NaN</td>\n      <td>91.00</td>\n      <td>72.34</td>\n      <td>NaN</td>\n    </tr>\n  </tbody>\n</table>\n</div>"
     },
     "metadata": {},
     "execution_count": 21
    }
   ],
   "source": [
    "# 删除正常值小于 2 个的行\n",
    "df_scores.dropna(thresh=1)"
   ]
  },
  {
   "cell_type": "code",
   "execution_count": 25,
   "metadata": {},
   "outputs": [
    {
     "output_type": "execute_result",
     "data": {
      "text/plain": [
       "       听力     阅读     写作     口试\n",
       "小亮  20.26  71.58  27.06  97.51\n",
       "小明  40.61  72.32  56.54   5.45\n",
       "小E  72.44  68.89   6.65  75.54\n",
       "小李  30.04    NaN    NaN    NaN"
      ],
      "text/html": "<div>\n<style scoped>\n    .dataframe tbody tr th:only-of-type {\n        vertical-align: middle;\n    }\n\n    .dataframe tbody tr th {\n        vertical-align: top;\n    }\n\n    .dataframe thead th {\n        text-align: right;\n    }\n</style>\n<table border=\"1\" class=\"dataframe\">\n  <thead>\n    <tr style=\"text-align: right;\">\n      <th></th>\n      <th>听力</th>\n      <th>阅读</th>\n      <th>写作</th>\n      <th>口试</th>\n    </tr>\n  </thead>\n  <tbody>\n    <tr>\n      <th>小亮</th>\n      <td>20.26</td>\n      <td>71.58</td>\n      <td>27.06</td>\n      <td>97.51</td>\n    </tr>\n    <tr>\n      <th>小明</th>\n      <td>40.61</td>\n      <td>72.32</td>\n      <td>56.54</td>\n      <td>5.45</td>\n    </tr>\n    <tr>\n      <th>小E</th>\n      <td>72.44</td>\n      <td>68.89</td>\n      <td>6.65</td>\n      <td>75.54</td>\n    </tr>\n    <tr>\n      <th>小李</th>\n      <td>30.04</td>\n      <td>NaN</td>\n      <td>NaN</td>\n      <td>NaN</td>\n    </tr>\n  </tbody>\n</table>\n</div>"
     },
     "metadata": {},
     "execution_count": 25
    }
   ],
   "source": [
    "# 删除听力一列是缺失值的所有行\n",
    "df_scores.dropna(subset=[\"听力\"])"
   ]
  },
  {
   "cell_type": "code",
   "execution_count": 26,
   "metadata": {},
   "outputs": [
    {
     "output_type": "execute_result",
     "data": {
      "text/plain": [
       "小亮    27.06\n",
       "小明    56.54\n",
       "小E     6.65\n",
       "小王    72.34\n",
       "Name: 写作, dtype: float64"
      ]
     },
     "metadata": {},
     "execution_count": 26
    }
   ],
   "source": [
    "df_scores.写作.dropna()"
   ]
  },
  {
   "cell_type": "code",
   "execution_count": 43,
   "metadata": {},
   "outputs": [
    {
     "output_type": "execute_result",
     "data": {
      "text/plain": [
       "       听力     阅读     写作     口试\n",
       "小亮  20.26  71.58  27.06  97.51\n",
       "小明  40.61  72.32  56.54   5.45\n",
       "小E  72.44  68.89   6.65  75.54\n",
       "小李  30.04    NaN    NaN    NaN\n",
       "小王    NaN  91.00  72.34    NaN"
      ],
      "text/html": "<div>\n<style scoped>\n    .dataframe tbody tr th:only-of-type {\n        vertical-align: middle;\n    }\n\n    .dataframe tbody tr th {\n        vertical-align: top;\n    }\n\n    .dataframe thead th {\n        text-align: right;\n    }\n</style>\n<table border=\"1\" class=\"dataframe\">\n  <thead>\n    <tr style=\"text-align: right;\">\n      <th></th>\n      <th>听力</th>\n      <th>阅读</th>\n      <th>写作</th>\n      <th>口试</th>\n    </tr>\n  </thead>\n  <tbody>\n    <tr>\n      <th>小亮</th>\n      <td>20.26</td>\n      <td>71.58</td>\n      <td>27.06</td>\n      <td>97.51</td>\n    </tr>\n    <tr>\n      <th>小明</th>\n      <td>40.61</td>\n      <td>72.32</td>\n      <td>56.54</td>\n      <td>5.45</td>\n    </tr>\n    <tr>\n      <th>小E</th>\n      <td>72.44</td>\n      <td>68.89</td>\n      <td>6.65</td>\n      <td>75.54</td>\n    </tr>\n    <tr>\n      <th>小李</th>\n      <td>30.04</td>\n      <td>NaN</td>\n      <td>NaN</td>\n      <td>NaN</td>\n    </tr>\n    <tr>\n      <th>小王</th>\n      <td>NaN</td>\n      <td>91.00</td>\n      <td>72.34</td>\n      <td>NaN</td>\n    </tr>\n  </tbody>\n</table>\n</div>"
     },
     "metadata": {},
     "execution_count": 43
    }
   ],
   "source": [
    "df_scores"
   ]
  },
  {
   "cell_type": "code",
   "execution_count": 42,
   "metadata": {},
   "outputs": [
    {
     "output_type": "execute_result",
     "data": {
      "text/plain": [
       "       听力     阅读     写作     口试\n",
       "小亮  20.26  71.58  27.06  97.51\n",
       "小明  40.61  72.32  56.54   5.45\n",
       "小E  72.44  68.89   6.65  75.54\n",
       "小李  30.04  33.00  33.00  33.00\n",
       "小王  33.00  91.00  72.34  33.00"
      ],
      "text/html": "<div>\n<style scoped>\n    .dataframe tbody tr th:only-of-type {\n        vertical-align: middle;\n    }\n\n    .dataframe tbody tr th {\n        vertical-align: top;\n    }\n\n    .dataframe thead th {\n        text-align: right;\n    }\n</style>\n<table border=\"1\" class=\"dataframe\">\n  <thead>\n    <tr style=\"text-align: right;\">\n      <th></th>\n      <th>听力</th>\n      <th>阅读</th>\n      <th>写作</th>\n      <th>口试</th>\n    </tr>\n  </thead>\n  <tbody>\n    <tr>\n      <th>小亮</th>\n      <td>20.26</td>\n      <td>71.58</td>\n      <td>27.06</td>\n      <td>97.51</td>\n    </tr>\n    <tr>\n      <th>小明</th>\n      <td>40.61</td>\n      <td>72.32</td>\n      <td>56.54</td>\n      <td>5.45</td>\n    </tr>\n    <tr>\n      <th>小E</th>\n      <td>72.44</td>\n      <td>68.89</td>\n      <td>6.65</td>\n      <td>75.54</td>\n    </tr>\n    <tr>\n      <th>小李</th>\n      <td>30.04</td>\n      <td>33.00</td>\n      <td>33.00</td>\n      <td>33.00</td>\n    </tr>\n    <tr>\n      <th>小王</th>\n      <td>33.00</td>\n      <td>91.00</td>\n      <td>72.34</td>\n      <td>33.00</td>\n    </tr>\n  </tbody>\n</table>\n</div>"
     },
     "metadata": {},
     "execution_count": 42
    }
   ],
   "source": [
    "df_scores.fillna(33.0)"
   ]
  },
  {
   "cell_type": "code",
   "execution_count": 54,
   "metadata": {},
   "outputs": [
    {
     "output_type": "execute_result",
     "data": {
      "text/plain": [
       "       听力     阅读     写作     口试\n",
       "小亮  20.26  71.58  27.06  97.51\n",
       "小明  40.61  72.32  56.54   5.45\n",
       "小E  72.44  68.89   6.65  75.54\n",
       "小李  30.04    NaN    NaN    NaN\n",
       "小王  60.00  91.00  72.34    NaN"
      ],
      "text/html": "<div>\n<style scoped>\n    .dataframe tbody tr th:only-of-type {\n        vertical-align: middle;\n    }\n\n    .dataframe tbody tr th {\n        vertical-align: top;\n    }\n\n    .dataframe thead th {\n        text-align: right;\n    }\n</style>\n<table border=\"1\" class=\"dataframe\">\n  <thead>\n    <tr style=\"text-align: right;\">\n      <th></th>\n      <th>听力</th>\n      <th>阅读</th>\n      <th>写作</th>\n      <th>口试</th>\n    </tr>\n  </thead>\n  <tbody>\n    <tr>\n      <th>小亮</th>\n      <td>20.26</td>\n      <td>71.58</td>\n      <td>27.06</td>\n      <td>97.51</td>\n    </tr>\n    <tr>\n      <th>小明</th>\n      <td>40.61</td>\n      <td>72.32</td>\n      <td>56.54</td>\n      <td>5.45</td>\n    </tr>\n    <tr>\n      <th>小E</th>\n      <td>72.44</td>\n      <td>68.89</td>\n      <td>6.65</td>\n      <td>75.54</td>\n    </tr>\n    <tr>\n      <th>小李</th>\n      <td>30.04</td>\n      <td>NaN</td>\n      <td>NaN</td>\n      <td>NaN</td>\n    </tr>\n    <tr>\n      <th>小王</th>\n      <td>60.00</td>\n      <td>91.00</td>\n      <td>72.34</td>\n      <td>NaN</td>\n    </tr>\n  </tbody>\n</table>\n</div>"
     },
     "metadata": {},
     "execution_count": 54
    }
   ],
   "source": [
    "# 复制一个 DataFrame， 命名为 df_scores_test\n",
    "df_scores_test = df_scores.copy(deep=True)\n",
    "\n",
    "# 将听力一列的缺失值填充为 60\n",
    "df_scores_test[\"听力\"] = df_scores_test[\"听力\"].fillna(60.0)\n",
    "\n",
    "# 查看\n",
    "df_scores_test"
   ]
  },
  {
   "cell_type": "code",
   "execution_count": 52,
   "metadata": {},
   "outputs": [
    {
     "output_type": "execute_result",
     "data": {
      "text/plain": [
       "小亮    20.26\n",
       "小明    40.61\n",
       "小E    72.44\n",
       "小李    30.04\n",
       "小王     1.20\n",
       "Name: 听力, dtype: float64"
      ]
     },
     "metadata": {},
     "execution_count": 52
    }
   ],
   "source": [
    "df_scores.听力.fillna(1.2)"
   ]
  },
  {
   "cell_type": "code",
   "execution_count": 55,
   "metadata": {},
   "outputs": [
    {
     "output_type": "execute_result",
     "data": {
      "text/plain": [
       "       听力     阅读     写作     口试\n",
       "小亮  20.26  71.58  27.06  97.51\n",
       "小明  40.61  72.32  56.54   5.45\n",
       "小E  72.44  68.89   6.65  75.54\n",
       "小李  30.04   50.0   50.0   50.0\n",
       "小王  60.00     91  72.34    NaN"
      ],
      "text/html": "<div>\n<style scoped>\n    .dataframe tbody tr th:only-of-type {\n        vertical-align: middle;\n    }\n\n    .dataframe tbody tr th {\n        vertical-align: top;\n    }\n\n    .dataframe thead th {\n        text-align: right;\n    }\n</style>\n<table border=\"1\" class=\"dataframe\">\n  <thead>\n    <tr style=\"text-align: right;\">\n      <th></th>\n      <th>听力</th>\n      <th>阅读</th>\n      <th>写作</th>\n      <th>口试</th>\n    </tr>\n  </thead>\n  <tbody>\n    <tr>\n      <th>小亮</th>\n      <td>20.26</td>\n      <td>71.58</td>\n      <td>27.06</td>\n      <td>97.51</td>\n    </tr>\n    <tr>\n      <th>小明</th>\n      <td>40.61</td>\n      <td>72.32</td>\n      <td>56.54</td>\n      <td>5.45</td>\n    </tr>\n    <tr>\n      <th>小E</th>\n      <td>72.44</td>\n      <td>68.89</td>\n      <td>6.65</td>\n      <td>75.54</td>\n    </tr>\n    <tr>\n      <th>小李</th>\n      <td>30.04</td>\n      <td>50.0</td>\n      <td>50.0</td>\n      <td>50.0</td>\n    </tr>\n    <tr>\n      <th>小王</th>\n      <td>60.00</td>\n      <td>91</td>\n      <td>72.34</td>\n      <td>NaN</td>\n    </tr>\n  </tbody>\n</table>\n</div>"
     },
     "metadata": {},
     "execution_count": 55
    }
   ],
   "source": [
    "# 将 小李 一行的缺失值统一填充为 50.0\n",
    "df_scores_test.loc[\"小李\", :] = df_scores_test.loc[\"小李\",:].fillna(\"50.0\")\n",
    "\n",
    "# 查看\n",
    "df_scores_test"
   ]
  },
  {
   "cell_type": "code",
   "execution_count": 58,
   "metadata": {},
   "outputs": [
    {
     "output_type": "execute_result",
     "data": {
      "text/plain": [
       "       听力     阅读     写作     口试\n",
       "小亮  20.26  71.58  27.06  97.51\n",
       "小明  40.61  72.32  56.54   5.45\n",
       "小E  72.44  68.89   6.65  75.54\n",
       "小李  30.04  68.89   6.65  75.54\n",
       "小王  30.04  91.00  72.34  75.54"
      ],
      "text/html": "<div>\n<style scoped>\n    .dataframe tbody tr th:only-of-type {\n        vertical-align: middle;\n    }\n\n    .dataframe tbody tr th {\n        vertical-align: top;\n    }\n\n    .dataframe thead th {\n        text-align: right;\n    }\n</style>\n<table border=\"1\" class=\"dataframe\">\n  <thead>\n    <tr style=\"text-align: right;\">\n      <th></th>\n      <th>听力</th>\n      <th>阅读</th>\n      <th>写作</th>\n      <th>口试</th>\n    </tr>\n  </thead>\n  <tbody>\n    <tr>\n      <th>小亮</th>\n      <td>20.26</td>\n      <td>71.58</td>\n      <td>27.06</td>\n      <td>97.51</td>\n    </tr>\n    <tr>\n      <th>小明</th>\n      <td>40.61</td>\n      <td>72.32</td>\n      <td>56.54</td>\n      <td>5.45</td>\n    </tr>\n    <tr>\n      <th>小E</th>\n      <td>72.44</td>\n      <td>68.89</td>\n      <td>6.65</td>\n      <td>75.54</td>\n    </tr>\n    <tr>\n      <th>小李</th>\n      <td>30.04</td>\n      <td>68.89</td>\n      <td>6.65</td>\n      <td>75.54</td>\n    </tr>\n    <tr>\n      <th>小王</th>\n      <td>30.04</td>\n      <td>91.00</td>\n      <td>72.34</td>\n      <td>75.54</td>\n    </tr>\n  </tbody>\n</table>\n</div>"
     },
     "metadata": {},
     "execution_count": 58
    }
   ],
   "source": [
    "df_scores.fillna(method=\"ffill\")"
   ]
  },
  {
   "cell_type": "code",
   "execution_count": null,
   "metadata": {},
   "outputs": [],
   "source": [
    "ser_xiaozhao "
   ]
  },
  {
   "cell_type": "code",
   "execution_count": 63,
   "metadata": {},
   "outputs": [
    {
     "output_type": "execute_result",
     "data": {
      "text/plain": [
       "       听力     阅读     写作     口试\n",
       "小亮  20.26  71.58  27.06  97.51\n",
       "小明  40.61  72.32  56.54   5.45\n",
       "小E  72.44  68.89   6.65  75.54\n",
       "小李  30.04    NaN    NaN    NaN\n",
       "小王    NaN  91.00  72.34    NaN"
      ],
      "text/html": "<div>\n<style scoped>\n    .dataframe tbody tr th:only-of-type {\n        vertical-align: middle;\n    }\n\n    .dataframe tbody tr th {\n        vertical-align: top;\n    }\n\n    .dataframe thead th {\n        text-align: right;\n    }\n</style>\n<table border=\"1\" class=\"dataframe\">\n  <thead>\n    <tr style=\"text-align: right;\">\n      <th></th>\n      <th>听力</th>\n      <th>阅读</th>\n      <th>写作</th>\n      <th>口试</th>\n    </tr>\n  </thead>\n  <tbody>\n    <tr>\n      <th>小亮</th>\n      <td>20.26</td>\n      <td>71.58</td>\n      <td>27.06</td>\n      <td>97.51</td>\n    </tr>\n    <tr>\n      <th>小明</th>\n      <td>40.61</td>\n      <td>72.32</td>\n      <td>56.54</td>\n      <td>5.45</td>\n    </tr>\n    <tr>\n      <th>小E</th>\n      <td>72.44</td>\n      <td>68.89</td>\n      <td>6.65</td>\n      <td>75.54</td>\n    </tr>\n    <tr>\n      <th>小李</th>\n      <td>30.04</td>\n      <td>NaN</td>\n      <td>NaN</td>\n      <td>NaN</td>\n    </tr>\n    <tr>\n      <th>小王</th>\n      <td>NaN</td>\n      <td>91.00</td>\n      <td>72.34</td>\n      <td>NaN</td>\n    </tr>\n  </tbody>\n</table>\n</div>"
     },
     "metadata": {},
     "execution_count": 63
    }
   ],
   "source": [
    "df_scores"
   ]
  },
  {
   "cell_type": "code",
   "execution_count": 68,
   "metadata": {},
   "outputs": [
    {
     "output_type": "execute_result",
     "data": {
      "text/plain": [
       "<AxesSubplot:>"
      ]
     },
     "metadata": {},
     "execution_count": 68
    },
    {
     "output_type": "stream",
     "name": "stderr",
     "text": [
      "C:\\Users\\appri\\anaconda3\\lib\\site-packages\\matplotlib\\textpath.py:74: RuntimeWarning: Glyph 23567 missing from current font.\n",
      "  font.set_text(s, 0.0, flags=LOAD_NO_HINTING)\n",
      "C:\\Users\\appri\\anaconda3\\lib\\site-packages\\matplotlib\\textpath.py:74: RuntimeWarning: Glyph 20142 missing from current font.\n",
      "  font.set_text(s, 0.0, flags=LOAD_NO_HINTING)\n",
      "C:\\Users\\appri\\anaconda3\\lib\\site-packages\\matplotlib\\textpath.py:74: RuntimeWarning: Glyph 26126 missing from current font.\n",
      "  font.set_text(s, 0.0, flags=LOAD_NO_HINTING)\n",
      "C:\\Users\\appri\\anaconda3\\lib\\site-packages\\matplotlib\\textpath.py:74: RuntimeWarning: Glyph 26446 missing from current font.\n",
      "  font.set_text(s, 0.0, flags=LOAD_NO_HINTING)\n",
      "C:\\Users\\appri\\anaconda3\\lib\\site-packages\\matplotlib\\textpath.py:74: RuntimeWarning: Glyph 29579 missing from current font.\n",
      "  font.set_text(s, 0.0, flags=LOAD_NO_HINTING)\n",
      "C:\\Users\\appri\\anaconda3\\lib\\site-packages\\matplotlib\\backends\\backend_agg.py:238: RuntimeWarning: Glyph 23567 missing from current font.\n",
      "  font.set_text(s, 0.0, flags=flags)\n",
      "C:\\Users\\appri\\anaconda3\\lib\\site-packages\\matplotlib\\backends\\backend_agg.py:238: RuntimeWarning: Glyph 20142 missing from current font.\n",
      "  font.set_text(s, 0.0, flags=flags)\n",
      "C:\\Users\\appri\\anaconda3\\lib\\site-packages\\matplotlib\\backends\\backend_agg.py:238: RuntimeWarning: Glyph 26126 missing from current font.\n",
      "  font.set_text(s, 0.0, flags=flags)\n",
      "C:\\Users\\appri\\anaconda3\\lib\\site-packages\\matplotlib\\backends\\backend_agg.py:238: RuntimeWarning: Glyph 26446 missing from current font.\n",
      "  font.set_text(s, 0.0, flags=flags)\n",
      "C:\\Users\\appri\\anaconda3\\lib\\site-packages\\matplotlib\\backends\\backend_agg.py:238: RuntimeWarning: Glyph 29579 missing from current font.\n",
      "  font.set_text(s, 0.0, flags=flags)\n",
      "C:\\Users\\appri\\anaconda3\\lib\\site-packages\\matplotlib\\backends\\backend_agg.py:201: RuntimeWarning: Glyph 23567 missing from current font.\n",
      "  font.set_text(s, 0, flags=flags)\n",
      "C:\\Users\\appri\\anaconda3\\lib\\site-packages\\matplotlib\\backends\\backend_agg.py:201: RuntimeWarning: Glyph 20142 missing from current font.\n",
      "  font.set_text(s, 0, flags=flags)\n",
      "C:\\Users\\appri\\anaconda3\\lib\\site-packages\\matplotlib\\backends\\backend_agg.py:201: RuntimeWarning: Glyph 26126 missing from current font.\n",
      "  font.set_text(s, 0, flags=flags)\n",
      "C:\\Users\\appri\\anaconda3\\lib\\site-packages\\matplotlib\\backends\\backend_agg.py:201: RuntimeWarning: Glyph 26446 missing from current font.\n",
      "  font.set_text(s, 0, flags=flags)\n",
      "C:\\Users\\appri\\anaconda3\\lib\\site-packages\\matplotlib\\backends\\backend_agg.py:201: RuntimeWarning: Glyph 29579 missing from current font.\n",
      "  font.set_text(s, 0, flags=flags)\n"
     ]
    },
    {
     "output_type": "display_data",
     "data": {
      "text/plain": "<Figure size 432x288 with 1 Axes>",
      "image/svg+xml": "<?xml version=\"1.0\" encoding=\"utf-8\" standalone=\"no\"?>\r\n<!DOCTYPE svg PUBLIC \"-//W3C//DTD SVG 1.1//EN\"\r\n  \"http://www.w3.org/Graphics/SVG/1.1/DTD/svg11.dtd\">\r\n<!-- Created with matplotlib (https://matplotlib.org/) -->\r\n<svg height=\"248.518125pt\" version=\"1.1\" viewBox=\"0 0 368.925 248.518125\" width=\"368.925pt\" xmlns=\"http://www.w3.org/2000/svg\" xmlns:xlink=\"http://www.w3.org/1999/xlink\">\r\n <metadata>\r\n  <rdf:RDF xmlns:cc=\"http://creativecommons.org/ns#\" xmlns:dc=\"http://purl.org/dc/elements/1.1/\" xmlns:rdf=\"http://www.w3.org/1999/02/22-rdf-syntax-ns#\">\r\n   <cc:Work>\r\n    <dc:type rdf:resource=\"http://purl.org/dc/dcmitype/StillImage\"/>\r\n    <dc:date>2021-05-05T21:11:56.888709</dc:date>\r\n    <dc:format>image/svg+xml</dc:format>\r\n    <dc:creator>\r\n     <cc:Agent>\r\n      <dc:title>Matplotlib v3.3.2, https://matplotlib.org/</dc:title>\r\n     </cc:Agent>\r\n    </dc:creator>\r\n   </cc:Work>\r\n  </rdf:RDF>\r\n </metadata>\r\n <defs>\r\n  <style type=\"text/css\">*{stroke-linecap:butt;stroke-linejoin:round;}</style>\r\n </defs>\r\n <g id=\"figure_1\">\r\n  <g id=\"patch_1\">\r\n   <path d=\"M -0 248.518125 \r\nL 368.925 248.518125 \r\nL 368.925 0 \r\nL -0 0 \r\nz\r\n\" style=\"fill:none;\"/>\r\n  </g>\r\n  <g id=\"axes_1\">\r\n   <g id=\"patch_2\">\r\n    <path d=\"M 26.925 224.64 \r\nL 361.725 224.64 \r\nL 361.725 7.2 \r\nL 26.925 7.2 \r\nz\r\n\" style=\"fill:#ffffff;\"/>\r\n   </g>\r\n   <g id=\"matplotlib.axis_1\">\r\n    <g id=\"xtick_1\">\r\n     <g id=\"line2d_1\">\r\n      <defs>\r\n       <path d=\"M 0 0 \r\nL 0 3.5 \r\n\" id=\"m961236b9f0\" style=\"stroke:#000000;stroke-width:0.8;\"/>\r\n      </defs>\r\n      <g>\r\n       <use style=\"stroke:#000000;stroke-width:0.8;\" x=\"42.143182\" xlink:href=\"#m961236b9f0\" y=\"224.64\"/>\r\n      </g>\r\n     </g>\r\n     <g id=\"text_1\">\r\n      <!-- 小亮 -->\r\n      <g transform=\"translate(36.141619 239.238438)scale(0.1 -0.1)\">\r\n       <defs>\r\n        <path d=\"M 4.984375 -17.671875 \r\nL 4.984375 70.515625 \r\nL 54.984375 70.515625 \r\nL 54.984375 -17.671875 \r\nz\r\nM 10.59375 -12.109375 \r\nL 49.421875 -12.109375 \r\nL 49.421875 64.890625 \r\nL 10.59375 64.890625 \r\nz\r\n\" id=\"DejaVuSans-23567\"/>\r\n        <path d=\"M 4.984375 -17.671875 \r\nL 4.984375 70.515625 \r\nL 54.984375 70.515625 \r\nL 54.984375 -17.671875 \r\nz\r\nM 10.59375 -12.109375 \r\nL 49.421875 -12.109375 \r\nL 49.421875 64.890625 \r\nL 10.59375 64.890625 \r\nz\r\n\" id=\"DejaVuSans-20142\"/>\r\n       </defs>\r\n       <use xlink:href=\"#DejaVuSans-23567\"/>\r\n       <use x=\"60.009766\" xlink:href=\"#DejaVuSans-20142\"/>\r\n      </g>\r\n     </g>\r\n    </g>\r\n    <g id=\"xtick_2\">\r\n     <g id=\"line2d_2\">\r\n      <g>\r\n       <use style=\"stroke:#000000;stroke-width:0.8;\" x=\"80.188636\" xlink:href=\"#m961236b9f0\" y=\"224.64\"/>\r\n      </g>\r\n     </g>\r\n    </g>\r\n    <g id=\"xtick_3\">\r\n     <g id=\"line2d_3\">\r\n      <g>\r\n       <use style=\"stroke:#000000;stroke-width:0.8;\" x=\"118.234091\" xlink:href=\"#m961236b9f0\" y=\"224.64\"/>\r\n      </g>\r\n     </g>\r\n     <g id=\"text_2\">\r\n      <!-- 小明 -->\r\n      <g transform=\"translate(112.232528 239.238438)scale(0.1 -0.1)\">\r\n       <defs>\r\n        <path d=\"M 4.984375 -17.671875 \r\nL 4.984375 70.515625 \r\nL 54.984375 70.515625 \r\nL 54.984375 -17.671875 \r\nz\r\nM 10.59375 -12.109375 \r\nL 49.421875 -12.109375 \r\nL 49.421875 64.890625 \r\nL 10.59375 64.890625 \r\nz\r\n\" id=\"DejaVuSans-26126\"/>\r\n       </defs>\r\n       <use xlink:href=\"#DejaVuSans-23567\"/>\r\n       <use x=\"60.009766\" xlink:href=\"#DejaVuSans-26126\"/>\r\n      </g>\r\n     </g>\r\n    </g>\r\n    <g id=\"xtick_4\">\r\n     <g id=\"line2d_4\">\r\n      <g>\r\n       <use style=\"stroke:#000000;stroke-width:0.8;\" x=\"156.279545\" xlink:href=\"#m961236b9f0\" y=\"224.64\"/>\r\n      </g>\r\n     </g>\r\n    </g>\r\n    <g id=\"xtick_5\">\r\n     <g id=\"line2d_5\">\r\n      <g>\r\n       <use style=\"stroke:#000000;stroke-width:0.8;\" x=\"194.325\" xlink:href=\"#m961236b9f0\" y=\"224.64\"/>\r\n      </g>\r\n     </g>\r\n     <g id=\"text_3\">\r\n      <!-- 小E -->\r\n      <g transform=\"translate(188.164844 239.238438)scale(0.1 -0.1)\">\r\n       <defs>\r\n        <path d=\"M 9.8125 72.90625 \r\nL 55.90625 72.90625 \r\nL 55.90625 64.59375 \r\nL 19.671875 64.59375 \r\nL 19.671875 43.015625 \r\nL 54.390625 43.015625 \r\nL 54.390625 34.71875 \r\nL 19.671875 34.71875 \r\nL 19.671875 8.296875 \r\nL 56.78125 8.296875 \r\nL 56.78125 0 \r\nL 9.8125 0 \r\nz\r\n\" id=\"DejaVuSans-69\"/>\r\n       </defs>\r\n       <use xlink:href=\"#DejaVuSans-23567\"/>\r\n       <use x=\"60.009766\" xlink:href=\"#DejaVuSans-69\"/>\r\n      </g>\r\n     </g>\r\n    </g>\r\n    <g id=\"xtick_6\">\r\n     <g id=\"line2d_6\">\r\n      <g>\r\n       <use style=\"stroke:#000000;stroke-width:0.8;\" x=\"232.370455\" xlink:href=\"#m961236b9f0\" y=\"224.64\"/>\r\n      </g>\r\n     </g>\r\n    </g>\r\n    <g id=\"xtick_7\">\r\n     <g id=\"line2d_7\">\r\n      <g>\r\n       <use style=\"stroke:#000000;stroke-width:0.8;\" x=\"270.415909\" xlink:href=\"#m961236b9f0\" y=\"224.64\"/>\r\n      </g>\r\n     </g>\r\n     <g id=\"text_4\">\r\n      <!-- 小李 -->\r\n      <g transform=\"translate(264.414347 239.238438)scale(0.1 -0.1)\">\r\n       <defs>\r\n        <path d=\"M 4.984375 -17.671875 \r\nL 4.984375 70.515625 \r\nL 54.984375 70.515625 \r\nL 54.984375 -17.671875 \r\nz\r\nM 10.59375 -12.109375 \r\nL 49.421875 -12.109375 \r\nL 49.421875 64.890625 \r\nL 10.59375 64.890625 \r\nz\r\n\" id=\"DejaVuSans-26446\"/>\r\n       </defs>\r\n       <use xlink:href=\"#DejaVuSans-23567\"/>\r\n       <use x=\"60.009766\" xlink:href=\"#DejaVuSans-26446\"/>\r\n      </g>\r\n     </g>\r\n    </g>\r\n    <g id=\"xtick_8\">\r\n     <g id=\"line2d_8\">\r\n      <g>\r\n       <use style=\"stroke:#000000;stroke-width:0.8;\" x=\"308.461364\" xlink:href=\"#m961236b9f0\" y=\"224.64\"/>\r\n      </g>\r\n     </g>\r\n    </g>\r\n    <g id=\"xtick_9\">\r\n     <g id=\"line2d_9\">\r\n      <g>\r\n       <use style=\"stroke:#000000;stroke-width:0.8;\" x=\"346.506818\" xlink:href=\"#m961236b9f0\" y=\"224.64\"/>\r\n      </g>\r\n     </g>\r\n     <g id=\"text_5\">\r\n      <!-- 小王 -->\r\n      <g transform=\"translate(340.505256 239.238438)scale(0.1 -0.1)\">\r\n       <defs>\r\n        <path d=\"M 4.984375 -17.671875 \r\nL 4.984375 70.515625 \r\nL 54.984375 70.515625 \r\nL 54.984375 -17.671875 \r\nz\r\nM 10.59375 -12.109375 \r\nL 49.421875 -12.109375 \r\nL 49.421875 64.890625 \r\nL 10.59375 64.890625 \r\nz\r\n\" id=\"DejaVuSans-29579\"/>\r\n       </defs>\r\n       <use xlink:href=\"#DejaVuSans-23567\"/>\r\n       <use x=\"60.009766\" xlink:href=\"#DejaVuSans-29579\"/>\r\n      </g>\r\n     </g>\r\n    </g>\r\n   </g>\r\n   <g id=\"matplotlib.axis_2\">\r\n    <g id=\"ytick_1\">\r\n     <g id=\"line2d_10\">\r\n      <defs>\r\n       <path d=\"M 0 0 \r\nL -3.5 0 \r\n\" id=\"m08d3b36ad9\" style=\"stroke:#000000;stroke-width:0.8;\"/>\r\n      </defs>\r\n      <g>\r\n       <use style=\"stroke:#000000;stroke-width:0.8;\" x=\"26.925\" xlink:href=\"#m08d3b36ad9\" y=\"204.832495\"/>\r\n      </g>\r\n     </g>\r\n     <g id=\"text_6\">\r\n      <!-- 70 -->\r\n      <g transform=\"translate(7.2 208.631714)scale(0.1 -0.1)\">\r\n       <defs>\r\n        <path d=\"M 8.203125 72.90625 \r\nL 55.078125 72.90625 \r\nL 55.078125 68.703125 \r\nL 28.609375 0 \r\nL 18.3125 0 \r\nL 43.21875 64.59375 \r\nL 8.203125 64.59375 \r\nz\r\n\" id=\"DejaVuSans-55\"/>\r\n        <path d=\"M 31.78125 66.40625 \r\nQ 24.171875 66.40625 20.328125 58.90625 \r\nQ 16.5 51.421875 16.5 36.375 \r\nQ 16.5 21.390625 20.328125 13.890625 \r\nQ 24.171875 6.390625 31.78125 6.390625 \r\nQ 39.453125 6.390625 43.28125 13.890625 \r\nQ 47.125 21.390625 47.125 36.375 \r\nQ 47.125 51.421875 43.28125 58.90625 \r\nQ 39.453125 66.40625 31.78125 66.40625 \r\nz\r\nM 31.78125 74.21875 \r\nQ 44.046875 74.21875 50.515625 64.515625 \r\nQ 56.984375 54.828125 56.984375 36.375 \r\nQ 56.984375 17.96875 50.515625 8.265625 \r\nQ 44.046875 -1.421875 31.78125 -1.421875 \r\nQ 19.53125 -1.421875 13.0625 8.265625 \r\nQ 6.59375 17.96875 6.59375 36.375 \r\nQ 6.59375 54.828125 13.0625 64.515625 \r\nQ 19.53125 74.21875 31.78125 74.21875 \r\nz\r\n\" id=\"DejaVuSans-48\"/>\r\n       </defs>\r\n       <use xlink:href=\"#DejaVuSans-55\"/>\r\n       <use x=\"63.623047\" xlink:href=\"#DejaVuSans-48\"/>\r\n      </g>\r\n     </g>\r\n    </g>\r\n    <g id=\"ytick_2\">\r\n     <g id=\"line2d_11\">\r\n      <g>\r\n       <use style=\"stroke:#000000;stroke-width:0.8;\" x=\"26.925\" xlink:href=\"#m08d3b36ad9\" y=\"160.130386\"/>\r\n      </g>\r\n     </g>\r\n     <g id=\"text_7\">\r\n      <!-- 75 -->\r\n      <g transform=\"translate(7.2 163.929605)scale(0.1 -0.1)\">\r\n       <defs>\r\n        <path d=\"M 10.796875 72.90625 \r\nL 49.515625 72.90625 \r\nL 49.515625 64.59375 \r\nL 19.828125 64.59375 \r\nL 19.828125 46.734375 \r\nQ 21.96875 47.46875 24.109375 47.828125 \r\nQ 26.265625 48.1875 28.421875 48.1875 \r\nQ 40.625 48.1875 47.75 41.5 \r\nQ 54.890625 34.8125 54.890625 23.390625 \r\nQ 54.890625 11.625 47.5625 5.09375 \r\nQ 40.234375 -1.421875 26.90625 -1.421875 \r\nQ 22.3125 -1.421875 17.546875 -0.640625 \r\nQ 12.796875 0.140625 7.71875 1.703125 \r\nL 7.71875 11.625 \r\nQ 12.109375 9.234375 16.796875 8.0625 \r\nQ 21.484375 6.890625 26.703125 6.890625 \r\nQ 35.15625 6.890625 40.078125 11.328125 \r\nQ 45.015625 15.765625 45.015625 23.390625 \r\nQ 45.015625 31 40.078125 35.4375 \r\nQ 35.15625 39.890625 26.703125 39.890625 \r\nQ 22.75 39.890625 18.8125 39.015625 \r\nQ 14.890625 38.140625 10.796875 36.28125 \r\nz\r\n\" id=\"DejaVuSans-53\"/>\r\n       </defs>\r\n       <use xlink:href=\"#DejaVuSans-55\"/>\r\n       <use x=\"63.623047\" xlink:href=\"#DejaVuSans-53\"/>\r\n      </g>\r\n     </g>\r\n    </g>\r\n    <g id=\"ytick_3\">\r\n     <g id=\"line2d_12\">\r\n      <g>\r\n       <use style=\"stroke:#000000;stroke-width:0.8;\" x=\"26.925\" xlink:href=\"#m08d3b36ad9\" y=\"115.428277\"/>\r\n      </g>\r\n     </g>\r\n     <g id=\"text_8\">\r\n      <!-- 80 -->\r\n      <g transform=\"translate(7.2 119.227496)scale(0.1 -0.1)\">\r\n       <defs>\r\n        <path d=\"M 31.78125 34.625 \r\nQ 24.75 34.625 20.71875 30.859375 \r\nQ 16.703125 27.09375 16.703125 20.515625 \r\nQ 16.703125 13.921875 20.71875 10.15625 \r\nQ 24.75 6.390625 31.78125 6.390625 \r\nQ 38.8125 6.390625 42.859375 10.171875 \r\nQ 46.921875 13.96875 46.921875 20.515625 \r\nQ 46.921875 27.09375 42.890625 30.859375 \r\nQ 38.875 34.625 31.78125 34.625 \r\nz\r\nM 21.921875 38.8125 \r\nQ 15.578125 40.375 12.03125 44.71875 \r\nQ 8.5 49.078125 8.5 55.328125 \r\nQ 8.5 64.0625 14.71875 69.140625 \r\nQ 20.953125 74.21875 31.78125 74.21875 \r\nQ 42.671875 74.21875 48.875 69.140625 \r\nQ 55.078125 64.0625 55.078125 55.328125 \r\nQ 55.078125 49.078125 51.53125 44.71875 \r\nQ 48 40.375 41.703125 38.8125 \r\nQ 48.828125 37.15625 52.796875 32.3125 \r\nQ 56.78125 27.484375 56.78125 20.515625 \r\nQ 56.78125 9.90625 50.3125 4.234375 \r\nQ 43.84375 -1.421875 31.78125 -1.421875 \r\nQ 19.734375 -1.421875 13.25 4.234375 \r\nQ 6.78125 9.90625 6.78125 20.515625 \r\nQ 6.78125 27.484375 10.78125 32.3125 \r\nQ 14.796875 37.15625 21.921875 38.8125 \r\nz\r\nM 18.3125 54.390625 \r\nQ 18.3125 48.734375 21.84375 45.5625 \r\nQ 25.390625 42.390625 31.78125 42.390625 \r\nQ 38.140625 42.390625 41.71875 45.5625 \r\nQ 45.3125 48.734375 45.3125 54.390625 \r\nQ 45.3125 60.0625 41.71875 63.234375 \r\nQ 38.140625 66.40625 31.78125 66.40625 \r\nQ 25.390625 66.40625 21.84375 63.234375 \r\nQ 18.3125 60.0625 18.3125 54.390625 \r\nz\r\n\" id=\"DejaVuSans-56\"/>\r\n       </defs>\r\n       <use xlink:href=\"#DejaVuSans-56\"/>\r\n       <use x=\"63.623047\" xlink:href=\"#DejaVuSans-48\"/>\r\n      </g>\r\n     </g>\r\n    </g>\r\n    <g id=\"ytick_4\">\r\n     <g id=\"line2d_13\">\r\n      <g>\r\n       <use style=\"stroke:#000000;stroke-width:0.8;\" x=\"26.925\" xlink:href=\"#m08d3b36ad9\" y=\"70.726168\"/>\r\n      </g>\r\n     </g>\r\n     <g id=\"text_9\">\r\n      <!-- 85 -->\r\n      <g transform=\"translate(7.2 74.525386)scale(0.1 -0.1)\">\r\n       <use xlink:href=\"#DejaVuSans-56\"/>\r\n       <use x=\"63.623047\" xlink:href=\"#DejaVuSans-53\"/>\r\n      </g>\r\n     </g>\r\n    </g>\r\n    <g id=\"ytick_5\">\r\n     <g id=\"line2d_14\">\r\n      <g>\r\n       <use style=\"stroke:#000000;stroke-width:0.8;\" x=\"26.925\" xlink:href=\"#m08d3b36ad9\" y=\"26.024058\"/>\r\n      </g>\r\n     </g>\r\n     <g id=\"text_10\">\r\n      <!-- 90 -->\r\n      <g transform=\"translate(7.2 29.823277)scale(0.1 -0.1)\">\r\n       <defs>\r\n        <path d=\"M 10.984375 1.515625 \r\nL 10.984375 10.5 \r\nQ 14.703125 8.734375 18.5 7.8125 \r\nQ 22.3125 6.890625 25.984375 6.890625 \r\nQ 35.75 6.890625 40.890625 13.453125 \r\nQ 46.046875 20.015625 46.78125 33.40625 \r\nQ 43.953125 29.203125 39.59375 26.953125 \r\nQ 35.25 24.703125 29.984375 24.703125 \r\nQ 19.046875 24.703125 12.671875 31.3125 \r\nQ 6.296875 37.9375 6.296875 49.421875 \r\nQ 6.296875 60.640625 12.9375 67.421875 \r\nQ 19.578125 74.21875 30.609375 74.21875 \r\nQ 43.265625 74.21875 49.921875 64.515625 \r\nQ 56.59375 54.828125 56.59375 36.375 \r\nQ 56.59375 19.140625 48.40625 8.859375 \r\nQ 40.234375 -1.421875 26.421875 -1.421875 \r\nQ 22.703125 -1.421875 18.890625 -0.6875 \r\nQ 15.09375 0.046875 10.984375 1.515625 \r\nz\r\nM 30.609375 32.421875 \r\nQ 37.25 32.421875 41.125 36.953125 \r\nQ 45.015625 41.5 45.015625 49.421875 \r\nQ 45.015625 57.28125 41.125 61.84375 \r\nQ 37.25 66.40625 30.609375 66.40625 \r\nQ 23.96875 66.40625 20.09375 61.84375 \r\nQ 16.21875 57.28125 16.21875 49.421875 \r\nQ 16.21875 41.5 20.09375 36.953125 \r\nQ 23.96875 32.421875 30.609375 32.421875 \r\nz\r\n\" id=\"DejaVuSans-57\"/>\r\n       </defs>\r\n       <use xlink:href=\"#DejaVuSans-57\"/>\r\n       <use x=\"63.623047\" xlink:href=\"#DejaVuSans-48\"/>\r\n      </g>\r\n     </g>\r\n    </g>\r\n   </g>\r\n   <g id=\"line2d_15\">\r\n    <path clip-path=\"url(#pd045fd2459)\" d=\"M 42.143182 190.706629 \r\nL 118.234091 184.090717 \r\nL 194.325 214.756364 \r\nM 346.506818 17.083636 \r\n\" style=\"fill:none;stroke:#1f77b4;stroke-linecap:square;stroke-width:1.5;\"/>\r\n   </g>\r\n   <g id=\"patch_3\">\r\n    <path d=\"M 26.925 224.64 \r\nL 26.925 7.2 \r\n\" style=\"fill:none;stroke:#000000;stroke-linecap:square;stroke-linejoin:miter;stroke-width:0.8;\"/>\r\n   </g>\r\n   <g id=\"patch_4\">\r\n    <path d=\"M 361.725 224.64 \r\nL 361.725 7.2 \r\n\" style=\"fill:none;stroke:#000000;stroke-linecap:square;stroke-linejoin:miter;stroke-width:0.8;\"/>\r\n   </g>\r\n   <g id=\"patch_5\">\r\n    <path d=\"M 26.925 224.64 \r\nL 361.725 224.64 \r\n\" style=\"fill:none;stroke:#000000;stroke-linecap:square;stroke-linejoin:miter;stroke-width:0.8;\"/>\r\n   </g>\r\n   <g id=\"patch_6\">\r\n    <path d=\"M 26.925 7.2 \r\nL 361.725 7.2 \r\n\" style=\"fill:none;stroke:#000000;stroke-linecap:square;stroke-linejoin:miter;stroke-width:0.8;\"/>\r\n   </g>\r\n  </g>\r\n </g>\r\n <defs>\r\n  <clipPath id=\"pd045fd2459\">\r\n   <rect height=\"217.44\" width=\"334.8\" x=\"26.925\" y=\"7.2\"/>\r\n  </clipPath>\r\n </defs>\r\n</svg>\r\n",
      "image/png": "[encoded data removed]"
     },
     "metadata": {
      "needs_background": "light"
     }
    }
   ],
   "source": [
    "df_scores[\"阅读\"].plot()"
   ]
  },
  {
   "cell_type": "code",
   "execution_count": 64,
   "metadata": {},
   "outputs": [
    {
     "output_type": "execute_result",
     "data": {
      "text/plain": [
       "       听力      阅读      写作     口试\n",
       "小亮  20.26  71.580  27.060  97.51\n",
       "小明  40.61  72.320  56.540   5.45\n",
       "小E  72.44  68.890   6.650  75.54\n",
       "小李  30.04  79.945  39.495  75.54\n",
       "小王  30.04  91.000  72.340  75.54"
      ],
      "text/html": "<div>\n<style scoped>\n    .dataframe tbody tr th:only-of-type {\n        vertical-align: middle;\n    }\n\n    .dataframe tbody tr th {\n        vertical-align: top;\n    }\n\n    .dataframe thead th {\n        text-align: right;\n    }\n</style>\n<table border=\"1\" class=\"dataframe\">\n  <thead>\n    <tr style=\"text-align: right;\">\n      <th></th>\n      <th>听力</th>\n      <th>阅读</th>\n      <th>写作</th>\n      <th>口试</th>\n    </tr>\n  </thead>\n  <tbody>\n    <tr>\n      <th>小亮</th>\n      <td>20.26</td>\n      <td>71.580</td>\n      <td>27.060</td>\n      <td>97.51</td>\n    </tr>\n    <tr>\n      <th>小明</th>\n      <td>40.61</td>\n      <td>72.320</td>\n      <td>56.540</td>\n      <td>5.45</td>\n    </tr>\n    <tr>\n      <th>小E</th>\n      <td>72.44</td>\n      <td>68.890</td>\n      <td>6.650</td>\n      <td>75.54</td>\n    </tr>\n    <tr>\n      <th>小李</th>\n      <td>30.04</td>\n      <td>79.945</td>\n      <td>39.495</td>\n      <td>75.54</td>\n    </tr>\n    <tr>\n      <th>小王</th>\n      <td>30.04</td>\n      <td>91.000</td>\n      <td>72.340</td>\n      <td>75.54</td>\n    </tr>\n  </tbody>\n</table>\n</div>"
     },
     "metadata": {},
     "execution_count": 64
    }
   ],
   "source": [
    "df_scores.interpolate()"
   ]
  },
  {
   "cell_type": "code",
   "execution_count": 71,
   "metadata": {},
   "outputs": [
    {
     "output_type": "execute_result",
     "data": {
      "text/plain": [
       "0    100.0\n",
       "1      3.0\n",
       "2      NaN\n",
       "3      NaN\n",
       "4      9.0\n",
       "dtype: float64"
      ]
     },
     "metadata": {},
     "execution_count": 71
    }
   ],
   "source": [
    "ser_test = pd.Series([100,3, None, None, 9])\n",
    "ser_test"
   ]
  },
  {
   "cell_type": "code",
   "execution_count": 72,
   "metadata": {},
   "outputs": [
    {
     "output_type": "execute_result",
     "data": {
      "text/plain": [
       "0    100.0\n",
       "1      3.0\n",
       "2      5.0\n",
       "3      7.0\n",
       "4      9.0\n",
       "dtype: float64"
      ]
     },
     "metadata": {},
     "execution_count": 72
    }
   ],
   "source": [
    "# 调用 interpolate 对 Series 进行插值，默认为线性插值\n",
    "ser_test.interpolate()"
   ]
  },
  {
   "cell_type": "code",
   "execution_count": 65,
   "metadata": {},
   "outputs": [
    {
     "output_type": "execute_result",
     "data": {
      "text/plain": [
       "0    1.0\n",
       "1    2.0\n",
       "2    3.0\n",
       "3    4.0\n",
       "4    5.0\n",
       "5    NaN\n",
       "dtype: float64"
      ]
     },
     "metadata": {},
     "execution_count": 65
    }
   ],
   "source": [
    "ser_test1 = pd.Series([1,2,3,4,5,None])\n",
    "ser_test1"
   ]
  },
  {
   "cell_type": "code",
   "execution_count": 66,
   "metadata": {},
   "outputs": [
    {
     "output_type": "execute_result",
     "data": {
      "text/plain": [
       "0    1.0\n",
       "1    2.0\n",
       "2    3.0\n",
       "3    4.0\n",
       "4    5.0\n",
       "5    5.0\n",
       "dtype: float64"
      ]
     },
     "metadata": {},
     "execution_count": 66
    }
   ],
   "source": [
    "ser_test1.interpolate()"
   ]
  },
  {
   "cell_type": "code",
   "execution_count": 117,
   "metadata": {},
   "outputs": [
    {
     "output_type": "execute_result",
     "data": {
      "text/plain": [
       "       听力     阅读     写作     口试\n",
       "小亮  20.26  71.58  27.06  97.51\n",
       "小明  40.61  72.32  56.54   5.45\n",
       "小E  72.44  68.89   6.65  75.54\n",
       "小李  30.04    NaN    NaN    NaN\n",
       "小王    NaN  91.00  72.34    NaN\n",
       "小王    NaN  91.00  72.34    NaN"
      ],
      "text/html": "<div>\n<style scoped>\n    .dataframe tbody tr th:only-of-type {\n        vertical-align: middle;\n    }\n\n    .dataframe tbody tr th {\n        vertical-align: top;\n    }\n\n    .dataframe thead th {\n        text-align: right;\n    }\n</style>\n<table border=\"1\" class=\"dataframe\">\n  <thead>\n    <tr style=\"text-align: right;\">\n      <th></th>\n      <th>听力</th>\n      <th>阅读</th>\n      <th>写作</th>\n      <th>口试</th>\n    </tr>\n  </thead>\n  <tbody>\n    <tr>\n      <th>小亮</th>\n      <td>20.26</td>\n      <td>71.58</td>\n      <td>27.06</td>\n      <td>97.51</td>\n    </tr>\n    <tr>\n      <th>小明</th>\n      <td>40.61</td>\n      <td>72.32</td>\n      <td>56.54</td>\n      <td>5.45</td>\n    </tr>\n    <tr>\n      <th>小E</th>\n      <td>72.44</td>\n      <td>68.89</td>\n      <td>6.65</td>\n      <td>75.54</td>\n    </tr>\n    <tr>\n      <th>小李</th>\n      <td>30.04</td>\n      <td>NaN</td>\n      <td>NaN</td>\n      <td>NaN</td>\n    </tr>\n    <tr>\n      <th>小王</th>\n      <td>NaN</td>\n      <td>91.00</td>\n      <td>72.34</td>\n      <td>NaN</td>\n    </tr>\n    <tr>\n      <th>小王</th>\n      <td>NaN</td>\n      <td>91.00</td>\n      <td>72.34</td>\n      <td>NaN</td>\n    </tr>\n  </tbody>\n</table>\n</div>"
     },
     "metadata": {},
     "execution_count": 117
    }
   ],
   "source": [
    "# 生成一条一模一样的小王的记录\n",
    "ser_xiaowang = pd.Series([None, 91.00, 72.34, None], index = index_arr, name=\"小王\")\n",
    "# 生成另一条小王的 Series，但多丢了一个数据\n",
    "\n",
    "# 将新增加的两个 Series 添加到 df_scores 中\n",
    "df_scores = df_scores.append(ser_xiaowang)\n",
    "\n",
    "# 查看 df_scores\n",
    "df_scores"
   ]
  },
  {
   "cell_type": "code",
   "execution_count": 118,
   "metadata": {},
   "outputs": [
    {
     "output_type": "execute_result",
     "data": {
      "text/plain": [
       "小亮    False\n",
       "小明    False\n",
       "小E    False\n",
       "小李    False\n",
       "小王    False\n",
       "小王     True\n",
       "dtype: bool"
      ]
     },
     "metadata": {},
     "execution_count": 118
    }
   ],
   "source": [
    " df_scores.duplicated()\n"
   ]
  },
  {
   "cell_type": "code",
   "execution_count": 96,
   "metadata": {},
   "outputs": [
    {
     "output_type": "execute_result",
     "data": {
      "text/plain": [
       "array([False, False, False, False, False,  True,  True])"
      ]
     },
     "metadata": {},
     "execution_count": 96
    }
   ],
   "source": [
    "df_scores.index.duplicated()"
   ]
  },
  {
   "cell_type": "code",
   "execution_count": 119,
   "metadata": {},
   "outputs": [
    {
     "output_type": "execute_result",
     "data": {
      "text/plain": [
       "       听力     阅读     写作     口试\n",
       "小亮  20.26  71.58  27.06  97.51\n",
       "小明  40.61  72.32  56.54   5.45\n",
       "小E  72.44  68.89   6.65  75.54\n",
       "小李  30.04    NaN    NaN    NaN\n",
       "小王    NaN  91.00  72.34    NaN"
      ],
      "text/html": "<div>\n<style scoped>\n    .dataframe tbody tr th:only-of-type {\n        vertical-align: middle;\n    }\n\n    .dataframe tbody tr th {\n        vertical-align: top;\n    }\n\n    .dataframe thead th {\n        text-align: right;\n    }\n</style>\n<table border=\"1\" class=\"dataframe\">\n  <thead>\n    <tr style=\"text-align: right;\">\n      <th></th>\n      <th>听力</th>\n      <th>阅读</th>\n      <th>写作</th>\n      <th>口试</th>\n    </tr>\n  </thead>\n  <tbody>\n    <tr>\n      <th>小亮</th>\n      <td>20.26</td>\n      <td>71.58</td>\n      <td>27.06</td>\n      <td>97.51</td>\n    </tr>\n    <tr>\n      <th>小明</th>\n      <td>40.61</td>\n      <td>72.32</td>\n      <td>56.54</td>\n      <td>5.45</td>\n    </tr>\n    <tr>\n      <th>小E</th>\n      <td>72.44</td>\n      <td>68.89</td>\n      <td>6.65</td>\n      <td>75.54</td>\n    </tr>\n    <tr>\n      <th>小李</th>\n      <td>30.04</td>\n      <td>NaN</td>\n      <td>NaN</td>\n      <td>NaN</td>\n    </tr>\n    <tr>\n      <th>小王</th>\n      <td>NaN</td>\n      <td>91.00</td>\n      <td>72.34</td>\n      <td>NaN</td>\n    </tr>\n  </tbody>\n</table>\n</div>"
     },
     "metadata": {},
     "execution_count": 119
    }
   ],
   "source": [
    "df_scores = df_scores.drop_duplicates()\n",
    "df_scores"
   ]
  },
  {
   "cell_type": "code",
   "execution_count": 120,
   "metadata": {},
   "outputs": [
    {
     "output_type": "execute_result",
     "data": {
      "text/plain": [
       "       听力        阅读     写作     口试\n",
       "小亮  20.26     71.58  27.06  97.51\n",
       "小明  40.61     72.32  56.54   5.45\n",
       "小E  72.44     68.89   6.65  75.54\n",
       "小李  30.04       NaN    NaN    NaN\n",
       "小王    NaN     91.00  72.34    NaN\n",
       "小杨    NaN  91089.00 -72.34    NaN"
      ],
      "text/html": "<div>\n<style scoped>\n    .dataframe tbody tr th:only-of-type {\n        vertical-align: middle;\n    }\n\n    .dataframe tbody tr th {\n        vertical-align: top;\n    }\n\n    .dataframe thead th {\n        text-align: right;\n    }\n</style>\n<table border=\"1\" class=\"dataframe\">\n  <thead>\n    <tr style=\"text-align: right;\">\n      <th></th>\n      <th>听力</th>\n      <th>阅读</th>\n      <th>写作</th>\n      <th>口试</th>\n    </tr>\n  </thead>\n  <tbody>\n    <tr>\n      <th>小亮</th>\n      <td>20.26</td>\n      <td>71.58</td>\n      <td>27.06</td>\n      <td>97.51</td>\n    </tr>\n    <tr>\n      <th>小明</th>\n      <td>40.61</td>\n      <td>72.32</td>\n      <td>56.54</td>\n      <td>5.45</td>\n    </tr>\n    <tr>\n      <th>小E</th>\n      <td>72.44</td>\n      <td>68.89</td>\n      <td>6.65</td>\n      <td>75.54</td>\n    </tr>\n    <tr>\n      <th>小李</th>\n      <td>30.04</td>\n      <td>NaN</td>\n      <td>NaN</td>\n      <td>NaN</td>\n    </tr>\n    <tr>\n      <th>小王</th>\n      <td>NaN</td>\n      <td>91.00</td>\n      <td>72.34</td>\n      <td>NaN</td>\n    </tr>\n    <tr>\n      <th>小杨</th>\n      <td>NaN</td>\n      <td>91089.00</td>\n      <td>-72.34</td>\n      <td>NaN</td>\n    </tr>\n  </tbody>\n</table>\n</div>"
     },
     "metadata": {},
     "execution_count": 120
    }
   ],
   "source": [
    "# 生成一条一模一样的小王的记录\n",
    "ser_xiaoyang = pd.Series([None, 91089.00, -72.34, None], index = index_arr, name=\"小杨\")\n",
    "# 生成另一条小王的 Series，但多丢了一个数据\n",
    "\n",
    "# 将新增加的两个 Series 添加到 df_scores 中\n",
    "df_scores = df_scores.append(ser_xiaoyang)\n",
    "\n",
    "# 查看 df_scores\n",
    "df_scores"
   ]
  },
  {
   "cell_type": "code",
   "execution_count": 9,
   "metadata": {},
   "outputs": [
    {
     "output_type": "stream",
     "name": "stdout",
     "text": [
      "[1, 2]\n([1, 2],)\n"
     ]
    }
   ],
   "source": [
    "a = [1,2]\n",
    "print(a)\n",
    "b = [1,2],\n",
    "print(b)"
   ]
  },
  {
   "cell_type": "code",
   "execution_count": null,
   "metadata": {},
   "outputs": [],
   "source": []
  }
 ]
}
{
 "metadata": {
  "language_info": {
   "codemirror_mode": {
    "name": "ipython",
    "version": 3
   },
   "file_extension": ".py",
   "mimetype": "text/x-python",
   "name": "python",
   "nbconvert_exporter": "python",
   "pygments_lexer": "ipython3",
   "version": "3.8.5"
  },
  "orig_nbformat": 2,
  "kernelspec": {
   "name": "python385jvsc74a57bd0c39885171911825c85dd2872b53a1f517ccf6205e737fb46b3c547492811485f",
   "display_name": "Python 3.8.5 64-bit ('base': conda)"
  }
 },
 "nbformat": 4,
 "nbformat_minor": 2,
 "cells": [
  {
   "cell_type": "code",
   "execution_count": 266,
   "metadata": {},
   "outputs": [],
   "source": [
    "import pandas as pd\n",
    "import numpy as np"
   ]
  },
  {
   "cell_type": "code",
   "execution_count": 267,
   "metadata": {},
   "outputs": [],
   "source": [
    "df_user_log = pd.read_csv(\"data_set/user_behavior_time_resampled.csv\")\n",
    "df_user_info = pd.read_csv(\"data_set/user_info.csv\")\n",
    "\n"
   ]
  },
  {
   "cell_type": "code",
   "execution_count": 278,
   "metadata": {},
   "outputs": [],
   "source": [
    "df_vip_user = pd.read_csv(\"data_set/vip_user.csv\")"
   ]
  },
  {
   "cell_type": "code",
   "execution_count": 269,
   "metadata": {},
   "outputs": [
    {
     "output_type": "execute_result",
     "data": {
      "text/plain": [
       "          user_id  item_id  cat_id  seller_id  brand_id  time_stamp  \\\n",
       "0          328862   323294     833       2882    2661.0         829   \n",
       "1          328862   623866    1271       2882    2661.0         829   \n",
       "2          328862   239288     602        420    4953.0         801   \n",
       "3          328862   197239     602        420    4953.0         801   \n",
       "4          328862   524981     664       2382    1272.0         602   \n",
       "...           ...      ...     ...        ...       ...         ...   \n",
       "10985061   208016   869502     898       3716    5508.0        1110   \n",
       "10985062   208016    51712     898       3763    8434.0        1110   \n",
       "10985063   208016   952056     898       3763    8434.0        1110   \n",
       "10985064   208016   952056     898       3763    8434.0        1110   \n",
       "10985065   208016   107662     898       1346    7995.0        1110   \n",
       "\n",
       "          action_type     timestamp  click  cart  order  fav  \n",
       "0                   0  62242.300959      1     0      0    0  \n",
       "1                   0  75598.841378      1     0      0    0  \n",
       "2                   0  69606.479645      1     0      0    0  \n",
       "3                   0  62758.912202      1     0      0    0  \n",
       "4                   0  39651.123222      1     0      0    0  \n",
       "...               ...           ...    ...   ...    ...  ...  \n",
       "10985061            0  58128.784724      1     0      0    0  \n",
       "10985062            0  84907.294322      1     0      0    0  \n",
       "10985063            0  64118.247166      1     0      0    0  \n",
       "10985064            0  18877.391838      1     0      0    0  \n",
       "10985065            0  48918.482201      1     0      0    0  \n",
       "\n",
       "[10985066 rows x 12 columns]"
      ],
      "text/html": "<div>\n<style scoped>\n    .dataframe tbody tr th:only-of-type {\n        vertical-align: middle;\n    }\n\n    .dataframe tbody tr th {\n        vertical-align: top;\n    }\n\n    .dataframe thead th {\n        text-align: right;\n    }\n</style>\n<table border=\"1\" class=\"dataframe\">\n  <thead>\n    <tr style=\"text-align: right;\">\n      <th></th>\n      <th>user_id</th>\n      <th>item_id</th>\n      <th>cat_id</th>\n      <th>seller_id</th>\n      <th>brand_id</th>\n      <th>time_stamp</th>\n      <th>action_type</th>\n      <th>timestamp</th>\n      <th>click</th>\n      <th>cart</th>\n      <th>order</th>\n      <th>fav</th>\n    </tr>\n  </thead>\n  <tbody>\n    <tr>\n      <th>0</th>\n      <td>328862</td>\n      <td>323294</td>\n      <td>833</td>\n      <td>2882</td>\n      <td>2661.0</td>\n      <td>829</td>\n      <td>0</td>\n      <td>62242.300959</td>\n      <td>1</td>\n      <td>0</td>\n      <td>0</td>\n      <td>0</td>\n    </tr>\n    <tr>\n      <th>1</th>\n      <td>328862</td>\n      <td>623866</td>\n      <td>1271</td>\n      <td>2882</td>\n      <td>2661.0</td>\n      <td>829</td>\n      <td>0</td>\n      <td>75598.841378</td>\n      <td>1</td>\n      <td>0</td>\n      <td>0</td>\n      <td>0</td>\n    </tr>\n    <tr>\n      <th>2</th>\n      <td>328862</td>\n      <td>239288</td>\n      <td>602</td>\n      <td>420</td>\n      <td>4953.0</td>\n      <td>801</td>\n      <td>0</td>\n      <td>69606.479645</td>\n      <td>1</td>\n      <td>0</td>\n      <td>0</td>\n      <td>0</td>\n    </tr>\n    <tr>\n      <th>3</th>\n      <td>328862</td>\n      <td>197239</td>\n      <td>602</td>\n      <td>420</td>\n      <td>4953.0</td>\n      <td>801</td>\n      <td>0</td>\n      <td>62758.912202</td>\n      <td>1</td>\n      <td>0</td>\n      <td>0</td>\n      <td>0</td>\n    </tr>\n    <tr>\n      <th>4</th>\n      <td>328862</td>\n      <td>524981</td>\n      <td>664</td>\n      <td>2382</td>\n      <td>1272.0</td>\n      <td>602</td>\n      <td>0</td>\n      <td>39651.123222</td>\n      <td>1</td>\n      <td>0</td>\n      <td>0</td>\n      <td>0</td>\n    </tr>\n    <tr>\n      <th>...</th>\n      <td>...</td>\n      <td>...</td>\n      <td>...</td>\n      <td>...</td>\n      <td>...</td>\n      <td>...</td>\n      <td>...</td>\n      <td>...</td>\n      <td>...</td>\n      <td>...</td>\n      <td>...</td>\n      <td>...</td>\n    </tr>\n    <tr>\n      <th>10985061</th>\n      <td>208016</td>\n      <td>869502</td>\n      <td>898</td>\n      <td>3716</td>\n      <td>5508.0</td>\n      <td>1110</td>\n      <td>0</td>\n      <td>58128.784724</td>\n      <td>1</td>\n      <td>0</td>\n      <td>0</td>\n      <td>0</td>\n    </tr>\n    <tr>\n      <th>10985062</th>\n      <td>208016</td>\n      <td>51712</td>\n      <td>898</td>\n      <td>3763</td>\n      <td>8434.0</td>\n      <td>1110</td>\n      <td>0</td>\n      <td>84907.294322</td>\n      <td>1</td>\n      <td>0</td>\n      <td>0</td>\n      <td>0</td>\n    </tr>\n    <tr>\n      <th>10985063</th>\n      <td>208016</td>\n      <td>952056</td>\n      <td>898</td>\n      <td>3763</td>\n      <td>8434.0</td>\n      <td>1110</td>\n      <td>0</td>\n      <td>64118.247166</td>\n      <td>1</td>\n      <td>0</td>\n      <td>0</td>\n      <td>0</td>\n    </tr>\n    <tr>\n      <th>10985064</th>\n      <td>208016</td>\n      <td>952056</td>\n      <td>898</td>\n      <td>3763</td>\n      <td>8434.0</td>\n      <td>1110</td>\n      <td>0</td>\n      <td>18877.391838</td>\n      <td>1</td>\n      <td>0</td>\n      <td>0</td>\n      <td>0</td>\n    </tr>\n    <tr>\n      <th>10985065</th>\n      <td>208016</td>\n      <td>107662</td>\n      <td>898</td>\n      <td>1346</td>\n      <td>7995.0</td>\n      <td>1110</td>\n      <td>0</td>\n      <td>48918.482201</td>\n      <td>1</td>\n      <td>0</td>\n      <td>0</td>\n      <td>0</td>\n    </tr>\n  </tbody>\n</table>\n<p>10985066 rows × 12 columns</p>\n</div>"
     },
     "metadata": {},
     "execution_count": 269
    }
   ],
   "source": [
    "# 分别插入 click、cart、order、fav 四列，表示点击、加购物车、下单和收藏\n",
    "# 规则见上面的文字描述\n",
    "df_user_log[\"click\"] = df_user_log.action_type.apply(lambda l:1 if l==0 else 0)\n",
    "df_user_log[\"cart\"] = df_user_log.action_type.apply(lambda l:1 if l==1 else 0)\n",
    "df_user_log[\"order\"] = df_user_log.action_type.apply(lambda l:1 if l==2 else 0)\n",
    "df_user_log[\"fav\"] = df_user_log.action_type.apply(lambda l:1 if l==3 else 0)\n",
    "\n",
    "# 查看添加之后的 user_log 表\n",
    "df_user_log"
   ]
  },
  {
   "cell_type": "code",
   "execution_count": 271,
   "metadata": {},
   "outputs": [
    {
     "output_type": "stream",
     "name": "stdout",
     "text": [
      "click 数据分布：\n",
      " 1    9709458\n",
      "0    1275608\n",
      "Name: click, dtype: int64\n",
      "order 数据分布：\n",
      " 0    10325489\n",
      "1      659577\n",
      "Name: order, dtype: int64\n",
      "fav 数据分布：\n",
      " 0    10384328\n",
      "1      600738\n",
      "Name: fav, dtype: int64\n",
      "cart 数据分布：\n",
      " 0    10969773\n",
      "1       15293\n",
      "Name: cart, dtype: int64\n"
     ]
    }
   ],
   "source": [
    "print(\"click 数据分布：\\n\",df_user_log.click.value_counts())\n",
    "print(\"order 数据分布：\\n\",df_user_log.order.value_counts())\n",
    "print(\"fav 数据分布：\\n\",df_user_log.fav.value_counts())\n",
    "print(\"cart 数据分布：\\n\",df_user_log.cart.value_counts())"
   ]
  },
  {
   "cell_type": "code",
   "execution_count": 272,
   "metadata": {},
   "outputs": [
    {
     "output_type": "execute_result",
     "data": {
      "text/plain": [
       "          item_id  click  cart  order  fav\n",
       "0          323294      1     0      0    0\n",
       "1          623866      1     0      0    0\n",
       "2          239288      1     0      0    0\n",
       "3          197239      1     0      0    0\n",
       "4          524981      1     0      0    0\n",
       "...           ...    ...   ...    ...  ...\n",
       "10985061   869502      1     0      0    0\n",
       "10985062    51712      1     0      0    0\n",
       "10985063   952056      1     0      0    0\n",
       "10985064   952056      1     0      0    0\n",
       "10985065   107662      1     0      0    0\n",
       "\n",
       "[10985066 rows x 5 columns]"
      ],
      "text/html": "<div>\n<style scoped>\n    .dataframe tbody tr th:only-of-type {\n        vertical-align: middle;\n    }\n\n    .dataframe tbody tr th {\n        vertical-align: top;\n    }\n\n    .dataframe thead th {\n        text-align: right;\n    }\n</style>\n<table border=\"1\" class=\"dataframe\">\n  <thead>\n    <tr style=\"text-align: right;\">\n      <th></th>\n      <th>item_id</th>\n      <th>click</th>\n      <th>cart</th>\n      <th>order</th>\n      <th>fav</th>\n    </tr>\n  </thead>\n  <tbody>\n    <tr>\n      <th>0</th>\n      <td>323294</td>\n      <td>1</td>\n      <td>0</td>\n      <td>0</td>\n      <td>0</td>\n    </tr>\n    <tr>\n      <th>1</th>\n      <td>623866</td>\n      <td>1</td>\n      <td>0</td>\n      <td>0</td>\n      <td>0</td>\n    </tr>\n    <tr>\n      <th>2</th>\n      <td>239288</td>\n      <td>1</td>\n      <td>0</td>\n      <td>0</td>\n      <td>0</td>\n    </tr>\n    <tr>\n      <th>3</th>\n      <td>197239</td>\n      <td>1</td>\n      <td>0</td>\n      <td>0</td>\n      <td>0</td>\n    </tr>\n    <tr>\n      <th>4</th>\n      <td>524981</td>\n      <td>1</td>\n      <td>0</td>\n      <td>0</td>\n      <td>0</td>\n    </tr>\n    <tr>\n      <th>...</th>\n      <td>...</td>\n      <td>...</td>\n      <td>...</td>\n      <td>...</td>\n      <td>...</td>\n    </tr>\n    <tr>\n      <th>10985061</th>\n      <td>869502</td>\n      <td>1</td>\n      <td>0</td>\n      <td>0</td>\n      <td>0</td>\n    </tr>\n    <tr>\n      <th>10985062</th>\n      <td>51712</td>\n      <td>1</td>\n      <td>0</td>\n      <td>0</td>\n      <td>0</td>\n    </tr>\n    <tr>\n      <th>10985063</th>\n      <td>952056</td>\n      <td>1</td>\n      <td>0</td>\n      <td>0</td>\n      <td>0</td>\n    </tr>\n    <tr>\n      <th>10985064</th>\n      <td>952056</td>\n      <td>1</td>\n      <td>0</td>\n      <td>0</td>\n      <td>0</td>\n    </tr>\n    <tr>\n      <th>10985065</th>\n      <td>107662</td>\n      <td>1</td>\n      <td>0</td>\n      <td>0</td>\n      <td>0</td>\n    </tr>\n  </tbody>\n</table>\n<p>10985066 rows × 5 columns</p>\n</div>"
     },
     "metadata": {},
     "execution_count": 272
    }
   ],
   "source": [
    "df_clean = df_user_log[[\"item_id\", \"click\", \"cart\", \"order\",\"fav\"]]\n",
    "df_clean\n"
   ]
  },
  {
   "cell_type": "code",
   "execution_count": 273,
   "metadata": {},
   "outputs": [
    {
     "output_type": "execute_result",
     "data": {
      "text/plain": [
       "         click  cart  order  fav\n",
       "item_id                         \n",
       "2          511     0     67   60\n",
       "3           22     0      2    1\n",
       "4            5     0      0    0\n",
       "7            1     0      0    0\n",
       "8           11     0      3    0\n",
       "...        ...   ...    ...  ...\n",
       "1113160      0     0      1    0\n",
       "1113161      1     0      0    0\n",
       "1113162     17     0      2    1\n",
       "1113163      5     0      0    1\n",
       "1113166      7     0      5    0\n",
       "\n",
       "[756725 rows x 4 columns]"
      ],
      "text/html": "<div>\n<style scoped>\n    .dataframe tbody tr th:only-of-type {\n        vertical-align: middle;\n    }\n\n    .dataframe tbody tr th {\n        vertical-align: top;\n    }\n\n    .dataframe thead th {\n        text-align: right;\n    }\n</style>\n<table border=\"1\" class=\"dataframe\">\n  <thead>\n    <tr style=\"text-align: right;\">\n      <th></th>\n      <th>click</th>\n      <th>cart</th>\n      <th>order</th>\n      <th>fav</th>\n    </tr>\n    <tr>\n      <th>item_id</th>\n      <th></th>\n      <th></th>\n      <th></th>\n      <th></th>\n    </tr>\n  </thead>\n  <tbody>\n    <tr>\n      <th>2</th>\n      <td>511</td>\n      <td>0</td>\n      <td>67</td>\n      <td>60</td>\n    </tr>\n    <tr>\n      <th>3</th>\n      <td>22</td>\n      <td>0</td>\n      <td>2</td>\n      <td>1</td>\n    </tr>\n    <tr>\n      <th>4</th>\n      <td>5</td>\n      <td>0</td>\n      <td>0</td>\n      <td>0</td>\n    </tr>\n    <tr>\n      <th>7</th>\n      <td>1</td>\n      <td>0</td>\n      <td>0</td>\n      <td>0</td>\n    </tr>\n    <tr>\n      <th>8</th>\n      <td>11</td>\n      <td>0</td>\n      <td>3</td>\n      <td>0</td>\n    </tr>\n    <tr>\n      <th>...</th>\n      <td>...</td>\n      <td>...</td>\n      <td>...</td>\n      <td>...</td>\n    </tr>\n    <tr>\n      <th>1113160</th>\n      <td>0</td>\n      <td>0</td>\n      <td>1</td>\n      <td>0</td>\n    </tr>\n    <tr>\n      <th>1113161</th>\n      <td>1</td>\n      <td>0</td>\n      <td>0</td>\n      <td>0</td>\n    </tr>\n    <tr>\n      <th>1113162</th>\n      <td>17</td>\n      <td>0</td>\n      <td>2</td>\n      <td>1</td>\n    </tr>\n    <tr>\n      <th>1113163</th>\n      <td>5</td>\n      <td>0</td>\n      <td>0</td>\n      <td>1</td>\n    </tr>\n    <tr>\n      <th>1113166</th>\n      <td>7</td>\n      <td>0</td>\n      <td>5</td>\n      <td>0</td>\n    </tr>\n  </tbody>\n</table>\n<p>756725 rows × 4 columns</p>\n</div>"
     },
     "metadata": {},
     "execution_count": 273
    }
   ],
   "source": [
    "df_item = df_clean.groupby([\"item_id\"]).sum()\n",
    "df_item"
   ]
  },
  {
   "cell_type": "code",
   "execution_count": 279,
   "metadata": {},
   "outputs": [
    {
     "output_type": "execute_result",
     "data": {
      "text/plain": [
       "        user_id  merchant_id  label\n",
       "0         34176         3906      0\n",
       "1         34176          121      0\n",
       "2         34176         4356      1\n",
       "3         34176         2217      0\n",
       "4        230784         4818      0\n",
       "...         ...          ...    ...\n",
       "260859   359807         4325      0\n",
       "260860   294527         3971      0\n",
       "260861   294527          152      0\n",
       "260862   294527         2537      0\n",
       "260863   229247         4140      0\n",
       "\n",
       "[260864 rows x 3 columns]"
      ],
      "text/html": "<div>\n<style scoped>\n    .dataframe tbody tr th:only-of-type {\n        vertical-align: middle;\n    }\n\n    .dataframe tbody tr th {\n        vertical-align: top;\n    }\n\n    .dataframe thead th {\n        text-align: right;\n    }\n</style>\n<table border=\"1\" class=\"dataframe\">\n  <thead>\n    <tr style=\"text-align: right;\">\n      <th></th>\n      <th>user_id</th>\n      <th>merchant_id</th>\n      <th>label</th>\n    </tr>\n  </thead>\n  <tbody>\n    <tr>\n      <th>0</th>\n      <td>34176</td>\n      <td>3906</td>\n      <td>0</td>\n    </tr>\n    <tr>\n      <th>1</th>\n      <td>34176</td>\n      <td>121</td>\n      <td>0</td>\n    </tr>\n    <tr>\n      <th>2</th>\n      <td>34176</td>\n      <td>4356</td>\n      <td>1</td>\n    </tr>\n    <tr>\n      <th>3</th>\n      <td>34176</td>\n      <td>2217</td>\n      <td>0</td>\n    </tr>\n    <tr>\n      <th>4</th>\n      <td>230784</td>\n      <td>4818</td>\n      <td>0</td>\n    </tr>\n    <tr>\n      <th>...</th>\n      <td>...</td>\n      <td>...</td>\n      <td>...</td>\n    </tr>\n    <tr>\n      <th>260859</th>\n      <td>359807</td>\n      <td>4325</td>\n      <td>0</td>\n    </tr>\n    <tr>\n      <th>260860</th>\n      <td>294527</td>\n      <td>3971</td>\n      <td>0</td>\n    </tr>\n    <tr>\n      <th>260861</th>\n      <td>294527</td>\n      <td>152</td>\n      <td>0</td>\n    </tr>\n    <tr>\n      <th>260862</th>\n      <td>294527</td>\n      <td>2537</td>\n      <td>0</td>\n    </tr>\n    <tr>\n      <th>260863</th>\n      <td>229247</td>\n      <td>4140</td>\n      <td>0</td>\n    </tr>\n  </tbody>\n</table>\n<p>260864 rows × 3 columns</p>\n</div>"
     },
     "metadata": {},
     "execution_count": 279
    }
   ],
   "source": [
    "df_vip_user"
   ]
  },
  {
   "cell_type": "code",
   "execution_count": 280,
   "metadata": {},
   "outputs": [
    {
     "output_type": "execute_result",
     "data": {
      "text/plain": [
       "           label\n",
       "seller_id       \n",
       "2              2\n",
       "8              1\n",
       "9              1\n",
       "10            16\n",
       "13            15\n",
       "...          ...\n",
       "4987           0\n",
       "4988           2\n",
       "4991           0\n",
       "4992          73\n",
       "4993           4\n",
       "\n",
       "[1993 rows x 1 columns]"
      ],
      "text/html": "<div>\n<style scoped>\n    .dataframe tbody tr th:only-of-type {\n        vertical-align: middle;\n    }\n\n    .dataframe tbody tr th {\n        vertical-align: top;\n    }\n\n    .dataframe thead th {\n        text-align: right;\n    }\n</style>\n<table border=\"1\" class=\"dataframe\">\n  <thead>\n    <tr style=\"text-align: right;\">\n      <th></th>\n      <th>label</th>\n    </tr>\n    <tr>\n      <th>seller_id</th>\n      <th></th>\n    </tr>\n  </thead>\n  <tbody>\n    <tr>\n      <th>2</th>\n      <td>2</td>\n    </tr>\n    <tr>\n      <th>8</th>\n      <td>1</td>\n    </tr>\n    <tr>\n      <th>9</th>\n      <td>1</td>\n    </tr>\n    <tr>\n      <th>10</th>\n      <td>16</td>\n    </tr>\n    <tr>\n      <th>13</th>\n      <td>15</td>\n    </tr>\n    <tr>\n      <th>...</th>\n      <td>...</td>\n    </tr>\n    <tr>\n      <th>4987</th>\n      <td>0</td>\n    </tr>\n    <tr>\n      <th>4988</th>\n      <td>2</td>\n    </tr>\n    <tr>\n      <th>4991</th>\n      <td>0</td>\n    </tr>\n    <tr>\n      <th>4992</th>\n      <td>73</td>\n    </tr>\n    <tr>\n      <th>4993</th>\n      <td>4</td>\n    </tr>\n  </tbody>\n</table>\n<p>1993 rows × 1 columns</p>\n</div>"
     },
     "metadata": {},
     "execution_count": 280
    }
   ],
   "source": [
    "# 重命名 merchant_id 为 seller_id\n",
    "df_vip_user = df_vip_user.rename( columns={\"merchant_id\" : \"seller_id\"})\n",
    "\n",
    "# 选取 seller_id和label 这连烈，斌将结果通过 seller_id 聚合，相同 seller_id 的记录的label求和\n",
    "df_brand_vip_users = df_vip_user[[\"seller_id\", \"label\"]].groupby(\"seller_id\").sum()\n",
    "\n",
    "# 查看保存了店铺 vip 用户数的表的内容\n",
    "df_brand_vip_users\n"
   ]
  },
  {
   "cell_type": "code",
   "execution_count": 281,
   "metadata": {},
   "outputs": [
    {
     "output_type": "execute_result",
     "data": {
      "text/plain": [
       "           item_count\n",
       "seller_id            \n",
       "1                2547\n",
       "2                  96\n",
       "3                  87\n",
       "4                  96\n",
       "5                 309\n",
       "...               ...\n",
       "4991               14\n",
       "4992               87\n",
       "4993              147\n",
       "4994              431\n",
       "4995              149\n",
       "\n",
       "[4995 rows x 1 columns]"
      ],
      "text/html": "<div>\n<style scoped>\n    .dataframe tbody tr th:only-of-type {\n        vertical-align: middle;\n    }\n\n    .dataframe tbody tr th {\n        vertical-align: top;\n    }\n\n    .dataframe thead th {\n        text-align: right;\n    }\n</style>\n<table border=\"1\" class=\"dataframe\">\n  <thead>\n    <tr style=\"text-align: right;\">\n      <th></th>\n      <th>item_count</th>\n    </tr>\n    <tr>\n      <th>seller_id</th>\n      <th></th>\n    </tr>\n  </thead>\n  <tbody>\n    <tr>\n      <th>1</th>\n      <td>2547</td>\n    </tr>\n    <tr>\n      <th>2</th>\n      <td>96</td>\n    </tr>\n    <tr>\n      <th>3</th>\n      <td>87</td>\n    </tr>\n    <tr>\n      <th>4</th>\n      <td>96</td>\n    </tr>\n    <tr>\n      <th>5</th>\n      <td>309</td>\n    </tr>\n    <tr>\n      <th>...</th>\n      <td>...</td>\n    </tr>\n    <tr>\n      <th>4991</th>\n      <td>14</td>\n    </tr>\n    <tr>\n      <th>4992</th>\n      <td>87</td>\n    </tr>\n    <tr>\n      <th>4993</th>\n      <td>147</td>\n    </tr>\n    <tr>\n      <th>4994</th>\n      <td>431</td>\n    </tr>\n    <tr>\n      <th>4995</th>\n      <td>149</td>\n    </tr>\n  </tbody>\n</table>\n<p>4995 rows × 1 columns</p>\n</div>"
     },
     "metadata": {},
     "execution_count": 281
    }
   ],
   "source": [
    "# 筛选出 seller_id 和 item_id\n",
    "df_seller_item_count = df_user_log[[\"seller_id\", \"item_id\"]]\n",
    "\n",
    "# 按item_id 去重，因为 itemid 一样的记录，seller_id 肯定也一样，所以 seller_id没有影响\n",
    "df_seller_item_count = df_seller_item_count.drop_duplicates(\"item_id\")\n",
    "\n",
    "# 将 item_id 列赋值为 1，方便做求和\n",
    "df_seller_item_count[\"item_id\"] = 1\n",
    "\n",
    "# 按seller_id 聚合，然后针对 item_id 列求和\n",
    "df_seller_item_count = df_seller_item_count.groupby(\"seller_id\").sum()\n",
    "\n",
    "# 将 item_id 列改为 item_count， 避免有歧义\n",
    "df_seller_item_count = df_seller_item_count.rename(columns = {\"item_id\" : \"item_count\"})\n",
    "\n",
    "# 查看结果\n",
    "df_seller_item_count"
   ]
  },
  {
   "cell_type": "code",
   "execution_count": 282,
   "metadata": {},
   "outputs": [
    {
     "output_type": "execute_result",
     "data": {
      "text/plain": [
       "         click  cart  order  fav\n",
       "item_id                         \n",
       "2          511     0     67   60\n",
       "3           22     0      2    1\n",
       "4            5     0      0    0\n",
       "7            1     0      0    0\n",
       "8           11     0      3    0\n",
       "...        ...   ...    ...  ...\n",
       "1113160      0     0      1    0\n",
       "1113161      1     0      0    0\n",
       "1113162     17     0      2    1\n",
       "1113163      5     0      0    1\n",
       "1113166      7     0      5    0\n",
       "\n",
       "[756725 rows x 4 columns]"
      ],
      "text/html": "<div>\n<style scoped>\n    .dataframe tbody tr th:only-of-type {\n        vertical-align: middle;\n    }\n\n    .dataframe tbody tr th {\n        vertical-align: top;\n    }\n\n    .dataframe thead th {\n        text-align: right;\n    }\n</style>\n<table border=\"1\" class=\"dataframe\">\n  <thead>\n    <tr style=\"text-align: right;\">\n      <th></th>\n      <th>click</th>\n      <th>cart</th>\n      <th>order</th>\n      <th>fav</th>\n    </tr>\n    <tr>\n      <th>item_id</th>\n      <th></th>\n      <th></th>\n      <th></th>\n      <th></th>\n    </tr>\n  </thead>\n  <tbody>\n    <tr>\n      <th>2</th>\n      <td>511</td>\n      <td>0</td>\n      <td>67</td>\n      <td>60</td>\n    </tr>\n    <tr>\n      <th>3</th>\n      <td>22</td>\n      <td>0</td>\n      <td>2</td>\n      <td>1</td>\n    </tr>\n    <tr>\n      <th>4</th>\n      <td>5</td>\n      <td>0</td>\n      <td>0</td>\n      <td>0</td>\n    </tr>\n    <tr>\n      <th>7</th>\n      <td>1</td>\n      <td>0</td>\n      <td>0</td>\n      <td>0</td>\n    </tr>\n    <tr>\n      <th>8</th>\n      <td>11</td>\n      <td>0</td>\n      <td>3</td>\n      <td>0</td>\n    </tr>\n    <tr>\n      <th>...</th>\n      <td>...</td>\n      <td>...</td>\n      <td>...</td>\n      <td>...</td>\n    </tr>\n    <tr>\n      <th>1113160</th>\n      <td>0</td>\n      <td>0</td>\n      <td>1</td>\n      <td>0</td>\n    </tr>\n    <tr>\n      <th>1113161</th>\n      <td>1</td>\n      <td>0</td>\n      <td>0</td>\n      <td>0</td>\n    </tr>\n    <tr>\n      <th>1113162</th>\n      <td>17</td>\n      <td>0</td>\n      <td>2</td>\n      <td>1</td>\n    </tr>\n    <tr>\n      <th>1113163</th>\n      <td>5</td>\n      <td>0</td>\n      <td>0</td>\n      <td>1</td>\n    </tr>\n    <tr>\n      <th>1113166</th>\n      <td>7</td>\n      <td>0</td>\n      <td>5</td>\n      <td>0</td>\n    </tr>\n  </tbody>\n</table>\n<p>756725 rows × 4 columns</p>\n</div>"
     },
     "metadata": {},
     "execution_count": 282
    }
   ],
   "source": [
    "df_item"
   ]
  },
  {
   "cell_type": "code",
   "execution_count": 283,
   "metadata": {},
   "outputs": [
    {
     "output_type": "execute_result",
     "data": {
      "text/plain": [
       "        item_id  click  cart  order  fav  seller_id\n",
       "0             2    511     0     67   60       1381\n",
       "1             3     22     0      2    1       2705\n",
       "2             4      5     0      0    0       4007\n",
       "3             7      1     0      0    0       1640\n",
       "4             8     11     0      3    0       2592\n",
       "...         ...    ...   ...    ...  ...        ...\n",
       "756720  1113160      0     0      1    0       3825\n",
       "756721  1113161      1     0      0    0       1543\n",
       "756722  1113162     17     0      2    1       2586\n",
       "756723  1113163      5     0      0    1       2654\n",
       "756724  1113166      7     0      5    0        474\n",
       "\n",
       "[756725 rows x 6 columns]"
      ],
      "text/html": "<div>\n<style scoped>\n    .dataframe tbody tr th:only-of-type {\n        vertical-align: middle;\n    }\n\n    .dataframe tbody tr th {\n        vertical-align: top;\n    }\n\n    .dataframe thead th {\n        text-align: right;\n    }\n</style>\n<table border=\"1\" class=\"dataframe\">\n  <thead>\n    <tr style=\"text-align: right;\">\n      <th></th>\n      <th>item_id</th>\n      <th>click</th>\n      <th>cart</th>\n      <th>order</th>\n      <th>fav</th>\n      <th>seller_id</th>\n    </tr>\n  </thead>\n  <tbody>\n    <tr>\n      <th>0</th>\n      <td>2</td>\n      <td>511</td>\n      <td>0</td>\n      <td>67</td>\n      <td>60</td>\n      <td>1381</td>\n    </tr>\n    <tr>\n      <th>1</th>\n      <td>3</td>\n      <td>22</td>\n      <td>0</td>\n      <td>2</td>\n      <td>1</td>\n      <td>2705</td>\n    </tr>\n    <tr>\n      <th>2</th>\n      <td>4</td>\n      <td>5</td>\n      <td>0</td>\n      <td>0</td>\n      <td>0</td>\n      <td>4007</td>\n    </tr>\n    <tr>\n      <th>3</th>\n      <td>7</td>\n      <td>1</td>\n      <td>0</td>\n      <td>0</td>\n      <td>0</td>\n      <td>1640</td>\n    </tr>\n    <tr>\n      <th>4</th>\n      <td>8</td>\n      <td>11</td>\n      <td>0</td>\n      <td>3</td>\n      <td>0</td>\n      <td>2592</td>\n    </tr>\n    <tr>\n      <th>...</th>\n      <td>...</td>\n      <td>...</td>\n      <td>...</td>\n      <td>...</td>\n      <td>...</td>\n      <td>...</td>\n    </tr>\n    <tr>\n      <th>756720</th>\n      <td>1113160</td>\n      <td>0</td>\n      <td>0</td>\n      <td>1</td>\n      <td>0</td>\n      <td>3825</td>\n    </tr>\n    <tr>\n      <th>756721</th>\n      <td>1113161</td>\n      <td>1</td>\n      <td>0</td>\n      <td>0</td>\n      <td>0</td>\n      <td>1543</td>\n    </tr>\n    <tr>\n      <th>756722</th>\n      <td>1113162</td>\n      <td>17</td>\n      <td>0</td>\n      <td>2</td>\n      <td>1</td>\n      <td>2586</td>\n    </tr>\n    <tr>\n      <th>756723</th>\n      <td>1113163</td>\n      <td>5</td>\n      <td>0</td>\n      <td>0</td>\n      <td>1</td>\n      <td>2654</td>\n    </tr>\n    <tr>\n      <th>756724</th>\n      <td>1113166</td>\n      <td>7</td>\n      <td>0</td>\n      <td>5</td>\n      <td>0</td>\n      <td>474</td>\n    </tr>\n  </tbody>\n</table>\n<p>756725 rows × 6 columns</p>\n</div>"
     },
     "metadata": {},
     "execution_count": 283
    }
   ],
   "source": [
    "# 从原始行为表中取出 item_id 和seller_id ，构成新表\n",
    "df_brand_item_map = df_user_log[[\"item_id\", \"seller_id\"]]\n",
    "\n",
    "# 按照item_id去重，去重后得到的结果就相当于是 item id 和 seller_id 的映射关系\n",
    "df_brand_item_map = df_brand_item_map.drop_duplicates(\"item_id\")\n",
    "\n",
    "# 将 df_brand_item_map 映射进 df_item， 以 item_id 为 key\n",
    "df_item = df_item.merge(df_brand_item_map, how=\"left\", on=\"item_id\")\n",
    "\n",
    "# 查看最新的商品特征表\n",
    "df_item"
   ]
  },
  {
   "cell_type": "code",
   "execution_count": 230,
   "metadata": {},
   "outputs": [],
   "source": []
  },
  {
   "cell_type": "code",
   "execution_count": 231,
   "metadata": {},
   "outputs": [
    {
     "output_type": "execute_result",
     "data": {
      "text/plain": [
       "          item_id  seller_id\n",
       "0          323294       2882\n",
       "1          623866       2882\n",
       "2          239288        420\n",
       "3          197239        420\n",
       "4          524981       2382\n",
       "...           ...        ...\n",
       "10984571   704621       2151\n",
       "10984740   227512       3019\n",
       "10984827   226104        705\n",
       "10984906   184975       4183\n",
       "10985045  1083994       2002\n",
       "\n",
       "[756725 rows x 2 columns]"
      ],
      "text/html": "<div>\n<style scoped>\n    .dataframe tbody tr th:only-of-type {\n        vertical-align: middle;\n    }\n\n    .dataframe tbody tr th {\n        vertical-align: top;\n    }\n\n    .dataframe thead th {\n        text-align: right;\n    }\n</style>\n<table border=\"1\" class=\"dataframe\">\n  <thead>\n    <tr style=\"text-align: right;\">\n      <th></th>\n      <th>item_id</th>\n      <th>seller_id</th>\n    </tr>\n  </thead>\n  <tbody>\n    <tr>\n      <th>0</th>\n      <td>323294</td>\n      <td>2882</td>\n    </tr>\n    <tr>\n      <th>1</th>\n      <td>623866</td>\n      <td>2882</td>\n    </tr>\n    <tr>\n      <th>2</th>\n      <td>239288</td>\n      <td>420</td>\n    </tr>\n    <tr>\n      <th>3</th>\n      <td>197239</td>\n      <td>420</td>\n    </tr>\n    <tr>\n      <th>4</th>\n      <td>524981</td>\n      <td>2382</td>\n    </tr>\n    <tr>\n      <th>...</th>\n      <td>...</td>\n      <td>...</td>\n    </tr>\n    <tr>\n      <th>10984571</th>\n      <td>704621</td>\n      <td>2151</td>\n    </tr>\n    <tr>\n      <th>10984740</th>\n      <td>227512</td>\n      <td>3019</td>\n    </tr>\n    <tr>\n      <th>10984827</th>\n      <td>226104</td>\n      <td>705</td>\n    </tr>\n    <tr>\n      <th>10984906</th>\n      <td>184975</td>\n      <td>4183</td>\n    </tr>\n    <tr>\n      <th>10985045</th>\n      <td>1083994</td>\n      <td>2002</td>\n    </tr>\n  </tbody>\n</table>\n<p>756725 rows × 2 columns</p>\n</div>"
     },
     "metadata": {},
     "execution_count": 231
    }
   ],
   "source": [
    "df_brand_item_map"
   ]
  },
  {
   "cell_type": "code",
   "execution_count": 284,
   "metadata": {},
   "outputs": [
    {
     "output_type": "execute_result",
     "data": {
      "text/plain": [
       "        item_id  click  cart  order  fav  seller_id  label\n",
       "0             2    511     0     67   60       1381    NaN\n",
       "1             3     22     0      2    1       2705    NaN\n",
       "2             4      5     0      0    0       4007    3.0\n",
       "3             7      1     0      0    0       1640    2.0\n",
       "4             8     11     0      3    0       2592   16.0\n",
       "...         ...    ...   ...    ...  ...        ...    ...\n",
       "756720  1113160      0     0      1    0       3825    1.0\n",
       "756721  1113161      1     0      0    0       1543    0.0\n",
       "756722  1113162     17     0      2    1       2586    NaN\n",
       "756723  1113163      5     0      0    1       2654    3.0\n",
       "756724  1113166      7     0      5    0        474  118.0\n",
       "\n",
       "[756725 rows x 7 columns]"
      ],
      "text/html": "<div>\n<style scoped>\n    .dataframe tbody tr th:only-of-type {\n        vertical-align: middle;\n    }\n\n    .dataframe tbody tr th {\n        vertical-align: top;\n    }\n\n    .dataframe thead th {\n        text-align: right;\n    }\n</style>\n<table border=\"1\" class=\"dataframe\">\n  <thead>\n    <tr style=\"text-align: right;\">\n      <th></th>\n      <th>item_id</th>\n      <th>click</th>\n      <th>cart</th>\n      <th>order</th>\n      <th>fav</th>\n      <th>seller_id</th>\n      <th>label</th>\n    </tr>\n  </thead>\n  <tbody>\n    <tr>\n      <th>0</th>\n      <td>2</td>\n      <td>511</td>\n      <td>0</td>\n      <td>67</td>\n      <td>60</td>\n      <td>1381</td>\n      <td>NaN</td>\n    </tr>\n    <tr>\n      <th>1</th>\n      <td>3</td>\n      <td>22</td>\n      <td>0</td>\n      <td>2</td>\n      <td>1</td>\n      <td>2705</td>\n      <td>NaN</td>\n    </tr>\n    <tr>\n      <th>2</th>\n      <td>4</td>\n      <td>5</td>\n      <td>0</td>\n      <td>0</td>\n      <td>0</td>\n      <td>4007</td>\n      <td>3.0</td>\n    </tr>\n    <tr>\n      <th>3</th>\n      <td>7</td>\n      <td>1</td>\n      <td>0</td>\n      <td>0</td>\n      <td>0</td>\n      <td>1640</td>\n      <td>2.0</td>\n    </tr>\n    <tr>\n      <th>4</th>\n      <td>8</td>\n      <td>11</td>\n      <td>0</td>\n      <td>3</td>\n      <td>0</td>\n      <td>2592</td>\n      <td>16.0</td>\n    </tr>\n    <tr>\n      <th>...</th>\n      <td>...</td>\n      <td>...</td>\n      <td>...</td>\n      <td>...</td>\n      <td>...</td>\n      <td>...</td>\n      <td>...</td>\n    </tr>\n    <tr>\n      <th>756720</th>\n      <td>1113160</td>\n      <td>0</td>\n      <td>0</td>\n      <td>1</td>\n      <td>0</td>\n      <td>3825</td>\n      <td>1.0</td>\n    </tr>\n    <tr>\n      <th>756721</th>\n      <td>1113161</td>\n      <td>1</td>\n      <td>0</td>\n      <td>0</td>\n      <td>0</td>\n      <td>1543</td>\n      <td>0.0</td>\n    </tr>\n    <tr>\n      <th>756722</th>\n      <td>1113162</td>\n      <td>17</td>\n      <td>0</td>\n      <td>2</td>\n      <td>1</td>\n      <td>2586</td>\n      <td>NaN</td>\n    </tr>\n    <tr>\n      <th>756723</th>\n      <td>1113163</td>\n      <td>5</td>\n      <td>0</td>\n      <td>0</td>\n      <td>1</td>\n      <td>2654</td>\n      <td>3.0</td>\n    </tr>\n    <tr>\n      <th>756724</th>\n      <td>1113166</td>\n      <td>7</td>\n      <td>0</td>\n      <td>5</td>\n      <td>0</td>\n      <td>474</td>\n      <td>118.0</td>\n    </tr>\n  </tbody>\n</table>\n<p>756725 rows × 7 columns</p>\n</div>"
     },
     "metadata": {},
     "execution_count": 284
    }
   ],
   "source": [
    "# 将店铺VIP用户特征表拼接到商品特征表中，以 seller_id 为 key\n",
    "df_item = df_item.merge(df_brand_vip_users,how = \"left\", on=\"seller_id\")\n",
    "df_item\n"
   ]
  },
  {
   "cell_type": "code",
   "execution_count": 285,
   "metadata": {},
   "outputs": [
    {
     "output_type": "execute_result",
     "data": {
      "text/plain": [
       "        item_id  click  cart  order  fav  seller_id  label\n",
       "0             2    511     0     67   60       1381    0.0\n",
       "1             3     22     0      2    1       2705    0.0\n",
       "2             4      5     0      0    0       4007    3.0\n",
       "3             7      1     0      0    0       1640    2.0\n",
       "4             8     11     0      3    0       2592   16.0\n",
       "...         ...    ...   ...    ...  ...        ...    ...\n",
       "756720  1113160      0     0      1    0       3825    1.0\n",
       "756721  1113161      1     0      0    0       1543    0.0\n",
       "756722  1113162     17     0      2    1       2586    0.0\n",
       "756723  1113163      5     0      0    1       2654    3.0\n",
       "756724  1113166      7     0      5    0        474  118.0\n",
       "\n",
       "[756725 rows x 7 columns]"
      ],
      "text/html": "<div>\n<style scoped>\n    .dataframe tbody tr th:only-of-type {\n        vertical-align: middle;\n    }\n\n    .dataframe tbody tr th {\n        vertical-align: top;\n    }\n\n    .dataframe thead th {\n        text-align: right;\n    }\n</style>\n<table border=\"1\" class=\"dataframe\">\n  <thead>\n    <tr style=\"text-align: right;\">\n      <th></th>\n      <th>item_id</th>\n      <th>click</th>\n      <th>cart</th>\n      <th>order</th>\n      <th>fav</th>\n      <th>seller_id</th>\n      <th>label</th>\n    </tr>\n  </thead>\n  <tbody>\n    <tr>\n      <th>0</th>\n      <td>2</td>\n      <td>511</td>\n      <td>0</td>\n      <td>67</td>\n      <td>60</td>\n      <td>1381</td>\n      <td>0.0</td>\n    </tr>\n    <tr>\n      <th>1</th>\n      <td>3</td>\n      <td>22</td>\n      <td>0</td>\n      <td>2</td>\n      <td>1</td>\n      <td>2705</td>\n      <td>0.0</td>\n    </tr>\n    <tr>\n      <th>2</th>\n      <td>4</td>\n      <td>5</td>\n      <td>0</td>\n      <td>0</td>\n      <td>0</td>\n      <td>4007</td>\n      <td>3.0</td>\n    </tr>\n    <tr>\n      <th>3</th>\n      <td>7</td>\n      <td>1</td>\n      <td>0</td>\n      <td>0</td>\n      <td>0</td>\n      <td>1640</td>\n      <td>2.0</td>\n    </tr>\n    <tr>\n      <th>4</th>\n      <td>8</td>\n      <td>11</td>\n      <td>0</td>\n      <td>3</td>\n      <td>0</td>\n      <td>2592</td>\n      <td>16.0</td>\n    </tr>\n    <tr>\n      <th>...</th>\n      <td>...</td>\n      <td>...</td>\n      <td>...</td>\n      <td>...</td>\n      <td>...</td>\n      <td>...</td>\n      <td>...</td>\n    </tr>\n    <tr>\n      <th>756720</th>\n      <td>1113160</td>\n      <td>0</td>\n      <td>0</td>\n      <td>1</td>\n      <td>0</td>\n      <td>3825</td>\n      <td>1.0</td>\n    </tr>\n    <tr>\n      <th>756721</th>\n      <td>1113161</td>\n      <td>1</td>\n      <td>0</td>\n      <td>0</td>\n      <td>0</td>\n      <td>1543</td>\n      <td>0.0</td>\n    </tr>\n    <tr>\n      <th>756722</th>\n      <td>1113162</td>\n      <td>17</td>\n      <td>0</td>\n      <td>2</td>\n      <td>1</td>\n      <td>2586</td>\n      <td>0.0</td>\n    </tr>\n    <tr>\n      <th>756723</th>\n      <td>1113163</td>\n      <td>5</td>\n      <td>0</td>\n      <td>0</td>\n      <td>1</td>\n      <td>2654</td>\n      <td>3.0</td>\n    </tr>\n    <tr>\n      <th>756724</th>\n      <td>1113166</td>\n      <td>7</td>\n      <td>0</td>\n      <td>5</td>\n      <td>0</td>\n      <td>474</td>\n      <td>118.0</td>\n    </tr>\n  </tbody>\n</table>\n<p>756725 rows × 7 columns</p>\n</div>"
     },
     "metadata": {},
     "execution_count": 285
    }
   ],
   "source": [
    "# 用 0 填充缺失值\n",
    "df_item[\"label\"] = df_item[\"label\"].fillna(0)\n",
    "df_item"
   ]
  },
  {
   "cell_type": "code",
   "execution_count": 235,
   "metadata": {},
   "outputs": [],
   "source": [
    "df_item.isnull().sum()\n",
    "df_item = df_item.dropna()"
   ]
  },
  {
   "cell_type": "code",
   "execution_count": 299,
   "metadata": {},
   "outputs": [
    {
     "output_type": "execute_result",
     "data": {
      "text/plain": [
       "        item_id  click  cart  order  fav  seller_id  label  item_count\n",
       "0             2    511     0     67   60       1381    0.0         181\n",
       "1             3     22     0      2    1       2705    0.0          70\n",
       "2             4      5     0      0    0       4007    3.0          16\n",
       "3             7      1     0      0    0       1640    2.0          80\n",
       "4             8     11     0      3    0       2592   16.0         197\n",
       "...         ...    ...   ...    ...  ...        ...    ...         ...\n",
       "756720  1113160      0     0      1    0       3825    1.0         461\n",
       "756721  1113161      1     0      0    0       1543    0.0         298\n",
       "756722  1113162     17     0      2    1       2586    0.0         175\n",
       "756723  1113163      5     0      0    1       2654    3.0         411\n",
       "756724  1113166      7     0      5    0        474  118.0        1310\n",
       "\n",
       "[756725 rows x 8 columns]"
      ],
      "text/html": "<div>\n<style scoped>\n    .dataframe tbody tr th:only-of-type {\n        vertical-align: middle;\n    }\n\n    .dataframe tbody tr th {\n        vertical-align: top;\n    }\n\n    .dataframe thead th {\n        text-align: right;\n    }\n</style>\n<table border=\"1\" class=\"dataframe\">\n  <thead>\n    <tr style=\"text-align: right;\">\n      <th></th>\n      <th>item_id</th>\n      <th>click</th>\n      <th>cart</th>\n      <th>order</th>\n      <th>fav</th>\n      <th>seller_id</th>\n      <th>label</th>\n      <th>item_count</th>\n    </tr>\n  </thead>\n  <tbody>\n    <tr>\n      <th>0</th>\n      <td>2</td>\n      <td>511</td>\n      <td>0</td>\n      <td>67</td>\n      <td>60</td>\n      <td>1381</td>\n      <td>0.0</td>\n      <td>181</td>\n    </tr>\n    <tr>\n      <th>1</th>\n      <td>3</td>\n      <td>22</td>\n      <td>0</td>\n      <td>2</td>\n      <td>1</td>\n      <td>2705</td>\n      <td>0.0</td>\n      <td>70</td>\n    </tr>\n    <tr>\n      <th>2</th>\n      <td>4</td>\n      <td>5</td>\n      <td>0</td>\n      <td>0</td>\n      <td>0</td>\n      <td>4007</td>\n      <td>3.0</td>\n      <td>16</td>\n    </tr>\n    <tr>\n      <th>3</th>\n      <td>7</td>\n      <td>1</td>\n      <td>0</td>\n      <td>0</td>\n      <td>0</td>\n      <td>1640</td>\n      <td>2.0</td>\n      <td>80</td>\n    </tr>\n    <tr>\n      <th>4</th>\n      <td>8</td>\n      <td>11</td>\n      <td>0</td>\n      <td>3</td>\n      <td>0</td>\n      <td>2592</td>\n      <td>16.0</td>\n      <td>197</td>\n    </tr>\n    <tr>\n      <th>...</th>\n      <td>...</td>\n      <td>...</td>\n      <td>...</td>\n      <td>...</td>\n      <td>...</td>\n      <td>...</td>\n      <td>...</td>\n      <td>...</td>\n    </tr>\n    <tr>\n      <th>756720</th>\n      <td>1113160</td>\n      <td>0</td>\n      <td>0</td>\n      <td>1</td>\n      <td>0</td>\n      <td>3825</td>\n      <td>1.0</td>\n      <td>461</td>\n    </tr>\n    <tr>\n      <th>756721</th>\n      <td>1113161</td>\n      <td>1</td>\n      <td>0</td>\n      <td>0</td>\n      <td>0</td>\n      <td>1543</td>\n      <td>0.0</td>\n      <td>298</td>\n    </tr>\n    <tr>\n      <th>756722</th>\n      <td>1113162</td>\n      <td>17</td>\n      <td>0</td>\n      <td>2</td>\n      <td>1</td>\n      <td>2586</td>\n      <td>0.0</td>\n      <td>175</td>\n    </tr>\n    <tr>\n      <th>756723</th>\n      <td>1113163</td>\n      <td>5</td>\n      <td>0</td>\n      <td>0</td>\n      <td>1</td>\n      <td>2654</td>\n      <td>3.0</td>\n      <td>411</td>\n    </tr>\n    <tr>\n      <th>756724</th>\n      <td>1113166</td>\n      <td>7</td>\n      <td>0</td>\n      <td>5</td>\n      <td>0</td>\n      <td>474</td>\n      <td>118.0</td>\n      <td>1310</td>\n    </tr>\n  </tbody>\n</table>\n<p>756725 rows × 8 columns</p>\n</div>"
     },
     "metadata": {},
     "execution_count": 299
    }
   ],
   "source": [
    "df_item = df_item.merge(df_seller_item_count, how = \"left\", on = \"seller_id\")\n",
    "df_item"
   ]
  },
  {
   "cell_type": "code",
   "execution_count": 298,
   "metadata": {},
   "outputs": [
    {
     "output_type": "execute_result",
     "data": {
      "text/plain": [
       "        item_id  click  cart  order  fav  seller_id  label\n",
       "0             2    511     0     67   60       1381    0.0\n",
       "1             3     22     0      2    1       2705    0.0\n",
       "2             4      5     0      0    0       4007    3.0\n",
       "3             7      1     0      0    0       1640    2.0\n",
       "4             8     11     0      3    0       2592   16.0\n",
       "...         ...    ...   ...    ...  ...        ...    ...\n",
       "756720  1113160      0     0      1    0       3825    1.0\n",
       "756721  1113161      1     0      0    0       1543    0.0\n",
       "756722  1113162     17     0      2    1       2586    0.0\n",
       "756723  1113163      5     0      0    1       2654    3.0\n",
       "756724  1113166      7     0      5    0        474  118.0\n",
       "\n",
       "[756725 rows x 7 columns]"
      ],
      "text/html": "<div>\n<style scoped>\n    .dataframe tbody tr th:only-of-type {\n        vertical-align: middle;\n    }\n\n    .dataframe tbody tr th {\n        vertical-align: top;\n    }\n\n    .dataframe thead th {\n        text-align: right;\n    }\n</style>\n<table border=\"1\" class=\"dataframe\">\n  <thead>\n    <tr style=\"text-align: right;\">\n      <th></th>\n      <th>item_id</th>\n      <th>click</th>\n      <th>cart</th>\n      <th>order</th>\n      <th>fav</th>\n      <th>seller_id</th>\n      <th>label</th>\n    </tr>\n  </thead>\n  <tbody>\n    <tr>\n      <th>0</th>\n      <td>2</td>\n      <td>511</td>\n      <td>0</td>\n      <td>67</td>\n      <td>60</td>\n      <td>1381</td>\n      <td>0.0</td>\n    </tr>\n    <tr>\n      <th>1</th>\n      <td>3</td>\n      <td>22</td>\n      <td>0</td>\n      <td>2</td>\n      <td>1</td>\n      <td>2705</td>\n      <td>0.0</td>\n    </tr>\n    <tr>\n      <th>2</th>\n      <td>4</td>\n      <td>5</td>\n      <td>0</td>\n      <td>0</td>\n      <td>0</td>\n      <td>4007</td>\n      <td>3.0</td>\n    </tr>\n    <tr>\n      <th>3</th>\n      <td>7</td>\n      <td>1</td>\n      <td>0</td>\n      <td>0</td>\n      <td>0</td>\n      <td>1640</td>\n      <td>2.0</td>\n    </tr>\n    <tr>\n      <th>4</th>\n      <td>8</td>\n      <td>11</td>\n      <td>0</td>\n      <td>3</td>\n      <td>0</td>\n      <td>2592</td>\n      <td>16.0</td>\n    </tr>\n    <tr>\n      <th>...</th>\n      <td>...</td>\n      <td>...</td>\n      <td>...</td>\n      <td>...</td>\n      <td>...</td>\n      <td>...</td>\n      <td>...</td>\n    </tr>\n    <tr>\n      <th>756720</th>\n      <td>1113160</td>\n      <td>0</td>\n      <td>0</td>\n      <td>1</td>\n      <td>0</td>\n      <td>3825</td>\n      <td>1.0</td>\n    </tr>\n    <tr>\n      <th>756721</th>\n      <td>1113161</td>\n      <td>1</td>\n      <td>0</td>\n      <td>0</td>\n      <td>0</td>\n      <td>1543</td>\n      <td>0.0</td>\n    </tr>\n    <tr>\n      <th>756722</th>\n      <td>1113162</td>\n      <td>17</td>\n      <td>0</td>\n      <td>2</td>\n      <td>1</td>\n      <td>2586</td>\n      <td>0.0</td>\n    </tr>\n    <tr>\n      <th>756723</th>\n      <td>1113163</td>\n      <td>5</td>\n      <td>0</td>\n      <td>0</td>\n      <td>1</td>\n      <td>2654</td>\n      <td>3.0</td>\n    </tr>\n    <tr>\n      <th>756724</th>\n      <td>1113166</td>\n      <td>7</td>\n      <td>0</td>\n      <td>5</td>\n      <td>0</td>\n      <td>474</td>\n      <td>118.0</td>\n    </tr>\n  </tbody>\n</table>\n<p>756725 rows × 7 columns</p>\n</div>"
     },
     "metadata": {},
     "execution_count": 298
    }
   ],
   "source": [
    "df_item"
   ]
  },
  {
   "cell_type": "code",
   "execution_count": 310,
   "metadata": {},
   "outputs": [
    {
     "output_type": "execute_result",
     "data": {
      "text/plain": [
       "        click  cart  fav\n",
       "260577      1     0    0\n",
       "314027      2     0    0\n",
       "154884     18     0    1\n",
       "515741     24     0    1\n",
       "18269       2     0    1\n",
       "...       ...   ...  ...\n",
       "259178      2     0    0\n",
       "365838      3     0    0\n",
       "131932     13     0    0\n",
       "671155     22     0    0\n",
       "121958      1     0    0\n",
       "\n",
       "[605380 rows x 3 columns]"
      ],
      "text/html": "<div>\n<style scoped>\n    .dataframe tbody tr th:only-of-type {\n        vertical-align: middle;\n    }\n\n    .dataframe tbody tr th {\n        vertical-align: top;\n    }\n\n    .dataframe thead th {\n        text-align: right;\n    }\n</style>\n<table border=\"1\" class=\"dataframe\">\n  <thead>\n    <tr style=\"text-align: right;\">\n      <th></th>\n      <th>click</th>\n      <th>cart</th>\n      <th>fav</th>\n    </tr>\n  </thead>\n  <tbody>\n    <tr>\n      <th>260577</th>\n      <td>1</td>\n      <td>0</td>\n      <td>0</td>\n    </tr>\n    <tr>\n      <th>314027</th>\n      <td>2</td>\n      <td>0</td>\n      <td>0</td>\n    </tr>\n    <tr>\n      <th>154884</th>\n      <td>18</td>\n      <td>0</td>\n      <td>1</td>\n    </tr>\n    <tr>\n      <th>515741</th>\n      <td>24</td>\n      <td>0</td>\n      <td>1</td>\n    </tr>\n    <tr>\n      <th>18269</th>\n      <td>2</td>\n      <td>0</td>\n      <td>1</td>\n    </tr>\n    <tr>\n      <th>...</th>\n      <td>...</td>\n      <td>...</td>\n      <td>...</td>\n    </tr>\n    <tr>\n      <th>259178</th>\n      <td>2</td>\n      <td>0</td>\n      <td>0</td>\n    </tr>\n    <tr>\n      <th>365838</th>\n      <td>3</td>\n      <td>0</td>\n      <td>0</td>\n    </tr>\n    <tr>\n      <th>131932</th>\n      <td>13</td>\n      <td>0</td>\n      <td>0</td>\n    </tr>\n    <tr>\n      <th>671155</th>\n      <td>22</td>\n      <td>0</td>\n      <td>0</td>\n    </tr>\n    <tr>\n      <th>121958</th>\n      <td>1</td>\n      <td>0</td>\n      <td>0</td>\n    </tr>\n  </tbody>\n</table>\n<p>605380 rows × 3 columns</p>\n</div>"
     },
     "metadata": {},
     "execution_count": 310
    }
   ],
   "source": [
    "# 导入分割的方法\n",
    "from sklearn.model_selection import train_test_split\n",
    "\n",
    "# 自变量的数据表\n",
    "X = df_item.drop(columns=[\"order\", \"seller_id\",\"item_id\",\"label\", \"item_count\"])\n",
    "\n",
    "# 因变量\n",
    "y = df_item[\"order\"]\n",
    "\n",
    "# 分别切割出训练集，测试集，测试集的比例是 20%\n",
    "X_train, X_test, y_train, y_test = train_test_split(X, y, test_size = 0.20, random_state=42)\n",
    "\n",
    "# 查看自变量的测试集合\n",
    "X_train\n"
   ]
  },
  {
   "cell_type": "code",
   "execution_count": 287,
   "metadata": {},
   "outputs": [
    {
     "output_type": "execute_result",
     "data": {
      "text/plain": [
       "        click  cart  fav  label\n",
       "260577      1     0    0    3.0\n",
       "314027      2     0    0    0.0\n",
       "154884     18     0    1    2.0\n",
       "515741     24     0    1  207.0\n",
       "18269       2     0    1   29.0\n",
       "...       ...   ...  ...    ...\n",
       "259178      2     0    0    0.0\n",
       "365838      3     0    0    0.0\n",
       "131932     13     0    0    0.0\n",
       "671155     22     0    0    0.0\n",
       "121958      1     0    0    0.0\n",
       "\n",
       "[605380 rows x 4 columns]"
      ],
      "text/html": "<div>\n<style scoped>\n    .dataframe tbody tr th:only-of-type {\n        vertical-align: middle;\n    }\n\n    .dataframe tbody tr th {\n        vertical-align: top;\n    }\n\n    .dataframe thead th {\n        text-align: right;\n    }\n</style>\n<table border=\"1\" class=\"dataframe\">\n  <thead>\n    <tr style=\"text-align: right;\">\n      <th></th>\n      <th>click</th>\n      <th>cart</th>\n      <th>fav</th>\n      <th>label</th>\n    </tr>\n  </thead>\n  <tbody>\n    <tr>\n      <th>260577</th>\n      <td>1</td>\n      <td>0</td>\n      <td>0</td>\n      <td>3.0</td>\n    </tr>\n    <tr>\n      <th>314027</th>\n      <td>2</td>\n      <td>0</td>\n      <td>0</td>\n      <td>0.0</td>\n    </tr>\n    <tr>\n      <th>154884</th>\n      <td>18</td>\n      <td>0</td>\n      <td>1</td>\n      <td>2.0</td>\n    </tr>\n    <tr>\n      <th>515741</th>\n      <td>24</td>\n      <td>0</td>\n      <td>1</td>\n      <td>207.0</td>\n    </tr>\n    <tr>\n      <th>18269</th>\n      <td>2</td>\n      <td>0</td>\n      <td>1</td>\n      <td>29.0</td>\n    </tr>\n    <tr>\n      <th>...</th>\n      <td>...</td>\n      <td>...</td>\n      <td>...</td>\n      <td>...</td>\n    </tr>\n    <tr>\n      <th>259178</th>\n      <td>2</td>\n      <td>0</td>\n      <td>0</td>\n      <td>0.0</td>\n    </tr>\n    <tr>\n      <th>365838</th>\n      <td>3</td>\n      <td>0</td>\n      <td>0</td>\n      <td>0.0</td>\n    </tr>\n    <tr>\n      <th>131932</th>\n      <td>13</td>\n      <td>0</td>\n      <td>0</td>\n      <td>0.0</td>\n    </tr>\n    <tr>\n      <th>671155</th>\n      <td>22</td>\n      <td>0</td>\n      <td>0</td>\n      <td>0.0</td>\n    </tr>\n    <tr>\n      <th>121958</th>\n      <td>1</td>\n      <td>0</td>\n      <td>0</td>\n      <td>0.0</td>\n    </tr>\n  </tbody>\n</table>\n<p>605380 rows × 4 columns</p>\n</div>"
     },
     "metadata": {},
     "execution_count": 287
    }
   ],
   "source": []
  },
  {
   "cell_type": "code",
   "execution_count": 261,
   "metadata": {},
   "outputs": [
    {
     "output_type": "execute_result",
     "data": {
      "text/plain": [
       "0         67\n",
       "1          2\n",
       "2          0\n",
       "3          0\n",
       "4          3\n",
       "          ..\n",
       "756720     1\n",
       "756721     0\n",
       "756722     2\n",
       "756723     0\n",
       "756724     5\n",
       "Name: order, Length: 756725, dtype: int64"
      ]
     },
     "metadata": {},
     "execution_count": 261
    }
   ],
   "source": [
    "y"
   ]
  },
  {
   "cell_type": "code",
   "execution_count": 297,
   "metadata": {},
   "outputs": [
    {
     "output_type": "execute_result",
     "data": {
      "text/plain": [
       "        click  cart  fav  label\n",
       "260577      1     0    0    3.0\n",
       "314027      2     0    0    0.0\n",
       "154884     18     0    1    2.0\n",
       "515741     24     0    1  207.0\n",
       "18269       2     0    1   29.0\n",
       "...       ...   ...  ...    ...\n",
       "259178      2     0    0    0.0\n",
       "365838      3     0    0    0.0\n",
       "131932     13     0    0    0.0\n",
       "671155     22     0    0    0.0\n",
       "121958      1     0    0    0.0\n",
       "\n",
       "[605380 rows x 4 columns]"
      ],
      "text/html": "<div>\n<style scoped>\n    .dataframe tbody tr th:only-of-type {\n        vertical-align: middle;\n    }\n\n    .dataframe tbody tr th {\n        vertical-align: top;\n    }\n\n    .dataframe thead th {\n        text-align: right;\n    }\n</style>\n<table border=\"1\" class=\"dataframe\">\n  <thead>\n    <tr style=\"text-align: right;\">\n      <th></th>\n      <th>click</th>\n      <th>cart</th>\n      <th>fav</th>\n      <th>label</th>\n    </tr>\n  </thead>\n  <tbody>\n    <tr>\n      <th>260577</th>\n      <td>1</td>\n      <td>0</td>\n      <td>0</td>\n      <td>3.0</td>\n    </tr>\n    <tr>\n      <th>314027</th>\n      <td>2</td>\n      <td>0</td>\n      <td>0</td>\n      <td>0.0</td>\n    </tr>\n    <tr>\n      <th>154884</th>\n      <td>18</td>\n      <td>0</td>\n      <td>1</td>\n      <td>2.0</td>\n    </tr>\n    <tr>\n      <th>515741</th>\n      <td>24</td>\n      <td>0</td>\n      <td>1</td>\n      <td>207.0</td>\n    </tr>\n    <tr>\n      <th>18269</th>\n      <td>2</td>\n      <td>0</td>\n      <td>1</td>\n      <td>29.0</td>\n    </tr>\n    <tr>\n      <th>...</th>\n      <td>...</td>\n      <td>...</td>\n      <td>...</td>\n      <td>...</td>\n    </tr>\n    <tr>\n      <th>259178</th>\n      <td>2</td>\n      <td>0</td>\n      <td>0</td>\n      <td>0.0</td>\n    </tr>\n    <tr>\n      <th>365838</th>\n      <td>3</td>\n      <td>0</td>\n      <td>0</td>\n      <td>0.0</td>\n    </tr>\n    <tr>\n      <th>131932</th>\n      <td>13</td>\n      <td>0</td>\n      <td>0</td>\n      <td>0.0</td>\n    </tr>\n    <tr>\n      <th>671155</th>\n      <td>22</td>\n      <td>0</td>\n      <td>0</td>\n      <td>0.0</td>\n    </tr>\n    <tr>\n      <th>121958</th>\n      <td>1</td>\n      <td>0</td>\n      <td>0</td>\n      <td>0.0</td>\n    </tr>\n  </tbody>\n</table>\n<p>605380 rows × 4 columns</p>\n</div>"
     },
     "metadata": {},
     "execution_count": 297
    }
   ],
   "source": [
    "X_train"
   ]
  },
  {
   "cell_type": "code",
   "execution_count": 263,
   "metadata": {},
   "outputs": [
    {
     "output_type": "execute_result",
     "data": {
      "text/plain": [
       "click         0\n",
       "cart          0\n",
       "fav           0\n",
       "label         0\n",
       "item_count    0\n",
       "dtype: int64"
      ]
     },
     "metadata": {},
     "execution_count": 263
    }
   ],
   "source": [
    "X_train.isnull().sum()"
   ]
  },
  {
   "cell_type": "code",
   "execution_count": 311,
   "metadata": {},
   "outputs": [
    {
     "output_type": "execute_result",
     "data": {
      "text/plain": [
       "LinearRegression()"
      ]
     },
     "metadata": {},
     "execution_count": 311
    }
   ],
   "source": [
    "linear_model = LinearRegression()\n",
    "linear_model.fit(X_train, y_train)"
   ]
  },
  {
   "cell_type": "code",
   "execution_count": 312,
   "metadata": {},
   "outputs": [
    {
     "output_type": "stream",
     "name": "stdout",
     "text": [
      "Scores: 0.439706935083249\nMAE: 0.9521912431626115\nintercept: 0.15885011639844204\ncoef_: [-1.08757222e-03  7.66812082e+00  7.19513463e-01]\n"
     ]
    }
   ],
   "source": [
    "# predict X_test 对应的 y 值\n",
    "y_pred = linear_model.predict(X_test)\n",
    "\n",
    "# 用 scores 方法，查看模型自变量和因变量的相关性\n",
    "print(\"Scores:\", linear_model.score(X_test, y_test))\n",
    "\n",
    "# 查看 predict y 和 y test的平均绝对误差\n",
    "print(\"MAE:\", mean_absolute_error(y_test, y_pred))\n",
    "\n",
    "# 查看模型的 b 值\n",
    "print(\"intercept:\", linear_model.intercept_)\n",
    "\n",
    "# 查看模型的系数\n",
    "print(\"coef_:\", linear_model.coef_)"
   ]
  },
  {
   "cell_type": "code",
   "execution_count": 309,
   "metadata": {},
   "outputs": [
    {
     "output_type": "stream",
     "name": "stdout",
     "text": [
      "[2.46262277]\n"
     ]
    }
   ],
   "source": [
    "print(linear_model.predict([[20, 0 ,3, 10, 30]]))"
   ]
  },
  {
   "cell_type": "code",
   "execution_count": null,
   "metadata": {},
   "outputs": [],
   "source": []
  }
 ]
}
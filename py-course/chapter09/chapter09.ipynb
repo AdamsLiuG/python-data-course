{
 "metadata": {
  "language_info": {
   "codemirror_mode": {
    "name": "ipython",
    "version": 3
   },
   "file_extension": ".py",
   "mimetype": "text/x-python",
   "name": "python",
   "nbconvert_exporter": "python",
   "pygments_lexer": "ipython3",
   "version": "3.8.5-final"
  },
  "orig_nbformat": 2,
  "kernelspec": {
   "name": "python3",
   "display_name": "Python 3.8.5 64-bit (conda)",
   "metadata": {
    "interpreter": {
     "hash": "c39885171911825c85dd2872b53a1f517ccf6205e737fb46b3c547492811485f"
    }
   }
  }
 },
 "nbformat": 4,
 "nbformat_minor": 2,
 "cells": [
  {
   "cell_type": "code",
   "execution_count": 6,
   "metadata": {},
   "outputs": [],
   "source": [
    "import csv"
   ]
  },
  {
   "cell_type": "code",
   "execution_count": 2,
   "metadata": {},
   "outputs": [
    {
     "output_type": "stream",
     "name": "stdout",
     "text": [
      "[['姓名', '年龄', '籍贯', '部门'], ['小明', '22', '河北', 'IT部'], ['小亮', '25', '广东', 'IT部'], ['小E', '23', '四川', '财务部']]\n"
     ]
    }
   ],
   "source": [
    "with open(\"info.csv\") as fo:\n",
    "    reader = csv.reader(fo)\n",
    "    rows = [row for row in reader]\n",
    "    print(rows)"
   ]
  },
  {
   "cell_type": "code",
   "execution_count": 4,
   "metadata": {},
   "outputs": [
    {
     "output_type": "stream",
     "name": "stdout",
     "text": [
      "<csv.DictReader object at 0x000001B87A4D5760>\n"
     ]
    }
   ],
   "source": [
    "with open(\"info.csv\") as fo:\n",
    "    reader = csv.DictReader(fo)\n",
    "    rows = [row for row in reader]\n",
    "    print(reader)"
   ]
  },
  {
   "cell_type": "code",
   "execution_count": 5,
   "metadata": {},
   "outputs": [
    {
     "output_type": "stream",
     "name": "stdout",
     "text": [
      "['姓名', '年龄', '籍贯', '部门']\n"
     ]
    }
   ],
   "source": [
    "# 通过 open 函数打开 info.csv，并将文件对象保存在 fo 中\n",
    "fo = open(\"info.csv\")\n",
    "\n",
    "# 通过打开 csv 文件的文件对象作为参数来创建 DictReader 类的对象，存在 reader 变量中\n",
    "reader = csv.DictReader(fo)\n",
    "\n",
    "# 调用 reader 对象的 fieldnames 属性，获取 CSV 文件中表格的表头\n",
    "headers = reader.fieldnames\n",
    "\n",
    "# 关闭文件\n",
    "fo.close()\n",
    "\n",
    "# 打印表头的信息\n",
    "print(headers)"
   ]
  },
  {
   "cell_type": "code",
   "execution_count": 8,
   "metadata": {},
   "outputs": [
    {
     "output_type": "execute_result",
     "data": {
      "text/plain": [
       "[{'姓名': '小明', '年龄': '22', '籍贯': '河北', '部门': 'IT部'},\n",
       " {'姓名': '小亮', '年龄': '25', '籍贯': '广东', '部门': 'IT部'},\n",
       " {'姓名': '小E', '年龄': '23', '籍贯': '四川', '部门': '财务部'}]"
      ]
     },
     "metadata": {},
     "execution_count": 8
    }
   ],
   "source": [
    "fo = open(\"info.csv\")\n",
    "reader = csv.DictReader(fo)\n",
    "headers = reader.fieldnames\n",
    "\n",
    "# 创建列表，用来存储每一行的内容\n",
    "row_list = []\n",
    "\n",
    "for row in reader:\n",
    "    row_list.append(row)\n",
    "\n",
    "fo.close()\n",
    "\n",
    "row_list"
   ]
  },
  {
   "cell_type": "code",
   "execution_count": 9,
   "metadata": {},
   "outputs": [
    {
     "output_type": "stream",
     "name": "stdout",
     "text": [
      "12\n5\n33\n4\n1\n"
     ]
    }
   ],
   "source": [
    "# 初始化一个数组\n",
    "arr = [12,5,33,4,1]\n",
    "\n",
    "# 让变量 i 从 0 循环到列表的长度\n",
    "for i in range(0,len(arr)):\n",
    "    # 取列表的第 i 个元素，存储在 item 中\n",
    "    item = arr[i]\n",
    "    \n",
    "    # 打印 item 变量\n",
    "    print(item)"
   ]
  },
  {
   "cell_type": "code",
   "execution_count": 24,
   "metadata": {},
   "outputs": [
    {
     "output_type": "stream",
     "name": "stdout",
     "text": [
      "12\n5\n33\n4\n1\n"
     ]
    }
   ],
   "source": [
    "# 初始化一个数组\n",
    "arr = [12,5,33,4,1]\n",
    "\n",
    "# 直接对列表 arr 使用 for..in..， for 后面是循环变量，in 后面是列表变量\n",
    "# 列表有几个元素，循环就执行多少次。\n",
    "# 每次循环都从列表中取一个还没处理过的元素存储在循环变量中，然后调用循环体\n",
    "for item in arr:\n",
    "    print(item)"
   ]
  },
  {
   "cell_type": "code",
   "execution_count": 27,
   "metadata": {},
   "outputs": [
    {
     "output_type": "stream",
     "name": "stdout",
     "text": [
      "本次循环 item 变量的值： hi\n本次循环 item 变量的值： hello\n本次循环 item 变量的值： 你好\n本次循环 item 变量的值： aloha\n"
     ]
    }
   ],
   "source": [
    "string_arr = [\"hi\",\"hello\", \"你好\", \"aloha\"]\n",
    "for item in string_arr:\n",
    "    print(\"本次循环 item 变量的值：\", item)"
   ]
  },
  {
   "cell_type": "code",
   "execution_count": 11,
   "metadata": {},
   "outputs": [
    {
     "output_type": "stream",
     "name": "stdout",
     "text": [
      "{'姓名': '小明', '年龄': '22', '籍贯': '河北', '部门': 'IT部'}\n"
     ]
    }
   ],
   "source": [
    "# 打开 info.csv\n",
    "fo = open(\"info.csv\")\n",
    "\n",
    "# 创建 DictReader 对象\n",
    "reader = csv.DictReader(fo)\n",
    "\n",
    "# 创建列表，用于存储读到的行\n",
    "row_list = []\n",
    "\n",
    "# 使用遍历循环，直接对 reader 对象进行遍历\n",
    "# 每次执行循环时，row 变量都存储了当前行的内容\n",
    "for row in reader:\n",
    "    # 直接将 row 变量添加到行列表中\n",
    "    row_list.append(row)\n",
    "\n",
    "# 关闭文件\n",
    "fo.close()\n",
    "\n",
    "# 打印第一行的表格数据\n",
    "print(row_list[0])"
   ]
  },
  {
   "cell_type": "code",
   "execution_count": 12,
   "metadata": {},
   "outputs": [
    {
     "output_type": "stream",
     "name": "stdout",
     "text": [
      "打印年龄一列的内容：\n22\n25\n23\n\n打印第三行的内容：\n姓名: 小E\n年龄： 23\n籍贯： 四川\n部门： 财务部\n"
     ]
    }
   ],
   "source": [
    "print(\"打印年龄一列的内容：\")\n",
    "# 遍历循环 row_list，d 为循环变量 \n",
    "for d in row_list:\n",
    "    # 因为 d 是字典，直接打印 key 为 年龄的值即可。\n",
    "    print(d[\"年龄\"])\n",
    "\n",
    "# 打印一个换行\n",
    "print(\"\")\n",
    "\n",
    "print(\"打印第三行的内容：\")\n",
    "d = row_list[2]\n",
    "print(\"姓名:\", d[\"姓名\"])\n",
    "print(\"年龄：\",d[\"年龄\"])\n",
    "print(\"籍贯：\",d[\"籍贯\"])\n",
    "print(\"部门：\",d[\"部门\"])"
   ]
  },
  {
   "cell_type": "code",
   "execution_count": 16,
   "metadata": {},
   "outputs": [],
   "source": [
    "# 打开一个文件，假设是 info2.csv，因为是写入，所以需要指定模式 \"w\"\n",
    "# newline=''，在写入 csv 时，需要指定这个参数，这个记住即可。\n",
    "fo = open(\"info2.csv\", \"w\", newline='')\n",
    "\n",
    "# 将表头存储在一个列表中\n",
    "header = [\"姓名\", \"年龄\", \"籍贯\", \"部门\"]\n",
    "\n",
    "# 创建一个 DictWriter 对象，第二个参数就是上面创建的表头\n",
    "writer = csv.DictWriter(fo, header)\n",
    "\n",
    "# 写入表头\n",
    "writer.writeheader()\n",
    "\n",
    "# 写入一行记录，以字典的形式，key 需要和表头对应。\n",
    "writer.writerow({\"姓名\": \"小刚\", \"年龄\":\"28\", \"籍贯\":\"福建\", \"部门\":\"行政部\"})\n",
    "\n",
    "# 关闭写入的文件\n",
    "fo.close()"
   ]
  },
  {
   "cell_type": "code",
   "execution_count": 17,
   "metadata": {},
   "outputs": [],
   "source": [
    "# 新打开一个 info3.csv 文件\n",
    "fo = open(\"info3.csv\", \"w\", newline='')\n",
    "\n",
    "# 将表头存储在一个列表中\n",
    "header = [\"姓名\", \"年龄\", \"籍贯\", \"部门\"]\n",
    "\n",
    "# 创建一个 DictWriter 对象，第二个参数就是上面创建的表头\n",
    "writer = csv.DictWriter(fo, header)\n",
    "\n",
    "# 将小刚的记录插入到row_list 中\n",
    "row_list.append({\"姓名\": \"小刚\", \"年龄\":\"28\", \"籍贯\":\"福建\", \"部门\":\"行政部\"})\n",
    "\n",
    "# 写表头\n",
    "writer.writeheader()\n",
    "\n",
    "# 调用 writerows 方法，一次性写多个字典（一个字典列表）到 CSV 文件中\n",
    "writer.writerows(row_list)\n",
    "\n",
    "# 关闭文件\n",
    "fo.close()\n"
   ]
  },
  {
   "cell_type": "code",
   "execution_count": 1,
   "metadata": {},
   "outputs": [],
   "source": [
    "from bs4 import BeautifulSoup\n",
    "\n",
    "# 输入参数为要分析的 html 文件名，返回值为对应的 BeautifulSoup 对象\n",
    "def create_doc_from_filename(filename):\n",
    "    fo = open(filename, \"r\", encoding='utf-8')\n",
    "    html_content = fo.read()\n",
    "    fo.close()\n",
    "    doc = BeautifulSoup(html_content)\n",
    "    return doc"
   ]
  },
  {
   "cell_type": "code",
   "execution_count": 2,
   "metadata": {},
   "outputs": [],
   "source": [
    "# 输入参数是 BeautifulSoup 对象，返回包含新闻的 div 元素列表\n",
    "def find_index_labels(doc):\n",
    "    index_labels = doc.find_all(\"div\", class_=\"indexs\")\n",
    "    return index_labels"
   ]
  },
  {
   "cell_type": "code",
   "execution_count": 3,
   "metadata": {},
   "outputs": [],
   "source": [
    "# 从第一次 find_all 获取的标签对象中抽取标题\n",
    "def get_title(label_object):\n",
    "    # 从刚才的参数传入的标签对象中过滤出所有 target=_blank 的 a 标签\n",
    "    a_labels = label_object.find_all(\"a\",target=\"_blank\")\n",
    "\n",
    "    # 取第一个标签对象\n",
    "    my_label = a_labels[0]\n",
    "\n",
    "    # 将标签的文字内容作为返回值返回\n",
    "    return my_label.get_text()"
   ]
  },
  {
   "cell_type": "code",
   "execution_count": 4,
   "metadata": {},
   "outputs": [],
   "source": [
    "# 和 get_title 函数一样，传入 label_object， 返回发布时间\n",
    "def get_pub_time(label_object):\n",
    "    # 找到 class=comment-link 的 span 标签\n",
    "    spans = label_object.find_all(\"span\", class_=\"comment-link\")\n",
    "\n",
    "    # 取第一个\n",
    "    span = spans[0]\n",
    "\n",
    "    # 返回标题属性\n",
    "    return span[\"title\"]"
   ]
  },
  {
   "cell_type": "code",
   "execution_count": 5,
   "metadata": {},
   "outputs": [
    {
     "output_type": "stream",
     "name": "stdout",
     "text": [
      "[{'标题': '引发普通感冒的鼻病毒会将新冠病毒排挤出细胞！', '发布时间': '1小时 ago'}, {'标题': '无厘头研究：植入虚假的记忆再抹去它们', '发布时间': '4小时 ago'}, {'标题': '什么是仇恨犯罪？', '发布时间': '8小时 ago'}, {'标题': '突发：LHCb发现了违背标准模型的现象', '发布时间': '12小时 ago'}, {'标题': '今日带货 20210324', '发布时间': '14小时 ago'}, {'标题': '舌战裸猿：IBM搞出了可以打辩论赛的AI', '发布时间': '23小时 ago'}, {'标题': '大吐槽：「我没醉，醉的是世界」', '发布时间': '1天 ago'}, {'标题': '今年世界总发电量的0.6%被用于挖比特币', '发布时间': '1天 ago'}, {'标题': '接种疫苗后还是感染新冠？不要为此惊讶', '发布时间': '1天 ago'}, {'标题': '今日带货：蛋友家的血橙', '发布时间': '2天 ago'}, {'标题': '科学家首次在野外检测到抗多药的超级真菌', '发布时间': '2天 ago'}, {'标题': '未在iPhone12盒中搭配充电器，苹果被巴西消协罚200万美元', '发布时间': '2天 ago'}, {'标题': '工程师将解决城市陷坑的问题', '发布时间': '2天 ago'}, {'标题': '今日带货：粉面专场', '发布时间': '3天 ago'}, {'标题': '科学家在碟子里培育出了泪腺，并让它哭泣', '发布时间': '3天 ago'}, {'标题': '疯狂实验进行时：把志愿者禁闭在黑暗的空间里40天', '发布时间': '3天 ago'}, {'标题': '今日带货 20210321', '发布时间': '4天 ago'}, {'标题': '我们已向外星人发送了哪些消息？', '发布时间': '4天 ago'}, {'标题': '脑力小体操：石头+剪刀 VS 石头+布', '发布时间': '4天 ago'}, {'标题': '发霉啦：今天，我终于向母亲摊牌了', '发布时间': '5天 ago'}, {'标题': '普渡大学的经济学家计算出世界各地幸福的价格', '发布时间': '5天 ago'}, {'标题': '人类首次观察到木星上极光黎明风暴的成形过程', '发布时间': '5天 ago'}, {'标题': '为女儿出头，母亲编辑假裸照败坏高中啦啦队队员的名誉', '发布时间': '5天 ago'}, {'标题': '今日带货：淘宝京东蛋友推荐', '发布时间': '6天 ago'}]\n"
     ]
    }
   ],
   "source": [
    "# 调用 create_doc_from_filename 函数，创建 BeautifulSoup 对象\n",
    "doc = create_doc_from_filename(\"jiandan.html\")\n",
    "\n",
    "# 调用find_index_labels 函数，传入 BeautifulSoup 对象\n",
    "# 将返回的 div 列表存储在 index_labels 中\n",
    "index_labels = find_index_labels(doc)\n",
    "\n",
    "# 【新增代码】存储新闻的字典列表\n",
    "news_dict_list = []\n",
    "\n",
    "# 使用遍历循环遍历 index_labels 列表，循环变量为 label_object\n",
    "for label_object in index_labels:\n",
    "    # 调用 get_title， 传入当前处理的 div 元素对象，获取标题\n",
    "    title = get_title(label_object)\n",
    "\n",
    "    # 调用 get_pub_time，传入当前处理的 div 元素对象，获取发布时间\n",
    "    pub_time = get_pub_time(label_object)\n",
    "\n",
    "    # 【新增代码】创建单条新闻的字典\n",
    "    news = {\"标题\": title, \"发布时间\": pub_time}\n",
    "\n",
    "    # 【新增代码】将新闻字典添加到字典列表\n",
    "    news_dict_list.append(news)\n",
    "\n",
    "# 【新增代码】打印出字典列表\n",
    "print(news_dict_list)"
   ]
  },
  {
   "cell_type": "code",
   "execution_count": 7,
   "metadata": {},
   "outputs": [],
   "source": [
    "# 创建 news.csv 文件\n",
    "fo = open(\"news.csv\", \"w\", newline='', encoding=\"utf_8_sig\")\n",
    "\n",
    "# 这一次的表头\n",
    "header = [\"标题\", \"发布时间\"]\n",
    "\n",
    "# 使用文件对象和表头初始化 DictWriter 对象\n",
    "writer = csv.DictWriter(fo, header)\n",
    "\n",
    "# 写入表头\n",
    "writer.writeheader()\n",
    "\n",
    "# 将上一步计算的字典列表写入 CSV 文件中\n",
    "writer.writerows(news_dict_list)\n",
    "\n",
    "# 关闭文件对象\n",
    "fo.close()"
   ]
  },
  {
   "cell_type": "code",
   "execution_count": 11,
   "metadata": {},
   "outputs": [],
   "source": [
    "# 整理写入 CSV 文件的代码为函数\n",
    "# 输入参数为：要写入的字典列表、要写入的文件名、表头\n",
    "def write_dict_list_to_csv(dict_list, filename, headers):\n",
    "    fo = open(filename, \"w\", newline='')\n",
    "    writer = csv.DictWriter(fo, headers, encoding=\"utf_8_sig\")\n",
    "    writer.writeheader()\n",
    "    writer.writerows(dict_list)\n",
    "    fo.close()\n",
    "\n",
    "# 整理读取 CSV 的代码为函数\n",
    "# 输入参数为 CSV 文件名，返回值为读取到的字典列表\n",
    "def get_dict_list_from_csv(filename):\n",
    "    fo = open(filename, \"r\")\n",
    "    reader = csv.DictReader(fo)\n",
    "    dict_list = []\n",
    "    for item in reader:\n",
    "        dict_list.append(item)\n",
    "    return dict_list\n",
    "\n",
    "# 获取 news.csv 中的新闻数据，将字典列表存储在 news_list\n",
    "news_list = get_dict_list_from_csv(\"news.csv\")\n",
    "\n",
    "# 表头\n",
    "header = [\"标题\",\"发布时间\", \"分级信息\"]\n",
    "\n",
    "# 遍历循环字典列表，并用变量 i 来统计当前是第几次循环\n",
    "# 循环体重修改 news_list 中的每个字典，添加 分级信息的内容\n",
    "i = 0\n",
    "for item in news_list:\n",
    "    # 前三次为推荐，后面为普通\n",
    "    if i<=2:\n",
    "        item[\"分级信息\"] = \"推荐\"\n",
    "    else:\n",
    "        item[\"分级信息\"] = \"普通\"\n",
    "\n",
    "    # 每次循环结束后，变量i 的值+1\n",
    "    i = i + 1\n",
    "\n",
    "# 调用上面的函数，将新的字典列表写入 news1.csv 文件中\n",
    "write_dict_list_to_csv(news_list, \"news1.csv\", header)"
   ]
  },
  {
   "cell_type": "code",
   "execution_count": null,
   "metadata": {},
   "outputs": [],
   "source": []
  }
 ]
}